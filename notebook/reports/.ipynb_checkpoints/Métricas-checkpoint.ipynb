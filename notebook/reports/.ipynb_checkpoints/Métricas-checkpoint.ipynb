{
 "cells": [
  {
   "cell_type": "markdown",
   "metadata": {},
   "source": [
    "# Métricas de complejidad "
   ]
  },
  {
   "cell_type": "markdown",
   "metadata": {},
   "source": [
    "Para el presente trabajo de investigación, las métricas de complejidad textual a usar se basan en aquellas que fueron usadas por la herramienta Coh-Metrix (Graesser et al., 2004; McNamara et al., 2014)⁠."
   ]
  },
  {
   "cell_type": "markdown",
   "metadata": {},
   "source": [
    "## Términos"
   ]
  },
  {
   "cell_type": "markdown",
   "metadata": {},
   "source": [
    "* Palabras de contenido: Son los sustantivos, verbos, adjetivos y adverbios.\n",
    "* Incidencia: En este caso, se define como incidencia al porcentaje de una característica por cada mil palabras."
   ]
  },
  {
   "cell_type": "markdown",
   "metadata": {},
   "source": [
    "## Índices descriptivos (Descriptive)"
   ]
  },
  {
   "cell_type": "markdown",
   "metadata": {},
   "source": [
    "* DESPC: Cantidad de párrafos totales en el texto. Un parrafo es separado por los caractéres '\\n\\n'.\n",
    "* DESSC: Cantidad de oraciones totales en el texto.\n",
    "* DESWC: Cantidad de palabras totales en el texto. Una palabra es aquel token identificado por Spacy que solo posee letras.\n",
    "* DESPL: Promedio de oraciones por párrafo.\n",
    "* DESPLd: Desviación estándar de la cantidad de oraciones por párrafo.\n",
    "* DESSL: Promedio de palabras por oración.\n",
    "* DESSLd: Desviación estándar de la cantidad de palabras por oración.\n",
    "* DESWLsy: Promedio de sílabas por palabra.\n",
    "* DESWLsyd: Desviación estándar de la cantidad de sílabas por palabra.\n",
    "* DESWLlt: Promedio de letras por palabra.\n",
    "* DESWLltd: Desviación estándar de la cantidad de letras por palabra."
   ]
  },
  {
   "cell_type": "markdown",
   "metadata": {},
   "source": [
    "## Ińdices de información de palabras (Word information)"
   ]
  },
  {
   "cell_type": "markdown",
   "metadata": {},
   "source": [
    "* WRDNOUN: Incidencia de sustantivos.\n",
    "* WRDVERB: Incidencia de verbos.\n",
    "* WRDADJ: Incidencia de adjetivos.\n",
    "* WRDADV: Incidencia de adverbios.\n",
    "* WRDPRO: Incidencia de pronombres.\n",
    "* WRDPRP1s: Incidencia de pronombres personales en primera persona en singular.\n",
    "* WRDPRP1p: Incidencia de pronombres personales en primera persona en plural.\n",
    "* WRDPRP2s: Incidencia de pronombres personales en segunda persona en singular.\n",
    "* WRDPRP2p: Incidencia de pronombres personales en segunda persona en plural.\n",
    "* WRDPRP3s: Incidencia de pronombres personales en tercera persona en singular.\n",
    "* WRDPRP3p: Incidencia de pronombres personales en tercera persona en plural."
   ]
  },
  {
   "cell_type": "markdown",
   "metadata": {},
   "source": [
    "## Índices de densidad de patrones sintácticos (Syntactic pattern density) "
   ]
  },
  {
   "cell_type": "markdown",
   "metadata": {},
   "source": [
    "* DRNP: Incidencia de frases nominales.\n",
    "* DRVP: Incidencia de frases verbales.\n",
    "* DRNEG: Incidencia de expresiones negativas. Se identifican como expresiones negativas a las siguientes palabras: no, nunca, jamás, tampoco."
   ]
  },
  {
   "cell_type": "markdown",
   "metadata": {},
   "source": [
    "## Índices de complejidad sintáctica (Syntactic complexity)"
   ]
  },
  {
   "cell_type": "markdown",
   "metadata": {},
   "source": [
    "* SYNNP: Cantidad promedio de modificadores por frase nominal. Se consideran los adjetivos como modificadores.\n",
    "* SYNLE: Cantidad promedio de palabras antes del verbo principal."
   ]
  },
  {
   "cell_type": "markdown",
   "metadata": {},
   "source": [
    "## Índices de connectivos (Connectives)"
   ]
  },
  {
   "cell_type": "markdown",
   "metadata": {},
   "source": [
    "* CNCCaus: Incidencia de conectivos causales. Se consideran conectivos causales a los siguientes: por, porque, a causa de, puesto que, con motivo de, pues, ya que, conque, luego, pues, por consiguiente, así que, en consecuencia, de manera que, tan, tango que, por lo tanto, de modo que.\n",
    "* CNCLogic: Incidencia de conectivos lógicos. Se consideran conectivos lógicos a los siguientes: y, o.\n",
    "* CNCADC: Incidencia de conectivos adversativos. Se consideran conectivos adversativos a los siguientes: pero, sino, no obstante, sino que, sin embargo, pero sí, aunque, menos, solo, excepto, salvo, más que, en cambio, ahora bien, más bien.\n",
    "* CNCTemp: Incidencia de conectivos temporales. Se consideran conectivos temporales a los siguientes: actualmente, ahora, después, más tarde, más adelante, a continuación, antes, mientras, érase una vez, hace mucho tiempo, tiempo antes, finalmente, inicialmente, ya, simultáneamente, previamente, anteriormente, posteriormente, al mismo tiempo, durante\n",
    "* CNCAdd: Incidencia de conectivos aditivos. Se consideran conectivos aditivos a los siguientes: asimismo, igualmentede igual modo, de igual manera, de igual forma, del mismo modo, de la misma manera, de la misma forma, en primer lugar, en segundo lugar, en tercer lugar, en último lugar, por su parte, por otro lado, además, encima, es más, por añadidura, incluso, inclusive, para colmo.\n",
    "* CNCAll: Incidencia de todos los conectivos."
   ]
  },
  {
   "cell_type": "markdown",
   "metadata": {},
   "source": [
    "## Índices de diversidad léxica (Lexical diversity)"
   ]
  },
  {
   "cell_type": "markdown",
   "metadata": {},
   "source": [
    "* LDTTRa: Radio entre la cantidad de tokens únicos y la cantidad de palabras totales.\n",
    "* LDTTRcw: Radio entre la cantidad de palabras de contenido únicos (Sustantivos, verbos, adjetivos y adveribios) y la cantidad total de estos."
   ]
  },
  {
   "cell_type": "markdown",
   "metadata": {},
   "source": [
    "## Índices de legibilidad (Readability)"
   ]
  },
  {
   "cell_type": "markdown",
   "metadata": {},
   "source": [
    "* RDFHGL: Índice de Fernández-Huerta para español."
   ]
  },
  {
   "cell_type": "markdown",
   "metadata": {},
   "source": [
    "## Índices de cohesión referencial (Referential cohesion)"
   ]
  },
  {
   "cell_type": "markdown",
   "metadata": {},
   "source": [
    "* CRFNO: Promedio de oraciones contiguas que poseen solapamiento entre sustantivos. Estos deben coincidir completamente.\n",
    "* CRFNOa: Promedio del total de todas las oraciones que poseen solapamiento entre sustantivos. Estos deben coincidir completamente.\n",
    "* CRFAO1: Promedio de oraciones contiguas que poseen solapamiento entre pronombres personales o lemmas de sustantivos.\n",
    "* CRFAOa: Promedio del total de todas las oraciones que poseen solapamiento entre pronombres personales o lemmas de sustantivos.\n",
    "* CRFSO1: Promedio de oraciones contiguas que poseen solapamiento entre lemmas de palabras de contenido.\n",
    "* CRFSOa: Promedio del total de todas las oraciones que poseen solapamiento entre lemmas de palabras de contenido.\n",
    "* CRFCWO1: Promedio de oraciones contiguas que poseen solapamiento entre palabras de contenido.\n",
    "* CRFCWO1d: Desviación estándar de la cantidad de oraciones contiguas que poseen solapamiento entre palabras de contenido.\n",
    "* CRFCWOa: Promedio del total de oraciones que poseen solapamiento entre palabras de contenido.\n",
    "* CRFCWOad: Desviación estándar de la cantidad de oraciones contiguas que poseen solapamiento entre palabras de contenido.\n",
    "* CRFANP1: Promedio de oracioneos contiguas que poseen solapamiento entre pronombres.\n",
    "* CRFANPa: Promedio del total de todas las oraciones que poseen solapamiento entre pronombres."
   ]
  },
  {
   "cell_type": "markdown",
   "metadata": {},
   "source": [
    "# Referencias"
   ]
  },
  {
   "cell_type": "markdown",
   "metadata": {},
   "source": [
    "* Graesser, A. C., McNamara, D. S., Louwerse, M. M., & Cai, Z. (2004). Coh-Metrix: Analysis of text on cohesion and language. Behavior Research Methods, Instruments, and Computers, 36(2), 193–202. https://doi.org/10.3758/BF03195564\n",
    "* McNamara, D. S., Graesser, A. C., McCarthy, P. M., & Cai, Z. (2014). Automated evaluation of text and discourse with Coh-Metrix. Cambridge University Press.\n",
    "* Quispesaravia, A., Perez, W., Cabezudo, M. S., & Alva-Manchego, F. (2016). Coh-Metrix-Esp: A complexity analysis tool for documents written in Spanish. Proceedings of the Tenth International Conference on Language Resources and Evaluation (LREC1́6) , 4694–4698."
   ]
  },
  {
   "cell_type": "code",
   "execution_count": null,
   "metadata": {},
   "outputs": [],
   "source": []
  }
 ],
 "metadata": {
  "kernelspec": {
   "display_name": "myenv",
   "language": "python",
   "name": "myenv"
  },
  "language_info": {
   "codemirror_mode": {
    "name": "ipython",
    "version": 3
   },
   "file_extension": ".py",
   "mimetype": "text/x-python",
   "name": "python",
   "nbconvert_exporter": "python",
   "pygments_lexer": "ipython3",
   "version": "3.8.5"
  }
 },
 "nbformat": 4,
 "nbformat_minor": 4
}
