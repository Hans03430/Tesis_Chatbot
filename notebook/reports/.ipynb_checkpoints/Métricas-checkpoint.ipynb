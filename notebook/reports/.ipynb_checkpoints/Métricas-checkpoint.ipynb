{
 "cells": [
  {
   "cell_type": "markdown",
   "metadata": {},
   "source": [
    "# Métricas de complejidad "
   ]
  },
  {
   "cell_type": "markdown",
   "metadata": {},
   "source": [
    "Para el presente trabajo de investigación, las métricas de complejidad textual a usar se basan en aquellas que fueron usadas por la herramienta Coh-Metrix (Graesser et al., 2004; McNamara et al., 2014)⁠."
   ]
  },
  {
   "cell_type": "markdown",
   "metadata": {},
   "source": [
    "## Términos"
   ]
  },
  {
   "cell_type": "markdown",
   "metadata": {},
   "source": [
    "* Palabras de contenido: Son los sustantivos, verbos, adjetivos y adverbios.\n",
    "* Incidencia: En este caso, se define como incidencia al porcentaje de una característica por cada mil palabras."
   ]
  },
  {
   "cell_type": "markdown",
   "metadata": {},
   "source": [
    "## Índices descriptivos (Descriptive)"
   ]
  },
  {
   "cell_type": "markdown",
   "metadata": {},
   "source": [
    "* DESPC: Cantidad de párrafos totales en el texto. Un parrafo es separado por los caractéres '\\n\\n'.\n",
    "* DESSC: Cantidad de oraciones totales en el texto.\n",
    "* DESWC: Cantidad de palabras totales en el texto. Una palabra es aquel token identificado por Spacy que solo posee letras.\n",
    "* DESPL: Promedio de oraciones por párrafo.\n",
    "* DESPLd: Desviación estándar de la cantidad de oraciones por párrafo.\n",
    "* DESSL: Promedio de palabras por oración.\n",
    "* DESSLd: Desviación estándar de la cantidad de palabras por oración.\n",
    "* DESWLsy: Promedio de sílabas por palabra.\n",
    "* DESWLsyd: Desviación estándar de la cantidad de sílabas por palabra.\n",
    "* DESWLlt: Promedio de letras por palabra.\n",
    "* DESWLltd: Desviación estándar de la cantidad de letras por palabra."
   ]
  },
  {
   "cell_type": "markdown",
   "metadata": {},
   "source": [
    "## Ińdices de información de palabras (Word information)"
   ]
  },
  {
   "cell_type": "markdown",
   "metadata": {},
   "source": [
    "* WRDNOUN: Incidencia de sustantivos.\n",
    "* WRDVERB: Incidencia de verbos.\n",
    "* WRDADJ: Incidencia de adjetivos.\n",
    "* WRDADV: Incidencia de adverbios.\n",
    "* WRDPRO: Incidencia de pronombres.\n",
    "* WRDPRP1s: Incidencia de pronombres personales en primera persona en singular.\n",
    "* WRDPRP1p: Incidencia de pronombres personales en primera persona en plural.\n",
    "* WRDPRP2s: Incidencia de pronombres personales en segunda persona en singular.\n",
    "* WRDPRP2p: Incidencia de pronombres personales en segunda persona en plural.\n",
    "* WRDPRP3s: Incidencia de pronombres personales en tercera persona en singular.\n",
    "* WRDPRP3p: Incidencia dep ronombres personales en tercera persona en plugarl."
   ]
  },
  {
   "cell_type": "markdown",
   "metadata": {},
   "source": [
    "## Índices de densidad de patrones sintácticos (Syntactic pattern density) "
   ]
  },
  {
   "cell_type": "markdown",
   "metadata": {},
   "source": [
    "* DRNP: Incidencia de frases nominales.\n",
    "* DRVP: Incidencia de frases verbales.\n",
    "* DRNEG: Incidencia de expresiones negativas. Se identifican como expresiones negativas a las siguientes palabras: no, nunca, jamás, tampoco."
   ]
  },
  {
   "cell_type": "markdown",
   "metadata": {},
   "source": [
    "## Índices de complejidad sintáctica (Syntactic complexity)"
   ]
  },
  {
   "cell_type": "markdown",
   "metadata": {},
   "source": [
    "* SYNNP: Cantidad promedio de modificadores por frase nominal. Se consideran los adjetivos como modificadores.\n",
    "* SYNLE: Cantidad promedio de palabras antes del verbo principal."
   ]
  },
  {
   "cell_type": "markdown",
   "metadata": {},
   "source": [
    "## Índices de connectivos (Connectives)"
   ]
  },
  {
   "cell_type": "markdown",
   "metadata": {},
   "source": [
    "* CNCCaus: Incidencia de conectivos causales. Se consideran conectivos causales a los siguientes: a causa de, por ese motivo, dado que, por eso, de ahí que, por esto, de modo que, por lo cual, debido a, por lo dicho, en consecuencia, por lo tanto, por, porque, por ello, pues, por esa razón, ya que.\n",
    "* CNCLogic: Incidencia de conectivos lógicos. Se consideran conectivos lógicos a los siguientes: y, o.\n",
    "* CNCADC: Incidencia de conectivos adversativos. Se consideran conectivos adversativos a los siguientes: además, entre otros, al fin, es esa época, asumiendo que, futuramente, así también, igualmente, como se expuso anteriormente, incluso, de forma cercana, junto a, de hecho, más aún, de igual forma, otra vez, en consecuencia de lo comentado, para ser preciso, en el pasado, por todo lo dicho, en pocas palabras, posteriormente, en primer lugar, sin embargo, en principio, también, entonces, tan pronto.\n",
    "* CNCTemp: Incidencia de conectivos temporales. Se consideran conectivos temporales a los siguientes: a mitad de mañana, al amanecer, al anochecer, al atardecer, al caer la tarde, al mediodía, comenzando la mañana, después del mediodía, en la mañana, en la noche, en la tarde, por la mañana, por la noche, seguida la tarde, al principio, algún tiempo atrás, anteriormente, antes, con anterioridad, desde el principio, en primer momento, hace tiempo, inicialmente, previamente, previo, tiempo antes, tiempo atrás, a la vez, actualmente, al mismo tiempo, al tiempo, en este preciso instante, en este preciso momento, mientras, mientras tanto, paralelamente, simultaneamente.\n",
    "* CNCAdd: Incidencia de conectivos aditivos. Se consideran conectivos aditivos a los siguientes: a decir verdad, en primer lugar, aparte, en segundo lugar, asimismo, en tercer lugar, de hecho, en último lugar, de igual forma, por otro lado, de igual manera, por su parte, de igual modo, igualmente, del mismo modo, también.\n",
    "* CNCAll: Incidencia de todos los conectivos."
   ]
  },
  {
   "cell_type": "markdown",
   "metadata": {},
   "source": [
    "## Índices de densidad de diversidad léxica (Lexical diversity density)"
   ]
  },
  {
   "cell_type": "markdown",
   "metadata": {},
   "source": [
    "* LDTTRa: Radio entre la cantidad de tokens únicos y la cantidad de palabras totales.\n",
    "* LDTTRcw: Radio entre la cantidad de palabras de contenido únicos (Sustantivos, verbos, adjetivos y adveribios) y la cantidad total de estos."
   ]
  },
  {
   "cell_type": "markdown",
   "metadata": {},
   "source": [
    "## Índices de legibilidad (Readability)"
   ]
  },
  {
   "cell_type": "markdown",
   "metadata": {},
   "source": [
    "* RDFHGL: Índice de Fernández-Huerta para español."
   ]
  },
  {
   "cell_type": "markdown",
   "metadata": {},
   "source": [
    "## Índices de cohesión referencial (Referential cohesion)"
   ]
  },
  {
   "cell_type": "markdown",
   "metadata": {},
   "source": [
    "* CRFNO: Promedio de oraciones contiguas que poseen solapamiento entre sustantivos. Estos deben coincidir completamente.\n",
    "* CRFNOa: Promedio del total de todas las oraciones que poseen solapamiento entre sustantivos. Estos deben coincidir completamente.\n",
    "* CRFAO1: Promedio de oraciones contiguas que poseen solapamiento entre pronombres personales o lemmas de sustantivos.\n",
    "* CRFAOa: Promedio del total de todas las oraciones que poseen solapamient oentre pronombres personales o lemmas de sustantivos.\n",
    "* CRFSO1: Promedio de oraciones contiguas que poseen solapamiento entre lemmas de palabras de contenido.\n",
    "* CRFSOa: Promedio del total de todas las oraciones que poseen solapamiento entre lemmas de palabras de contenido.\n",
    "* CRFCWO1: Promedio de oraciones contiguas que poseen solapamiento entre palabras de contenido.\n",
    "* CRFCWO1d: Desviación estándar de la cantidad de oraciones contiguas que poseen solapamiento entre palabras de contenido.\n",
    "* CRFCWOa: Promedio del total de oraciones que poseen solapamiento entre palabras de contenido.\n",
    "* CRFCWOad: Desviación estándar de la cantidad de oraciones contiguas que poseen solapamiento entre palabras de contenido.\n",
    "* CRFANP1: Promedio de oracioneos contiguas que poseen solapamiento entre pronombres.\n",
    "* CRFANPa: Promedio del total de todas las oraciones que poseen solapamiento entre pronombres."
   ]
  },
  {
   "cell_type": "markdown",
   "metadata": {},
   "source": [
    "# Referencias"
   ]
  },
  {
   "cell_type": "markdown",
   "metadata": {},
   "source": [
    "* Graesser, A. C., McNamara, D. S., Louwerse, M. M., & Cai, Z. (2004). Coh-Metrix: Analysis of text on cohesion and language. Behavior Research Methods, Instruments, and Computers, 36(2), 193–202. https://doi.org/10.3758/BF03195564\n",
    "* McNamara, D. S., Graesser, A. C., McCarthy, P. M., & Cai, Z. (2014). Automated evaluation of text and discourse with Coh-Metrix. Cambridge University Press.\n",
    "* Quispesaravia, A., Perez, W., Cabezudo, M. S., & Alva-Manchego, F. (2016). Coh-Metrix-Esp: A complexity analysis tool for documents written in Spanish. Proceedings of the Tenth International Conference on Language Resources and Evaluation (LREC1́6) , 4694–4698."
   ]
  },
  {
   "cell_type": "code",
   "execution_count": null,
   "metadata": {},
   "outputs": [],
   "source": []
  }
 ],
 "metadata": {
  "kernelspec": {
   "display_name": "myenv",
   "language": "python",
   "name": "myenv"
  },
  "language_info": {
   "codemirror_mode": {
    "name": "ipython",
    "version": 3
   },
   "file_extension": ".py",
   "mimetype": "text/x-python",
   "name": "python",
   "nbconvert_exporter": "python",
   "pygments_lexer": "ipython3",
   "version": "3.8.5"
  }
 },
 "nbformat": 4,
 "nbformat_minor": 4
}
