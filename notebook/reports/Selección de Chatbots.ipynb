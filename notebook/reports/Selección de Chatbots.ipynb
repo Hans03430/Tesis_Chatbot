{
 "cells": [
  {
   "cell_type": "markdown",
   "metadata": {},
   "source": [
    "# Listado de Chatbots"
   ]
  },
  {
   "cell_type": "markdown",
   "metadata": {},
   "source": [
    "En el presente notebook se listan los chatbots encontrados en repositorios en línea que pueden ser usados durante la experimentación con los chatbots entrenados con el corpus obtenido de textos en español clasificados por su complejidad textual."
   ]
  },
  {
   "cell_type": "markdown",
   "metadata": {},
   "source": [
    "* https://github.com/suriyadeepan/practical_seq2seq (Modelo Seq2Seq implementado en Tensorflow)\n",
    "* https://github.com/Marsan-Ma-zz/tf_chatbot_seq2seq_antilm (Modelo Seq2Seq implementado en Tensorflow)\n",
    "* https://github.com/Rvbens/Chatbot-en-Espanol (Modelo Seq2Seq, Transformer en español implementado en PyTorch)\n",
    "* https://github.com/gunthercox/ChatterBot (Framework para entrenar Chatbots en Python)\n",
    "* https://medium.com/predict/creating-a-chatbot-from-scratch-using-keras-and-tensorflow-59e8fc76be79 (Tutorial de como hacer un chatbot Seq2Seq en Tensorflow)\n",
    "* https://towardsdatascience.com/generative-chatbots-using-the-seq2seq-model-d411c8738ab5 (Tutorial de como hacer un chatbot Seq2Seq en Tensorflow)\n",
    "* https://blog.tensorflow.org/2019/05/transformer-chatbot-tutorial-with-tensorflow-2.html (Tutorial de como hacer un chatbot Encoder en Tensorflow)\n",
    "* https://github.com/AbdelrahmanRadwan/Open-Domain-ChatBot (Chatbot de dominio abierto usando Tensorflow)\n",
    "* https://github.com/jackfrost1411/naive_bayes_chatbot (Chatbot de dominio cerrado usando Scikit Learn)\n",
    "* https://github.com/AbrahamSanders/seq2seq-chatbot#training-a-model (Modelo Seq2Seq en tensorflow)"
   ]
  },
  {
   "cell_type": "code",
   "execution_count": null,
   "metadata": {},
   "outputs": [],
   "source": []
  }
 ],
 "metadata": {
  "kernelspec": {
   "display_name": "tesis",
   "language": "python",
   "name": "tesis"
  },
  "language_info": {
   "codemirror_mode": {
    "name": "ipython",
    "version": 3
   },
   "file_extension": ".py",
   "mimetype": "text/x-python",
   "name": "python",
   "nbconvert_exporter": "python",
   "pygments_lexer": "ipython3",
   "version": "3.8.5"
  }
 },
 "nbformat": 4,
 "nbformat_minor": 4
}
