{
 "cells": [
  {
   "cell_type": "markdown",
   "metadata": {},
   "source": [
    "# Initial setup"
   ]
  },
  {
   "cell_type": "code",
   "execution_count": 1,
   "metadata": {},
   "outputs": [],
   "source": [
    "import asyncio\n",
    "import os\n",
    "import sys\n",
    "\n",
    "from aiofile import AIOFile\n",
    "from aiohttp import ClientSession\n",
    "from bs4 import Comment\n",
    "\n",
    "from src.data_obtaining.pdf_processing import convert_pdf_to_txt\n",
    "from src.data_obtaining.webpage_interaction import download_document_and_save\n",
    "from src.data_obtaining.webpage_interaction import get_webpage_as_bs"
   ]
  },
  {
   "cell_type": "markdown",
   "metadata": {},
   "source": [
    "# Constantes"
   ]
  },
  {
   "cell_type": "code",
   "execution_count": 2,
   "metadata": {},
   "outputs": [],
   "source": [
    "URLS = ['http://www.perueduca.pe/materiales-educativos?p_p_id=ResourcesPublicPE_WAR_ResourcesPublicPEportlet&p_p_lifecycle=0&p_p_state=normal&p_p_mode=view&p_p_col_id=column-1&p_p_col_count=1&_ResourcesPublicPE_WAR_ResourcesPublicPEportlet_jspPage=%2Farea.jsp&_ResourcesPublicPE_WAR_ResourcesPublicPEportlet_areaId=&_ResourcesPublicPE_WAR_ResourcesPublicPEportlet_gradoId=&_ResourcesPublicPE_WAR_ResourcesPublicPEportlet_inicio=1&_ResourcesPublicPE_WAR_ResourcesPublicPEportlet_fin=10&_ResourcesPublicPE_WAR_ResourcesPublicPEportlet_tiporec=20',\n",
    "        'http://www.perueduca.pe/materiales-educativos?p_p_id=ResourcesPublicPE_WAR_ResourcesPublicPEportlet&p_p_lifecycle=0&p_p_state=normal&p_p_mode=view&p_p_col_id=column-1&p_p_col_count=1&_ResourcesPublicPE_WAR_ResourcesPublicPEportlet_jspPage=%2Farea.jsp&_ResourcesPublicPE_WAR_ResourcesPublicPEportlet_areaId=&_ResourcesPublicPE_WAR_ResourcesPublicPEportlet_gradoId=&_ResourcesPublicPE_WAR_ResourcesPublicPEportlet_inicio=1&_ResourcesPublicPE_WAR_ResourcesPublicPEportlet_fin=10&_ResourcesPublicPE_WAR_ResourcesPublicPEportlet_tiporec=17',\n",
    "        'http://www.perueduca.pe/materiales-educativos?p_p_id=ResourcesPublicPE_WAR_ResourcesPublicPEportlet&p_p_lifecycle=0&p_p_state=normal&p_p_mode=view&p_p_col_id=column-1&p_p_col_count=1&_ResourcesPublicPE_WAR_ResourcesPublicPEportlet_jspPage=%2Farea.jsp&_ResourcesPublicPE_WAR_ResourcesPublicPEportlet_areaId=&_ResourcesPublicPE_WAR_ResourcesPublicPEportlet_gradoId=&_ResourcesPublicPE_WAR_ResourcesPublicPEportlet_inicio=1&_ResourcesPublicPE_WAR_ResourcesPublicPEportlet_fin=10&_ResourcesPublicPE_WAR_ResourcesPublicPEportlet_tiporec=18']"
   ]
  },
  {
   "cell_type": "code",
   "execution_count": 3,
   "metadata": {},
   "outputs": [],
   "source": [
    "LEVELS = {\n",
    "    'Educación Inicial': '1',\n",
    "    'Educación Primaria': '2',\n",
    "    'Educación Secundaria': '3'\n",
    "}"
   ]
  },
  {
   "cell_type": "code",
   "execution_count": 4,
   "metadata": {},
   "outputs": [],
   "source": [
    "CATEGORIES = {\n",
    "    'Historia, Geografía y Economía': 'Historia, Geografía y Economía',\n",
    "    'CTA': 'CTA',\n",
    "    'Ciencia y tecnología': 'CTA',\n",
    "    'Arte': 'Arte',\n",
    "    'Comunicación': 'Comunicación',\n",
    "    'Personal social': 'Personal social',\n",
    "    'Formación Ciudadana y Cívica': 'Formación Ciudadana y Cívica',\n",
    "    'Educación Fisica': 'Educación Fisica',\n",
    "    'Educación Religiosa': 'Educación Religiosa'\n",
    "}"
   ]
  },
  {
   "cell_type": "code",
   "execution_count": 5,
   "metadata": {},
   "outputs": [],
   "source": [
    "PROJECT_PATH = '/home/hans/Documentos/Tesis_Chatbot'"
   ]
  },
  {
   "cell_type": "markdown",
   "metadata": {},
   "source": [
    "# Helper functions"
   ]
  },
  {
   "cell_type": "code",
   "execution_count": 6,
   "metadata": {},
   "outputs": [],
   "source": [
    "def is_accepted_document(document_language: str, document_category: str, document_name: str) -> bool:\n",
    "    \"\"\"\n",
    "    This function checks if the document to download has the correct language and belongs to the correct category\n",
    "    \n",
    "    Parameters:\n",
    "    document_language (str): Language the document was written in.\n",
    "    document_category (str): Teaching category the document belongs to.\n",
    "    document_name (str): The name of the document\n",
    "    \n",
    "    Returns:\n",
    "    Boolean: If the document is accepted or not\n",
    "    \"\"\"\n",
    "    accepted_language = 'ES (Español)'\n",
    "    accepted_areas = ['Formación Ciudadana y Cívica', \n",
    "                  'Arte', \n",
    "                  'Comunicación', \n",
    "                  'CTA',\n",
    "                  'Ciencia y tecnología',\n",
    "                  'Personal social'\n",
    "                  'Educación Fisica', \n",
    "                  'Historia, Geografía y Economía',\n",
    "                  'Educación Religiosa']\n",
    "    texts_to_omit = ['unuchamanta-kawsaq.pdf',\n",
    "                 'sankenapatotantsi-ashaninka.pdf',\n",
    "                 'phuyu-raqeaq-atuq.pdf',\n",
    "                 'arojeitake-ashitarori-impoiji-amabentakotirori-aipatsite.pdf']\n",
    "    return document_language == accepted_language and document_category in accepted_areas and not document_name in texts_to_omit"
   ]
  },
  {
   "cell_type": "code",
   "execution_count": 7,
   "metadata": {},
   "outputs": [],
   "source": [
    "async def obtain_and_save_document(session: ClientSession, url: str) -> None:\n",
    "    \"\"\"\n",
    "    This function looks for the link to download a document in \"perueduca.com\"\n",
    "\n",
    "    Parameters:\n",
    "    session (ClientSession): The async session used to obtain the webpage\n",
    "    url (str): The url of the webpage to convert\n",
    "\n",
    "    Returns:\n",
    "    None\n",
    "    \"\"\"\n",
    "    try:\n",
    "        soup = await get_webpage_as_bs(session, url)\n",
    "        document_information_table = soup.find('div', id='ficha-catalogo').find_all('tr')\n",
    "        document_language = document_information_table[7].find('td').text.strip()\n",
    "        document_category = document_information_table[3].find('td').text.strip()\n",
    "        download_link = soup.find('a', id='hf_iframe')['href']\n",
    "        document_name = download_link.split('/')[-1]\n",
    "        if (is_accepted_document(document_language, document_category, document_name)):\n",
    "            document_level = LEVELS[document_information_table[1].find('td').text.strip()]\n",
    "            document_folder_category = CATEGORIES[document_category]\n",
    "            storage_directory = PROJECT_PATH + f'/data/raw/pdf/{document_level}/{document_folder_category}/{document_name}'\n",
    "            if '.pdf' in download_link:\n",
    "                await download_document_and_save(session, download_link, storage_directory)\n",
    "                print(f'Document {document_name} downloaded successfully')\n",
    "    except Exception as e:\n",
    "        raise e"
   ]
  },
  {
   "cell_type": "code",
   "execution_count": 8,
   "metadata": {},
   "outputs": [],
   "source": [
    "async def obtain_texts_from_perueduca_webpage(session: ClientSession, url: str) -> None:\n",
    "    \"\"\"\n",
    "    This function traverses through an entire web page of peru educa, searching for documents to download.\n",
    "    It's a recursive function.\n",
    "    \n",
    "    This function begins with obtaining the webpage as a beautiful soup object, then, it proceeds to find\n",
    "    all the available document sections in this page so it can download them. After that, it goes to the\n",
    "    next page and does the same process again.\n",
    "\n",
    "    Parameters:\n",
    "    session (ClientSession): The async session used to obtain the webpage\n",
    "    url (str): The url of the webpage to convert\n",
    "\n",
    "    Returns:\n",
    "    None\n",
    "    \"\"\"\n",
    "    try:\n",
    "        soup = await get_webpage_as_bs(session, url)\n",
    "        texts_information = soup.find_all('div', class_='box-result')\n",
    "        if (len(texts_information) == 0): # No more texts in this page. Extraction process finished\n",
    "            return\n",
    "        else: # More texts still available\n",
    "            for text in texts_information:\n",
    "                text_link = text.find('a')['href']\n",
    "                await obtain_and_save_document(session, text_link)\n",
    "            # There are still more pages to look documents into\n",
    "            next_page_button = soup.find('li', class_='next')\n",
    "            next_page_url = next_page_button.find('a')['href']\n",
    "            await obtain_texts_from_perueduca_webpage(session, next_page_url)\n",
    "    except Exception as e:\n",
    "        raise e\n"
   ]
  },
  {
   "cell_type": "code",
   "execution_count": 9,
   "metadata": {},
   "outputs": [],
   "source": [
    "async def convert_pdfs_to_txt_files() -> None:\n",
    "    \"\"\"\n",
    "    This function scans all the files we just downloaded and converts them to a .txt format for easier processing\n",
    "    \"\"\"\n",
    "    levels = ['1', '2', '3']\n",
    "    categories = ['Historia, Geografía y Economía',\n",
    "                    'CTA',\n",
    "                    'Arte',\n",
    "                    'Comunicación',\n",
    "                    'Personal social',\n",
    "                    'Formación Ciudadana y Cívica',\n",
    "                    'Educación Fisica',\n",
    "                    'Educación Religiosa']\n",
    "    for level in levels:\n",
    "        for category in categories:\n",
    "            documents = [file_name for file_name in os.listdir(PROJECT_PATH + f'/data/raw/pdf/{level}/{category}') if '.pdf' in file_name]\n",
    "            documents.sort()\n",
    "            #print(len(documents))\n",
    "            for document in documents:\n",
    "                try:\n",
    "                    pdf_path = f'{PROJECT_PATH}/data/raw/pdf/{level}/{category}/{document}'\n",
    "                    save_dir = f'{PROJECT_PATH}/data/raw/txt/{level}/{category}/{document}'.replace('.pdf', '.txt')\n",
    "                    await convert_pdf_to_txt(pdf_path, save_dir)\n",
    "                    print(f'Text {document} converted from pdf to txt')\n",
    "                except Exception as e:\n",
    "                    print(str(e))\n",
    "                    continue"
   ]
  },
  {
   "cell_type": "code",
   "execution_count": 10,
   "metadata": {},
   "outputs": [],
   "source": [
    "async def main() -> None:\n",
    "    \"\"\"\n",
    "    The main function obtains the documents as pdfs and then converts them to text file format\n",
    "    \"\"\"\n",
    "    try:\n",
    "        session = ClientSession()\n",
    "        for url in URLS:\n",
    "            await obtain_texts_from_perueduca_webpage(session, url)\n",
    "        await session.close()\n",
    "    except Exception as e:\n",
    "        await session.close()\n",
    "    await convert_pdfs_to_txt_files()"
   ]
  },
  {
   "cell_type": "code",
   "execution_count": 11,
   "metadata": {},
   "outputs": [
    {
     "name": "stdout",
     "output_type": "stream",
     "text": [
      "Document juegos_para_ensenar_a_pensar_1.pdf downloaded successfully\n",
      "Document juegos_para_ensenar_a_pensar_2.pdf downloaded successfully\n",
      "Document f_rutas_ini_bil_02.pdf downloaded successfully\n",
      "Document f_rutas_ini_bil_01.pdf downloaded successfully\n",
      "Document arguedas.pdf downloaded successfully\n",
      "Document clorinda_matto.pdf downloaded successfully\n",
      "Document cesar_vallejo.pdf downloaded successfully\n",
      "Document maria_granda.pdf downloaded successfully\n",
      "Document augusto_leguia.pdf downloaded successfully\n",
      "Document fernando_belaunde.pdf downloaded successfully\n",
      "Document guia_produccion_audiolibros.pdf downloaded successfully\n"
     ]
    },
    {
     "name": "stderr",
     "output_type": "stream",
     "text": [
      "PdfReadWarning: Xref table not zero-indexed. ID numbers for objects will be corrected. [pdf.py:1736]\n"
     ]
    },
    {
     "name": "stdout",
     "output_type": "stream",
     "text": [
      "Text f_rutas_ini_bil_02.pdf converted from pdf to txt\n",
      "Text juegos_para_ensenar_a_pensar_1.pdf converted from pdf to txt\n",
      "Text juegos_para_ensenar_a_pensar_2.pdf converted from pdf to txt\n"
     ]
    },
    {
     "ename": "FileNotFoundError",
     "evalue": "[Errno 2] No such file or directory: '/home/hans/Documentos/Tesis_Chatbot/data/raw/pdf/1/Educación FisicaEducación Religiosa'",
     "output_type": "error",
     "traceback": [
      "\u001b[0;31m-------------------------------------------------------------------------\u001b[0m",
      "\u001b[0;31mFileNotFoundError\u001b[0m                       Traceback (most recent call last)",
      "\u001b[0;32m<ipython-input-11-c17ac1e75020>\u001b[0m in \u001b[0;36masync-def-wrapper\u001b[0;34m()\u001b[0m\n",
      "\u001b[0;32m<ipython-input-10-c0fedd7e6584>\u001b[0m in \u001b[0;36mmain\u001b[0;34m()\u001b[0m\n\u001b[1;32m     10\u001b[0m     \u001b[0;32mexcept\u001b[0m \u001b[0mException\u001b[0m \u001b[0;32mas\u001b[0m \u001b[0me\u001b[0m\u001b[0;34m:\u001b[0m\u001b[0;34m\u001b[0m\u001b[0;34m\u001b[0m\u001b[0m\n\u001b[1;32m     11\u001b[0m         \u001b[0;32mawait\u001b[0m \u001b[0msession\u001b[0m\u001b[0;34m.\u001b[0m\u001b[0mclose\u001b[0m\u001b[0;34m(\u001b[0m\u001b[0;34m)\u001b[0m\u001b[0;34m\u001b[0m\u001b[0;34m\u001b[0m\u001b[0m\n\u001b[0;32m---> 12\u001b[0;31m     \u001b[0;32mawait\u001b[0m \u001b[0mconvert_pdfs_to_txt_files\u001b[0m\u001b[0;34m(\u001b[0m\u001b[0;34m)\u001b[0m\u001b[0;34m\u001b[0m\u001b[0;34m\u001b[0m\u001b[0m\n\u001b[0m",
      "\u001b[0;32m<ipython-input-9-c9281b4a8472>\u001b[0m in \u001b[0;36mconvert_pdfs_to_txt_files\u001b[0;34m()\u001b[0m\n\u001b[1;32m     14\u001b[0m     \u001b[0;32mfor\u001b[0m \u001b[0mlevel\u001b[0m \u001b[0;32min\u001b[0m \u001b[0mlevels\u001b[0m\u001b[0;34m:\u001b[0m\u001b[0;34m\u001b[0m\u001b[0;34m\u001b[0m\u001b[0m\n\u001b[1;32m     15\u001b[0m         \u001b[0;32mfor\u001b[0m \u001b[0mcategory\u001b[0m \u001b[0;32min\u001b[0m \u001b[0mcategories\u001b[0m\u001b[0;34m:\u001b[0m\u001b[0;34m\u001b[0m\u001b[0;34m\u001b[0m\u001b[0m\n\u001b[0;32m---> 16\u001b[0;31m             \u001b[0mdocuments\u001b[0m \u001b[0;34m=\u001b[0m \u001b[0;34m[\u001b[0m\u001b[0mfile_name\u001b[0m \u001b[0;32mfor\u001b[0m \u001b[0mfile_name\u001b[0m \u001b[0;32min\u001b[0m \u001b[0mos\u001b[0m\u001b[0;34m.\u001b[0m\u001b[0mlistdir\u001b[0m\u001b[0;34m(\u001b[0m\u001b[0mPROJECT_PATH\u001b[0m \u001b[0;34m+\u001b[0m \u001b[0;34mf'/data/raw/pdf/{level}/{category}'\u001b[0m\u001b[0;34m)\u001b[0m \u001b[0;32mif\u001b[0m \u001b[0;34m'.pdf'\u001b[0m \u001b[0;32min\u001b[0m \u001b[0mfile_name\u001b[0m\u001b[0;34m]\u001b[0m\u001b[0;34m\u001b[0m\u001b[0;34m\u001b[0m\u001b[0m\n\u001b[0m\u001b[1;32m     17\u001b[0m             \u001b[0mdocuments\u001b[0m\u001b[0;34m.\u001b[0m\u001b[0msort\u001b[0m\u001b[0;34m(\u001b[0m\u001b[0;34m)\u001b[0m\u001b[0;34m\u001b[0m\u001b[0;34m\u001b[0m\u001b[0m\n\u001b[1;32m     18\u001b[0m             \u001b[0;31m#print(len(documents))\u001b[0m\u001b[0;34m\u001b[0m\u001b[0;34m\u001b[0m\u001b[0;34m\u001b[0m\u001b[0m\n",
      "\u001b[0;31mFileNotFoundError\u001b[0m: [Errno 2] No such file or directory: '/home/hans/Documentos/Tesis_Chatbot/data/raw/pdf/1/Educación FisicaEducación Religiosa'"
     ]
    }
   ],
   "source": [
    "await main()"
   ]
  },
  {
   "cell_type": "code",
   "execution_count": 15,
   "metadata": {},
   "outputs": [
    {
     "data": {
      "text/plain": [
       "88"
      ]
     },
     "execution_count": 15,
     "metadata": {},
     "output_type": "execute_result"
    }
   ],
   "source": [
    "6+1+23+7+8+3+40"
   ]
  },
  {
   "cell_type": "code",
   "execution_count": null,
   "metadata": {},
   "outputs": [],
   "source": []
  }
 ],
 "metadata": {
  "kernelspec": {
   "display_name": ".env",
   "language": "python",
   "name": ".env"
  },
  "language_info": {
   "codemirror_mode": {
    "name": "ipython",
    "version": 3
   },
   "file_extension": ".py",
   "mimetype": "text/x-python",
   "name": "python",
   "nbconvert_exporter": "python",
   "pygments_lexer": "ipython3",
   "version": "3.7.5"
  }
 },
 "nbformat": 4,
 "nbformat_minor": 2
}
