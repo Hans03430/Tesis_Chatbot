{
 "cells": [
  {
   "cell_type": "markdown",
   "metadata": {},
   "source": [
    "# Initial setup"
   ]
  },
  {
   "cell_type": "code",
   "execution_count": 1,
   "metadata": {},
   "outputs": [],
   "source": [
    "import asyncio\n",
    "import os\n",
    "import PyPDF2\n",
    "import sys\n",
    "\n",
    "from aiofile import AIOFile\n",
    "from aiohttp import ClientSession\n",
    "from bs4 import Comment\n",
    "from src.data_obtaining.webpage_interaction import get_webpage_as_bs, download_document_and_save"
   ]
  },
  {
   "cell_type": "markdown",
   "metadata": {},
   "source": [
    "# Constantes"
   ]
  },
  {
   "cell_type": "code",
   "execution_count": 2,
   "metadata": {},
   "outputs": [],
   "source": [
    "URLS = ['http://www.perueduca.pe/materiales-educativos?p_p_id=ResourcesPublicPE_WAR_ResourcesPublicPEportlet&p_p_lifecycle=0&p_p_state=normal&p_p_mode=view&p_p_col_id=column-1&p_p_col_count=1&_ResourcesPublicPE_WAR_ResourcesPublicPEportlet_jspPage=%2Farea.jsp&_ResourcesPublicPE_WAR_ResourcesPublicPEportlet_areaId=&_ResourcesPublicPE_WAR_ResourcesPublicPEportlet_gradoId=&_ResourcesPublicPE_WAR_ResourcesPublicPEportlet_inicio=1&_ResourcesPublicPE_WAR_ResourcesPublicPEportlet_fin=10&_ResourcesPublicPE_WAR_ResourcesPublicPEportlet_tiporec=20',\n",
    "        'http://www.perueduca.pe/materiales-educativos?p_p_id=ResourcesPublicPE_WAR_ResourcesPublicPEportlet&p_p_lifecycle=0&p_p_state=normal&p_p_mode=view&p_p_col_id=column-1&p_p_col_count=1&_ResourcesPublicPE_WAR_ResourcesPublicPEportlet_jspPage=%2Farea.jsp&_ResourcesPublicPE_WAR_ResourcesPublicPEportlet_areaId=&_ResourcesPublicPE_WAR_ResourcesPublicPEportlet_gradoId=&_ResourcesPublicPE_WAR_ResourcesPublicPEportlet_inicio=1&_ResourcesPublicPE_WAR_ResourcesPublicPEportlet_fin=10&_ResourcesPublicPE_WAR_ResourcesPublicPEportlet_tiporec=17',\n",
    "        'http://www.perueduca.pe/materiales-educativos?p_p_id=ResourcesPublicPE_WAR_ResourcesPublicPEportlet&p_p_lifecycle=0&p_p_state=normal&p_p_mode=view&p_p_col_id=column-1&p_p_col_count=1&_ResourcesPublicPE_WAR_ResourcesPublicPEportlet_jspPage=%2Farea.jsp&_ResourcesPublicPE_WAR_ResourcesPublicPEportlet_areaId=&_ResourcesPublicPE_WAR_ResourcesPublicPEportlet_gradoId=&_ResourcesPublicPE_WAR_ResourcesPublicPEportlet_inicio=1&_ResourcesPublicPE_WAR_ResourcesPublicPEportlet_fin=10&_ResourcesPublicPE_WAR_ResourcesPublicPEportlet_tiporec=18']"
   ]
  },
  {
   "cell_type": "code",
   "execution_count": 3,
   "metadata": {},
   "outputs": [],
   "source": [
    "LEVELS = {\n",
    "    'Educación Inicial': '1',\n",
    "    'Educación Primaria': '2',\n",
    "    'Educación Secundaria': '3'\n",
    "}"
   ]
  },
  {
   "cell_type": "code",
   "execution_count": 4,
   "metadata": {},
   "outputs": [],
   "source": [
    "ACCEPTED_LANGUAGE = 'ES (Español)'"
   ]
  },
  {
   "cell_type": "code",
   "execution_count": 5,
   "metadata": {},
   "outputs": [],
   "source": [
    "ACCEPTED_AREAS = ['Formación Ciudadana y Cívica', \n",
    "                  'Arte', \n",
    "                  'Comunicación', \n",
    "                  'CTA', \n",
    "                  'Educación Física', \n",
    "                  'Educación para el Trabajo',\n",
    "                  'Historia, Geografía y Economía']\n",
    "                  # 'Matemática']"
   ]
  },
  {
   "cell_type": "code",
   "execution_count": 6,
   "metadata": {},
   "outputs": [],
   "source": [
    "PROJECT_PATH = '/home/hans/Documentos/Tesis_Chatbot'"
   ]
  },
  {
   "cell_type": "markdown",
   "metadata": {},
   "source": [
    "# Helper functions"
   ]
  },
  {
   "cell_type": "code",
   "execution_count": 7,
   "metadata": {},
   "outputs": [],
   "source": [
    "async def obtain_and_save_document(session: ClientSession, url: str) -> None:\n",
    "    \"\"\"\n",
    "    This function looks for the link to download a document in \"perueduca.com\"\n",
    "\n",
    "    Parameters:\n",
    "    session (ClientSession): The async session used to obtain the webpage\n",
    "    url (str): The url of the webpage to convert\n",
    "\n",
    "    Returns:\n",
    "    None\n",
    "    \"\"\"\n",
    "    try:\n",
    "        soup = await get_webpage_as_bs(session, url)\n",
    "        document_information_table = soup.find('div', id='ficha-catalogo').find_all('tr')\n",
    "        document_language = document_information_table[7].find('td').text.strip()\n",
    "        document_category = document_information_table[3].find('td').text.strip()\n",
    "        if (document_language == ACCEPTED_LANGUAGE and document_category in ACCEPTED_AREAS):\n",
    "            document_level = LEVELS[document_information_table[1].find('td').text.strip()]\n",
    "            download_link = soup.find('a', id='hf_iframe')['href']\n",
    "            document_name = download_link.split('/')[-1]\n",
    "            storage_directory = PROJECT_PATH + f'/data/raw/pdf/{document_level}/{document_name}'\n",
    "            await download_document_and_save(session, download_link, storage_directory)\n",
    "            print(f'Document {document_name} downloaded successfully')\n",
    "    except Exception as e:\n",
    "        raise e"
   ]
  },
  {
   "cell_type": "code",
   "execution_count": 8,
   "metadata": {},
   "outputs": [],
   "source": [
    "async def obtain_texts_from_perueduca_webpage(session: ClientSession, url: str) -> None:\n",
    "    \"\"\"\n",
    "    This function traverses through an entire web page of peru educa, searching for documents to download.\n",
    "    It's a recursive function.\n",
    "    \n",
    "    This function begins with obtaining the webpage as a beautiful soup object, then, it proceeds to find\n",
    "    all the available document sections in this page so it can download them. After that, it goes to the\n",
    "    next page and does the same process again.\n",
    "\n",
    "    Parameters:\n",
    "    session (ClientSession): The async session used to obtain the webpage\n",
    "    url (str): The url of the webpage to convert\n",
    "\n",
    "    Returns:\n",
    "    None\n",
    "    \"\"\"\n",
    "    try:\n",
    "        soup = await get_webpage_as_bs(session, url)\n",
    "        texts_information = soup.find_all('div', class_='box-result')\n",
    "        if (len(texts_information) == 0): # No more texts in this page. Extraction process finished\n",
    "            return\n",
    "        else: # More texts still available\n",
    "            for text in texts_information:\n",
    "                text_link = text.find('a')['href']\n",
    "                await obtain_and_save_document(session, text_link)\n",
    "            # There are still more pages to look documents into\n",
    "            next_page_button = soup.find('li', class_='next')\n",
    "            next_page_url = next_page_button.find('a')['href']\n",
    "            await obtain_texts_from_perueduca_webpage(session, next_page_url)\n",
    "    except Exception as e:\n",
    "        raise e\n"
   ]
  },
  {
   "cell_type": "code",
   "execution_count": 20,
   "metadata": {},
   "outputs": [],
   "source": [
    "async def convert_pdfs_to_txt_files() -> None:\n",
    "    \"\"\"\n",
    "    This function scans all the files we just downloaded and converts them to a .txt format for easier processing\n",
    "    \"\"\"\n",
    "    levels = ['1', '2', '3']\n",
    "    for level in levels:\n",
    "        documents = [file_name for file_name in os.listdir(PROJECT_PATH + f'/data/raw/pdf/{level}') if '.pdf' in file_name]\n",
    "        documents = documents.sort()\n",
    "        for document in documents:\n",
    "            try:\n",
    "                print(f'Converting {document} from pdf to txt')\n",
    "                with open(PROJECT_PATH + f'/data/raw/pdf/{level}/{document}', 'rb') as pdf_file:\n",
    "                    pdf_reader = PyPDF2.PdfFileReader(pdf_file)\n",
    "                    text = ''.join([pdf_reader.getPage(page).extractText() for page in range(pdf_reader.numPages)]) \n",
    "                    with open(PROJECT_PATH + f'/data/raw/txt/{level}/{document}' + document.replace('.pdf', '.txt'), 'w') as text_file:\n",
    "                        text_file.write(text)\n",
    "                print(f'Text {document} converted from pdf to txt')\n",
    "            except Exception as e:\n",
    "                raise e\n",
    "                continue"
   ]
  },
  {
   "cell_type": "code",
   "execution_count": 23,
   "metadata": {},
   "outputs": [],
   "source": [
    "async def main() -> None:\n",
    "    \"\"\"\n",
    "    The main function obtains the documents as pdfs and then converts them to text file format\n",
    "    \"\"\"\n",
    "    \"\"\"try:\n",
    "        session = ClientSession()\n",
    "        for url in URLS:\n",
    "            await obtain_texts_from_perueduca_webpage(session, url)\n",
    "        await session.close()\n",
    "    except Exception as e:\n",
    "        await session.close()\"\"\"\n",
    "    await convert_pdfs_to_txt_files()"
   ]
  },
  {
   "cell_type": "code",
   "execution_count": 25,
   "metadata": {},
   "outputs": [
    {
     "ename": "TypeError",
     "evalue": "'NoneType' object is not iterable",
     "output_type": "error",
     "traceback": [
      "\u001b[0;31m---------------------------------------------------------------------------\u001b[0m",
      "\u001b[0;31mTypeError\u001b[0m                                 Traceback (most recent call last)",
      "\u001b[0;32m<ipython-input-25-c17ac1e75020>\u001b[0m in \u001b[0;36masync-def-wrapper\u001b[0;34m()\u001b[0m\n",
      "\u001b[0;32m<ipython-input-23-5e53c7a77017>\u001b[0m in \u001b[0;36mmain\u001b[0;34m()\u001b[0m\n\u001b[1;32m     10\u001b[0m     \u001b[0;32mexcept\u001b[0m \u001b[0mException\u001b[0m \u001b[0;32mas\u001b[0m \u001b[0me\u001b[0m\u001b[0;34m:\u001b[0m\u001b[0;34m\u001b[0m\u001b[0;34m\u001b[0m\u001b[0m\n\u001b[1;32m     11\u001b[0m         await session.close()\"\"\"\n\u001b[0;32m---> 12\u001b[0;31m     \u001b[0;32mawait\u001b[0m \u001b[0mconvert_pdfs_to_txt_files\u001b[0m\u001b[0;34m(\u001b[0m\u001b[0;34m)\u001b[0m\u001b[0;34m\u001b[0m\u001b[0;34m\u001b[0m\u001b[0m\n\u001b[0m",
      "\u001b[0;32m<ipython-input-20-1471ed3e5212>\u001b[0m in \u001b[0;36mconvert_pdfs_to_txt_files\u001b[0;34m()\u001b[0m\n\u001b[1;32m      6\u001b[0m     \u001b[0;32mfor\u001b[0m \u001b[0mlevel\u001b[0m \u001b[0;32min\u001b[0m \u001b[0mlevels\u001b[0m\u001b[0;34m:\u001b[0m\u001b[0;34m\u001b[0m\u001b[0;34m\u001b[0m\u001b[0m\n\u001b[1;32m      7\u001b[0m         \u001b[0mdocuments\u001b[0m \u001b[0;34m=\u001b[0m \u001b[0;34m[\u001b[0m\u001b[0mfile_name\u001b[0m \u001b[0;32mfor\u001b[0m \u001b[0mfile_name\u001b[0m \u001b[0;32min\u001b[0m \u001b[0mos\u001b[0m\u001b[0;34m.\u001b[0m\u001b[0mlistdir\u001b[0m\u001b[0;34m(\u001b[0m\u001b[0mPROJECT_PATH\u001b[0m \u001b[0;34m+\u001b[0m \u001b[0;34mf'/data/raw/pdf/{level}'\u001b[0m\u001b[0;34m)\u001b[0m \u001b[0;32mif\u001b[0m \u001b[0;34m'.pdf'\u001b[0m \u001b[0;32min\u001b[0m \u001b[0mfile_name\u001b[0m\u001b[0;34m]\u001b[0m\u001b[0;34m.\u001b[0m\u001b[0msort\u001b[0m\u001b[0;34m(\u001b[0m\u001b[0;34m)\u001b[0m\u001b[0;34m\u001b[0m\u001b[0;34m\u001b[0m\u001b[0m\n\u001b[0;32m----> 8\u001b[0;31m         \u001b[0;32mfor\u001b[0m \u001b[0mdocument\u001b[0m \u001b[0;32min\u001b[0m \u001b[0mdocuments\u001b[0m\u001b[0;34m:\u001b[0m\u001b[0;34m\u001b[0m\u001b[0;34m\u001b[0m\u001b[0m\n\u001b[0m\u001b[1;32m      9\u001b[0m             \u001b[0;32mtry\u001b[0m\u001b[0;34m:\u001b[0m\u001b[0;34m\u001b[0m\u001b[0;34m\u001b[0m\u001b[0m\n\u001b[1;32m     10\u001b[0m                 \u001b[0mprint\u001b[0m\u001b[0;34m(\u001b[0m\u001b[0;34mf'Converting {document} from pdf to txt'\u001b[0m\u001b[0;34m)\u001b[0m\u001b[0;34m\u001b[0m\u001b[0;34m\u001b[0m\u001b[0m\n",
      "\u001b[0;31mTypeError\u001b[0m: 'NoneType' object is not iterable"
     ]
    }
   ],
   "source": [
    "await main()"
   ]
  },
  {
   "cell_type": "code",
   "execution_count": null,
   "metadata": {},
   "outputs": [],
   "source": []
  }
 ],
 "metadata": {
  "kernelspec": {
   "display_name": ".env",
   "language": "python",
   "name": ".env"
  },
  "language_info": {
   "codemirror_mode": {
    "name": "ipython",
    "version": 3
   },
   "file_extension": ".py",
   "mimetype": "text/x-python",
   "name": "python",
   "nbconvert_exporter": "python",
   "pygments_lexer": "ipython3",
   "version": "3.7.5"
  }
 },
 "nbformat": 4,
 "nbformat_minor": 2
}
