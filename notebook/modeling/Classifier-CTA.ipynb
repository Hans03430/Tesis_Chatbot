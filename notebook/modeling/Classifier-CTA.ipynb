{
 "cells": [
  {
   "cell_type": "markdown",
   "metadata": {},
   "source": [
    "# Importaciones de librerías"
   ]
  },
  {
   "cell_type": "code",
   "execution_count": 1,
   "metadata": {},
   "outputs": [
    {
     "name": "stderr",
     "output_type": "stream",
     "text": [
      "/home/hans/Proyectos/Python/Tesis_Chatbot/env/lib/python3.8/site-packages/sqlalchemy/orm/util.py:104: SAWarning: The 'delete-orphan' cascade option requires 'delete'.\n",
      "  util.warn(\n"
     ]
    }
   ],
   "source": [
    "import pandas as pd\n",
    "\n",
    "from scikitplot.metrics import plot_confusion_matrix\n",
    "from sklearn.linear_model import LogisticRegression\n",
    "from sklearn.linear_model import Perceptron\n",
    "from sklearn.model_selection import GridSearchCV\n",
    "from sklearn.model_selection import train_test_split\n",
    "from sklearn.metrics import make_scorer\n",
    "from sklearn.metrics import accuracy_score\n",
    "from sklearn.metrics import f1_score\n",
    "from sklearn.metrics import recall_score\n",
    "from sklearn.metrics import precision_score\n",
    "from sklearn.ensemble import AdaBoostClassifier\n",
    "from sklearn.ensemble import GradientBoostingClassifier\n",
    "from sklearn.ensemble import RandomForestClassifier\n",
    "from sklearn.ensemble import StackingClassifier\n",
    "from sklearn.ensemble import VotingClassifier\n",
    "from sklearn.neighbors import KNeighborsClassifier\n",
    "from sklearn.preprocessing import MinMaxScaler\n",
    "from sklearn.svm import SVC\n",
    "from sklearn.tree import DecisionTreeClassifier\n",
    "from src.modeling.utils.utils import print_scores\n",
    "from src.modeling.utils.utils import drop_dataset_unnecessary_columns\n",
    "from src.modeling.utils.utils import train_test_model\n",
    "from src.preparation.data_access.obtained_text_da import ObtainedTextDA"
   ]
  },
  {
   "cell_type": "markdown",
   "metadata": {},
   "source": [
    "# Constantes"
   ]
  },
  {
   "cell_type": "code",
   "execution_count": 2,
   "metadata": {},
   "outputs": [
    {
     "data": {
      "text/html": [
       "<div>\n",
       "<style scoped>\n",
       "    .dataframe tbody tr th:only-of-type {\n",
       "        vertical-align: middle;\n",
       "    }\n",
       "\n",
       "    .dataframe tbody tr th {\n",
       "        vertical-align: top;\n",
       "    }\n",
       "\n",
       "    .dataframe thead th {\n",
       "        text-align: right;\n",
       "    }\n",
       "</style>\n",
       "<table border=\"1\" class=\"dataframe\">\n",
       "  <thead>\n",
       "    <tr style=\"text-align: right;\">\n",
       "      <th></th>\n",
       "      <th>CNCADC</th>\n",
       "      <th>CNCAdd</th>\n",
       "      <th>CNCAll</th>\n",
       "      <th>CNCCaus</th>\n",
       "      <th>CNCLogic</th>\n",
       "      <th>CNCTemp</th>\n",
       "      <th>CRFANP1</th>\n",
       "      <th>CRFANPa</th>\n",
       "      <th>CRFAO1</th>\n",
       "      <th>CRFAOa</th>\n",
       "      <th>...</th>\n",
       "      <th>WRDPRP1s</th>\n",
       "      <th>WRDPRP2p</th>\n",
       "      <th>WRDPRP2s</th>\n",
       "      <th>WRDPRP3p</th>\n",
       "      <th>WRDPRP3s</th>\n",
       "      <th>WRDVERB</th>\n",
       "      <th>category</th>\n",
       "      <th>filename</th>\n",
       "      <th>grade</th>\n",
       "      <th>id</th>\n",
       "    </tr>\n",
       "  </thead>\n",
       "  <tbody>\n",
       "    <tr>\n",
       "      <th>34</th>\n",
       "      <td>1.909518</td>\n",
       "      <td>1.028202</td>\n",
       "      <td>56.110458</td>\n",
       "      <td>10.722679</td>\n",
       "      <td>39.512338</td>\n",
       "      <td>2.937720</td>\n",
       "      <td>0.138514</td>\n",
       "      <td>0.101761</td>\n",
       "      <td>0.422297</td>\n",
       "      <td>0.217308</td>\n",
       "      <td>...</td>\n",
       "      <td>0.000000</td>\n",
       "      <td>0.000000</td>\n",
       "      <td>1.175088</td>\n",
       "      <td>1.909518</td>\n",
       "      <td>6.609871</td>\n",
       "      <td>103.701528</td>\n",
       "      <td>CTA</td>\n",
       "      <td>ahorro-energia-eficiente-tecnologias.txt</td>\n",
       "      <td>1.0</td>\n",
       "      <td>35.0</td>\n",
       "    </tr>\n",
       "    <tr>\n",
       "      <th>35</th>\n",
       "      <td>0.607349</td>\n",
       "      <td>0.303674</td>\n",
       "      <td>51.928333</td>\n",
       "      <td>7.591862</td>\n",
       "      <td>42.514425</td>\n",
       "      <td>0.911023</td>\n",
       "      <td>0.077670</td>\n",
       "      <td>0.083645</td>\n",
       "      <td>0.407767</td>\n",
       "      <td>0.303025</td>\n",
       "      <td>...</td>\n",
       "      <td>0.607349</td>\n",
       "      <td>0.303674</td>\n",
       "      <td>0.607349</td>\n",
       "      <td>1.822047</td>\n",
       "      <td>6.680838</td>\n",
       "      <td>75.007592</td>\n",
       "      <td>CTA</td>\n",
       "      <td>amigos-amigas-energia-3-4-cartilla-actividad.txt</td>\n",
       "      <td>1.0</td>\n",
       "      <td>36.0</td>\n",
       "    </tr>\n",
       "    <tr>\n",
       "      <th>36</th>\n",
       "      <td>2.619359</td>\n",
       "      <td>0.714371</td>\n",
       "      <td>61.674009</td>\n",
       "      <td>9.524943</td>\n",
       "      <td>45.362543</td>\n",
       "      <td>3.452792</td>\n",
       "      <td>0.104061</td>\n",
       "      <td>0.061967</td>\n",
       "      <td>0.530457</td>\n",
       "      <td>0.217439</td>\n",
       "      <td>...</td>\n",
       "      <td>0.119062</td>\n",
       "      <td>0.000000</td>\n",
       "      <td>1.190618</td>\n",
       "      <td>1.666865</td>\n",
       "      <td>3.690916</td>\n",
       "      <td>95.963805</td>\n",
       "      <td>CTA</td>\n",
       "      <td>amigos-amigas-energia-3-4-cuaderno-trabajo.txt</td>\n",
       "      <td>1.0</td>\n",
       "      <td>37.0</td>\n",
       "    </tr>\n",
       "    <tr>\n",
       "      <th>37</th>\n",
       "      <td>3.387438</td>\n",
       "      <td>1.693719</td>\n",
       "      <td>68.595625</td>\n",
       "      <td>8.892025</td>\n",
       "      <td>50.105857</td>\n",
       "      <td>4.516584</td>\n",
       "      <td>0.072414</td>\n",
       "      <td>0.056594</td>\n",
       "      <td>0.379310</td>\n",
       "      <td>0.189667</td>\n",
       "      <td>...</td>\n",
       "      <td>0.000000</td>\n",
       "      <td>0.564573</td>\n",
       "      <td>1.976006</td>\n",
       "      <td>3.810868</td>\n",
       "      <td>6.633733</td>\n",
       "      <td>112.067749</td>\n",
       "      <td>CTA</td>\n",
       "      <td>areas-verdes-escuela.txt</td>\n",
       "      <td>1.0</td>\n",
       "      <td>38.0</td>\n",
       "    </tr>\n",
       "    <tr>\n",
       "      <th>38</th>\n",
       "      <td>5.303164</td>\n",
       "      <td>1.708797</td>\n",
       "      <td>61.693477</td>\n",
       "      <td>12.668670</td>\n",
       "      <td>38.123858</td>\n",
       "      <td>3.888987</td>\n",
       "      <td>0.114243</td>\n",
       "      <td>0.083596</td>\n",
       "      <td>0.400593</td>\n",
       "      <td>0.163723</td>\n",
       "      <td>...</td>\n",
       "      <td>2.239114</td>\n",
       "      <td>0.058924</td>\n",
       "      <td>2.062342</td>\n",
       "      <td>2.298038</td>\n",
       "      <td>7.247658</td>\n",
       "      <td>112.073537</td>\n",
       "      <td>CTA</td>\n",
       "      <td>cambio-climatico.txt</td>\n",
       "      <td>1.0</td>\n",
       "      <td>39.0</td>\n",
       "    </tr>\n",
       "    <tr>\n",
       "      <th>39</th>\n",
       "      <td>3.095633</td>\n",
       "      <td>1.105583</td>\n",
       "      <td>54.284135</td>\n",
       "      <td>8.126036</td>\n",
       "      <td>38.363737</td>\n",
       "      <td>3.593145</td>\n",
       "      <td>0.072614</td>\n",
       "      <td>0.039023</td>\n",
       "      <td>0.420124</td>\n",
       "      <td>0.205745</td>\n",
       "      <td>...</td>\n",
       "      <td>0.331675</td>\n",
       "      <td>0.165837</td>\n",
       "      <td>0.221117</td>\n",
       "      <td>0.995025</td>\n",
       "      <td>3.980100</td>\n",
       "      <td>95.743505</td>\n",
       "      <td>CTA</td>\n",
       "      <td>energizate-planes-clase.txt</td>\n",
       "      <td>1.0</td>\n",
       "      <td>40.0</td>\n",
       "    </tr>\n",
       "    <tr>\n",
       "      <th>40</th>\n",
       "      <td>0.414938</td>\n",
       "      <td>1.798064</td>\n",
       "      <td>62.517289</td>\n",
       "      <td>9.128631</td>\n",
       "      <td>49.377593</td>\n",
       "      <td>1.798064</td>\n",
       "      <td>0.067285</td>\n",
       "      <td>0.023975</td>\n",
       "      <td>0.403712</td>\n",
       "      <td>0.114860</td>\n",
       "      <td>...</td>\n",
       "      <td>1.521438</td>\n",
       "      <td>0.138313</td>\n",
       "      <td>1.521438</td>\n",
       "      <td>0.829876</td>\n",
       "      <td>7.883817</td>\n",
       "      <td>118.948824</td>\n",
       "      <td>CTA</td>\n",
       "      <td>guia_espacio_vida_estudiantes_iii.txt</td>\n",
       "      <td>1.0</td>\n",
       "      <td>41.0</td>\n",
       "    </tr>\n",
       "    <tr>\n",
       "      <th>41</th>\n",
       "      <td>0.618582</td>\n",
       "      <td>1.237164</td>\n",
       "      <td>63.837684</td>\n",
       "      <td>10.515898</td>\n",
       "      <td>49.239144</td>\n",
       "      <td>2.226896</td>\n",
       "      <td>0.071730</td>\n",
       "      <td>0.025698</td>\n",
       "      <td>0.402954</td>\n",
       "      <td>0.111890</td>\n",
       "      <td>...</td>\n",
       "      <td>1.113448</td>\n",
       "      <td>0.247433</td>\n",
       "      <td>1.237164</td>\n",
       "      <td>0.989732</td>\n",
       "      <td>7.546703</td>\n",
       "      <td>117.283187</td>\n",
       "      <td>CTA</td>\n",
       "      <td>guia_espacio_vida_estudiantes_iv.txt</td>\n",
       "      <td>1.0</td>\n",
       "      <td>42.0</td>\n",
       "    </tr>\n",
       "    <tr>\n",
       "      <th>42</th>\n",
       "      <td>0.971031</td>\n",
       "      <td>0.404596</td>\n",
       "      <td>59.880240</td>\n",
       "      <td>7.363651</td>\n",
       "      <td>46.690403</td>\n",
       "      <td>4.450558</td>\n",
       "      <td>0.092322</td>\n",
       "      <td>0.068735</td>\n",
       "      <td>0.374771</td>\n",
       "      <td>0.075031</td>\n",
       "      <td>...</td>\n",
       "      <td>2.265739</td>\n",
       "      <td>0.161838</td>\n",
       "      <td>0.728273</td>\n",
       "      <td>1.699304</td>\n",
       "      <td>11.652371</td>\n",
       "      <td>143.631656</td>\n",
       "      <td>CTA</td>\n",
       "      <td>mi-cuaderno-autoaprendizaje-cya-1.txt</td>\n",
       "      <td>1.0</td>\n",
       "      <td>43.0</td>\n",
       "    </tr>\n",
       "    <tr>\n",
       "      <th>43</th>\n",
       "      <td>1.056444</td>\n",
       "      <td>0.150921</td>\n",
       "      <td>70.706308</td>\n",
       "      <td>7.093269</td>\n",
       "      <td>58.859040</td>\n",
       "      <td>3.546634</td>\n",
       "      <td>0.065443</td>\n",
       "      <td>0.039485</td>\n",
       "      <td>0.284916</td>\n",
       "      <td>0.053888</td>\n",
       "      <td>...</td>\n",
       "      <td>1.358286</td>\n",
       "      <td>0.075460</td>\n",
       "      <td>0.679143</td>\n",
       "      <td>3.169333</td>\n",
       "      <td>11.696348</td>\n",
       "      <td>131.980078</td>\n",
       "      <td>CTA</td>\n",
       "      <td>mi-cuaderno-autoaprendizaje-cya-2.txt</td>\n",
       "      <td>1.0</td>\n",
       "      <td>44.0</td>\n",
       "    </tr>\n",
       "    <tr>\n",
       "      <th>44</th>\n",
       "      <td>0.637620</td>\n",
       "      <td>0.566773</td>\n",
       "      <td>68.508679</td>\n",
       "      <td>9.351753</td>\n",
       "      <td>54.481049</td>\n",
       "      <td>3.471484</td>\n",
       "      <td>0.076133</td>\n",
       "      <td>0.064767</td>\n",
       "      <td>0.351583</td>\n",
       "      <td>0.068913</td>\n",
       "      <td>...</td>\n",
       "      <td>1.912859</td>\n",
       "      <td>0.141693</td>\n",
       "      <td>0.637620</td>\n",
       "      <td>1.487779</td>\n",
       "      <td>10.839532</td>\n",
       "      <td>128.515763</td>\n",
       "      <td>CTA</td>\n",
       "      <td>mi-cuaderno-autoaprendizaje-cya-3.txt</td>\n",
       "      <td>1.0</td>\n",
       "      <td>45.0</td>\n",
       "    </tr>\n",
       "    <tr>\n",
       "      <th>45</th>\n",
       "      <td>1.372998</td>\n",
       "      <td>0.813628</td>\n",
       "      <td>57.411645</td>\n",
       "      <td>7.322654</td>\n",
       "      <td>45.715739</td>\n",
       "      <td>2.186626</td>\n",
       "      <td>0.056190</td>\n",
       "      <td>0.035984</td>\n",
       "      <td>0.364762</td>\n",
       "      <td>0.087273</td>\n",
       "      <td>...</td>\n",
       "      <td>0.864480</td>\n",
       "      <td>0.000000</td>\n",
       "      <td>1.779812</td>\n",
       "      <td>0.762777</td>\n",
       "      <td>4.881770</td>\n",
       "      <td>99.974574</td>\n",
       "      <td>CTA</td>\n",
       "      <td>proyecto-de-aprendizaje-inicial.txt</td>\n",
       "      <td>1.0</td>\n",
       "      <td>46.0</td>\n",
       "    </tr>\n",
       "    <tr>\n",
       "      <th>104</th>\n",
       "      <td>3.711520</td>\n",
       "      <td>0.654974</td>\n",
       "      <td>54.581180</td>\n",
       "      <td>11.207336</td>\n",
       "      <td>35.659705</td>\n",
       "      <td>3.347646</td>\n",
       "      <td>0.160596</td>\n",
       "      <td>0.145996</td>\n",
       "      <td>0.503311</td>\n",
       "      <td>0.229719</td>\n",
       "      <td>...</td>\n",
       "      <td>0.072775</td>\n",
       "      <td>0.145550</td>\n",
       "      <td>1.309948</td>\n",
       "      <td>2.983771</td>\n",
       "      <td>4.366494</td>\n",
       "      <td>81.726221</td>\n",
       "      <td>CTA</td>\n",
       "      <td>agua_suelo.txt</td>\n",
       "      <td>2.0</td>\n",
       "      <td>105.0</td>\n",
       "    </tr>\n",
       "    <tr>\n",
       "      <th>105</th>\n",
       "      <td>2.608121</td>\n",
       "      <td>0.858369</td>\n",
       "      <td>63.618356</td>\n",
       "      <td>6.338726</td>\n",
       "      <td>50.973919</td>\n",
       "      <td>2.839221</td>\n",
       "      <td>0.070944</td>\n",
       "      <td>0.031667</td>\n",
       "      <td>0.410241</td>\n",
       "      <td>0.072585</td>\n",
       "      <td>...</td>\n",
       "      <td>1.353582</td>\n",
       "      <td>0.066028</td>\n",
       "      <td>3.070320</td>\n",
       "      <td>1.386596</td>\n",
       "      <td>6.338726</td>\n",
       "      <td>101.386596</td>\n",
       "      <td>CTA</td>\n",
       "      <td>ambiente-salud-unidad-2-portafolio-3-avanzado.txt</td>\n",
       "      <td>2.0</td>\n",
       "      <td>106.0</td>\n",
       "    </tr>\n",
       "    <tr>\n",
       "      <th>106</th>\n",
       "      <td>1.214537</td>\n",
       "      <td>0.529414</td>\n",
       "      <td>62.626514</td>\n",
       "      <td>7.442932</td>\n",
       "      <td>50.543427</td>\n",
       "      <td>2.896204</td>\n",
       "      <td>0.073446</td>\n",
       "      <td>0.031750</td>\n",
       "      <td>0.459510</td>\n",
       "      <td>0.088821</td>\n",
       "      <td>...</td>\n",
       "      <td>1.463673</td>\n",
       "      <td>0.031142</td>\n",
       "      <td>2.553642</td>\n",
       "      <td>1.121111</td>\n",
       "      <td>5.792408</td>\n",
       "      <td>91.775404</td>\n",
       "      <td>CTA</td>\n",
       "      <td>ambiente-salud-unidad-2-portafolio-4-avanzado.txt</td>\n",
       "      <td>2.0</td>\n",
       "      <td>107.0</td>\n",
       "    </tr>\n",
       "    <tr>\n",
       "      <th>107</th>\n",
       "      <td>2.533280</td>\n",
       "      <td>0.794755</td>\n",
       "      <td>62.189549</td>\n",
       "      <td>8.469104</td>\n",
       "      <td>47.561097</td>\n",
       "      <td>2.831313</td>\n",
       "      <td>0.066962</td>\n",
       "      <td>0.039417</td>\n",
       "      <td>0.405219</td>\n",
       "      <td>0.080546</td>\n",
       "      <td>...</td>\n",
       "      <td>0.670574</td>\n",
       "      <td>0.049672</td>\n",
       "      <td>1.440493</td>\n",
       "      <td>1.589509</td>\n",
       "      <td>4.371150</td>\n",
       "      <td>83.374727</td>\n",
       "      <td>CTA</td>\n",
       "      <td>ambiente-salud-unidad-2-texto-1-avanzado.txt</td>\n",
       "      <td>2.0</td>\n",
       "      <td>108.0</td>\n",
       "    </tr>\n",
       "    <tr>\n",
       "      <th>108</th>\n",
       "      <td>2.633574</td>\n",
       "      <td>1.117274</td>\n",
       "      <td>58.577072</td>\n",
       "      <td>10.075416</td>\n",
       "      <td>41.738159</td>\n",
       "      <td>3.012649</td>\n",
       "      <td>0.087803</td>\n",
       "      <td>0.052067</td>\n",
       "      <td>0.456315</td>\n",
       "      <td>0.103792</td>\n",
       "      <td>...</td>\n",
       "      <td>0.379075</td>\n",
       "      <td>0.179562</td>\n",
       "      <td>1.715813</td>\n",
       "      <td>1.217030</td>\n",
       "      <td>5.945493</td>\n",
       "      <td>93.711344</td>\n",
       "      <td>CTA</td>\n",
       "      <td>ambiente-salud-unidad-2-texto-2.txt</td>\n",
       "      <td>2.0</td>\n",
       "      <td>109.0</td>\n",
       "    </tr>\n",
       "    <tr>\n",
       "      <th>109</th>\n",
       "      <td>2.800346</td>\n",
       "      <td>0.976437</td>\n",
       "      <td>62.805136</td>\n",
       "      <td>11.311925</td>\n",
       "      <td>45.302972</td>\n",
       "      <td>2.413456</td>\n",
       "      <td>0.100121</td>\n",
       "      <td>0.061505</td>\n",
       "      <td>0.464675</td>\n",
       "      <td>0.105224</td>\n",
       "      <td>...</td>\n",
       "      <td>1.013283</td>\n",
       "      <td>0.110540</td>\n",
       "      <td>2.247646</td>\n",
       "      <td>1.234363</td>\n",
       "      <td>5.895466</td>\n",
       "      <td>92.669356</td>\n",
       "      <td>CTA</td>\n",
       "      <td>ambiente-salud-unidad-2-texto-3-avanzado.txt</td>\n",
       "      <td>2.0</td>\n",
       "      <td>110.0</td>\n",
       "    </tr>\n",
       "    <tr>\n",
       "      <th>110</th>\n",
       "      <td>2.838924</td>\n",
       "      <td>1.307986</td>\n",
       "      <td>63.779188</td>\n",
       "      <td>10.746295</td>\n",
       "      <td>45.928150</td>\n",
       "      <td>2.957832</td>\n",
       "      <td>0.102547</td>\n",
       "      <td>0.057310</td>\n",
       "      <td>0.454329</td>\n",
       "      <td>0.124727</td>\n",
       "      <td>...</td>\n",
       "      <td>0.312133</td>\n",
       "      <td>0.000000</td>\n",
       "      <td>1.456621</td>\n",
       "      <td>1.129624</td>\n",
       "      <td>5.930528</td>\n",
       "      <td>90.310498</td>\n",
       "      <td>CTA</td>\n",
       "      <td>ambiente-salud-unidad-2-texto-4-avanzado.txt</td>\n",
       "      <td>2.0</td>\n",
       "      <td>111.0</td>\n",
       "    </tr>\n",
       "    <tr>\n",
       "      <th>111</th>\n",
       "      <td>1.858928</td>\n",
       "      <td>0.516369</td>\n",
       "      <td>48.745224</td>\n",
       "      <td>8.261902</td>\n",
       "      <td>35.629454</td>\n",
       "      <td>2.478571</td>\n",
       "      <td>0.108000</td>\n",
       "      <td>0.074643</td>\n",
       "      <td>0.404000</td>\n",
       "      <td>0.125749</td>\n",
       "      <td>...</td>\n",
       "      <td>0.000000</td>\n",
       "      <td>0.103274</td>\n",
       "      <td>0.103274</td>\n",
       "      <td>3.511308</td>\n",
       "      <td>9.191366</td>\n",
       "      <td>100.175565</td>\n",
       "      <td>CTA</td>\n",
       "      <td>biologia.txt</td>\n",
       "      <td>2.0</td>\n",
       "      <td>112.0</td>\n",
       "    </tr>\n",
       "    <tr>\n",
       "      <th>112</th>\n",
       "      <td>2.244451</td>\n",
       "      <td>0.665023</td>\n",
       "      <td>49.267090</td>\n",
       "      <td>8.257364</td>\n",
       "      <td>35.190778</td>\n",
       "      <td>2.909474</td>\n",
       "      <td>0.110415</td>\n",
       "      <td>0.063291</td>\n",
       "      <td>0.533865</td>\n",
       "      <td>0.152446</td>\n",
       "      <td>...</td>\n",
       "      <td>0.000000</td>\n",
       "      <td>0.221674</td>\n",
       "      <td>0.387930</td>\n",
       "      <td>0.387930</td>\n",
       "      <td>4.710577</td>\n",
       "      <td>82.906149</td>\n",
       "      <td>CTA</td>\n",
       "      <td>conciencia-ambiental-globe.txt</td>\n",
       "      <td>2.0</td>\n",
       "      <td>113.0</td>\n",
       "    </tr>\n",
       "    <tr>\n",
       "      <th>113</th>\n",
       "      <td>1.586426</td>\n",
       "      <td>1.069113</td>\n",
       "      <td>61.836115</td>\n",
       "      <td>7.656228</td>\n",
       "      <td>49.351635</td>\n",
       "      <td>2.172713</td>\n",
       "      <td>0.075556</td>\n",
       "      <td>0.039105</td>\n",
       "      <td>0.355556</td>\n",
       "      <td>0.104659</td>\n",
       "      <td>...</td>\n",
       "      <td>0.034488</td>\n",
       "      <td>0.724238</td>\n",
       "      <td>1.034625</td>\n",
       "      <td>2.000276</td>\n",
       "      <td>4.000552</td>\n",
       "      <td>75.320734</td>\n",
       "      <td>CTA</td>\n",
       "      <td>espacios-vida-esvi.txt</td>\n",
       "      <td>2.0</td>\n",
       "      <td>114.0</td>\n",
       "    </tr>\n",
       "    <tr>\n",
       "      <th>114</th>\n",
       "      <td>5.820220</td>\n",
       "      <td>0.862255</td>\n",
       "      <td>57.339944</td>\n",
       "      <td>10.347058</td>\n",
       "      <td>36.861393</td>\n",
       "      <td>3.449019</td>\n",
       "      <td>0.096591</td>\n",
       "      <td>0.068246</td>\n",
       "      <td>0.403409</td>\n",
       "      <td>0.134052</td>\n",
       "      <td>...</td>\n",
       "      <td>1.508946</td>\n",
       "      <td>0.862255</td>\n",
       "      <td>1.724510</td>\n",
       "      <td>4.957965</td>\n",
       "      <td>3.880147</td>\n",
       "      <td>85.578789</td>\n",
       "      <td>CTA</td>\n",
       "      <td>extranos_mundos.txt</td>\n",
       "      <td>2.0</td>\n",
       "      <td>115.0</td>\n",
       "    </tr>\n",
       "    <tr>\n",
       "      <th>115</th>\n",
       "      <td>1.253820</td>\n",
       "      <td>0.626910</td>\n",
       "      <td>47.174986</td>\n",
       "      <td>10.265653</td>\n",
       "      <td>32.599326</td>\n",
       "      <td>2.429277</td>\n",
       "      <td>0.142241</td>\n",
       "      <td>0.110771</td>\n",
       "      <td>0.564655</td>\n",
       "      <td>0.313302</td>\n",
       "      <td>...</td>\n",
       "      <td>0.000000</td>\n",
       "      <td>0.000000</td>\n",
       "      <td>0.235091</td>\n",
       "      <td>0.548546</td>\n",
       "      <td>8.306559</td>\n",
       "      <td>85.494867</td>\n",
       "      <td>CTA</td>\n",
       "      <td>fisica.txt</td>\n",
       "      <td>2.0</td>\n",
       "      <td>116.0</td>\n",
       "    </tr>\n",
       "    <tr>\n",
       "      <th>116</th>\n",
       "      <td>5.675147</td>\n",
       "      <td>0.782779</td>\n",
       "      <td>95.107632</td>\n",
       "      <td>20.547945</td>\n",
       "      <td>64.383562</td>\n",
       "      <td>3.718200</td>\n",
       "      <td>0.307018</td>\n",
       "      <td>0.274752</td>\n",
       "      <td>0.500000</td>\n",
       "      <td>0.395576</td>\n",
       "      <td>...</td>\n",
       "      <td>0.782779</td>\n",
       "      <td>0.000000</td>\n",
       "      <td>0.587084</td>\n",
       "      <td>11.545988</td>\n",
       "      <td>11.741683</td>\n",
       "      <td>111.350294</td>\n",
       "      <td>CTA</td>\n",
       "      <td>fragmentos_nuevo_mundo.txt</td>\n",
       "      <td>2.0</td>\n",
       "      <td>117.0</td>\n",
       "    </tr>\n",
       "    <tr>\n",
       "      <th>117</th>\n",
       "      <td>2.046036</td>\n",
       "      <td>2.557545</td>\n",
       "      <td>52.173913</td>\n",
       "      <td>15.345269</td>\n",
       "      <td>28.132992</td>\n",
       "      <td>4.092072</td>\n",
       "      <td>0.060241</td>\n",
       "      <td>0.052783</td>\n",
       "      <td>0.289157</td>\n",
       "      <td>0.158061</td>\n",
       "      <td>...</td>\n",
       "      <td>0.000000</td>\n",
       "      <td>0.000000</td>\n",
       "      <td>0.000000</td>\n",
       "      <td>1.023018</td>\n",
       "      <td>4.603581</td>\n",
       "      <td>75.703325</td>\n",
       "      <td>CTA</td>\n",
       "      <td>guiso_fantasmagorico.txt</td>\n",
       "      <td>2.0</td>\n",
       "      <td>118.0</td>\n",
       "    </tr>\n",
       "    <tr>\n",
       "      <th>118</th>\n",
       "      <td>1.645481</td>\n",
       "      <td>1.028426</td>\n",
       "      <td>58.291168</td>\n",
       "      <td>8.309680</td>\n",
       "      <td>45.045045</td>\n",
       "      <td>2.262537</td>\n",
       "      <td>0.099907</td>\n",
       "      <td>0.058862</td>\n",
       "      <td>0.418131</td>\n",
       "      <td>0.140941</td>\n",
       "      <td>...</td>\n",
       "      <td>0.041137</td>\n",
       "      <td>0.740466</td>\n",
       "      <td>1.604344</td>\n",
       "      <td>0.534781</td>\n",
       "      <td>3.373236</td>\n",
       "      <td>74.211197</td>\n",
       "      <td>CTA</td>\n",
       "      <td>manejo-residuos-solidos-mares.txt</td>\n",
       "      <td>2.0</td>\n",
       "      <td>119.0</td>\n",
       "    </tr>\n",
       "    <tr>\n",
       "      <th>119</th>\n",
       "      <td>2.975427</td>\n",
       "      <td>1.539014</td>\n",
       "      <td>74.077874</td>\n",
       "      <td>7.489868</td>\n",
       "      <td>59.867645</td>\n",
       "      <td>2.205920</td>\n",
       "      <td>0.059186</td>\n",
       "      <td>0.037635</td>\n",
       "      <td>0.437731</td>\n",
       "      <td>0.184143</td>\n",
       "      <td>...</td>\n",
       "      <td>0.000000</td>\n",
       "      <td>0.000000</td>\n",
       "      <td>1.026009</td>\n",
       "      <td>0.564305</td>\n",
       "      <td>5.540450</td>\n",
       "      <td>87.262094</td>\n",
       "      <td>CTA</td>\n",
       "      <td>promoviendo-estilos-vida-alimentacion-saludabl...</td>\n",
       "      <td>2.0</td>\n",
       "      <td>120.0</td>\n",
       "    </tr>\n",
       "    <tr>\n",
       "      <th>120</th>\n",
       "      <td>12.919897</td>\n",
       "      <td>1.291990</td>\n",
       "      <td>58.139535</td>\n",
       "      <td>6.459948</td>\n",
       "      <td>34.883721</td>\n",
       "      <td>2.583979</td>\n",
       "      <td>0.043011</td>\n",
       "      <td>0.032716</td>\n",
       "      <td>0.075269</td>\n",
       "      <td>0.056966</td>\n",
       "      <td>...</td>\n",
       "      <td>10.335917</td>\n",
       "      <td>0.000000</td>\n",
       "      <td>0.000000</td>\n",
       "      <td>1.291990</td>\n",
       "      <td>10.335917</td>\n",
       "      <td>188.630491</td>\n",
       "      <td>CTA</td>\n",
       "      <td>vih_sida_es.txt</td>\n",
       "      <td>2.0</td>\n",
       "      <td>121.0</td>\n",
       "    </tr>\n",
       "  </tbody>\n",
       "</table>\n",
       "<p>29 rows × 52 columns</p>\n",
       "</div>"
      ],
      "text/plain": [
       "        CNCADC    CNCAdd     CNCAll    CNCCaus   CNCLogic   CNCTemp   CRFANP1  \\\n",
       "34    1.909518  1.028202  56.110458  10.722679  39.512338  2.937720  0.138514   \n",
       "35    0.607349  0.303674  51.928333   7.591862  42.514425  0.911023  0.077670   \n",
       "36    2.619359  0.714371  61.674009   9.524943  45.362543  3.452792  0.104061   \n",
       "37    3.387438  1.693719  68.595625   8.892025  50.105857  4.516584  0.072414   \n",
       "38    5.303164  1.708797  61.693477  12.668670  38.123858  3.888987  0.114243   \n",
       "39    3.095633  1.105583  54.284135   8.126036  38.363737  3.593145  0.072614   \n",
       "40    0.414938  1.798064  62.517289   9.128631  49.377593  1.798064  0.067285   \n",
       "41    0.618582  1.237164  63.837684  10.515898  49.239144  2.226896  0.071730   \n",
       "42    0.971031  0.404596  59.880240   7.363651  46.690403  4.450558  0.092322   \n",
       "43    1.056444  0.150921  70.706308   7.093269  58.859040  3.546634  0.065443   \n",
       "44    0.637620  0.566773  68.508679   9.351753  54.481049  3.471484  0.076133   \n",
       "45    1.372998  0.813628  57.411645   7.322654  45.715739  2.186626  0.056190   \n",
       "104   3.711520  0.654974  54.581180  11.207336  35.659705  3.347646  0.160596   \n",
       "105   2.608121  0.858369  63.618356   6.338726  50.973919  2.839221  0.070944   \n",
       "106   1.214537  0.529414  62.626514   7.442932  50.543427  2.896204  0.073446   \n",
       "107   2.533280  0.794755  62.189549   8.469104  47.561097  2.831313  0.066962   \n",
       "108   2.633574  1.117274  58.577072  10.075416  41.738159  3.012649  0.087803   \n",
       "109   2.800346  0.976437  62.805136  11.311925  45.302972  2.413456  0.100121   \n",
       "110   2.838924  1.307986  63.779188  10.746295  45.928150  2.957832  0.102547   \n",
       "111   1.858928  0.516369  48.745224   8.261902  35.629454  2.478571  0.108000   \n",
       "112   2.244451  0.665023  49.267090   8.257364  35.190778  2.909474  0.110415   \n",
       "113   1.586426  1.069113  61.836115   7.656228  49.351635  2.172713  0.075556   \n",
       "114   5.820220  0.862255  57.339944  10.347058  36.861393  3.449019  0.096591   \n",
       "115   1.253820  0.626910  47.174986  10.265653  32.599326  2.429277  0.142241   \n",
       "116   5.675147  0.782779  95.107632  20.547945  64.383562  3.718200  0.307018   \n",
       "117   2.046036  2.557545  52.173913  15.345269  28.132992  4.092072  0.060241   \n",
       "118   1.645481  1.028426  58.291168   8.309680  45.045045  2.262537  0.099907   \n",
       "119   2.975427  1.539014  74.077874   7.489868  59.867645  2.205920  0.059186   \n",
       "120  12.919897  1.291990  58.139535   6.459948  34.883721  2.583979  0.043011   \n",
       "\n",
       "      CRFANPa    CRFAO1    CRFAOa  ...   WRDPRP1s  WRDPRP2p  WRDPRP2s  \\\n",
       "34   0.101761  0.422297  0.217308  ...   0.000000  0.000000  1.175088   \n",
       "35   0.083645  0.407767  0.303025  ...   0.607349  0.303674  0.607349   \n",
       "36   0.061967  0.530457  0.217439  ...   0.119062  0.000000  1.190618   \n",
       "37   0.056594  0.379310  0.189667  ...   0.000000  0.564573  1.976006   \n",
       "38   0.083596  0.400593  0.163723  ...   2.239114  0.058924  2.062342   \n",
       "39   0.039023  0.420124  0.205745  ...   0.331675  0.165837  0.221117   \n",
       "40   0.023975  0.403712  0.114860  ...   1.521438  0.138313  1.521438   \n",
       "41   0.025698  0.402954  0.111890  ...   1.113448  0.247433  1.237164   \n",
       "42   0.068735  0.374771  0.075031  ...   2.265739  0.161838  0.728273   \n",
       "43   0.039485  0.284916  0.053888  ...   1.358286  0.075460  0.679143   \n",
       "44   0.064767  0.351583  0.068913  ...   1.912859  0.141693  0.637620   \n",
       "45   0.035984  0.364762  0.087273  ...   0.864480  0.000000  1.779812   \n",
       "104  0.145996  0.503311  0.229719  ...   0.072775  0.145550  1.309948   \n",
       "105  0.031667  0.410241  0.072585  ...   1.353582  0.066028  3.070320   \n",
       "106  0.031750  0.459510  0.088821  ...   1.463673  0.031142  2.553642   \n",
       "107  0.039417  0.405219  0.080546  ...   0.670574  0.049672  1.440493   \n",
       "108  0.052067  0.456315  0.103792  ...   0.379075  0.179562  1.715813   \n",
       "109  0.061505  0.464675  0.105224  ...   1.013283  0.110540  2.247646   \n",
       "110  0.057310  0.454329  0.124727  ...   0.312133  0.000000  1.456621   \n",
       "111  0.074643  0.404000  0.125749  ...   0.000000  0.103274  0.103274   \n",
       "112  0.063291  0.533865  0.152446  ...   0.000000  0.221674  0.387930   \n",
       "113  0.039105  0.355556  0.104659  ...   0.034488  0.724238  1.034625   \n",
       "114  0.068246  0.403409  0.134052  ...   1.508946  0.862255  1.724510   \n",
       "115  0.110771  0.564655  0.313302  ...   0.000000  0.000000  0.235091   \n",
       "116  0.274752  0.500000  0.395576  ...   0.782779  0.000000  0.587084   \n",
       "117  0.052783  0.289157  0.158061  ...   0.000000  0.000000  0.000000   \n",
       "118  0.058862  0.418131  0.140941  ...   0.041137  0.740466  1.604344   \n",
       "119  0.037635  0.437731  0.184143  ...   0.000000  0.000000  1.026009   \n",
       "120  0.032716  0.075269  0.056966  ...  10.335917  0.000000  0.000000   \n",
       "\n",
       "      WRDPRP3p   WRDPRP3s     WRDVERB  category  \\\n",
       "34    1.909518   6.609871  103.701528       CTA   \n",
       "35    1.822047   6.680838   75.007592       CTA   \n",
       "36    1.666865   3.690916   95.963805       CTA   \n",
       "37    3.810868   6.633733  112.067749       CTA   \n",
       "38    2.298038   7.247658  112.073537       CTA   \n",
       "39    0.995025   3.980100   95.743505       CTA   \n",
       "40    0.829876   7.883817  118.948824       CTA   \n",
       "41    0.989732   7.546703  117.283187       CTA   \n",
       "42    1.699304  11.652371  143.631656       CTA   \n",
       "43    3.169333  11.696348  131.980078       CTA   \n",
       "44    1.487779  10.839532  128.515763       CTA   \n",
       "45    0.762777   4.881770   99.974574       CTA   \n",
       "104   2.983771   4.366494   81.726221       CTA   \n",
       "105   1.386596   6.338726  101.386596       CTA   \n",
       "106   1.121111   5.792408   91.775404       CTA   \n",
       "107   1.589509   4.371150   83.374727       CTA   \n",
       "108   1.217030   5.945493   93.711344       CTA   \n",
       "109   1.234363   5.895466   92.669356       CTA   \n",
       "110   1.129624   5.930528   90.310498       CTA   \n",
       "111   3.511308   9.191366  100.175565       CTA   \n",
       "112   0.387930   4.710577   82.906149       CTA   \n",
       "113   2.000276   4.000552   75.320734       CTA   \n",
       "114   4.957965   3.880147   85.578789       CTA   \n",
       "115   0.548546   8.306559   85.494867       CTA   \n",
       "116  11.545988  11.741683  111.350294       CTA   \n",
       "117   1.023018   4.603581   75.703325       CTA   \n",
       "118   0.534781   3.373236   74.211197       CTA   \n",
       "119   0.564305   5.540450   87.262094       CTA   \n",
       "120   1.291990  10.335917  188.630491       CTA   \n",
       "\n",
       "                                              filename  grade     id  \n",
       "34            ahorro-energia-eficiente-tecnologias.txt    1.0   35.0  \n",
       "35    amigos-amigas-energia-3-4-cartilla-actividad.txt    1.0   36.0  \n",
       "36      amigos-amigas-energia-3-4-cuaderno-trabajo.txt    1.0   37.0  \n",
       "37                            areas-verdes-escuela.txt    1.0   38.0  \n",
       "38                                cambio-climatico.txt    1.0   39.0  \n",
       "39                         energizate-planes-clase.txt    1.0   40.0  \n",
       "40               guia_espacio_vida_estudiantes_iii.txt    1.0   41.0  \n",
       "41                guia_espacio_vida_estudiantes_iv.txt    1.0   42.0  \n",
       "42               mi-cuaderno-autoaprendizaje-cya-1.txt    1.0   43.0  \n",
       "43               mi-cuaderno-autoaprendizaje-cya-2.txt    1.0   44.0  \n",
       "44               mi-cuaderno-autoaprendizaje-cya-3.txt    1.0   45.0  \n",
       "45                 proyecto-de-aprendizaje-inicial.txt    1.0   46.0  \n",
       "104                                     agua_suelo.txt    2.0  105.0  \n",
       "105  ambiente-salud-unidad-2-portafolio-3-avanzado.txt    2.0  106.0  \n",
       "106  ambiente-salud-unidad-2-portafolio-4-avanzado.txt    2.0  107.0  \n",
       "107       ambiente-salud-unidad-2-texto-1-avanzado.txt    2.0  108.0  \n",
       "108                ambiente-salud-unidad-2-texto-2.txt    2.0  109.0  \n",
       "109       ambiente-salud-unidad-2-texto-3-avanzado.txt    2.0  110.0  \n",
       "110       ambiente-salud-unidad-2-texto-4-avanzado.txt    2.0  111.0  \n",
       "111                                       biologia.txt    2.0  112.0  \n",
       "112                     conciencia-ambiental-globe.txt    2.0  113.0  \n",
       "113                             espacios-vida-esvi.txt    2.0  114.0  \n",
       "114                                extranos_mundos.txt    2.0  115.0  \n",
       "115                                         fisica.txt    2.0  116.0  \n",
       "116                         fragmentos_nuevo_mundo.txt    2.0  117.0  \n",
       "117                           guiso_fantasmagorico.txt    2.0  118.0  \n",
       "118                  manejo-residuos-solidos-mares.txt    2.0  119.0  \n",
       "119  promoviendo-estilos-vida-alimentacion-saludabl...    2.0  120.0  \n",
       "120                                    vih_sida_es.txt    2.0  121.0  \n",
       "\n",
       "[29 rows x 52 columns]"
      ]
     },
     "execution_count": 2,
     "metadata": {},
     "output_type": "execute_result"
    }
   ],
   "source": [
    "OT_DA = ObtainedTextDA()\n",
    "TEXTS = OT_DA.select_all_as_dataframe()\n",
    "TEXTS = TEXTS[TEXTS['category'] == 'CTA'].drop(columns=['cluster_grade'])\n",
    "TEST_SIZE = 0.2\n",
    "DATA_COLUMNS = [c for c in TEXTS.columns if c not in ['category', 'filename', 'grade', 'id']]\n",
    "TEXTS"
   ]
  },
  {
   "cell_type": "markdown",
   "metadata": {},
   "source": [
    "# Todas las categorias"
   ]
  },
  {
   "cell_type": "markdown",
   "metadata": {},
   "source": [
    "## Preprocesando los datos"
   ]
  },
  {
   "cell_type": "code",
   "execution_count": 3,
   "metadata": {},
   "outputs": [
    {
     "data": {
      "text/plain": [
       "((23, 48), (6, 48), (23,), (6,))"
      ]
     },
     "execution_count": 3,
     "metadata": {},
     "output_type": "execute_result"
    }
   ],
   "source": [
    "X, y = drop_dataset_unnecessary_columns(TEXTS, ['filename', 'category', 'grade', 'id'], 'grade')\n",
    "X[DATA_COLUMNS] = MinMaxScaler().fit_transform(X[DATA_COLUMNS])\n",
    "X_train, X_test, y_train, y_test = train_test_split(X, y, random_state=43, test_size=TEST_SIZE, stratify=y)\n",
    "X_train.shape, X_test.shape, y_train.shape, y_test.shape"
   ]
  },
  {
   "cell_type": "markdown",
   "metadata": {},
   "source": [
    "## Entrenando los modelos"
   ]
  },
  {
   "cell_type": "code",
   "execution_count": 4,
   "metadata": {},
   "outputs": [],
   "source": [
    "results = pd.DataFrame()"
   ]
  },
  {
   "cell_type": "markdown",
   "metadata": {},
   "source": [
    "### Regresión Logística"
   ]
  },
  {
   "cell_type": "code",
   "execution_count": 5,
   "metadata": {},
   "outputs": [
    {
     "name": "stdout",
     "output_type": "stream",
     "text": [
      "Fitting 5 folds for each of 450 candidates, totalling 2250 fits\n"
     ]
    },
    {
     "name": "stderr",
     "output_type": "stream",
     "text": [
      "[Parallel(n_jobs=-1)]: Using backend LokyBackend with 8 concurrent workers.\n",
      "[Parallel(n_jobs=-1)]: Done  34 tasks      | elapsed:    1.3s\n",
      "[Parallel(n_jobs=-1)]: Done 976 tasks      | elapsed:    4.3s\n"
     ]
    },
    {
     "name": "stdout",
     "output_type": "stream",
     "text": [
      "[LibLinear]"
     ]
    },
    {
     "name": "stderr",
     "output_type": "stream",
     "text": [
      "[Parallel(n_jobs=-1)]: Done 2250 out of 2250 | elapsed:    8.6s finished\n"
     ]
    },
    {
     "data": {
      "text/plain": [
       "{'C': 1, 'max_iter': 100, 'random_state': 43, 'solver': 'liblinear', 'tol': 1}"
      ]
     },
     "execution_count": 5,
     "metadata": {},
     "output_type": "execute_result"
    }
   ],
   "source": [
    "lr_gs = GridSearchCV(LogisticRegression(verbose=1), param_grid = {\n",
    "    'C': [0.001, 0.01, 0.1, 1, 10],\n",
    "    'tol': [0.00001, 0.0001, 0.001, 0.01, 0.1, 1],\n",
    "    'solver': ['newton-cg', 'lbfgs', 'liblinear', 'sag', 'saga'],\n",
    "    'max_iter': [100, 1000, 10000],\n",
    "    'random_state': [43]\n",
    "}, scoring = {\n",
    "    'Recall': make_scorer(recall_score),\n",
    "    'Accuracy': make_scorer(accuracy_score),\n",
    "    'f1': make_scorer(f1_score),\n",
    "    'Precision': make_scorer(precision_score)\n",
    "}, refit='f1', n_jobs=-1, verbose=1)\n",
    "lr_gs.fit(X_train, y_train)\n",
    "lr_gs.best_params_"
   ]
  },
  {
   "cell_type": "code",
   "execution_count": 6,
   "metadata": {
    "scrolled": false
   },
   "outputs": [
    {
     "name": "stdout",
     "output_type": "stream",
     "text": [
      "The accuracy score is: 0.5\n",
      "The precision score is: 0.0\n",
      "The recall score is: 0.0\n",
      "The F1 score is: 0.0\n"
     ]
    }
   ],
   "source": [
    "results, y_pred = train_test_model(model=LogisticRegression,\n",
    "                                   model_name='Logistic Regression',\n",
    "                                   params=lr_gs.best_params_,\n",
    "                                   X_train=X_train,\n",
    "                                   y_train=y_train,\n",
    "                                   X_test=X_test,\n",
    "                                   y_test=y_test,\n",
    "                                   results=results)"
   ]
  },
  {
   "cell_type": "markdown",
   "metadata": {},
   "source": [
    "#### Matriz de confusión"
   ]
  },
  {
   "cell_type": "code",
   "execution_count": 7,
   "metadata": {},
   "outputs": [
    {
     "data": {
      "text/plain": [
       "<AxesSubplot:title={'center':'Confusion Matrix'}, xlabel='Predicted label', ylabel='True label'>"
      ]
     },
     "execution_count": 7,
     "metadata": {},
     "output_type": "execute_result"
    },
    {
     "data": {
      "image/png": "[encoded data removed]",
      "text/plain": [
       "<Figure size 432x288 with 2 Axes>"
      ]
     },
     "metadata": {
      "needs_background": "light"
     },
     "output_type": "display_data"
    }
   ],
   "source": [
    "plot_confusion_matrix(y_test, y_pred)"
   ]
  },
  {
   "cell_type": "markdown",
   "metadata": {},
   "source": [
    "### Máquina de soporte de vectores"
   ]
  },
  {
   "cell_type": "code",
   "execution_count": 8,
   "metadata": {},
   "outputs": [
    {
     "name": "stdout",
     "output_type": "stream",
     "text": [
      "Fitting 5 folds for each of 240 candidates, totalling 1200 fits\n"
     ]
    },
    {
     "name": "stderr",
     "output_type": "stream",
     "text": [
      "[Parallel(n_jobs=-1)]: Using backend LokyBackend with 8 concurrent workers.\n",
      "[Parallel(n_jobs=-1)]: Done  56 tasks      | elapsed:    0.2s\n"
     ]
    },
    {
     "name": "stdout",
     "output_type": "stream",
     "text": [
      "[LibSVM]"
     ]
    },
    {
     "name": "stderr",
     "output_type": "stream",
     "text": [
      "[Parallel(n_jobs=-1)]: Done 1200 out of 1200 | elapsed:    2.7s finished\n"
     ]
    },
    {
     "data": {
      "text/plain": [
       "{'C': 10,\n",
       " 'gamma': 'auto',\n",
       " 'kernel': 'rbf',\n",
       " 'probability': True,\n",
       " 'random_state': 43,\n",
       " 'tol': 0.1}"
      ]
     },
     "execution_count": 8,
     "metadata": {},
     "output_type": "execute_result"
    }
   ],
   "source": [
    "svm_gs = GridSearchCV(SVC(verbose=1), param_grid = {\n",
    "    'C': [0.001, 0.01, 0.1, 1, 10],\n",
    "    'tol': [0.00001, 0.0001, 0.001, 0.01, 0.1, 1],\n",
    "    'kernel': ['linear', 'poly', 'rbf', 'sigmoid'],\n",
    "    'gamma': ['scale', 'auto'],\n",
    "    'random_state': [43],\n",
    "    'probability': [True]\n",
    "}, scoring = {\n",
    "    'Recall': make_scorer(recall_score),\n",
    "    'Accuracy': make_scorer(accuracy_score),\n",
    "    'f1': make_scorer(f1_score),\n",
    "    'Precision': make_scorer(precision_score)\n",
    "}, refit='f1', n_jobs=-1, verbose=1)\n",
    "svm_gs.fit(X_train, y_train)\n",
    "svm_gs.best_params_"
   ]
  },
  {
   "cell_type": "code",
   "execution_count": 9,
   "metadata": {},
   "outputs": [
    {
     "name": "stdout",
     "output_type": "stream",
     "text": [
      "The accuracy score is: 0.3333333333333333\n",
      "The precision score is: 0.0\n",
      "The recall score is: 0.0\n",
      "The F1 score is: 0.0\n"
     ]
    }
   ],
   "source": [
    "results, y_pred = train_test_model(model=SVC,\n",
    "                           model_name='Support Vector Machine',\n",
    "                           params=svm_gs.best_params_,\n",
    "                           X_train=X_train,\n",
    "                           y_train=y_train,\n",
    "                           X_test=X_test,\n",
    "                           y_test=y_test,\n",
    "                           results=results)"
   ]
  },
  {
   "cell_type": "markdown",
   "metadata": {},
   "source": [
    "#### Matriz de confusión"
   ]
  },
  {
   "cell_type": "code",
   "execution_count": 10,
   "metadata": {
    "scrolled": false
   },
   "outputs": [
    {
     "data": {
      "text/plain": [
       "<AxesSubplot:title={'center':'Confusion Matrix'}, xlabel='Predicted label', ylabel='True label'>"
      ]
     },
     "execution_count": 10,
     "metadata": {},
     "output_type": "execute_result"
    },
    {
     "data": {
      "image/png": "[encoded data removed]",
      "text/plain": [
       "<Figure size 432x288 with 2 Axes>"
      ]
     },
     "metadata": {
      "needs_background": "light"
     },
     "output_type": "display_data"
    }
   ],
   "source": [
    "plot_confusion_matrix(y_test, y_pred)"
   ]
  },
  {
   "cell_type": "markdown",
   "metadata": {},
   "source": [
    "### Árbol de decisión"
   ]
  },
  {
   "cell_type": "code",
   "execution_count": 11,
   "metadata": {},
   "outputs": [
    {
     "name": "stdout",
     "output_type": "stream",
     "text": [
      "Fitting 5 folds for each of 176 candidates, totalling 880 fits\n"
     ]
    },
    {
     "name": "stderr",
     "output_type": "stream",
     "text": [
      "[Parallel(n_jobs=-1)]: Using backend LokyBackend with 8 concurrent workers.\n",
      "[Parallel(n_jobs=-1)]: Done  56 tasks      | elapsed:    0.3s\n",
      "[Parallel(n_jobs=-1)]: Done 880 out of 880 | elapsed:    1.7s finished\n"
     ]
    },
    {
     "data": {
      "text/plain": [
       "{'criterion': 'gini',\n",
       " 'max_depth': 2,\n",
       " 'max_features': None,\n",
       " 'random_state': 43,\n",
       " 'splitter': 'random'}"
      ]
     },
     "execution_count": 11,
     "metadata": {},
     "output_type": "execute_result"
    }
   ],
   "source": [
    "dtc_gs = GridSearchCV(DecisionTreeClassifier(), param_grid = {\n",
    "    'criterion': ['gini', 'entropy'],\n",
    "    'splitter': ['best', 'random'],\n",
    "    'max_depth': [1, 2, 3, 4, 5, 6 ,7 ,8, 9, 10, None],\n",
    "    'max_features': ['auto', 'sqrt', 'log2', None],\n",
    "    'random_state': [43]\n",
    "}, scoring = {\n",
    "    'Recall': make_scorer(recall_score),\n",
    "    'Accuracy': make_scorer(accuracy_score),\n",
    "    'f1': make_scorer(f1_score),\n",
    "    'Precision': make_scorer(precision_score)\n",
    "}, refit='f1', n_jobs=-1, verbose=1)\n",
    "dtc_gs.fit(X_train, y_train)\n",
    "dtc_gs.best_params_"
   ]
  },
  {
   "cell_type": "code",
   "execution_count": 12,
   "metadata": {},
   "outputs": [
    {
     "name": "stdout",
     "output_type": "stream",
     "text": [
      "The accuracy score is: 0.5\n",
      "The precision score is: 0.0\n",
      "The recall score is: 0.0\n",
      "The F1 score is: 0.0\n"
     ]
    }
   ],
   "source": [
    "results, y_pred = train_test_model(model=DecisionTreeClassifier,\n",
    "                           model_name='Decision Tree',\n",
    "                           params=dtc_gs.best_params_,\n",
    "                           X_train=X_train,\n",
    "                           y_train=y_train,\n",
    "                           X_test=X_test,\n",
    "                           y_test=y_test,\n",
    "                           results=results)"
   ]
  },
  {
   "cell_type": "markdown",
   "metadata": {},
   "source": [
    "#### Matriz de confusión"
   ]
  },
  {
   "cell_type": "code",
   "execution_count": 13,
   "metadata": {
    "scrolled": false
   },
   "outputs": [
    {
     "data": {
      "text/plain": [
       "<AxesSubplot:title={'center':'Confusion Matrix'}, xlabel='Predicted label', ylabel='True label'>"
      ]
     },
     "execution_count": 13,
     "metadata": {},
     "output_type": "execute_result"
    },
    {
     "data": {
      "image/png": "[encoded data removed]",
      "text/plain": [
       "<Figure size 432x288 with 2 Axes>"
      ]
     },
     "metadata": {
      "needs_background": "light"
     },
     "output_type": "display_data"
    }
   ],
   "source": [
    "plot_confusion_matrix(y_test, y_pred)"
   ]
  },
  {
   "cell_type": "markdown",
   "metadata": {},
   "source": [
    "### Bosque aleatorio"
   ]
  },
  {
   "cell_type": "code",
   "execution_count": 14,
   "metadata": {},
   "outputs": [
    {
     "name": "stdout",
     "output_type": "stream",
     "text": [
      "Fitting 5 folds for each of 352 candidates, totalling 1760 fits\n"
     ]
    },
    {
     "name": "stderr",
     "output_type": "stream",
     "text": [
      "[Parallel(n_jobs=-1)]: Using backend LokyBackend with 8 concurrent workers.\n",
      "[Parallel(n_jobs=-1)]: Done  52 tasks      | elapsed:    2.4s\n",
      "[Parallel(n_jobs=-1)]: Done 352 tasks      | elapsed:   15.5s\n",
      "[Parallel(n_jobs=-1)]: Done 852 tasks      | elapsed:   37.2s\n",
      "[Parallel(n_jobs=-1)]: Done 1552 tasks      | elapsed:  1.1min\n",
      "[Parallel(n_jobs=-1)]: Done 1760 out of 1760 | elapsed:  1.3min finished\n"
     ]
    },
    {
     "data": {
      "text/plain": [
       "{'criterion': 'gini',\n",
       " 'max_depth': 2,\n",
       " 'max_features': 'log2',\n",
       " 'n_estimators': 100,\n",
       " 'random_state': 43}"
      ]
     },
     "execution_count": 14,
     "metadata": {},
     "output_type": "execute_result"
    }
   ],
   "source": [
    "rfc_gs = GridSearchCV(RandomForestClassifier(), param_grid = {\n",
    "    'criterion': ['gini', 'entropy'],\n",
    "    'n_estimators': [50, 100, 200, 400],\n",
    "    'max_depth': [1, 2, 3, 4, 5, 6 ,7 ,8, 9, 10, None],\n",
    "    'max_features': ['auto', 'sqrt', 'log2', None],\n",
    "    'random_state': [43]\n",
    "}, scoring = {\n",
    "    'Recall': make_scorer(recall_score),\n",
    "    'Accuracy': make_scorer(accuracy_score),\n",
    "    'f1': make_scorer(f1_score),\n",
    "    'Precision': make_scorer(precision_score)\n",
    "}, refit='f1', n_jobs=-1, verbose=1)\n",
    "rfc_gs.fit(X_train, y_train)\n",
    "rfc_gs.best_params_"
   ]
  },
  {
   "cell_type": "code",
   "execution_count": 15,
   "metadata": {},
   "outputs": [
    {
     "name": "stdout",
     "output_type": "stream",
     "text": [
      "The accuracy score is: 0.5\n",
      "The precision score is: 0.0\n",
      "The recall score is: 0.0\n",
      "The F1 score is: 0.0\n"
     ]
    }
   ],
   "source": [
    "results, y_pred = train_test_model(model=RandomForestClassifier,\n",
    "                           model_name='Random Forest',\n",
    "                           params=rfc_gs.best_params_,\n",
    "                           X_train=X_train,\n",
    "                           y_train=y_train,\n",
    "                           X_test=X_test,\n",
    "                           y_test=y_test,\n",
    "                           results=results)"
   ]
  },
  {
   "cell_type": "markdown",
   "metadata": {},
   "source": [
    "#### Matriz de confusión"
   ]
  },
  {
   "cell_type": "code",
   "execution_count": 16,
   "metadata": {
    "scrolled": true
   },
   "outputs": [
    {
     "data": {
      "text/plain": [
       "<AxesSubplot:title={'center':'Confusion Matrix'}, xlabel='Predicted label', ylabel='True label'>"
      ]
     },
     "execution_count": 16,
     "metadata": {},
     "output_type": "execute_result"
    },
    {
     "data": {
      "image/png": "[encoded data removed]",
      "text/plain": [
       "<Figure size 432x288 with 2 Axes>"
      ]
     },
     "metadata": {
      "needs_background": "light"
     },
     "output_type": "display_data"
    }
   ],
   "source": [
    "plot_confusion_matrix(y_test, y_pred)"
   ]
  },
  {
   "cell_type": "markdown",
   "metadata": {},
   "source": [
    "### K Nearest Neighbors"
   ]
  },
  {
   "cell_type": "code",
   "execution_count": 17,
   "metadata": {},
   "outputs": [
    {
     "name": "stdout",
     "output_type": "stream",
     "text": [
      "Fitting 5 folds for each of 160 candidates, totalling 800 fits\n"
     ]
    },
    {
     "name": "stderr",
     "output_type": "stream",
     "text": [
      "[Parallel(n_jobs=-1)]: Using backend LokyBackend with 8 concurrent workers.\n",
      "[Parallel(n_jobs=-1)]: Done  56 tasks      | elapsed:    0.2s\n",
      "[Parallel(n_jobs=-1)]: Done 800 out of 800 | elapsed:    1.3s finished\n"
     ]
    },
    {
     "data": {
      "text/plain": [
       "{'algorithm': 'auto', 'n_neighbors': 7, 'p': 2, 'weights': 'uniform'}"
      ]
     },
     "execution_count": 17,
     "metadata": {},
     "output_type": "execute_result"
    }
   ],
   "source": [
    "knn_gs = GridSearchCV(KNeighborsClassifier(), param_grid = {\n",
    "    'n_neighbors': range(1, 11),\n",
    "    'weights': ['uniform', 'distance'],\n",
    "    'algorithm': ['auto', 'ball_tree', 'kd_tree', 'brute'],\n",
    "    'p': [1, 2]\n",
    "}, scoring = {\n",
    "    'Recall': make_scorer(recall_score),\n",
    "    'Accuracy': make_scorer(accuracy_score),\n",
    "    'f1': make_scorer(f1_score),\n",
    "    'Precision': make_scorer(precision_score)\n",
    "}, refit='f1', n_jobs=-1, verbose=1)\n",
    "knn_gs.fit(X_train, y_train)\n",
    "knn_gs.best_params_"
   ]
  },
  {
   "cell_type": "code",
   "execution_count": 18,
   "metadata": {},
   "outputs": [
    {
     "name": "stdout",
     "output_type": "stream",
     "text": [
      "The accuracy score is: 0.5\n",
      "The precision score is: 0.3333333333333333\n",
      "The recall score is: 0.5\n",
      "The F1 score is: 0.4\n"
     ]
    }
   ],
   "source": [
    "results, y_pred = train_test_model(model=KNeighborsClassifier,\n",
    "                           model_name='K Nearest Neighbors',\n",
    "                           params=knn_gs.best_params_,\n",
    "                           X_train=X_train,\n",
    "                           y_train=y_train,\n",
    "                           X_test=X_test,\n",
    "                           y_test=y_test,\n",
    "                           results=results)"
   ]
  },
  {
   "cell_type": "markdown",
   "metadata": {},
   "source": [
    "#### Matriz de confusión"
   ]
  },
  {
   "cell_type": "code",
   "execution_count": 19,
   "metadata": {
    "scrolled": false
   },
   "outputs": [
    {
     "data": {
      "text/plain": [
       "<AxesSubplot:title={'center':'Confusion Matrix'}, xlabel='Predicted label', ylabel='True label'>"
      ]
     },
     "execution_count": 19,
     "metadata": {},
     "output_type": "execute_result"
    },
    {
     "data": {
      "image/png": "[encoded data removed]",
      "text/plain": [
       "<Figure size 432x288 with 2 Axes>"
      ]
     },
     "metadata": {
      "needs_background": "light"
     },
     "output_type": "display_data"
    }
   ],
   "source": [
    "plot_confusion_matrix(y_test, y_pred)"
   ]
  },
  {
   "cell_type": "markdown",
   "metadata": {},
   "source": [
    "### Perceptron"
   ]
  },
  {
   "cell_type": "code",
   "execution_count": 20,
   "metadata": {},
   "outputs": [
    {
     "name": "stdout",
     "output_type": "stream",
     "text": [
      "Fitting 5 folds for each of 450 candidates, totalling 2250 fits\n"
     ]
    },
    {
     "name": "stderr",
     "output_type": "stream",
     "text": [
      "[Parallel(n_jobs=-1)]: Using backend LokyBackend with 8 concurrent workers.\n",
      "[Parallel(n_jobs=-1)]: Done  56 tasks      | elapsed:    0.2s\n",
      "[Parallel(n_jobs=-1)]: Done 2100 tasks      | elapsed:    4.3s\n",
      "[Parallel(n_jobs=-1)]: Done 2250 out of 2250 | elapsed:    4.6s finished\n"
     ]
    },
    {
     "data": {
      "text/plain": [
       "{'alpha': 0.01,\n",
       " 'early_stopping': False,\n",
       " 'max_iter': 100,\n",
       " 'penalty': 'l2',\n",
       " 'tol': 0.1}"
      ]
     },
     "execution_count": 20,
     "metadata": {},
     "output_type": "execute_result"
    }
   ],
   "source": [
    "p_gs = GridSearchCV(Perceptron(), param_grid = {\n",
    "    'penalty': ['l2', 'l1', 'elasticnet'],\n",
    "    'alpha': [1, 0.1, 0.01, 0.001, 0.0001],\n",
    "    'max_iter': [100, 1000, 10000],\n",
    "    'tol': [1, 0.1, 0.01, 0.001, 0.0001],\n",
    "    'early_stopping': [False, True]\n",
    "}, scoring = {\n",
    "    'Recall': make_scorer(recall_score),\n",
    "    'Accuracy': make_scorer(accuracy_score),\n",
    "    'f1': make_scorer(f1_score),\n",
    "    'Precision': make_scorer(precision_score)\n",
    "}, refit='f1', n_jobs=-1, verbose=1)\n",
    "p_gs.fit(X_train, y_train)\n",
    "p_gs.best_params_"
   ]
  },
  {
   "cell_type": "code",
   "execution_count": 21,
   "metadata": {},
   "outputs": [
    {
     "name": "stdout",
     "output_type": "stream",
     "text": [
      "The accuracy score is: 0.5\n",
      "The precision score is: 0.0\n",
      "The recall score is: 0.0\n",
      "The F1 score is: 0.0\n"
     ]
    }
   ],
   "source": [
    "results, y_pred = train_test_model(model=Perceptron,\n",
    "                           model_name='Perceptron',\n",
    "                           params=p_gs.best_params_,\n",
    "                           X_train=X_train,\n",
    "                           y_train=y_train,\n",
    "                           X_test=X_test,\n",
    "                           y_test=y_test,\n",
    "                           results=results)"
   ]
  },
  {
   "cell_type": "markdown",
   "metadata": {},
   "source": [
    "#### Matriz de confusión"
   ]
  },
  {
   "cell_type": "code",
   "execution_count": 22,
   "metadata": {
    "scrolled": true
   },
   "outputs": [
    {
     "data": {
      "text/plain": [
       "<AxesSubplot:title={'center':'Confusion Matrix'}, xlabel='Predicted label', ylabel='True label'>"
      ]
     },
     "execution_count": 22,
     "metadata": {},
     "output_type": "execute_result"
    },
    {
     "data": {
      "image/png": "[encoded data removed]",
      "text/plain": [
       "<Figure size 432x288 with 2 Axes>"
      ]
     },
     "metadata": {
      "needs_background": "light"
     },
     "output_type": "display_data"
    }
   ],
   "source": [
    "plot_confusion_matrix(y_test, y_pred)"
   ]
  },
  {
   "cell_type": "markdown",
   "metadata": {},
   "source": [
    "### Ada Boost"
   ]
  },
  {
   "cell_type": "code",
   "execution_count": 23,
   "metadata": {},
   "outputs": [
    {
     "name": "stdout",
     "output_type": "stream",
     "text": [
      "Fitting 5 folds for each of 40 candidates, totalling 200 fits\n"
     ]
    },
    {
     "name": "stderr",
     "output_type": "stream",
     "text": [
      "[Parallel(n_jobs=-1)]: Using backend LokyBackend with 8 concurrent workers.\n",
      "[Parallel(n_jobs=-1)]: Done  52 tasks      | elapsed:    2.3s\n",
      "[Parallel(n_jobs=-1)]: Done 185 out of 200 | elapsed:    8.2s remaining:    0.7s\n",
      "[Parallel(n_jobs=-1)]: Done 200 out of 200 | elapsed:    9.1s finished\n"
     ]
    },
    {
     "data": {
      "text/plain": [
       "{'algorithm': 'SAMME',\n",
       " 'learning_rate': 1,\n",
       " 'n_estimators': 100,\n",
       " 'random_state': 43}"
      ]
     },
     "execution_count": 23,
     "metadata": {},
     "output_type": "execute_result"
    }
   ],
   "source": [
    "ab_gs = GridSearchCV(AdaBoostClassifier(), param_grid = {\n",
    "    'learning_rate': [1, 0.1, 0.01, 0.001, 0.0001],\n",
    "    'n_estimators': [50, 100, 200, 400],\n",
    "    'algorithm': ['SAMME', 'SAMME.R'],\n",
    "    'random_state': [43]\n",
    "}, scoring = {\n",
    "    'Recall': make_scorer(recall_score),\n",
    "    'Accuracy': make_scorer(accuracy_score),\n",
    "    'f1': make_scorer(f1_score),\n",
    "    'Precision': make_scorer(precision_score)\n",
    "}, refit='f1', n_jobs=-1, verbose=1)\n",
    "ab_gs.fit(X_train, y_train)\n",
    "ab_gs.best_params_"
   ]
  },
  {
   "cell_type": "code",
   "execution_count": 24,
   "metadata": {
    "scrolled": true
   },
   "outputs": [
    {
     "name": "stdout",
     "output_type": "stream",
     "text": [
      "The accuracy score is: 0.3333333333333333\n",
      "The precision score is: 0.0\n",
      "The recall score is: 0.0\n",
      "The F1 score is: 0.0\n"
     ]
    }
   ],
   "source": [
    "results, y_pred = train_test_model(model=AdaBoostClassifier,\n",
    "                           model_name='Ada Boost',\n",
    "                           params=ab_gs.best_params_,\n",
    "                           X_train=X_train,\n",
    "                           y_train=y_train,\n",
    "                           X_test=X_test,\n",
    "                           y_test=y_test,\n",
    "                           results=results)"
   ]
  },
  {
   "cell_type": "markdown",
   "metadata": {},
   "source": [
    "#### Matriz de confusión"
   ]
  },
  {
   "cell_type": "code",
   "execution_count": 25,
   "metadata": {
    "scrolled": false
   },
   "outputs": [
    {
     "data": {
      "text/plain": [
       "<AxesSubplot:title={'center':'Confusion Matrix'}, xlabel='Predicted label', ylabel='True label'>"
      ]
     },
     "execution_count": 25,
     "metadata": {},
     "output_type": "execute_result"
    },
    {
     "data": {
      "image/png": "[encoded data removed]",
      "text/plain": [
       "<Figure size 432x288 with 2 Axes>"
      ]
     },
     "metadata": {
      "needs_background": "light"
     },
     "output_type": "display_data"
    }
   ],
   "source": [
    "plot_confusion_matrix(y_test, y_pred)"
   ]
  },
  {
   "cell_type": "markdown",
   "metadata": {},
   "source": [
    "### Gradient Boosting"
   ]
  },
  {
   "cell_type": "code",
   "execution_count": 26,
   "metadata": {},
   "outputs": [
    {
     "name": "stdout",
     "output_type": "stream",
     "text": [
      "Fitting 5 folds for each of 3600 candidates, totalling 18000 fits\n"
     ]
    },
    {
     "name": "stderr",
     "output_type": "stream",
     "text": [
      "[Parallel(n_jobs=-1)]: Using backend LokyBackend with 8 concurrent workers.\n",
      "[Parallel(n_jobs=-1)]: Done  56 tasks      | elapsed:    0.8s\n",
      "[Parallel(n_jobs=-1)]: Done 656 tasks      | elapsed:   10.0s\n",
      "[Parallel(n_jobs=-1)]: Done 1656 tasks      | elapsed:   26.8s\n",
      "[Parallel(n_jobs=-1)]: Done 3056 tasks      | elapsed:   50.4s\n",
      "[Parallel(n_jobs=-1)]: Done 4856 tasks      | elapsed:  1.4min\n",
      "[Parallel(n_jobs=-1)]: Done 7056 tasks      | elapsed:  2.1min\n",
      "[Parallel(n_jobs=-1)]: Done 9656 tasks      | elapsed:  2.8min\n",
      "[Parallel(n_jobs=-1)]: Done 12656 tasks      | elapsed:  3.8min\n",
      "[Parallel(n_jobs=-1)]: Done 15186 tasks      | elapsed:  4.8min\n",
      "[Parallel(n_jobs=-1)]: Done 16136 tasks      | elapsed:  5.2min\n",
      "[Parallel(n_jobs=-1)]: Done 17186 tasks      | elapsed:  5.7min\n",
      "[Parallel(n_jobs=-1)]: Done 18000 out of 18000 | elapsed:  6.0min finished\n"
     ]
    },
    {
     "data": {
      "text/plain": [
       "{'criterion': 'friedman_mse',\n",
       " 'learning_rate': 1,\n",
       " 'loss': 'deviance',\n",
       " 'max_depth': 2,\n",
       " 'max_features': 'log2',\n",
       " 'n_estimators': 200,\n",
       " 'random_state': 43}"
      ]
     },
     "execution_count": 26,
     "metadata": {},
     "output_type": "execute_result"
    }
   ],
   "source": [
    "gb_gs = GridSearchCV(GradientBoostingClassifier(), param_grid = {\n",
    "    'learning_rate': [1, 0.1, 0.01, 0.001, 0.0001],\n",
    "    'n_estimators': [50, 100, 200, 400],\n",
    "    'loss': ['deviance', 'exponential'],\n",
    "    'criterion': ['friedman_mse', 'mse', 'mae'],\n",
    "    'max_depth': range(1, 11),\n",
    "    'max_features': ['auto', 'sqrt', 'log2'],\n",
    "    'random_state': [43]\n",
    "}, scoring = {\n",
    "    'Recall': make_scorer(recall_score),\n",
    "    'Accuracy': make_scorer(accuracy_score),\n",
    "    'f1': make_scorer(f1_score),\n",
    "    'Precision': make_scorer(precision_score)\n",
    "}, refit='f1', n_jobs=-1, verbose=1)\n",
    "gb_gs.fit(X_train, y_train)\n",
    "gb_gs.best_params_"
   ]
  },
  {
   "cell_type": "code",
   "execution_count": 27,
   "metadata": {
    "scrolled": true
   },
   "outputs": [
    {
     "name": "stdout",
     "output_type": "stream",
     "text": [
      "The accuracy score is: 0.5\n",
      "The precision score is: 0.3333333333333333\n",
      "The recall score is: 0.5\n",
      "The F1 score is: 0.4\n"
     ]
    }
   ],
   "source": [
    "results, y_pred = train_test_model(model=GradientBoostingClassifier,\n",
    "                                   model_name='Gradient Boosting',\n",
    "                                   params=gb_gs.best_params_,\n",
    "                                   X_train=X_train,\n",
    "                                   y_train=y_train,\n",
    "                                   X_test=X_test,\n",
    "                                   y_test=y_test,\n",
    "                                   results=results)"
   ]
  },
  {
   "cell_type": "markdown",
   "metadata": {},
   "source": [
    "#### Matriz de confusión"
   ]
  },
  {
   "cell_type": "code",
   "execution_count": 28,
   "metadata": {
    "scrolled": true
   },
   "outputs": [
    {
     "data": {
      "text/plain": [
       "<AxesSubplot:title={'center':'Confusion Matrix'}, xlabel='Predicted label', ylabel='True label'>"
      ]
     },
     "execution_count": 28,
     "metadata": {},
     "output_type": "execute_result"
    },
    {
     "data": {
      "image/png": "[encoded data removed]",
      "text/plain": [
       "<Figure size 432x288 with 2 Axes>"
      ]
     },
     "metadata": {
      "needs_background": "light"
     },
     "output_type": "display_data"
    }
   ],
   "source": [
    "plot_confusion_matrix(y_test, y_pred)"
   ]
  },
  {
   "cell_type": "markdown",
   "metadata": {},
   "source": [
    "### Voting"
   ]
  },
  {
   "cell_type": "code",
   "execution_count": 29,
   "metadata": {},
   "outputs": [
    {
     "name": "stdout",
     "output_type": "stream",
     "text": [
      "Fitting 5 folds for each of 4 candidates, totalling 20 fits\n"
     ]
    },
    {
     "name": "stderr",
     "output_type": "stream",
     "text": [
      "[Parallel(n_jobs=-1)]: Using backend LokyBackend with 8 concurrent workers.\n",
      "[Parallel(n_jobs=-1)]: Done  20 out of  20 | elapsed:    1.4s finished\n"
     ]
    },
    {
     "data": {
      "text/plain": [
       "{'flatten_transform': True, 'voting': 'soft'}"
      ]
     },
     "execution_count": 29,
     "metadata": {},
     "output_type": "execute_result"
    }
   ],
   "source": [
    "v_gs = GridSearchCV(VotingClassifier(estimators=[\n",
    "    ('lr', LogisticRegression(**lr_gs.best_params_)),\n",
    "    ('svm', SVC(**svm_gs.best_params_)),\n",
    "    ('dt', DecisionTreeClassifier(**dtc_gs.best_params_)),\n",
    "    ('rf', RandomForestClassifier(**rfc_gs.best_params_)),\n",
    "    ('knn', KNeighborsClassifier(**knn_gs.best_params_)),\n",
    "    ('ab', AdaBoostClassifier(**ab_gs.best_params_)),\n",
    "    ('gb', GradientBoostingClassifier(**gb_gs.best_params_))\n",
    "]), param_grid = {\n",
    "    'voting': ['soft', 'hard'],\n",
    "    'flatten_transform': [True, False]\n",
    "}, scoring = {\n",
    "    'Recall': make_scorer(recall_score),\n",
    "    'Accuracy': make_scorer(accuracy_score),\n",
    "    'f1': make_scorer(f1_score),\n",
    "    'Precision': make_scorer(precision_score)\n",
    "}, refit='f1', n_jobs=-1, verbose=1)\n",
    "v_gs.fit(X_train, y_train)\n",
    "v_gs.best_params_"
   ]
  },
  {
   "cell_type": "code",
   "execution_count": 30,
   "metadata": {
    "scrolled": false
   },
   "outputs": [
    {
     "name": "stdout",
     "output_type": "stream",
     "text": [
      "The accuracy score is: 0.3333333333333333\n",
      "The precision score is: 0.0\n",
      "The recall score is: 0.0\n",
      "The F1 score is: 0.0\n"
     ]
    }
   ],
   "source": [
    "results, y_pred = train_test_model(model=VotingClassifier,\n",
    "                                   estimators=[\n",
    "                                                ('lr', LogisticRegression(**lr_gs.best_params_)),\n",
    "                                                ('svm', SVC(**svm_gs.best_params_)),\n",
    "                                                ('dt', DecisionTreeClassifier(**dtc_gs.best_params_)),\n",
    "                                                ('rf', RandomForestClassifier(**rfc_gs.best_params_)),\n",
    "                                                ('knn', KNeighborsClassifier(**knn_gs.best_params_)),\n",
    "                                                ('ab', AdaBoostClassifier(**ab_gs.best_params_)),\n",
    "                                                ('gb', GradientBoostingClassifier(**gb_gs.best_params_))\n",
    "                                            ],\n",
    "                                   model_name='Voting',\n",
    "                                   params=v_gs.best_params_,\n",
    "                                   X_train=X_train,\n",
    "                                   y_train=y_train,\n",
    "                                   X_test=X_test,\n",
    "                                   y_test=y_test,\n",
    "                                   results=results)"
   ]
  },
  {
   "cell_type": "markdown",
   "metadata": {},
   "source": [
    "#### Matriz de confusión"
   ]
  },
  {
   "cell_type": "code",
   "execution_count": 31,
   "metadata": {
    "scrolled": true
   },
   "outputs": [
    {
     "data": {
      "text/plain": [
       "<AxesSubplot:title={'center':'Confusion Matrix'}, xlabel='Predicted label', ylabel='True label'>"
      ]
     },
     "execution_count": 31,
     "metadata": {},
     "output_type": "execute_result"
    },
    {
     "data": {
      "image/png": "[encoded data removed]",
      "text/plain": [
       "<Figure size 432x288 with 2 Axes>"
      ]
     },
     "metadata": {
      "needs_background": "light"
     },
     "output_type": "display_data"
    }
   ],
   "source": [
    "plot_confusion_matrix(y_test, y_pred)"
   ]
  },
  {
   "cell_type": "markdown",
   "metadata": {},
   "source": [
    "### Stacking"
   ]
  },
  {
   "cell_type": "code",
   "execution_count": 32,
   "metadata": {},
   "outputs": [
    {
     "name": "stdout",
     "output_type": "stream",
     "text": [
      "Fitting 5 folds for each of 8 candidates, totalling 40 fits\n"
     ]
    },
    {
     "name": "stderr",
     "output_type": "stream",
     "text": [
      "[Parallel(n_jobs=-1)]: Using backend LokyBackend with 8 concurrent workers.\n",
      "[Parallel(n_jobs=-1)]: Done  40 out of  40 | elapsed:   11.3s finished\n"
     ]
    },
    {
     "data": {
      "text/plain": [
       "{'passthrough': True, 'stack_method': 'auto'}"
      ]
     },
     "execution_count": 32,
     "metadata": {},
     "output_type": "execute_result"
    }
   ],
   "source": [
    "s_gs = GridSearchCV(StackingClassifier(estimators=[\n",
    "    ('lr', LogisticRegression(**lr_gs.best_params_)),\n",
    "    ('svm', SVC(**svm_gs.best_params_)),\n",
    "    ('dt', DecisionTreeClassifier(**dtc_gs.best_params_)),\n",
    "    ('rf', RandomForestClassifier(**rfc_gs.best_params_)),\n",
    "    ('knn', KNeighborsClassifier(**knn_gs.best_params_)),\n",
    "    ('ab', AdaBoostClassifier(**ab_gs.best_params_)),\n",
    "    ('gb', GradientBoostingClassifier(**gb_gs.best_params_))\n",
    "]), param_grid = {\n",
    "    'stack_method': ['auto', 'predict_proba', 'decision_function', 'predict'],\n",
    "    'passthrough': [True, False]\n",
    "}, scoring = {\n",
    "    'Recall': make_scorer(recall_score),\n",
    "    'Accuracy': make_scorer(accuracy_score),\n",
    "    'f1': make_scorer(f1_score),\n",
    "    'Precision': make_scorer(precision_score)\n",
    "}, refit='f1', n_jobs=-1, verbose=1)\n",
    "s_gs.fit(X_train, y_train)\n",
    "s_gs.best_params_"
   ]
  },
  {
   "cell_type": "code",
   "execution_count": 33,
   "metadata": {
    "scrolled": false
   },
   "outputs": [
    {
     "name": "stdout",
     "output_type": "stream",
     "text": [
      "The accuracy score is: 0.5\n",
      "The precision score is: 0.0\n",
      "The recall score is: 0.0\n",
      "The F1 score is: 0.0\n"
     ]
    }
   ],
   "source": [
    "results, y_pred = train_test_model(model=StackingClassifier,\n",
    "                                   estimators=[\n",
    "                                                ('lr', LogisticRegression(**lr_gs.best_params_)),\n",
    "                                                ('svm', SVC(**svm_gs.best_params_)),\n",
    "                                                ('dt', DecisionTreeClassifier(**dtc_gs.best_params_)),\n",
    "                                                ('rf', RandomForestClassifier(**rfc_gs.best_params_)),\n",
    "                                                ('knn', KNeighborsClassifier(**knn_gs.best_params_)),\n",
    "                                                ('ab', AdaBoostClassifier(**ab_gs.best_params_)),\n",
    "                                                ('gb', GradientBoostingClassifier(**gb_gs.best_params_))\n",
    "                                            ],\n",
    "                                   model_name='Stacking',\n",
    "                                   params=s_gs.best_params_,\n",
    "                                   X_train=X_train,\n",
    "                                   y_train=y_train,\n",
    "                                   X_test=X_test,\n",
    "                                   y_test=y_test,\n",
    "                                   results=results)"
   ]
  },
  {
   "cell_type": "markdown",
   "metadata": {},
   "source": [
    "#### Matriz de confusión"
   ]
  },
  {
   "cell_type": "code",
   "execution_count": 34,
   "metadata": {
    "scrolled": false
   },
   "outputs": [
    {
     "data": {
      "text/plain": [
       "<AxesSubplot:title={'center':'Confusion Matrix'}, xlabel='Predicted label', ylabel='True label'>"
      ]
     },
     "execution_count": 34,
     "metadata": {},
     "output_type": "execute_result"
    },
    {
     "data": {
      "image/png": "[encoded data removed]",
      "text/plain": [
       "<Figure size 432x288 with 2 Axes>"
      ]
     },
     "metadata": {
      "needs_background": "light"
     },
     "output_type": "display_data"
    }
   ],
   "source": [
    "plot_confusion_matrix(y_test, y_pred)"
   ]
  },
  {
   "cell_type": "markdown",
   "metadata": {},
   "source": [
    "## Resultados"
   ]
  },
  {
   "cell_type": "code",
   "execution_count": 35,
   "metadata": {},
   "outputs": [
    {
     "data": {
      "text/html": [
       "<div>\n",
       "<style scoped>\n",
       "    .dataframe tbody tr th:only-of-type {\n",
       "        vertical-align: middle;\n",
       "    }\n",
       "\n",
       "    .dataframe tbody tr th {\n",
       "        vertical-align: top;\n",
       "    }\n",
       "\n",
       "    .dataframe thead th {\n",
       "        text-align: right;\n",
       "    }\n",
       "</style>\n",
       "<table border=\"1\" class=\"dataframe\">\n",
       "  <thead>\n",
       "    <tr style=\"text-align: right;\">\n",
       "      <th></th>\n",
       "      <th>accuracy</th>\n",
       "      <th>precision</th>\n",
       "      <th>recall</th>\n",
       "      <th>f1 score</th>\n",
       "      <th>Promedio</th>\n",
       "    </tr>\n",
       "  </thead>\n",
       "  <tbody>\n",
       "    <tr>\n",
       "      <th>Logistic Regression</th>\n",
       "      <td>0.500000</td>\n",
       "      <td>0.000000</td>\n",
       "      <td>0.0</td>\n",
       "      <td>0.00</td>\n",
       "      <td>0.125000</td>\n",
       "    </tr>\n",
       "    <tr>\n",
       "      <th>Support Vector Machine</th>\n",
       "      <td>0.333333</td>\n",
       "      <td>0.000000</td>\n",
       "      <td>0.0</td>\n",
       "      <td>0.00</td>\n",
       "      <td>0.083333</td>\n",
       "    </tr>\n",
       "    <tr>\n",
       "      <th>Decision Tree</th>\n",
       "      <td>0.500000</td>\n",
       "      <td>0.000000</td>\n",
       "      <td>0.0</td>\n",
       "      <td>0.00</td>\n",
       "      <td>0.125000</td>\n",
       "    </tr>\n",
       "    <tr>\n",
       "      <th>Random Forest</th>\n",
       "      <td>0.500000</td>\n",
       "      <td>0.000000</td>\n",
       "      <td>0.0</td>\n",
       "      <td>0.00</td>\n",
       "      <td>0.125000</td>\n",
       "    </tr>\n",
       "    <tr>\n",
       "      <th>K Nearest Neighbors</th>\n",
       "      <td>0.500000</td>\n",
       "      <td>0.333333</td>\n",
       "      <td>0.5</td>\n",
       "      <td>0.40</td>\n",
       "      <td>0.433333</td>\n",
       "    </tr>\n",
       "    <tr>\n",
       "      <th>Perceptron</th>\n",
       "      <td>0.500000</td>\n",
       "      <td>0.000000</td>\n",
       "      <td>0.0</td>\n",
       "      <td>0.00</td>\n",
       "      <td>0.125000</td>\n",
       "    </tr>\n",
       "    <tr>\n",
       "      <th>Ada Boost</th>\n",
       "      <td>0.333333</td>\n",
       "      <td>0.000000</td>\n",
       "      <td>0.0</td>\n",
       "      <td>0.00</td>\n",
       "      <td>0.083333</td>\n",
       "    </tr>\n",
       "    <tr>\n",
       "      <th>Gradient Boosting</th>\n",
       "      <td>0.500000</td>\n",
       "      <td>0.333333</td>\n",
       "      <td>0.5</td>\n",
       "      <td>0.40</td>\n",
       "      <td>0.433333</td>\n",
       "    </tr>\n",
       "    <tr>\n",
       "      <th>Voting</th>\n",
       "      <td>0.333333</td>\n",
       "      <td>0.000000</td>\n",
       "      <td>0.0</td>\n",
       "      <td>0.00</td>\n",
       "      <td>0.083333</td>\n",
       "    </tr>\n",
       "    <tr>\n",
       "      <th>Stacking</th>\n",
       "      <td>0.500000</td>\n",
       "      <td>0.000000</td>\n",
       "      <td>0.0</td>\n",
       "      <td>0.00</td>\n",
       "      <td>0.125000</td>\n",
       "    </tr>\n",
       "    <tr>\n",
       "      <th>Promedio</th>\n",
       "      <td>0.450000</td>\n",
       "      <td>0.066667</td>\n",
       "      <td>0.1</td>\n",
       "      <td>0.08</td>\n",
       "      <td>0.174167</td>\n",
       "    </tr>\n",
       "  </tbody>\n",
       "</table>\n",
       "</div>"
      ],
      "text/plain": [
       "                        accuracy  precision  recall  f1 score  Promedio\n",
       "Logistic Regression     0.500000   0.000000     0.0      0.00  0.125000\n",
       "Support Vector Machine  0.333333   0.000000     0.0      0.00  0.083333\n",
       "Decision Tree           0.500000   0.000000     0.0      0.00  0.125000\n",
       "Random Forest           0.500000   0.000000     0.0      0.00  0.125000\n",
       "K Nearest Neighbors     0.500000   0.333333     0.5      0.40  0.433333\n",
       "Perceptron              0.500000   0.000000     0.0      0.00  0.125000\n",
       "Ada Boost               0.333333   0.000000     0.0      0.00  0.083333\n",
       "Gradient Boosting       0.500000   0.333333     0.5      0.40  0.433333\n",
       "Voting                  0.333333   0.000000     0.0      0.00  0.083333\n",
       "Stacking                0.500000   0.000000     0.0      0.00  0.125000\n",
       "Promedio                0.450000   0.066667     0.1      0.08  0.174167"
      ]
     },
     "execution_count": 35,
     "metadata": {},
     "output_type": "execute_result"
    }
   ],
   "source": [
    "results['Promedio'] = results.mean(axis=1)\n",
    "results = results.append(pd.DataFrame(results.mean().to_dict(), index=['Promedio']))\n",
    "results"
   ]
  },
  {
   "cell_type": "code",
   "execution_count": null,
   "metadata": {},
   "outputs": [],
   "source": []
  }
 ],
 "metadata": {
  "kernelspec": {
   "display_name": "tesis",
   "language": "python",
   "name": "tesis"
  },
  "language_info": {
   "codemirror_mode": {
    "name": "ipython",
    "version": 3
   },
   "file_extension": ".py",
   "mimetype": "text/x-python",
   "name": "python",
   "nbconvert_exporter": "python",
   "pygments_lexer": "ipython3",
   "version": "3.8.2"
  }
 },
 "nbformat": 4,
 "nbformat_minor": 4
}
