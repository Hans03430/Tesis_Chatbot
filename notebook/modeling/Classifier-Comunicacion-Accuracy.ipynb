{
 "cells": [
  {
   "cell_type": "markdown",
   "metadata": {},
   "source": [
    "# Importaciones de librerías"
   ]
  },
  {
   "cell_type": "code",
   "execution_count": 15,
   "metadata": {},
   "outputs": [],
   "source": [
    "import pandas as pd\n",
    "\n",
    "from scikitplot.metrics import plot_confusion_matrix\n",
    "from sklearn.linear_model import LogisticRegression\n",
    "from sklearn.linear_model import Perceptron\n",
    "from sklearn.model_selection import GridSearchCV\n",
    "from sklearn.model_selection import train_test_split\n",
    "from sklearn.metrics import make_scorer\n",
    "from sklearn.metrics import accuracy_score\n",
    "from sklearn.metrics import f1_score\n",
    "from sklearn.metrics import recall_score\n",
    "from sklearn.metrics import precision_score\n",
    "from sklearn.ensemble import AdaBoostClassifier\n",
    "from sklearn.ensemble import GradientBoostingClassifier\n",
    "from sklearn.ensemble import RandomForestClassifier\n",
    "from sklearn.ensemble import StackingClassifier\n",
    "from sklearn.ensemble import VotingClassifier\n",
    "from sklearn.neighbors import KNeighborsClassifier\n",
    "from sklearn.preprocessing import MinMaxScaler\n",
    "from sklearn.svm import SVC\n",
    "from sklearn.tree import DecisionTreeClassifier\n",
    "from src.modeling.utils.utils import print_scores\n",
    "from src.modeling.utils.utils import drop_dataset_unnecessary_columns\n",
    "from src.modeling.utils.utils import train_test_model\n",
    "from src.preparation.data_access.obtained_text_da import ObtainedTextDA"
   ]
  },
  {
   "cell_type": "markdown",
   "metadata": {},
   "source": [
    "# Constantes"
   ]
  },
  {
   "cell_type": "markdown",
   "metadata": {},
   "source": [
    "Se obtendrán aquí todos los documentos del dominio/categoría \"Comunicación\"."
   ]
  },
  {
   "cell_type": "code",
   "execution_count": 16,
   "metadata": {},
   "outputs": [
    {
     "data": {
      "text/html": [
       "<div>\n",
       "<style scoped>\n",
       "    .dataframe tbody tr th:only-of-type {\n",
       "        vertical-align: middle;\n",
       "    }\n",
       "\n",
       "    .dataframe tbody tr th {\n",
       "        vertical-align: top;\n",
       "    }\n",
       "\n",
       "    .dataframe thead th {\n",
       "        text-align: right;\n",
       "    }\n",
       "</style>\n",
       "<table border=\"1\" class=\"dataframe\">\n",
       "  <thead>\n",
       "    <tr style=\"text-align: right;\">\n",
       "      <th></th>\n",
       "      <th>CNCADC</th>\n",
       "      <th>CNCAdd</th>\n",
       "      <th>CNCAll</th>\n",
       "      <th>CNCCaus</th>\n",
       "      <th>CNCLogic</th>\n",
       "      <th>CNCTemp</th>\n",
       "      <th>CRFANP1</th>\n",
       "      <th>CRFANPa</th>\n",
       "      <th>CRFAO1</th>\n",
       "      <th>CRFAOa</th>\n",
       "      <th>...</th>\n",
       "      <th>WRDPRP1s</th>\n",
       "      <th>WRDPRP2p</th>\n",
       "      <th>WRDPRP2s</th>\n",
       "      <th>WRDPRP3p</th>\n",
       "      <th>WRDPRP3s</th>\n",
       "      <th>WRDVERB</th>\n",
       "      <th>category</th>\n",
       "      <th>filename</th>\n",
       "      <th>grade</th>\n",
       "      <th>id</th>\n",
       "    </tr>\n",
       "  </thead>\n",
       "  <tbody>\n",
       "    <tr>\n",
       "      <th>46</th>\n",
       "      <td>1.814942</td>\n",
       "      <td>0.857973</td>\n",
       "      <td>61.114044</td>\n",
       "      <td>8.183738</td>\n",
       "      <td>47.254488</td>\n",
       "      <td>3.002904</td>\n",
       "      <td>0.069312</td>\n",
       "      <td>0.028033</td>\n",
       "      <td>0.323136</td>\n",
       "      <td>0.082070</td>\n",
       "      <td>...</td>\n",
       "      <td>6.599789</td>\n",
       "      <td>1.253960</td>\n",
       "      <td>2.408923</td>\n",
       "      <td>0.560982</td>\n",
       "      <td>12.902587</td>\n",
       "      <td>113.252376</td>\n",
       "      <td>Comunicación</td>\n",
       "      <td>comunicacion-situaciones-comunicativas-portafo...</td>\n",
       "      <td>1.0</td>\n",
       "      <td>47.0</td>\n",
       "    </tr>\n",
       "    <tr>\n",
       "      <th>47</th>\n",
       "      <td>0.388232</td>\n",
       "      <td>0.258821</td>\n",
       "      <td>69.450436</td>\n",
       "      <td>4.874472</td>\n",
       "      <td>57.242688</td>\n",
       "      <td>6.686222</td>\n",
       "      <td>0.092777</td>\n",
       "      <td>0.034539</td>\n",
       "      <td>0.263065</td>\n",
       "      <td>0.056593</td>\n",
       "      <td>...</td>\n",
       "      <td>2.372530</td>\n",
       "      <td>1.639203</td>\n",
       "      <td>4.615650</td>\n",
       "      <td>1.423518</td>\n",
       "      <td>10.999914</td>\n",
       "      <td>94.771806</td>\n",
       "      <td>Comunicación</td>\n",
       "      <td>comunicacion1-cuaderno-trabajo.txt</td>\n",
       "      <td>1.0</td>\n",
       "      <td>48.0</td>\n",
       "    </tr>\n",
       "    <tr>\n",
       "      <th>48</th>\n",
       "      <td>1.212191</td>\n",
       "      <td>0.086585</td>\n",
       "      <td>64.130686</td>\n",
       "      <td>7.013392</td>\n",
       "      <td>45.803510</td>\n",
       "      <td>10.015008</td>\n",
       "      <td>0.063739</td>\n",
       "      <td>0.026429</td>\n",
       "      <td>0.209632</td>\n",
       "      <td>0.045644</td>\n",
       "      <td>...</td>\n",
       "      <td>2.308936</td>\n",
       "      <td>0.375202</td>\n",
       "      <td>2.915031</td>\n",
       "      <td>2.366659</td>\n",
       "      <td>8.196721</td>\n",
       "      <td>138.334103</td>\n",
       "      <td>Comunicación</td>\n",
       "      <td>comunicacion2-cuaderno-trabajo.txt</td>\n",
       "      <td>1.0</td>\n",
       "      <td>49.0</td>\n",
       "    </tr>\n",
       "    <tr>\n",
       "      <th>49</th>\n",
       "      <td>1.970964</td>\n",
       "      <td>0.096145</td>\n",
       "      <td>62.253629</td>\n",
       "      <td>7.980002</td>\n",
       "      <td>44.611095</td>\n",
       "      <td>7.595424</td>\n",
       "      <td>0.093656</td>\n",
       "      <td>0.046554</td>\n",
       "      <td>0.297281</td>\n",
       "      <td>0.071110</td>\n",
       "      <td>...</td>\n",
       "      <td>3.941929</td>\n",
       "      <td>0.192289</td>\n",
       "      <td>2.884338</td>\n",
       "      <td>2.836266</td>\n",
       "      <td>11.633497</td>\n",
       "      <td>138.400154</td>\n",
       "      <td>Comunicación</td>\n",
       "      <td>comunicacion3-cuaderno-trabajo.txt</td>\n",
       "      <td>1.0</td>\n",
       "      <td>50.0</td>\n",
       "    </tr>\n",
       "    <tr>\n",
       "      <th>50</th>\n",
       "      <td>1.026007</td>\n",
       "      <td>0.401481</td>\n",
       "      <td>61.605032</td>\n",
       "      <td>10.929206</td>\n",
       "      <td>43.092296</td>\n",
       "      <td>6.156042</td>\n",
       "      <td>0.077408</td>\n",
       "      <td>0.035984</td>\n",
       "      <td>0.288417</td>\n",
       "      <td>0.067927</td>\n",
       "      <td>...</td>\n",
       "      <td>2.542713</td>\n",
       "      <td>0.133827</td>\n",
       "      <td>4.683945</td>\n",
       "      <td>1.739751</td>\n",
       "      <td>8.654146</td>\n",
       "      <td>118.080029</td>\n",
       "      <td>Comunicación</td>\n",
       "      <td>comunicacion4-cuaderno-trabajo.txt</td>\n",
       "      <td>1.0</td>\n",
       "      <td>51.0</td>\n",
       "    </tr>\n",
       "    <tr>\n",
       "      <th>...</th>\n",
       "      <td>...</td>\n",
       "      <td>...</td>\n",
       "      <td>...</td>\n",
       "      <td>...</td>\n",
       "      <td>...</td>\n",
       "      <td>...</td>\n",
       "      <td>...</td>\n",
       "      <td>...</td>\n",
       "      <td>...</td>\n",
       "      <td>...</td>\n",
       "      <td>...</td>\n",
       "      <td>...</td>\n",
       "      <td>...</td>\n",
       "      <td>...</td>\n",
       "      <td>...</td>\n",
       "      <td>...</td>\n",
       "      <td>...</td>\n",
       "      <td>...</td>\n",
       "      <td>...</td>\n",
       "      <td>...</td>\n",
       "      <td>...</td>\n",
       "    </tr>\n",
       "    <tr>\n",
       "      <th>178</th>\n",
       "      <td>10.168675</td>\n",
       "      <td>1.012048</td>\n",
       "      <td>60.096386</td>\n",
       "      <td>15.084337</td>\n",
       "      <td>24.626506</td>\n",
       "      <td>9.204819</td>\n",
       "      <td>0.153777</td>\n",
       "      <td>0.113482</td>\n",
       "      <td>0.229317</td>\n",
       "      <td>0.130330</td>\n",
       "      <td>...</td>\n",
       "      <td>12.144578</td>\n",
       "      <td>2.650602</td>\n",
       "      <td>15.180723</td>\n",
       "      <td>2.409639</td>\n",
       "      <td>20.192771</td>\n",
       "      <td>118.265060</td>\n",
       "      <td>Comunicación</td>\n",
       "      <td>seis_personajes_busca.txt</td>\n",
       "      <td>2.0</td>\n",
       "      <td>179.0</td>\n",
       "    </tr>\n",
       "    <tr>\n",
       "      <th>179</th>\n",
       "      <td>8.489796</td>\n",
       "      <td>0.593692</td>\n",
       "      <td>56.653061</td>\n",
       "      <td>15.762523</td>\n",
       "      <td>25.751391</td>\n",
       "      <td>6.055659</td>\n",
       "      <td>0.072211</td>\n",
       "      <td>0.051115</td>\n",
       "      <td>0.170490</td>\n",
       "      <td>0.105130</td>\n",
       "      <td>...</td>\n",
       "      <td>10.241187</td>\n",
       "      <td>0.044527</td>\n",
       "      <td>2.077922</td>\n",
       "      <td>1.128015</td>\n",
       "      <td>9.261596</td>\n",
       "      <td>108.897959</td>\n",
       "      <td>Comunicación</td>\n",
       "      <td>viaje_centro_tierra.txt</td>\n",
       "      <td>2.0</td>\n",
       "      <td>180.0</td>\n",
       "    </tr>\n",
       "    <tr>\n",
       "      <th>180</th>\n",
       "      <td>8.669041</td>\n",
       "      <td>0.941620</td>\n",
       "      <td>74.623352</td>\n",
       "      <td>19.456726</td>\n",
       "      <td>40.274707</td>\n",
       "      <td>5.281258</td>\n",
       "      <td>0.328918</td>\n",
       "      <td>0.254774</td>\n",
       "      <td>0.546726</td>\n",
       "      <td>0.382347</td>\n",
       "      <td>...</td>\n",
       "      <td>20.848686</td>\n",
       "      <td>0.194465</td>\n",
       "      <td>0.020470</td>\n",
       "      <td>3.531073</td>\n",
       "      <td>13.745599</td>\n",
       "      <td>114.120200</td>\n",
       "      <td>Comunicación</td>\n",
       "      <td>viajes_gulliver.txt</td>\n",
       "      <td>2.0</td>\n",
       "      <td>181.0</td>\n",
       "    </tr>\n",
       "    <tr>\n",
       "      <th>181</th>\n",
       "      <td>4.147928</td>\n",
       "      <td>0.218312</td>\n",
       "      <td>82.958564</td>\n",
       "      <td>22.355150</td>\n",
       "      <td>52.045584</td>\n",
       "      <td>4.191591</td>\n",
       "      <td>0.287313</td>\n",
       "      <td>0.192939</td>\n",
       "      <td>0.375622</td>\n",
       "      <td>0.225790</td>\n",
       "      <td>...</td>\n",
       "      <td>22.879099</td>\n",
       "      <td>0.480286</td>\n",
       "      <td>2.357770</td>\n",
       "      <td>2.969043</td>\n",
       "      <td>22.922761</td>\n",
       "      <td>102.606645</td>\n",
       "      <td>Comunicación</td>\n",
       "      <td>vida_lazarillo_tormes.txt</td>\n",
       "      <td>2.0</td>\n",
       "      <td>182.0</td>\n",
       "    </tr>\n",
       "    <tr>\n",
       "      <th>182</th>\n",
       "      <td>8.836926</td>\n",
       "      <td>0.561329</td>\n",
       "      <td>64.119836</td>\n",
       "      <td>15.604953</td>\n",
       "      <td>30.776880</td>\n",
       "      <td>8.339749</td>\n",
       "      <td>0.094280</td>\n",
       "      <td>0.075108</td>\n",
       "      <td>0.196321</td>\n",
       "      <td>0.116191</td>\n",
       "      <td>...</td>\n",
       "      <td>2.036823</td>\n",
       "      <td>0.785861</td>\n",
       "      <td>0.176418</td>\n",
       "      <td>1.443418</td>\n",
       "      <td>11.499230</td>\n",
       "      <td>111.351681</td>\n",
       "      <td>Comunicación</td>\n",
       "      <td>vuelta_mundo_80.txt</td>\n",
       "      <td>2.0</td>\n",
       "      <td>183.0</td>\n",
       "    </tr>\n",
       "  </tbody>\n",
       "</table>\n",
       "<p>101 rows × 52 columns</p>\n",
       "</div>"
      ],
      "text/plain": [
       "        CNCADC    CNCAdd     CNCAll    CNCCaus   CNCLogic    CNCTemp  \\\n",
       "46    1.814942  0.857973  61.114044   8.183738  47.254488   3.002904   \n",
       "47    0.388232  0.258821  69.450436   4.874472  57.242688   6.686222   \n",
       "48    1.212191  0.086585  64.130686   7.013392  45.803510  10.015008   \n",
       "49    1.970964  0.096145  62.253629   7.980002  44.611095   7.595424   \n",
       "50    1.026007  0.401481  61.605032  10.929206  43.092296   6.156042   \n",
       "..         ...       ...        ...        ...        ...        ...   \n",
       "178  10.168675  1.012048  60.096386  15.084337  24.626506   9.204819   \n",
       "179   8.489796  0.593692  56.653061  15.762523  25.751391   6.055659   \n",
       "180   8.669041  0.941620  74.623352  19.456726  40.274707   5.281258   \n",
       "181   4.147928  0.218312  82.958564  22.355150  52.045584   4.191591   \n",
       "182   8.836926  0.561329  64.119836  15.604953  30.776880   8.339749   \n",
       "\n",
       "      CRFANP1   CRFANPa    CRFAO1    CRFAOa  ...   WRDPRP1s  WRDPRP2p  \\\n",
       "46   0.069312  0.028033  0.323136  0.082070  ...   6.599789  1.253960   \n",
       "47   0.092777  0.034539  0.263065  0.056593  ...   2.372530  1.639203   \n",
       "48   0.063739  0.026429  0.209632  0.045644  ...   2.308936  0.375202   \n",
       "49   0.093656  0.046554  0.297281  0.071110  ...   3.941929  0.192289   \n",
       "50   0.077408  0.035984  0.288417  0.067927  ...   2.542713  0.133827   \n",
       "..        ...       ...       ...       ...  ...        ...       ...   \n",
       "178  0.153777  0.113482  0.229317  0.130330  ...  12.144578  2.650602   \n",
       "179  0.072211  0.051115  0.170490  0.105130  ...  10.241187  0.044527   \n",
       "180  0.328918  0.254774  0.546726  0.382347  ...  20.848686  0.194465   \n",
       "181  0.287313  0.192939  0.375622  0.225790  ...  22.879099  0.480286   \n",
       "182  0.094280  0.075108  0.196321  0.116191  ...   2.036823  0.785861   \n",
       "\n",
       "      WRDPRP2s  WRDPRP3p   WRDPRP3s     WRDVERB      category  \\\n",
       "46    2.408923  0.560982  12.902587  113.252376  Comunicación   \n",
       "47    4.615650  1.423518  10.999914   94.771806  Comunicación   \n",
       "48    2.915031  2.366659   8.196721  138.334103  Comunicación   \n",
       "49    2.884338  2.836266  11.633497  138.400154  Comunicación   \n",
       "50    4.683945  1.739751   8.654146  118.080029  Comunicación   \n",
       "..         ...       ...        ...         ...           ...   \n",
       "178  15.180723  2.409639  20.192771  118.265060  Comunicación   \n",
       "179   2.077922  1.128015   9.261596  108.897959  Comunicación   \n",
       "180   0.020470  3.531073  13.745599  114.120200  Comunicación   \n",
       "181   2.357770  2.969043  22.922761  102.606645  Comunicación   \n",
       "182   0.176418  1.443418  11.499230  111.351681  Comunicación   \n",
       "\n",
       "                                              filename  grade     id  \n",
       "46   comunicacion-situaciones-comunicativas-portafo...    1.0   47.0  \n",
       "47                  comunicacion1-cuaderno-trabajo.txt    1.0   48.0  \n",
       "48                  comunicacion2-cuaderno-trabajo.txt    1.0   49.0  \n",
       "49                  comunicacion3-cuaderno-trabajo.txt    1.0   50.0  \n",
       "50                  comunicacion4-cuaderno-trabajo.txt    1.0   51.0  \n",
       "..                                                 ...    ...    ...  \n",
       "178                          seis_personajes_busca.txt    2.0  179.0  \n",
       "179                            viaje_centro_tierra.txt    2.0  180.0  \n",
       "180                                viajes_gulliver.txt    2.0  181.0  \n",
       "181                          vida_lazarillo_tormes.txt    2.0  182.0  \n",
       "182                                vuelta_mundo_80.txt    2.0  183.0  \n",
       "\n",
       "[101 rows x 52 columns]"
      ]
     },
     "execution_count": 16,
     "metadata": {},
     "output_type": "execute_result"
    }
   ],
   "source": [
    "OT_DA = ObtainedTextDA()\n",
    "TEXTS = OT_DA.select_all_as_dataframe()\n",
    "TEXTS = TEXTS[TEXTS['category'] == 'Comunicación']\n",
    "TEST_SIZE = 0.2\n",
    "DATA_COLUMNS = [c for c in TEXTS.columns if c not in ['category', 'filename', 'grade', 'id']]\n",
    "TEXTS"
   ]
  },
  {
   "cell_type": "markdown",
   "metadata": {},
   "source": [
    "# Experimento de aprendizaje supervisado"
   ]
  },
  {
   "cell_type": "markdown",
   "metadata": {},
   "source": [
    "En esta sección se entrenarán los modelos de aprendizaje supervisado, siendo estos calibrados mediante el método Grid Search sobre la métrica \"Accuracy\".\n"
   ]
  },
  {
   "cell_type": "markdown",
   "metadata": {},
   "source": [
    "## Preprocesando los datos"
   ]
  },
  {
   "cell_type": "markdown",
   "metadata": {},
   "source": [
    "Se realizará un escalamiento de datos usando la clase MinMaxScaler de scikit learn."
   ]
  },
  {
   "cell_type": "code",
   "execution_count": 17,
   "metadata": {},
   "outputs": [
    {
     "data": {
      "text/plain": [
       "((80, 48), (21, 48), (80,), (21,))"
      ]
     },
     "execution_count": 17,
     "metadata": {},
     "output_type": "execute_result"
    }
   ],
   "source": [
    "X, y = drop_dataset_unnecessary_columns(TEXTS, ['filename', 'category', 'grade', 'id'], 'grade')\n",
    "X[DATA_COLUMNS] = MinMaxScaler().fit_transform(X[DATA_COLUMNS])\n",
    "X_train, X_test, y_train, y_test = train_test_split(X, y, random_state=43, test_size=TEST_SIZE, stratify=y)\n",
    "X_train.shape, X_test.shape, y_train.shape, y_test.shape"
   ]
  },
  {
   "cell_type": "markdown",
   "metadata": {},
   "source": [
    "## Entrenando los modelos"
   ]
  },
  {
   "cell_type": "code",
   "execution_count": 18,
   "metadata": {},
   "outputs": [],
   "source": [
    "results = pd.DataFrame()"
   ]
  },
  {
   "cell_type": "markdown",
   "metadata": {},
   "source": [
    "### Regresión Logística"
   ]
  },
  {
   "cell_type": "code",
   "execution_count": 19,
   "metadata": {},
   "outputs": [
    {
     "name": "stdout",
     "output_type": "stream",
     "text": [
      "Fitting 5 folds for each of 450 candidates, totalling 2250 fits\n"
     ]
    },
    {
     "name": "stderr",
     "output_type": "stream",
     "text": [
      "[Parallel(n_jobs=-1)]: Using backend LokyBackend with 8 concurrent workers.\n",
      "[Parallel(n_jobs=-1)]: Done  34 tasks      | elapsed:    1.6s\n",
      "[Parallel(n_jobs=-1)]: Done 976 tasks      | elapsed:    4.9s\n",
      "[Parallel(n_jobs=-1)]: Done 2250 out of 2250 | elapsed:   10.1s finished\n",
      "[Parallel(n_jobs=1)]: Using backend SequentialBackend with 1 concurrent workers.\n",
      "[Parallel(n_jobs=1)]: Done   1 out of   1 | elapsed:    0.0s finished\n"
     ]
    },
    {
     "data": {
      "text/plain": [
       "{'C': 1, 'max_iter': 100, 'random_state': 43, 'solver': 'newton-cg', 'tol': 1}"
      ]
     },
     "execution_count": 19,
     "metadata": {},
     "output_type": "execute_result"
    }
   ],
   "source": [
    "lr_gs = GridSearchCV(LogisticRegression(verbose=1), param_grid = {\n",
    "    'C': [0.001, 0.01, 0.1, 1, 10],\n",
    "    'tol': [0.00001, 0.0001, 0.001, 0.01, 0.1, 1],\n",
    "    'solver': ['newton-cg', 'lbfgs', 'liblinear', 'sag', 'saga'],\n",
    "    'max_iter': [100, 1000, 10000],\n",
    "    'random_state': [43]\n",
    "}, scoring = {\n",
    "    'Recall': make_scorer(recall_score),\n",
    "    'Accuracy': make_scorer(accuracy_score),\n",
    "    'f1': make_scorer(f1_score),\n",
    "    'Precision': make_scorer(precision_score)\n",
    "}, refit='Accuracy', n_jobs=-1, verbose=1)\n",
    "lr_gs.fit(X_train, y_train)\n",
    "lr_gs.best_params_"
   ]
  },
  {
   "cell_type": "code",
   "execution_count": 20,
   "metadata": {
    "scrolled": false
   },
   "outputs": [
    {
     "name": "stdout",
     "output_type": "stream",
     "text": [
      "The accuracy score is: 0.9523809523809523\n",
      "The precision score is: 0.8888888888888888\n",
      "The recall score is: 1.0\n",
      "The F1 score is: 0.9411764705882353\n"
     ]
    }
   ],
   "source": [
    "results, y_pred = train_test_model(model=LogisticRegression,\n",
    "                                   model_name='Logistic Regression',\n",
    "                                   params=lr_gs.best_params_,\n",
    "                                   X_train=X_train,\n",
    "                                   y_train=y_train,\n",
    "                                   X_test=X_test,\n",
    "                                   y_test=y_test,\n",
    "                                   results=results)"
   ]
  },
  {
   "cell_type": "markdown",
   "metadata": {},
   "source": [
    "#### Matriz de confusión"
   ]
  },
  {
   "cell_type": "code",
   "execution_count": 21,
   "metadata": {},
   "outputs": [
    {
     "data": {
      "text/plain": [
       "<AxesSubplot:title={'center':'Confusion Matrix'}, xlabel='Predicted label', ylabel='True label'>"
      ]
     },
     "execution_count": 21,
     "metadata": {},
     "output_type": "execute_result"
    },
    {
     "data": {
      "image/png": "[encoded data removed]",
      "text/plain": [
       "<Figure size 432x288 with 2 Axes>"
      ]
     },
     "metadata": {
      "needs_background": "light"
     },
     "output_type": "display_data"
    }
   ],
   "source": [
    "plot_confusion_matrix(y_test, y_pred)"
   ]
  },
  {
   "cell_type": "markdown",
   "metadata": {},
   "source": [
    "### Máquina de soporte de vectores"
   ]
  },
  {
   "cell_type": "code",
   "execution_count": 22,
   "metadata": {},
   "outputs": [
    {
     "name": "stdout",
     "output_type": "stream",
     "text": [
      "Fitting 5 folds for each of 240 candidates, totalling 1200 fits\n"
     ]
    },
    {
     "name": "stderr",
     "output_type": "stream",
     "text": [
      "[Parallel(n_jobs=-1)]: Using backend LokyBackend with 8 concurrent workers.\n",
      "[Parallel(n_jobs=-1)]: Done  56 tasks      | elapsed:    0.3s\n"
     ]
    },
    {
     "name": "stdout",
     "output_type": "stream",
     "text": [
      "[LibSVM]"
     ]
    },
    {
     "name": "stderr",
     "output_type": "stream",
     "text": [
      "[Parallel(n_jobs=-1)]: Done 1200 out of 1200 | elapsed:    3.4s finished\n"
     ]
    },
    {
     "data": {
      "text/plain": [
       "{'C': 10,\n",
       " 'gamma': 'scale',\n",
       " 'kernel': 'rbf',\n",
       " 'probability': True,\n",
       " 'random_state': 43,\n",
       " 'tol': 1e-05}"
      ]
     },
     "execution_count": 22,
     "metadata": {},
     "output_type": "execute_result"
    }
   ],
   "source": [
    "svm_gs = GridSearchCV(SVC(verbose=1), param_grid = {\n",
    "    'C': [0.001, 0.01, 0.1, 1, 10],\n",
    "    'tol': [0.00001, 0.0001, 0.001, 0.01, 0.1, 1],\n",
    "    'kernel': ['linear', 'poly', 'rbf', 'sigmoid'],\n",
    "    'gamma': ['scale', 'auto'],\n",
    "    'random_state': [43],\n",
    "    'probability': [True]\n",
    "}, scoring = {\n",
    "    'Recall': make_scorer(recall_score),\n",
    "    'Accuracy': make_scorer(accuracy_score),\n",
    "    'f1': make_scorer(f1_score),\n",
    "    'Precision': make_scorer(precision_score)\n",
    "}, refit='Accuracy', n_jobs=-1, verbose=1)\n",
    "svm_gs.fit(X_train, y_train)\n",
    "svm_gs.best_params_"
   ]
  },
  {
   "cell_type": "code",
   "execution_count": 23,
   "metadata": {},
   "outputs": [
    {
     "name": "stdout",
     "output_type": "stream",
     "text": [
      "The accuracy score is: 0.9523809523809523\n",
      "The precision score is: 0.8888888888888888\n",
      "The recall score is: 1.0\n",
      "The F1 score is: 0.9411764705882353\n"
     ]
    }
   ],
   "source": [
    "results, y_pred = train_test_model(model=SVC,\n",
    "                           model_name='Support Vector Machine',\n",
    "                           params=svm_gs.best_params_,\n",
    "                           X_train=X_train,\n",
    "                           y_train=y_train,\n",
    "                           X_test=X_test,\n",
    "                           y_test=y_test,\n",
    "                           results=results)"
   ]
  },
  {
   "cell_type": "markdown",
   "metadata": {},
   "source": [
    "#### Matriz de confusión"
   ]
  },
  {
   "cell_type": "code",
   "execution_count": 24,
   "metadata": {
    "scrolled": false
   },
   "outputs": [
    {
     "data": {
      "text/plain": [
       "<AxesSubplot:title={'center':'Confusion Matrix'}, xlabel='Predicted label', ylabel='True label'>"
      ]
     },
     "execution_count": 24,
     "metadata": {},
     "output_type": "execute_result"
    },
    {
     "data": {
      "image/png": "[encoded data removed]",
      "text/plain": [
       "<Figure size 432x288 with 2 Axes>"
      ]
     },
     "metadata": {
      "needs_background": "light"
     },
     "output_type": "display_data"
    }
   ],
   "source": [
    "plot_confusion_matrix(y_test, y_pred)"
   ]
  },
  {
   "cell_type": "markdown",
   "metadata": {},
   "source": [
    "### Árbol de decisión"
   ]
  },
  {
   "cell_type": "code",
   "execution_count": 25,
   "metadata": {},
   "outputs": [
    {
     "name": "stdout",
     "output_type": "stream",
     "text": [
      "Fitting 5 folds for each of 176 candidates, totalling 880 fits\n"
     ]
    },
    {
     "name": "stderr",
     "output_type": "stream",
     "text": [
      "[Parallel(n_jobs=-1)]: Using backend LokyBackend with 8 concurrent workers.\n",
      "[Parallel(n_jobs=-1)]: Done  56 tasks      | elapsed:    0.3s\n",
      "[Parallel(n_jobs=-1)]: Done 880 out of 880 | elapsed:    1.5s finished\n"
     ]
    },
    {
     "data": {
      "text/plain": [
       "{'criterion': 'gini',\n",
       " 'max_depth': 2,\n",
       " 'max_features': None,\n",
       " 'random_state': 43,\n",
       " 'splitter': 'random'}"
      ]
     },
     "execution_count": 25,
     "metadata": {},
     "output_type": "execute_result"
    }
   ],
   "source": [
    "dtc_gs = GridSearchCV(DecisionTreeClassifier(), param_grid = {\n",
    "    'criterion': ['gini', 'entropy'],\n",
    "    'splitter': ['best', 'random'],\n",
    "    'max_depth': [1, 2, 3, 4, 5, 6 ,7 ,8, 9, 10, None],\n",
    "    'max_features': ['auto', 'sqrt', 'log2', None],\n",
    "    'random_state': [43]\n",
    "}, scoring = {\n",
    "    'Recall': make_scorer(recall_score),\n",
    "    'Accuracy': make_scorer(accuracy_score),\n",
    "    'f1': make_scorer(f1_score),\n",
    "    'Precision': make_scorer(precision_score)\n",
    "}, refit='Accuracy', n_jobs=-1, verbose=1)\n",
    "dtc_gs.fit(X_train, y_train)\n",
    "dtc_gs.best_params_"
   ]
  },
  {
   "cell_type": "code",
   "execution_count": 26,
   "metadata": {},
   "outputs": [
    {
     "name": "stdout",
     "output_type": "stream",
     "text": [
      "The accuracy score is: 0.9047619047619048\n",
      "The precision score is: 0.8\n",
      "The recall score is: 1.0\n",
      "The F1 score is: 0.888888888888889\n"
     ]
    }
   ],
   "source": [
    "results, y_pred = train_test_model(model=DecisionTreeClassifier,\n",
    "                           model_name='Decision Tree',\n",
    "                           params=dtc_gs.best_params_,\n",
    "                           X_train=X_train,\n",
    "                           y_train=y_train,\n",
    "                           X_test=X_test,\n",
    "                           y_test=y_test,\n",
    "                           results=results)"
   ]
  },
  {
   "cell_type": "markdown",
   "metadata": {},
   "source": [
    "#### Matriz de confusión"
   ]
  },
  {
   "cell_type": "code",
   "execution_count": 27,
   "metadata": {
    "scrolled": false
   },
   "outputs": [
    {
     "data": {
      "text/plain": [
       "<AxesSubplot:title={'center':'Confusion Matrix'}, xlabel='Predicted label', ylabel='True label'>"
      ]
     },
     "execution_count": 27,
     "metadata": {},
     "output_type": "execute_result"
    },
    {
     "data": {
      "image/png": "[encoded data removed]",
      "text/plain": [
       "<Figure size 432x288 with 2 Axes>"
      ]
     },
     "metadata": {
      "needs_background": "light"
     },
     "output_type": "display_data"
    }
   ],
   "source": [
    "plot_confusion_matrix(y_test, y_pred)"
   ]
  },
  {
   "cell_type": "markdown",
   "metadata": {},
   "source": [
    "### Bosque aleatorio"
   ]
  },
  {
   "cell_type": "code",
   "execution_count": 28,
   "metadata": {},
   "outputs": [
    {
     "name": "stdout",
     "output_type": "stream",
     "text": [
      "Fitting 5 folds for each of 352 candidates, totalling 1760 fits\n"
     ]
    },
    {
     "name": "stderr",
     "output_type": "stream",
     "text": [
      "[Parallel(n_jobs=-1)]: Using backend LokyBackend with 8 concurrent workers.\n",
      "[Parallel(n_jobs=-1)]: Done  52 tasks      | elapsed:    2.6s\n",
      "[Parallel(n_jobs=-1)]: Done 352 tasks      | elapsed:   18.2s\n",
      "[Parallel(n_jobs=-1)]: Done 852 tasks      | elapsed:   43.8s\n",
      "[Parallel(n_jobs=-1)]: Done 1376 tasks      | elapsed:  1.2min\n",
      "[Parallel(n_jobs=-1)]: Done 1760 out of 1760 | elapsed:  1.5min finished\n"
     ]
    },
    {
     "data": {
      "text/plain": [
       "{'criterion': 'gini',\n",
       " 'max_depth': 3,\n",
       " 'max_features': 'log2',\n",
       " 'n_estimators': 100,\n",
       " 'random_state': 43}"
      ]
     },
     "execution_count": 28,
     "metadata": {},
     "output_type": "execute_result"
    }
   ],
   "source": [
    "rfc_gs = GridSearchCV(RandomForestClassifier(), param_grid = {\n",
    "    'criterion': ['gini', 'entropy'],\n",
    "    'n_estimators': [50, 100, 200, 400],\n",
    "    'max_depth': [1, 2, 3, 4, 5, 6 ,7 ,8, 9, 10, None],\n",
    "    'max_features': ['auto', 'sqrt', 'log2', None],\n",
    "    'random_state': [43]\n",
    "}, scoring = {\n",
    "    'Recall': make_scorer(recall_score),\n",
    "    'Accuracy': make_scorer(accuracy_score),\n",
    "    'f1': make_scorer(f1_score),\n",
    "    'Precision': make_scorer(precision_score)\n",
    "}, refit='Accuracy', n_jobs=-1, verbose=1)\n",
    "rfc_gs.fit(X_train, y_train)\n",
    "rfc_gs.best_params_"
   ]
  },
  {
   "cell_type": "code",
   "execution_count": 29,
   "metadata": {},
   "outputs": [
    {
     "name": "stdout",
     "output_type": "stream",
     "text": [
      "The accuracy score is: 0.9523809523809523\n",
      "The precision score is: 0.8888888888888888\n",
      "The recall score is: 1.0\n",
      "The F1 score is: 0.9411764705882353\n"
     ]
    }
   ],
   "source": [
    "results, y_pred = train_test_model(model=RandomForestClassifier,\n",
    "                           model_name='Random Forest',\n",
    "                           params=rfc_gs.best_params_,\n",
    "                           X_train=X_train,\n",
    "                           y_train=y_train,\n",
    "                           X_test=X_test,\n",
    "                           y_test=y_test,\n",
    "                           results=results)"
   ]
  },
  {
   "cell_type": "markdown",
   "metadata": {},
   "source": [
    "#### Matriz de confusión"
   ]
  },
  {
   "cell_type": "code",
   "execution_count": 30,
   "metadata": {
    "scrolled": true
   },
   "outputs": [
    {
     "data": {
      "text/plain": [
       "<AxesSubplot:title={'center':'Confusion Matrix'}, xlabel='Predicted label', ylabel='True label'>"
      ]
     },
     "execution_count": 30,
     "metadata": {},
     "output_type": "execute_result"
    },
    {
     "data": {
      "image/png": "[encoded data removed]",
      "text/plain": [
       "<Figure size 432x288 with 2 Axes>"
      ]
     },
     "metadata": {
      "needs_background": "light"
     },
     "output_type": "display_data"
    }
   ],
   "source": [
    "plot_confusion_matrix(y_test, y_pred)"
   ]
  },
  {
   "cell_type": "markdown",
   "metadata": {},
   "source": [
    "### K Nearest Neighbors"
   ]
  },
  {
   "cell_type": "code",
   "execution_count": 31,
   "metadata": {},
   "outputs": [
    {
     "name": "stdout",
     "output_type": "stream",
     "text": [
      "Fitting 5 folds for each of 160 candidates, totalling 800 fits\n"
     ]
    },
    {
     "name": "stderr",
     "output_type": "stream",
     "text": [
      "[Parallel(n_jobs=-1)]: Using backend LokyBackend with 8 concurrent workers.\n",
      "[Parallel(n_jobs=-1)]: Done  56 tasks      | elapsed:    0.2s\n",
      "[Parallel(n_jobs=-1)]: Done 800 out of 800 | elapsed:    1.3s finished\n"
     ]
    },
    {
     "data": {
      "text/plain": [
       "{'algorithm': 'auto', 'n_neighbors': 2, 'p': 1, 'weights': 'uniform'}"
      ]
     },
     "execution_count": 31,
     "metadata": {},
     "output_type": "execute_result"
    }
   ],
   "source": [
    "knn_gs = GridSearchCV(KNeighborsClassifier(), param_grid = {\n",
    "    'n_neighbors': range(1, 11),\n",
    "    'weights': ['uniform', 'distance'],\n",
    "    'algorithm': ['auto', 'ball_tree', 'kd_tree', 'brute'],\n",
    "    'p': [1, 2]\n",
    "}, scoring = {\n",
    "    'Recall': make_scorer(recall_score),\n",
    "    'Accuracy': make_scorer(accuracy_score),\n",
    "    'f1': make_scorer(f1_score),\n",
    "    'Precision': make_scorer(precision_score)\n",
    "}, refit='Accuracy', n_jobs=-1, verbose=1)\n",
    "knn_gs.fit(X_train, y_train)\n",
    "knn_gs.best_params_"
   ]
  },
  {
   "cell_type": "code",
   "execution_count": 32,
   "metadata": {},
   "outputs": [
    {
     "name": "stdout",
     "output_type": "stream",
     "text": [
      "The accuracy score is: 0.9523809523809523\n",
      "The precision score is: 0.8888888888888888\n",
      "The recall score is: 1.0\n",
      "The F1 score is: 0.9411764705882353\n"
     ]
    }
   ],
   "source": [
    "results, y_pred = train_test_model(model=KNeighborsClassifier,\n",
    "                           model_name='K Nearest Neighbors',\n",
    "                           params=knn_gs.best_params_,\n",
    "                           X_train=X_train,\n",
    "                           y_train=y_train,\n",
    "                           X_test=X_test,\n",
    "                           y_test=y_test,\n",
    "                           results=results)"
   ]
  },
  {
   "cell_type": "markdown",
   "metadata": {},
   "source": [
    "#### Matriz de confusión"
   ]
  },
  {
   "cell_type": "code",
   "execution_count": 33,
   "metadata": {
    "scrolled": false
   },
   "outputs": [
    {
     "data": {
      "text/plain": [
       "<AxesSubplot:title={'center':'Confusion Matrix'}, xlabel='Predicted label', ylabel='True label'>"
      ]
     },
     "execution_count": 33,
     "metadata": {},
     "output_type": "execute_result"
    },
    {
     "data": {
      "image/png": "[encoded data removed]",
      "text/plain": [
       "<Figure size 432x288 with 2 Axes>"
      ]
     },
     "metadata": {
      "needs_background": "light"
     },
     "output_type": "display_data"
    }
   ],
   "source": [
    "plot_confusion_matrix(y_test, y_pred)"
   ]
  },
  {
   "cell_type": "markdown",
   "metadata": {},
   "source": [
    "### Perceptron"
   ]
  },
  {
   "cell_type": "code",
   "execution_count": 34,
   "metadata": {},
   "outputs": [
    {
     "name": "stdout",
     "output_type": "stream",
     "text": [
      "Fitting 5 folds for each of 450 candidates, totalling 2250 fits\n"
     ]
    },
    {
     "name": "stderr",
     "output_type": "stream",
     "text": [
      "[Parallel(n_jobs=-1)]: Using backend LokyBackend with 8 concurrent workers.\n",
      "[Parallel(n_jobs=-1)]: Done  56 tasks      | elapsed:    0.2s\n",
      "[Parallel(n_jobs=-1)]: Done 2115 tasks      | elapsed:    4.4s\n",
      "[Parallel(n_jobs=-1)]: Done 2250 out of 2250 | elapsed:    4.7s finished\n"
     ]
    },
    {
     "data": {
      "text/plain": [
       "{'alpha': 0.01,\n",
       " 'early_stopping': False,\n",
       " 'max_iter': 100,\n",
       " 'penalty': 'l2',\n",
       " 'tol': 0.1}"
      ]
     },
     "execution_count": 34,
     "metadata": {},
     "output_type": "execute_result"
    }
   ],
   "source": [
    "p_gs = GridSearchCV(Perceptron(), param_grid = {\n",
    "    'penalty': ['l2', 'l1', 'elasticnet'],\n",
    "    'alpha': [1, 0.1, 0.01, 0.001, 0.0001],\n",
    "    'max_iter': [100, 1000, 10000],\n",
    "    'tol': [1, 0.1, 0.01, 0.001, 0.0001],\n",
    "    'early_stopping': [False, True]\n",
    "}, scoring = {\n",
    "    'Recall': make_scorer(recall_score),\n",
    "    'Accuracy': make_scorer(accuracy_score),\n",
    "    'f1': make_scorer(f1_score),\n",
    "    'Precision': make_scorer(precision_score)\n",
    "}, refit='Accuracy', n_jobs=-1, verbose=1)\n",
    "p_gs.fit(X_train, y_train)\n",
    "p_gs.best_params_"
   ]
  },
  {
   "cell_type": "code",
   "execution_count": 35,
   "metadata": {},
   "outputs": [
    {
     "name": "stdout",
     "output_type": "stream",
     "text": [
      "The accuracy score is: 0.9523809523809523\n",
      "The precision score is: 0.8888888888888888\n",
      "The recall score is: 1.0\n",
      "The F1 score is: 0.9411764705882353\n"
     ]
    }
   ],
   "source": [
    "results, y_pred = train_test_model(model=Perceptron,\n",
    "                           model_name='Perceptron',\n",
    "                           params=p_gs.best_params_,\n",
    "                           X_train=X_train,\n",
    "                           y_train=y_train,\n",
    "                           X_test=X_test,\n",
    "                           y_test=y_test,\n",
    "                           results=results)"
   ]
  },
  {
   "cell_type": "markdown",
   "metadata": {},
   "source": [
    "#### Matriz de confusión"
   ]
  },
  {
   "cell_type": "code",
   "execution_count": 36,
   "metadata": {
    "scrolled": true
   },
   "outputs": [
    {
     "data": {
      "text/plain": [
       "<AxesSubplot:title={'center':'Confusion Matrix'}, xlabel='Predicted label', ylabel='True label'>"
      ]
     },
     "execution_count": 36,
     "metadata": {},
     "output_type": "execute_result"
    },
    {
     "data": {
      "image/png": "[encoded data removed]",
      "text/plain": [
       "<Figure size 432x288 with 2 Axes>"
      ]
     },
     "metadata": {
      "needs_background": "light"
     },
     "output_type": "display_data"
    }
   ],
   "source": [
    "plot_confusion_matrix(y_test, y_pred)"
   ]
  },
  {
   "cell_type": "markdown",
   "metadata": {},
   "source": [
    "### Ada Boost"
   ]
  },
  {
   "cell_type": "code",
   "execution_count": 37,
   "metadata": {},
   "outputs": [
    {
     "name": "stdout",
     "output_type": "stream",
     "text": [
      "Fitting 5 folds for each of 40 candidates, totalling 200 fits\n"
     ]
    },
    {
     "name": "stderr",
     "output_type": "stream",
     "text": [
      "[Parallel(n_jobs=-1)]: Using backend LokyBackend with 8 concurrent workers.\n",
      "[Parallel(n_jobs=-1)]: Done  52 tasks      | elapsed:    2.6s\n",
      "[Parallel(n_jobs=-1)]: Done 200 out of 200 | elapsed:   10.1s finished\n"
     ]
    },
    {
     "data": {
      "text/plain": [
       "{'algorithm': 'SAMME.R',\n",
       " 'learning_rate': 1,\n",
       " 'n_estimators': 400,\n",
       " 'random_state': 43}"
      ]
     },
     "execution_count": 37,
     "metadata": {},
     "output_type": "execute_result"
    }
   ],
   "source": [
    "ab_gs = GridSearchCV(AdaBoostClassifier(), param_grid = {\n",
    "    'learning_rate': [1, 0.1, 0.01, 0.001, 0.0001],\n",
    "    'n_estimators': [50, 100, 200, 400],\n",
    "    'algorithm': ['SAMME', 'SAMME.R'],\n",
    "    'random_state': [43]\n",
    "}, scoring = {\n",
    "    'Recall': make_scorer(recall_score),\n",
    "    'Accuracy': make_scorer(accuracy_score),\n",
    "    'f1': make_scorer(f1_score),\n",
    "    'Precision': make_scorer(precision_score)\n",
    "}, refit='Accuracy', n_jobs=-1, verbose=1)\n",
    "ab_gs.fit(X_train, y_train)\n",
    "ab_gs.best_params_"
   ]
  },
  {
   "cell_type": "code",
   "execution_count": 38,
   "metadata": {
    "scrolled": true
   },
   "outputs": [
    {
     "name": "stdout",
     "output_type": "stream",
     "text": [
      "The accuracy score is: 1.0\n",
      "The precision score is: 1.0\n",
      "The recall score is: 1.0\n",
      "The F1 score is: 1.0\n"
     ]
    }
   ],
   "source": [
    "results, y_pred = train_test_model(model=AdaBoostClassifier,\n",
    "                           model_name='Ada Boost',\n",
    "                           params=ab_gs.best_params_,\n",
    "                           X_train=X_train,\n",
    "                           y_train=y_train,\n",
    "                           X_test=X_test,\n",
    "                           y_test=y_test,\n",
    "                           results=results)"
   ]
  },
  {
   "cell_type": "markdown",
   "metadata": {},
   "source": [
    "#### Matriz de confusión"
   ]
  },
  {
   "cell_type": "code",
   "execution_count": 39,
   "metadata": {
    "scrolled": false
   },
   "outputs": [
    {
     "data": {
      "text/plain": [
       "<AxesSubplot:title={'center':'Confusion Matrix'}, xlabel='Predicted label', ylabel='True label'>"
      ]
     },
     "execution_count": 39,
     "metadata": {},
     "output_type": "execute_result"
    },
    {
     "data": {
      "image/png": "[encoded data removed]",
      "text/plain": [
       "<Figure size 432x288 with 2 Axes>"
      ]
     },
     "metadata": {
      "needs_background": "light"
     },
     "output_type": "display_data"
    }
   ],
   "source": [
    "plot_confusion_matrix(y_test, y_pred)"
   ]
  },
  {
   "cell_type": "markdown",
   "metadata": {},
   "source": [
    "### Gradient Boosting"
   ]
  },
  {
   "cell_type": "code",
   "execution_count": 40,
   "metadata": {},
   "outputs": [
    {
     "name": "stdout",
     "output_type": "stream",
     "text": [
      "Fitting 5 folds for each of 3600 candidates, totalling 18000 fits\n"
     ]
    },
    {
     "name": "stderr",
     "output_type": "stream",
     "text": [
      "[Parallel(n_jobs=-1)]: Using backend LokyBackend with 8 concurrent workers.\n",
      "[Parallel(n_jobs=-1)]: Done  52 tasks      | elapsed:    0.8s\n",
      "[Parallel(n_jobs=-1)]: Done 352 tasks      | elapsed:    7.2s\n",
      "[Parallel(n_jobs=-1)]: Done 852 tasks      | elapsed:   18.4s\n",
      "[Parallel(n_jobs=-1)]: Done 1552 tasks      | elapsed:   36.8s\n",
      "[Parallel(n_jobs=-1)]: Done 2452 tasks      | elapsed:   59.6s\n",
      "[Parallel(n_jobs=-1)]: Done 3552 tasks      | elapsed:  1.5min\n",
      "[Parallel(n_jobs=-1)]: Done 4852 tasks      | elapsed:  2.1min\n",
      "[Parallel(n_jobs=-1)]: Done 6352 tasks      | elapsed:  2.8min\n",
      "[Parallel(n_jobs=-1)]: Done 8052 tasks      | elapsed:  3.5min\n",
      "[Parallel(n_jobs=-1)]: Done 9952 tasks      | elapsed:  4.4min\n",
      "[Parallel(n_jobs=-1)]: Done 12052 tasks      | elapsed:  5.4min\n",
      "[Parallel(n_jobs=-1)]: Done 13288 tasks      | elapsed:  6.6min\n",
      "[Parallel(n_jobs=-1)]: Done 14538 tasks      | elapsed:  7.8min\n",
      "[Parallel(n_jobs=-1)]: Done 15888 tasks      | elapsed:  9.1min\n",
      "[Parallel(n_jobs=-1)]: Done 17338 tasks      | elapsed: 10.6min\n",
      "[Parallel(n_jobs=-1)]: Done 18000 out of 18000 | elapsed: 11.3min finished\n"
     ]
    },
    {
     "data": {
      "text/plain": [
       "{'criterion': 'friedman_mse',\n",
       " 'learning_rate': 1,\n",
       " 'loss': 'exponential',\n",
       " 'max_depth': 5,\n",
       " 'max_features': 'log2',\n",
       " 'n_estimators': 100,\n",
       " 'random_state': 43}"
      ]
     },
     "execution_count": 40,
     "metadata": {},
     "output_type": "execute_result"
    }
   ],
   "source": [
    "gb_gs = GridSearchCV(GradientBoostingClassifier(), param_grid = {\n",
    "    'learning_rate': [1, 0.1, 0.01, 0.001, 0.0001],\n",
    "    'n_estimators': [50, 100, 200, 400],\n",
    "    'loss': ['deviance', 'exponential'],\n",
    "    'criterion': ['friedman_mse', 'mse', 'mae'],\n",
    "    'max_depth': range(1, 11),\n",
    "    'max_features': ['auto', 'sqrt', 'log2'],\n",
    "    'random_state': [43]\n",
    "}, scoring = {\n",
    "    'Recall': make_scorer(recall_score),\n",
    "    'Accuracy': make_scorer(accuracy_score),\n",
    "    'f1': make_scorer(f1_score),\n",
    "    'Precision': make_scorer(precision_score)\n",
    "}, refit='Accuracy', n_jobs=-1, verbose=1)\n",
    "gb_gs.fit(X_train, y_train)\n",
    "gb_gs.best_params_"
   ]
  },
  {
   "cell_type": "code",
   "execution_count": 41,
   "metadata": {
    "scrolled": true
   },
   "outputs": [
    {
     "name": "stdout",
     "output_type": "stream",
     "text": [
      "The accuracy score is: 0.9523809523809523\n",
      "The precision score is: 0.8888888888888888\n",
      "The recall score is: 1.0\n",
      "The F1 score is: 0.9411764705882353\n"
     ]
    }
   ],
   "source": [
    "results, y_pred = train_test_model(model=GradientBoostingClassifier,\n",
    "                                   model_name='Gradient Boosting',\n",
    "                                   params=gb_gs.best_params_,\n",
    "                                   X_train=X_train,\n",
    "                                   y_train=y_train,\n",
    "                                   X_test=X_test,\n",
    "                                   y_test=y_test,\n",
    "                                   results=results)"
   ]
  },
  {
   "cell_type": "markdown",
   "metadata": {},
   "source": [
    "#### Matriz de confusión"
   ]
  },
  {
   "cell_type": "code",
   "execution_count": 42,
   "metadata": {
    "scrolled": true
   },
   "outputs": [
    {
     "data": {
      "text/plain": [
       "<AxesSubplot:title={'center':'Confusion Matrix'}, xlabel='Predicted label', ylabel='True label'>"
      ]
     },
     "execution_count": 42,
     "metadata": {},
     "output_type": "execute_result"
    },
    {
     "data": {
      "image/png": "[encoded data removed]",
      "text/plain": [
       "<Figure size 432x288 with 2 Axes>"
      ]
     },
     "metadata": {
      "needs_background": "light"
     },
     "output_type": "display_data"
    }
   ],
   "source": [
    "plot_confusion_matrix(y_test, y_pred)"
   ]
  },
  {
   "cell_type": "markdown",
   "metadata": {},
   "source": [
    "### Voting"
   ]
  },
  {
   "cell_type": "code",
   "execution_count": 43,
   "metadata": {},
   "outputs": [
    {
     "name": "stdout",
     "output_type": "stream",
     "text": [
      "Fitting 5 folds for each of 4 candidates, totalling 20 fits\n"
     ]
    },
    {
     "name": "stderr",
     "output_type": "stream",
     "text": [
      "[Parallel(n_jobs=-1)]: Using backend LokyBackend with 8 concurrent workers.\n",
      "[Parallel(n_jobs=-1)]: Done  20 out of  20 | elapsed:    3.2s finished\n"
     ]
    },
    {
     "data": {
      "text/plain": [
       "{'flatten_transform': True, 'voting': 'soft'}"
      ]
     },
     "execution_count": 43,
     "metadata": {},
     "output_type": "execute_result"
    }
   ],
   "source": [
    "v_gs = GridSearchCV(VotingClassifier(estimators=[\n",
    "    ('lr', LogisticRegression(**lr_gs.best_params_)),\n",
    "    ('svm', SVC(**svm_gs.best_params_)),\n",
    "    ('dt', DecisionTreeClassifier(**dtc_gs.best_params_)),\n",
    "    ('rf', RandomForestClassifier(**rfc_gs.best_params_)),\n",
    "    ('knn', KNeighborsClassifier(**knn_gs.best_params_)),\n",
    "    ('ab', AdaBoostClassifier(**ab_gs.best_params_)),\n",
    "    ('gb', GradientBoostingClassifier(**gb_gs.best_params_))\n",
    "]), param_grid = {\n",
    "    'voting': ['soft', 'hard'],\n",
    "    'flatten_transform': [True, False]\n",
    "}, scoring = {\n",
    "    'Recall': make_scorer(recall_score),\n",
    "    'Accuracy': make_scorer(accuracy_score),\n",
    "    'f1': make_scorer(f1_score),\n",
    "    'Precision': make_scorer(precision_score)\n",
    "}, refit='Accuracy', n_jobs=-1, verbose=1)\n",
    "v_gs.fit(X_train, y_train)\n",
    "v_gs.best_params_"
   ]
  },
  {
   "cell_type": "code",
   "execution_count": 44,
   "metadata": {
    "scrolled": false
   },
   "outputs": [
    {
     "name": "stdout",
     "output_type": "stream",
     "text": [
      "The accuracy score is: 0.9523809523809523\n",
      "The precision score is: 0.8888888888888888\n",
      "The recall score is: 1.0\n",
      "The F1 score is: 0.9411764705882353\n"
     ]
    }
   ],
   "source": [
    "results, y_pred = train_test_model(model=VotingClassifier,\n",
    "                                   estimators=[\n",
    "                                                ('lr', LogisticRegression(**lr_gs.best_params_)),\n",
    "                                                ('svm', SVC(**svm_gs.best_params_)),\n",
    "                                                ('dt', DecisionTreeClassifier(**dtc_gs.best_params_)),\n",
    "                                                ('rf', RandomForestClassifier(**rfc_gs.best_params_)),\n",
    "                                                ('knn', KNeighborsClassifier(**knn_gs.best_params_)),\n",
    "                                                ('ab', AdaBoostClassifier(**ab_gs.best_params_)),\n",
    "                                                ('gb', GradientBoostingClassifier(**gb_gs.best_params_))\n",
    "                                            ],\n",
    "                                   model_name='Voting',\n",
    "                                   params=v_gs.best_params_,\n",
    "                                   X_train=X_train,\n",
    "                                   y_train=y_train,\n",
    "                                   X_test=X_test,\n",
    "                                   y_test=y_test,\n",
    "                                   results=results)"
   ]
  },
  {
   "cell_type": "markdown",
   "metadata": {},
   "source": [
    "#### Matriz de confusión"
   ]
  },
  {
   "cell_type": "code",
   "execution_count": 45,
   "metadata": {
    "scrolled": true
   },
   "outputs": [
    {
     "data": {
      "text/plain": [
       "<AxesSubplot:title={'center':'Confusion Matrix'}, xlabel='Predicted label', ylabel='True label'>"
      ]
     },
     "execution_count": 45,
     "metadata": {},
     "output_type": "execute_result"
    },
    {
     "data": {
      "image/png": "[encoded data removed]",
      "text/plain": [
       "<Figure size 432x288 with 2 Axes>"
      ]
     },
     "metadata": {
      "needs_background": "light"
     },
     "output_type": "display_data"
    }
   ],
   "source": [
    "plot_confusion_matrix(y_test, y_pred)"
   ]
  },
  {
   "cell_type": "markdown",
   "metadata": {},
   "source": [
    "### Stacking"
   ]
  },
  {
   "cell_type": "code",
   "execution_count": 46,
   "metadata": {},
   "outputs": [
    {
     "name": "stdout",
     "output_type": "stream",
     "text": [
      "Fitting 5 folds for each of 8 candidates, totalling 40 fits\n"
     ]
    },
    {
     "name": "stderr",
     "output_type": "stream",
     "text": [
      "[Parallel(n_jobs=-1)]: Using backend LokyBackend with 8 concurrent workers.\n",
      "[Parallel(n_jobs=-1)]: Done  40 out of  40 | elapsed:   27.7s finished\n"
     ]
    },
    {
     "data": {
      "text/plain": [
       "{'passthrough': True, 'stack_method': 'predict'}"
      ]
     },
     "execution_count": 46,
     "metadata": {},
     "output_type": "execute_result"
    }
   ],
   "source": [
    "s_gs = GridSearchCV(StackingClassifier(estimators=[\n",
    "    ('lr', LogisticRegression(**lr_gs.best_params_)),\n",
    "    ('svm', SVC(**svm_gs.best_params_)),\n",
    "    ('dt', DecisionTreeClassifier(**dtc_gs.best_params_)),\n",
    "    ('rf', RandomForestClassifier(**rfc_gs.best_params_)),\n",
    "    ('knn', KNeighborsClassifier(**knn_gs.best_params_)),\n",
    "    ('ab', AdaBoostClassifier(**ab_gs.best_params_)),\n",
    "    ('gb', GradientBoostingClassifier(**gb_gs.best_params_))\n",
    "]), param_grid = {\n",
    "    'stack_method': ['auto', 'predict_proba', 'decision_function', 'predict'],\n",
    "    'passthrough': [True, False]\n",
    "}, scoring = {\n",
    "    'Recall': make_scorer(recall_score),\n",
    "    'Accuracy': make_scorer(accuracy_score),\n",
    "    'f1': make_scorer(f1_score),\n",
    "    'Precision': make_scorer(precision_score)\n",
    "}, refit='Accuracy', n_jobs=-1, verbose=1)\n",
    "s_gs.fit(X_train, y_train)\n",
    "s_gs.best_params_"
   ]
  },
  {
   "cell_type": "code",
   "execution_count": 47,
   "metadata": {
    "scrolled": false
   },
   "outputs": [
    {
     "name": "stdout",
     "output_type": "stream",
     "text": [
      "The accuracy score is: 0.9523809523809523\n",
      "The precision score is: 0.8888888888888888\n",
      "The recall score is: 1.0\n",
      "The F1 score is: 0.9411764705882353\n"
     ]
    }
   ],
   "source": [
    "results, y_pred = train_test_model(model=StackingClassifier,\n",
    "                                   estimators=[\n",
    "                                                ('lr', LogisticRegression(**lr_gs.best_params_)),\n",
    "                                                ('svm', SVC(**svm_gs.best_params_)),\n",
    "                                                ('dt', DecisionTreeClassifier(**dtc_gs.best_params_)),\n",
    "                                                ('rf', RandomForestClassifier(**rfc_gs.best_params_)),\n",
    "                                                ('knn', KNeighborsClassifier(**knn_gs.best_params_)),\n",
    "                                                ('ab', AdaBoostClassifier(**ab_gs.best_params_)),\n",
    "                                                ('gb', GradientBoostingClassifier(**gb_gs.best_params_))\n",
    "                                            ],\n",
    "                                   model_name='Stacking',\n",
    "                                   params=s_gs.best_params_,\n",
    "                                   X_train=X_train,\n",
    "                                   y_train=y_train,\n",
    "                                   X_test=X_test,\n",
    "                                   y_test=y_test,\n",
    "                                   results=results)"
   ]
  },
  {
   "cell_type": "markdown",
   "metadata": {},
   "source": [
    "#### Matriz de confusión"
   ]
  },
  {
   "cell_type": "code",
   "execution_count": 48,
   "metadata": {
    "scrolled": false
   },
   "outputs": [
    {
     "data": {
      "text/plain": [
       "<AxesSubplot:title={'center':'Confusion Matrix'}, xlabel='Predicted label', ylabel='True label'>"
      ]
     },
     "execution_count": 48,
     "metadata": {},
     "output_type": "execute_result"
    },
    {
     "data": {
      "image/png": "[encoded data removed]",
      "text/plain": [
       "<Figure size 432x288 with 2 Axes>"
      ]
     },
     "metadata": {
      "needs_background": "light"
     },
     "output_type": "display_data"
    }
   ],
   "source": [
    "plot_confusion_matrix(y_test, y_pred)"
   ]
  },
  {
   "cell_type": "markdown",
   "metadata": {},
   "source": [
    "## Resultados"
   ]
  },
  {
   "cell_type": "code",
   "execution_count": 49,
   "metadata": {},
   "outputs": [
    {
     "data": {
      "text/html": [
       "<div>\n",
       "<style scoped>\n",
       "    .dataframe tbody tr th:only-of-type {\n",
       "        vertical-align: middle;\n",
       "    }\n",
       "\n",
       "    .dataframe tbody tr th {\n",
       "        vertical-align: top;\n",
       "    }\n",
       "\n",
       "    .dataframe thead th {\n",
       "        text-align: right;\n",
       "    }\n",
       "</style>\n",
       "<table border=\"1\" class=\"dataframe\">\n",
       "  <thead>\n",
       "    <tr style=\"text-align: right;\">\n",
       "      <th></th>\n",
       "      <th>accuracy</th>\n",
       "      <th>precision</th>\n",
       "      <th>recall</th>\n",
       "      <th>f1 score</th>\n",
       "      <th>Promedio</th>\n",
       "    </tr>\n",
       "  </thead>\n",
       "  <tbody>\n",
       "    <tr>\n",
       "      <th>Logistic Regression</th>\n",
       "      <td>0.952381</td>\n",
       "      <td>0.888889</td>\n",
       "      <td>1.0</td>\n",
       "      <td>0.941176</td>\n",
       "      <td>0.945612</td>\n",
       "    </tr>\n",
       "    <tr>\n",
       "      <th>Support Vector Machine</th>\n",
       "      <td>0.952381</td>\n",
       "      <td>0.888889</td>\n",
       "      <td>1.0</td>\n",
       "      <td>0.941176</td>\n",
       "      <td>0.945612</td>\n",
       "    </tr>\n",
       "    <tr>\n",
       "      <th>Decision Tree</th>\n",
       "      <td>0.904762</td>\n",
       "      <td>0.800000</td>\n",
       "      <td>1.0</td>\n",
       "      <td>0.888889</td>\n",
       "      <td>0.898413</td>\n",
       "    </tr>\n",
       "    <tr>\n",
       "      <th>Random Forest</th>\n",
       "      <td>0.952381</td>\n",
       "      <td>0.888889</td>\n",
       "      <td>1.0</td>\n",
       "      <td>0.941176</td>\n",
       "      <td>0.945612</td>\n",
       "    </tr>\n",
       "    <tr>\n",
       "      <th>K Nearest Neighbors</th>\n",
       "      <td>0.952381</td>\n",
       "      <td>0.888889</td>\n",
       "      <td>1.0</td>\n",
       "      <td>0.941176</td>\n",
       "      <td>0.945612</td>\n",
       "    </tr>\n",
       "    <tr>\n",
       "      <th>Perceptron</th>\n",
       "      <td>0.952381</td>\n",
       "      <td>0.888889</td>\n",
       "      <td>1.0</td>\n",
       "      <td>0.941176</td>\n",
       "      <td>0.945612</td>\n",
       "    </tr>\n",
       "    <tr>\n",
       "      <th>Ada Boost</th>\n",
       "      <td>1.000000</td>\n",
       "      <td>1.000000</td>\n",
       "      <td>1.0</td>\n",
       "      <td>1.000000</td>\n",
       "      <td>1.000000</td>\n",
       "    </tr>\n",
       "    <tr>\n",
       "      <th>Gradient Boosting</th>\n",
       "      <td>0.952381</td>\n",
       "      <td>0.888889</td>\n",
       "      <td>1.0</td>\n",
       "      <td>0.941176</td>\n",
       "      <td>0.945612</td>\n",
       "    </tr>\n",
       "    <tr>\n",
       "      <th>Voting</th>\n",
       "      <td>0.952381</td>\n",
       "      <td>0.888889</td>\n",
       "      <td>1.0</td>\n",
       "      <td>0.941176</td>\n",
       "      <td>0.945612</td>\n",
       "    </tr>\n",
       "    <tr>\n",
       "      <th>Stacking</th>\n",
       "      <td>0.952381</td>\n",
       "      <td>0.888889</td>\n",
       "      <td>1.0</td>\n",
       "      <td>0.941176</td>\n",
       "      <td>0.945612</td>\n",
       "    </tr>\n",
       "    <tr>\n",
       "      <th>Promedio</th>\n",
       "      <td>0.952381</td>\n",
       "      <td>0.891111</td>\n",
       "      <td>1.0</td>\n",
       "      <td>0.941830</td>\n",
       "      <td>0.946331</td>\n",
       "    </tr>\n",
       "  </tbody>\n",
       "</table>\n",
       "</div>"
      ],
      "text/plain": [
       "                        accuracy  precision  recall  f1 score  Promedio\n",
       "Logistic Regression     0.952381   0.888889     1.0  0.941176  0.945612\n",
       "Support Vector Machine  0.952381   0.888889     1.0  0.941176  0.945612\n",
       "Decision Tree           0.904762   0.800000     1.0  0.888889  0.898413\n",
       "Random Forest           0.952381   0.888889     1.0  0.941176  0.945612\n",
       "K Nearest Neighbors     0.952381   0.888889     1.0  0.941176  0.945612\n",
       "Perceptron              0.952381   0.888889     1.0  0.941176  0.945612\n",
       "Ada Boost               1.000000   1.000000     1.0  1.000000  1.000000\n",
       "Gradient Boosting       0.952381   0.888889     1.0  0.941176  0.945612\n",
       "Voting                  0.952381   0.888889     1.0  0.941176  0.945612\n",
       "Stacking                0.952381   0.888889     1.0  0.941176  0.945612\n",
       "Promedio                0.952381   0.891111     1.0  0.941830  0.946331"
      ]
     },
     "execution_count": 49,
     "metadata": {},
     "output_type": "execute_result"
    }
   ],
   "source": [
    "results['Promedio'] = results.mean(axis=1)\n",
    "results = results.append(pd.DataFrame(results.mean().to_dict(), index=['Promedio']))\n",
    "results"
   ]
  },
  {
   "cell_type": "code",
   "execution_count": null,
   "metadata": {},
   "outputs": [],
   "source": []
  }
 ],
 "metadata": {
  "kernelspec": {
   "display_name": "tesis",
   "language": "python",
   "name": "tesis"
  },
  "language_info": {
   "codemirror_mode": {
    "name": "ipython",
    "version": 3
   },
   "file_extension": ".py",
   "mimetype": "text/x-python",
   "name": "python",
   "nbconvert_exporter": "python",
   "pygments_lexer": "ipython3",
   "version": "3.8.2"
  }
 },
 "nbformat": 4,
 "nbformat_minor": 4
}
