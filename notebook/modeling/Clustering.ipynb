{
 "cells": [
  {
   "cell_type": "markdown",
   "metadata": {},
   "source": [
    "In this notebook, a clustering of the obtained texts will be done in order to verify the labels they were given originally at the moment of downloading."
   ]
  },
  {
   "cell_type": "markdown",
   "metadata": {},
   "source": [
    "# Importaciones de librerías"
   ]
  },
  {
   "cell_type": "code",
   "execution_count": 1,
   "metadata": {},
   "outputs": [
    {
     "name": "stderr",
     "output_type": "stream",
     "text": [
      "/home/hans/Documentos/Tesis_Chatbot/.env/lib/python3.8/site-packages/sqlalchemy/orm/util.py:104: SAWarning: The 'delete-orphan' cascade option requires 'delete'.\n",
      "  util.warn(\n"
     ]
    }
   ],
   "source": [
    "import matplotlib.pyplot as plt\n",
    "import numpy as np\n",
    "import pandas as pd\n",
    "import seaborn as sns\n",
    "\n",
    "from scikitplot.cluster import plot_elbow_curve\n",
    "from scikitplot.metrics import plot_silhouette\n",
    "from sklearn.cluster import KMeans\n",
    "from sklearn.decomposition import PCA\n",
    "from src.preparation.data_access.obtained_text_da import ObtainedTextDA\n",
    "from typing import List\n",
    "%matplotlib inline"
   ]
  },
  {
   "cell_type": "markdown",
   "metadata": {},
   "source": [
    "# Obteniendo los daots"
   ]
  },
  {
   "cell_type": "code",
   "execution_count": 2,
   "metadata": {},
   "outputs": [
    {
     "data": {
      "text/html": [
       "<div>\n",
       "<style scoped>\n",
       "    .dataframe tbody tr th:only-of-type {\n",
       "        vertical-align: middle;\n",
       "    }\n",
       "\n",
       "    .dataframe tbody tr th {\n",
       "        vertical-align: top;\n",
       "    }\n",
       "\n",
       "    .dataframe thead th {\n",
       "        text-align: right;\n",
       "    }\n",
       "</style>\n",
       "<table border=\"1\" class=\"dataframe\">\n",
       "  <thead>\n",
       "    <tr style=\"text-align: right;\">\n",
       "      <th></th>\n",
       "      <th>CNCADC</th>\n",
       "      <th>CNCAdd</th>\n",
       "      <th>CNCAll</th>\n",
       "      <th>CNCCaus</th>\n",
       "      <th>CNCLogic</th>\n",
       "      <th>CNCTemp</th>\n",
       "      <th>CRFANP1</th>\n",
       "      <th>CRFANPa</th>\n",
       "      <th>CRFAO1</th>\n",
       "      <th>CRFAOa</th>\n",
       "      <th>...</th>\n",
       "      <th>WRDPRP2p</th>\n",
       "      <th>WRDPRP2s</th>\n",
       "      <th>WRDPRP3p</th>\n",
       "      <th>WRDPRP3s</th>\n",
       "      <th>WRDVERB</th>\n",
       "      <th>category</th>\n",
       "      <th>cluster_grade</th>\n",
       "      <th>filename</th>\n",
       "      <th>grade</th>\n",
       "      <th>id</th>\n",
       "    </tr>\n",
       "  </thead>\n",
       "  <tbody>\n",
       "    <tr>\n",
       "      <th>0</th>\n",
       "      <td>3.197442</td>\n",
       "      <td>1.065814</td>\n",
       "      <td>50.892619</td>\n",
       "      <td>15.454303</td>\n",
       "      <td>30.109246</td>\n",
       "      <td>1.065814</td>\n",
       "      <td>0.099526</td>\n",
       "      <td>0.079630</td>\n",
       "      <td>0.236967</td>\n",
       "      <td>0.148887</td>\n",
       "      <td>...</td>\n",
       "      <td>0.0</td>\n",
       "      <td>0.000000</td>\n",
       "      <td>2.398082</td>\n",
       "      <td>10.125233</td>\n",
       "      <td>110.578204</td>\n",
       "      <td>Historia, Geografía y Economía</td>\n",
       "      <td>None</td>\n",
       "      <td>atahualpa.txt</td>\n",
       "      <td>1.0</td>\n",
       "      <td>1.0</td>\n",
       "    </tr>\n",
       "    <tr>\n",
       "      <th>1</th>\n",
       "      <td>2.828854</td>\n",
       "      <td>0.848656</td>\n",
       "      <td>49.504950</td>\n",
       "      <td>11.598303</td>\n",
       "      <td>33.663366</td>\n",
       "      <td>0.565771</td>\n",
       "      <td>0.159722</td>\n",
       "      <td>0.119540</td>\n",
       "      <td>0.291667</td>\n",
       "      <td>0.197797</td>\n",
       "      <td>...</td>\n",
       "      <td>0.0</td>\n",
       "      <td>0.848656</td>\n",
       "      <td>2.545969</td>\n",
       "      <td>8.769448</td>\n",
       "      <td>94.766620</td>\n",
       "      <td>Historia, Geografía y Economía</td>\n",
       "      <td>None</td>\n",
       "      <td>avelino_caceres.txt</td>\n",
       "      <td>1.0</td>\n",
       "      <td>2.0</td>\n",
       "    </tr>\n",
       "    <tr>\n",
       "      <th>2</th>\n",
       "      <td>3.475239</td>\n",
       "      <td>1.737619</td>\n",
       "      <td>58.210252</td>\n",
       "      <td>11.294526</td>\n",
       "      <td>40.834057</td>\n",
       "      <td>0.868810</td>\n",
       "      <td>0.026316</td>\n",
       "      <td>0.019822</td>\n",
       "      <td>0.197368</td>\n",
       "      <td>0.150034</td>\n",
       "      <td>...</td>\n",
       "      <td>0.0</td>\n",
       "      <td>5.212858</td>\n",
       "      <td>1.737619</td>\n",
       "      <td>9.556907</td>\n",
       "      <td>149.435274</td>\n",
       "      <td>Historia, Geografía y Economía</td>\n",
       "      <td>None</td>\n",
       "      <td>cartilla_fenomeno_nino.txt</td>\n",
       "      <td>1.0</td>\n",
       "      <td>3.0</td>\n",
       "    </tr>\n",
       "    <tr>\n",
       "      <th>3</th>\n",
       "      <td>3.530450</td>\n",
       "      <td>2.647838</td>\n",
       "      <td>63.548102</td>\n",
       "      <td>10.591350</td>\n",
       "      <td>44.130627</td>\n",
       "      <td>2.647838</td>\n",
       "      <td>0.035714</td>\n",
       "      <td>0.039216</td>\n",
       "      <td>0.166667</td>\n",
       "      <td>0.142577</td>\n",
       "      <td>...</td>\n",
       "      <td>0.0</td>\n",
       "      <td>9.708738</td>\n",
       "      <td>0.000000</td>\n",
       "      <td>9.708738</td>\n",
       "      <td>151.809356</td>\n",
       "      <td>Historia, Geografía y Economía</td>\n",
       "      <td>None</td>\n",
       "      <td>cartilla_inundaciones.txt</td>\n",
       "      <td>1.0</td>\n",
       "      <td>4.0</td>\n",
       "    </tr>\n",
       "    <tr>\n",
       "      <th>4</th>\n",
       "      <td>3.479990</td>\n",
       "      <td>2.485707</td>\n",
       "      <td>49.714144</td>\n",
       "      <td>13.174248</td>\n",
       "      <td>30.325628</td>\n",
       "      <td>0.248571</td>\n",
       "      <td>0.151515</td>\n",
       "      <td>0.171011</td>\n",
       "      <td>0.430303</td>\n",
       "      <td>0.273384</td>\n",
       "      <td>...</td>\n",
       "      <td>0.0</td>\n",
       "      <td>0.000000</td>\n",
       "      <td>1.739995</td>\n",
       "      <td>10.688541</td>\n",
       "      <td>93.711161</td>\n",
       "      <td>Historia, Geografía y Economía</td>\n",
       "      <td>None</td>\n",
       "      <td>enrique_meiggs.txt</td>\n",
       "      <td>1.0</td>\n",
       "      <td>5.0</td>\n",
       "    </tr>\n",
       "  </tbody>\n",
       "</table>\n",
       "<p>5 rows × 53 columns</p>\n",
       "</div>"
      ],
      "text/plain": [
       "     CNCADC    CNCAdd     CNCAll    CNCCaus   CNCLogic   CNCTemp   CRFANP1  \\\n",
       "0  3.197442  1.065814  50.892619  15.454303  30.109246  1.065814  0.099526   \n",
       "1  2.828854  0.848656  49.504950  11.598303  33.663366  0.565771  0.159722   \n",
       "2  3.475239  1.737619  58.210252  11.294526  40.834057  0.868810  0.026316   \n",
       "3  3.530450  2.647838  63.548102  10.591350  44.130627  2.647838  0.035714   \n",
       "4  3.479990  2.485707  49.714144  13.174248  30.325628  0.248571  0.151515   \n",
       "\n",
       "    CRFANPa    CRFAO1    CRFAOa  ...  WRDPRP2p  WRDPRP2s  WRDPRP3p   WRDPRP3s  \\\n",
       "0  0.079630  0.236967  0.148887  ...       0.0  0.000000  2.398082  10.125233   \n",
       "1  0.119540  0.291667  0.197797  ...       0.0  0.848656  2.545969   8.769448   \n",
       "2  0.019822  0.197368  0.150034  ...       0.0  5.212858  1.737619   9.556907   \n",
       "3  0.039216  0.166667  0.142577  ...       0.0  9.708738  0.000000   9.708738   \n",
       "4  0.171011  0.430303  0.273384  ...       0.0  0.000000  1.739995  10.688541   \n",
       "\n",
       "      WRDVERB                        category  cluster_grade  \\\n",
       "0  110.578204  Historia, Geografía y Economía           None   \n",
       "1   94.766620  Historia, Geografía y Economía           None   \n",
       "2  149.435274  Historia, Geografía y Economía           None   \n",
       "3  151.809356  Historia, Geografía y Economía           None   \n",
       "4   93.711161  Historia, Geografía y Economía           None   \n",
       "\n",
       "                     filename  grade   id  \n",
       "0               atahualpa.txt    1.0  1.0  \n",
       "1         avelino_caceres.txt    1.0  2.0  \n",
       "2  cartilla_fenomeno_nino.txt    1.0  3.0  \n",
       "3   cartilla_inundaciones.txt    1.0  4.0  \n",
       "4          enrique_meiggs.txt    1.0  5.0  \n",
       "\n",
       "[5 rows x 53 columns]"
      ]
     },
     "execution_count": 2,
     "metadata": {},
     "output_type": "execute_result"
    }
   ],
   "source": [
    "ot_da = ObtainedTextDA()\n",
    "texts = ot_da.select_all_as_dataframe()\n",
    "texts.head()"
   ]
  },
  {
   "cell_type": "markdown",
   "metadata": {},
   "source": [
    "# Helper functions"
   ]
  },
  {
   "cell_type": "code",
   "execution_count": 3,
   "metadata": {},
   "outputs": [],
   "source": [
    "def drop_dataset_unnecessary_columns(dataset: pd.DataFrame, cols_to_drop: List[str], target_col: str) -> (pd.DataFrame, pd.DataFrame):\n",
    "    '''\n",
    "    This function drops the columns from the dataset and returns X and y.\n",
    "    \n",
    "    Parameters:\n",
    "    dataset(pd.DataFrame): The dataframe whose columns to drop.\n",
    "    cols_to_drop(List[str]): The name of the columns to drop.\n",
    "    target_col(str): The name of the target column.\n",
    "    \n",
    "    Returns:\n",
    "    (pd.DataFrame, pd.DataFrame): X and y datasets.\n",
    "    '''\n",
    "    X = dataset.drop(columns=cols_to_drop).copy()\n",
    "    X.dropna(inplace=True)\n",
    "    y = dataset[target_col].copy()\n",
    "    return X, y"
   ]
  },
  {
   "cell_type": "code",
   "execution_count": 4,
   "metadata": {},
   "outputs": [],
   "source": [
    "def pca(dataset: pd.DataFrame, n_components: int=2):\n",
    "    '''\n",
    "    This function does the principal component analysis.\n",
    "    \n",
    "    Parameters:\n",
    "    dataset(pd.DataFrame): The dataset to reduce dimensionality.\n",
    "    n_components(int): The amount of dimensions to reduce the dataset:\n",
    "    \n",
    "    Returns:\n",
    "    '''\n",
    "    pca = PCA(n_components=n_components)\n",
    "    pca.fit(dataset)\n",
    "    X = pca.transform(dataset)\n",
    "    return X"
   ]
  },
  {
   "cell_type": "code",
   "execution_count": 14,
   "metadata": {},
   "outputs": [],
   "source": [
    "def plot_multiple_silhouette(data, clusters: int=1):\n",
    "    '''\n",
    "    This function plots the silhouette plot for different amount of clusters.\n",
    "    '''\n",
    "    for i in range(2, clusters+1):\n",
    "        clf = KMeans(n_clusters=i, random_state=43)\n",
    "        clf.fit(data)\n",
    "        cluster_labels = clf.predict(data)\n",
    "        plot_silhouette(data, cluster_labels)\n",
    "        plt.show()"
   ]
  },
  {
   "cell_type": "markdown",
   "metadata": {},
   "source": [
    "# Clustering with all the data"
   ]
  },
  {
   "cell_type": "markdown",
   "metadata": {},
   "source": [
    "## All indices"
   ]
  },
  {
   "cell_type": "markdown",
   "metadata": {},
   "source": [
    "### Splitting the dataset"
   ]
  },
  {
   "cell_type": "code",
   "execution_count": 6,
   "metadata": {},
   "outputs": [
    {
     "data": {
      "text/html": [
       "<div>\n",
       "<style scoped>\n",
       "    .dataframe tbody tr th:only-of-type {\n",
       "        vertical-align: middle;\n",
       "    }\n",
       "\n",
       "    .dataframe tbody tr th {\n",
       "        vertical-align: top;\n",
       "    }\n",
       "\n",
       "    .dataframe thead th {\n",
       "        text-align: right;\n",
       "    }\n",
       "</style>\n",
       "<table border=\"1\" class=\"dataframe\">\n",
       "  <thead>\n",
       "    <tr style=\"text-align: right;\">\n",
       "      <th></th>\n",
       "      <th>CNCADC</th>\n",
       "      <th>CNCAdd</th>\n",
       "      <th>CNCAll</th>\n",
       "      <th>CNCCaus</th>\n",
       "      <th>CNCLogic</th>\n",
       "      <th>CNCTemp</th>\n",
       "      <th>CRFANP1</th>\n",
       "      <th>CRFANPa</th>\n",
       "      <th>CRFAO1</th>\n",
       "      <th>CRFAOa</th>\n",
       "      <th>...</th>\n",
       "      <th>WRDADV</th>\n",
       "      <th>WRDNOUN</th>\n",
       "      <th>WRDPRO</th>\n",
       "      <th>WRDPRP1p</th>\n",
       "      <th>WRDPRP1s</th>\n",
       "      <th>WRDPRP2p</th>\n",
       "      <th>WRDPRP2s</th>\n",
       "      <th>WRDPRP3p</th>\n",
       "      <th>WRDPRP3s</th>\n",
       "      <th>WRDVERB</th>\n",
       "    </tr>\n",
       "  </thead>\n",
       "  <tbody>\n",
       "    <tr>\n",
       "      <th>0</th>\n",
       "      <td>3.197442</td>\n",
       "      <td>1.065814</td>\n",
       "      <td>50.892619</td>\n",
       "      <td>15.454303</td>\n",
       "      <td>30.109246</td>\n",
       "      <td>1.065814</td>\n",
       "      <td>0.099526</td>\n",
       "      <td>0.079630</td>\n",
       "      <td>0.236967</td>\n",
       "      <td>0.148887</td>\n",
       "      <td>...</td>\n",
       "      <td>21.582734</td>\n",
       "      <td>338.395950</td>\n",
       "      <td>38.635758</td>\n",
       "      <td>0.000000</td>\n",
       "      <td>0.000000</td>\n",
       "      <td>0.0</td>\n",
       "      <td>0.000000</td>\n",
       "      <td>2.398082</td>\n",
       "      <td>10.125233</td>\n",
       "      <td>110.578204</td>\n",
       "    </tr>\n",
       "    <tr>\n",
       "      <th>1</th>\n",
       "      <td>2.828854</td>\n",
       "      <td>0.848656</td>\n",
       "      <td>49.504950</td>\n",
       "      <td>11.598303</td>\n",
       "      <td>33.663366</td>\n",
       "      <td>0.565771</td>\n",
       "      <td>0.159722</td>\n",
       "      <td>0.119540</td>\n",
       "      <td>0.291667</td>\n",
       "      <td>0.197797</td>\n",
       "      <td>...</td>\n",
       "      <td>25.176803</td>\n",
       "      <td>305.516266</td>\n",
       "      <td>38.189533</td>\n",
       "      <td>0.848656</td>\n",
       "      <td>0.565771</td>\n",
       "      <td>0.0</td>\n",
       "      <td>0.848656</td>\n",
       "      <td>2.545969</td>\n",
       "      <td>8.769448</td>\n",
       "      <td>94.766620</td>\n",
       "    </tr>\n",
       "    <tr>\n",
       "      <th>2</th>\n",
       "      <td>3.475239</td>\n",
       "      <td>1.737619</td>\n",
       "      <td>58.210252</td>\n",
       "      <td>11.294526</td>\n",
       "      <td>40.834057</td>\n",
       "      <td>0.868810</td>\n",
       "      <td>0.026316</td>\n",
       "      <td>0.019822</td>\n",
       "      <td>0.197368</td>\n",
       "      <td>0.150034</td>\n",
       "      <td>...</td>\n",
       "      <td>38.227628</td>\n",
       "      <td>278.019114</td>\n",
       "      <td>32.145960</td>\n",
       "      <td>0.000000</td>\n",
       "      <td>0.000000</td>\n",
       "      <td>0.0</td>\n",
       "      <td>5.212858</td>\n",
       "      <td>1.737619</td>\n",
       "      <td>9.556907</td>\n",
       "      <td>149.435274</td>\n",
       "    </tr>\n",
       "    <tr>\n",
       "      <th>3</th>\n",
       "      <td>3.530450</td>\n",
       "      <td>2.647838</td>\n",
       "      <td>63.548102</td>\n",
       "      <td>10.591350</td>\n",
       "      <td>44.130627</td>\n",
       "      <td>2.647838</td>\n",
       "      <td>0.035714</td>\n",
       "      <td>0.039216</td>\n",
       "      <td>0.166667</td>\n",
       "      <td>0.142577</td>\n",
       "      <td>...</td>\n",
       "      <td>47.661077</td>\n",
       "      <td>265.666372</td>\n",
       "      <td>52.956752</td>\n",
       "      <td>0.000000</td>\n",
       "      <td>0.000000</td>\n",
       "      <td>0.0</td>\n",
       "      <td>9.708738</td>\n",
       "      <td>0.000000</td>\n",
       "      <td>9.708738</td>\n",
       "      <td>151.809356</td>\n",
       "    </tr>\n",
       "    <tr>\n",
       "      <th>4</th>\n",
       "      <td>3.479990</td>\n",
       "      <td>2.485707</td>\n",
       "      <td>49.714144</td>\n",
       "      <td>13.174248</td>\n",
       "      <td>30.325628</td>\n",
       "      <td>0.248571</td>\n",
       "      <td>0.151515</td>\n",
       "      <td>0.171011</td>\n",
       "      <td>0.430303</td>\n",
       "      <td>0.273384</td>\n",
       "      <td>...</td>\n",
       "      <td>26.348496</td>\n",
       "      <td>325.130500</td>\n",
       "      <td>38.528461</td>\n",
       "      <td>0.000000</td>\n",
       "      <td>0.000000</td>\n",
       "      <td>0.0</td>\n",
       "      <td>0.000000</td>\n",
       "      <td>1.739995</td>\n",
       "      <td>10.688541</td>\n",
       "      <td>93.711161</td>\n",
       "    </tr>\n",
       "  </tbody>\n",
       "</table>\n",
       "<p>5 rows × 48 columns</p>\n",
       "</div>"
      ],
      "text/plain": [
       "     CNCADC    CNCAdd     CNCAll    CNCCaus   CNCLogic   CNCTemp   CRFANP1  \\\n",
       "0  3.197442  1.065814  50.892619  15.454303  30.109246  1.065814  0.099526   \n",
       "1  2.828854  0.848656  49.504950  11.598303  33.663366  0.565771  0.159722   \n",
       "2  3.475239  1.737619  58.210252  11.294526  40.834057  0.868810  0.026316   \n",
       "3  3.530450  2.647838  63.548102  10.591350  44.130627  2.647838  0.035714   \n",
       "4  3.479990  2.485707  49.714144  13.174248  30.325628  0.248571  0.151515   \n",
       "\n",
       "    CRFANPa    CRFAO1    CRFAOa  ...     WRDADV     WRDNOUN     WRDPRO  \\\n",
       "0  0.079630  0.236967  0.148887  ...  21.582734  338.395950  38.635758   \n",
       "1  0.119540  0.291667  0.197797  ...  25.176803  305.516266  38.189533   \n",
       "2  0.019822  0.197368  0.150034  ...  38.227628  278.019114  32.145960   \n",
       "3  0.039216  0.166667  0.142577  ...  47.661077  265.666372  52.956752   \n",
       "4  0.171011  0.430303  0.273384  ...  26.348496  325.130500  38.528461   \n",
       "\n",
       "   WRDPRP1p  WRDPRP1s  WRDPRP2p  WRDPRP2s  WRDPRP3p   WRDPRP3s     WRDVERB  \n",
       "0  0.000000  0.000000       0.0  0.000000  2.398082  10.125233  110.578204  \n",
       "1  0.848656  0.565771       0.0  0.848656  2.545969   8.769448   94.766620  \n",
       "2  0.000000  0.000000       0.0  5.212858  1.737619   9.556907  149.435274  \n",
       "3  0.000000  0.000000       0.0  9.708738  0.000000   9.708738  151.809356  \n",
       "4  0.000000  0.000000       0.0  0.000000  1.739995  10.688541   93.711161  \n",
       "\n",
       "[5 rows x 48 columns]"
      ]
     },
     "execution_count": 6,
     "metadata": {},
     "output_type": "execute_result"
    }
   ],
   "source": [
    "X_all, y = drop_dataset_unnecessary_columns(texts, ['filename', 'category', 'cluster_grade', 'grade', 'id'], 'grade')\n",
    "X_all.head()"
   ]
  },
  {
   "cell_type": "code",
   "execution_count": 7,
   "metadata": {},
   "outputs": [
    {
     "data": {
      "text/html": [
       "<div>\n",
       "<style scoped>\n",
       "    .dataframe tbody tr th:only-of-type {\n",
       "        vertical-align: middle;\n",
       "    }\n",
       "\n",
       "    .dataframe tbody tr th {\n",
       "        vertical-align: top;\n",
       "    }\n",
       "\n",
       "    .dataframe thead th {\n",
       "        text-align: right;\n",
       "    }\n",
       "</style>\n",
       "<table border=\"1\" class=\"dataframe\">\n",
       "  <thead>\n",
       "    <tr style=\"text-align: right;\">\n",
       "      <th></th>\n",
       "      <th>X</th>\n",
       "      <th>Y</th>\n",
       "    </tr>\n",
       "  </thead>\n",
       "  <tbody>\n",
       "    <tr>\n",
       "      <th>0</th>\n",
       "      <td>-14831.708976</td>\n",
       "      <td>-576.807399</td>\n",
       "    </tr>\n",
       "    <tr>\n",
       "      <th>1</th>\n",
       "      <td>-15052.672004</td>\n",
       "      <td>-597.777172</td>\n",
       "    </tr>\n",
       "    <tr>\n",
       "      <th>2</th>\n",
       "      <td>-17436.001514</td>\n",
       "      <td>-509.943641</td>\n",
       "    </tr>\n",
       "    <tr>\n",
       "      <th>3</th>\n",
       "      <td>-17453.097463</td>\n",
       "      <td>-496.906271</td>\n",
       "    </tr>\n",
       "    <tr>\n",
       "      <th>4</th>\n",
       "      <td>-14563.855177</td>\n",
       "      <td>-594.852101</td>\n",
       "    </tr>\n",
       "    <tr>\n",
       "      <th>...</th>\n",
       "      <td>...</td>\n",
       "      <td>...</td>\n",
       "    </tr>\n",
       "    <tr>\n",
       "      <th>179</th>\n",
       "      <td>2222.947837</td>\n",
       "      <td>-296.263711</td>\n",
       "    </tr>\n",
       "    <tr>\n",
       "      <th>180</th>\n",
       "      <td>48957.472036</td>\n",
       "      <td>-132.573092</td>\n",
       "    </tr>\n",
       "    <tr>\n",
       "      <th>181</th>\n",
       "      <td>79080.286912</td>\n",
       "      <td>-4287.176560</td>\n",
       "    </tr>\n",
       "    <tr>\n",
       "      <th>182</th>\n",
       "      <td>4332.093731</td>\n",
       "      <td>-916.911141</td>\n",
       "    </tr>\n",
       "    <tr>\n",
       "      <th>183</th>\n",
       "      <td>43907.843608</td>\n",
       "      <td>-409.058851</td>\n",
       "    </tr>\n",
       "  </tbody>\n",
       "</table>\n",
       "<p>184 rows × 2 columns</p>\n",
       "</div>"
      ],
      "text/plain": [
       "                X            Y\n",
       "0   -14831.708976  -576.807399\n",
       "1   -15052.672004  -597.777172\n",
       "2   -17436.001514  -509.943641\n",
       "3   -17453.097463  -496.906271\n",
       "4   -14563.855177  -594.852101\n",
       "..            ...          ...\n",
       "179   2222.947837  -296.263711\n",
       "180  48957.472036  -132.573092\n",
       "181  79080.286912 -4287.176560\n",
       "182   4332.093731  -916.911141\n",
       "183  43907.843608  -409.058851\n",
       "\n",
       "[184 rows x 2 columns]"
      ]
     },
     "execution_count": 7,
     "metadata": {},
     "output_type": "execute_result"
    }
   ],
   "source": [
    "X_all_two_dim = pd.DataFrame(pca(X_all, 2), columns=['X', 'Y'])\n",
    "X_all_two_dim"
   ]
  },
  {
   "cell_type": "code",
   "execution_count": 8,
   "metadata": {},
   "outputs": [
    {
     "data": {
      "image/png": "[encoded data removed]",
      "text/plain": [
       "<Figure size 432x288 with 1 Axes>"
      ]
     },
     "metadata": {
      "needs_background": "light"
     },
     "output_type": "display_data"
    }
   ],
   "source": [
    "sns.scatterplot(data=pd.concat([X_all_two_dim, y], axis=1), x='X', y='Y', hue='grade')\n",
    "plt.show()"
   ]
  },
  {
   "cell_type": "code",
   "execution_count": 23,
   "metadata": {},
   "outputs": [
    {
     "data": {
      "image/png": "[encoded data removed]",
      "text/plain": [
       "<Figure size 432x288 with 2 Axes>"
      ]
     },
     "metadata": {
      "needs_background": "light"
     },
     "output_type": "display_data"
    }
   ],
   "source": [
    "plot_elbow_curve(clf=KMeans(random_state=43), X=X_all, cluster_ranges=range(1, 6))\n",
    "plt.show()"
   ]
  },
  {
   "cell_type": "code",
   "execution_count": 24,
   "metadata": {},
   "outputs": [
    {
     "data": {
      "image/png": "[encoded data removed]",
      "text/plain": [
       "<Figure size 432x288 with 1 Axes>"
      ]
     },
     "metadata": {
      "needs_background": "light"
     },
     "output_type": "display_data"
    },
    {
     "data": {
      "image/png": "[encoded data removed]",
      "text/plain": [
       "<Figure size 432x288 with 1 Axes>"
      ]
     },
     "metadata": {
      "needs_background": "light"
     },
     "output_type": "display_data"
    },
    {
     "data": {
      "image/png": "[encoded data removed]",
      "text/plain": [
       "<Figure size 432x288 with 1 Axes>"
      ]
     },
     "metadata": {
      "needs_background": "light"
     },
     "output_type": "display_data"
    },
    {
     "data": {
      "image/png": "[encoded data removed]",
      "text/plain": [
       "<Figure size 432x288 with 1 Axes>"
      ]
     },
     "metadata": {
      "needs_background": "light"
     },
     "output_type": "display_data"
    }
   ],
   "source": [
    "plot_multiple_silhouette(X_all, 5)"
   ]
  },
  {
   "cell_type": "code",
   "execution_count": 31,
   "metadata": {},
   "outputs": [
    {
     "data": {
      "image/png": "[encoded data removed]",
      "text/plain": [
       "<Figure size 432x288 with 1 Axes>"
      ]
     },
     "metadata": {
      "needs_background": "light"
     },
     "output_type": "display_data"
    }
   ],
   "source": [
    "clf = KMeans(n_clusters=2, random_state=43)\n",
    "clf.fit(X_all)\n",
    "cluster_labels = pd.DataFrame(clf.predict(X_all), columns=['grade'])\n",
    "sns.scatterplot(data=pd.concat([X_all_two_dim, cluster_labels], axis=1), x='X', y='Y', hue='grade')\n",
    "plt.show()"
   ]
  },
  {
   "cell_type": "code",
   "execution_count": null,
   "metadata": {},
   "outputs": [],
   "source": []
  }
 ],
 "metadata": {
  "kernelspec": {
   "display_name": "myenv",
   "language": "python",
   "name": "myenv"
  },
  "language_info": {
   "codemirror_mode": {
    "name": "ipython",
    "version": 3
   },
   "file_extension": ".py",
   "mimetype": "text/x-python",
   "name": "python",
   "nbconvert_exporter": "python",
   "pygments_lexer": "ipython3",
   "version": "3.8.2"
  }
 },
 "nbformat": 4,
 "nbformat_minor": 4
}
