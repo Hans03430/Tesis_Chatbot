{
 "cells": [
  {
   "cell_type": "markdown",
   "metadata": {},
   "source": [
    "# Importaciones de librerías"
   ]
  },
  {
   "cell_type": "code",
   "execution_count": 15,
   "metadata": {},
   "outputs": [],
   "source": [
    "import pandas as pd\n",
    "import pickle\n",
    "\n",
    "\n",
    "from scikitplot.metrics import plot_confusion_matrix\n",
    "from sklearn.linear_model import LogisticRegression\n",
    "from sklearn.linear_model import Perceptron\n",
    "from sklearn.model_selection import GridSearchCV\n",
    "from sklearn.model_selection import train_test_split\n",
    "from sklearn.metrics import make_scorer\n",
    "from sklearn.metrics import accuracy_score\n",
    "from sklearn.metrics import f1_score\n",
    "from sklearn.metrics import recall_score\n",
    "from sklearn.metrics import precision_score\n",
    "from sklearn.ensemble import AdaBoostClassifier\n",
    "from sklearn.ensemble import GradientBoostingClassifier\n",
    "from sklearn.ensemble import RandomForestClassifier\n",
    "from sklearn.ensemble import StackingClassifier\n",
    "from sklearn.ensemble import VotingClassifier\n",
    "from sklearn.neighbors import KNeighborsClassifier\n",
    "from sklearn.preprocessing import MinMaxScaler\n",
    "from sklearn.svm import SVC\n",
    "from sklearn.tree import DecisionTreeClassifier\n",
    "from src.modeling.utils.utils import print_scores\n",
    "from src.modeling.utils.utils import drop_dataset_unnecessary_columns\n",
    "from src.modeling.utils.utils import train_test_model\n",
    "from src.preparation.data_access.obtained_text_da import ObtainedTextDA\n",
    "from src.processing.constants import BASE_DIRECTORY"
   ]
  },
  {
   "cell_type": "markdown",
   "metadata": {},
   "source": [
    "# Constantes"
   ]
  },
  {
   "cell_type": "markdown",
   "metadata": {},
   "source": [
    "Se obtendrán aquí todos los documentos de todos los dominios/categorías."
   ]
  },
  {
   "cell_type": "code",
   "execution_count": 16,
   "metadata": {},
   "outputs": [
    {
     "data": {
      "text/html": [
       "<div>\n",
       "<style scoped>\n",
       "    .dataframe tbody tr th:only-of-type {\n",
       "        vertical-align: middle;\n",
       "    }\n",
       "\n",
       "    .dataframe tbody tr th {\n",
       "        vertical-align: top;\n",
       "    }\n",
       "\n",
       "    .dataframe thead th {\n",
       "        text-align: right;\n",
       "    }\n",
       "</style>\n",
       "<table border=\"1\" class=\"dataframe\">\n",
       "  <thead>\n",
       "    <tr style=\"text-align: right;\">\n",
       "      <th></th>\n",
       "      <th>CNCADC</th>\n",
       "      <th>CNCAdd</th>\n",
       "      <th>CNCAll</th>\n",
       "      <th>CNCCaus</th>\n",
       "      <th>CNCLogic</th>\n",
       "      <th>CNCTemp</th>\n",
       "      <th>CRFANP1</th>\n",
       "      <th>CRFANPa</th>\n",
       "      <th>CRFAO1</th>\n",
       "      <th>CRFAOa</th>\n",
       "      <th>...</th>\n",
       "      <th>WRDPRP1s</th>\n",
       "      <th>WRDPRP2p</th>\n",
       "      <th>WRDPRP2s</th>\n",
       "      <th>WRDPRP3p</th>\n",
       "      <th>WRDPRP3s</th>\n",
       "      <th>WRDVERB</th>\n",
       "      <th>category</th>\n",
       "      <th>filename</th>\n",
       "      <th>grade</th>\n",
       "      <th>id</th>\n",
       "    </tr>\n",
       "  </thead>\n",
       "  <tbody>\n",
       "    <tr>\n",
       "      <th>0</th>\n",
       "      <td>5.595524</td>\n",
       "      <td>0.532907</td>\n",
       "      <td>56.754596</td>\n",
       "      <td>17.319478</td>\n",
       "      <td>30.109246</td>\n",
       "      <td>3.197442</td>\n",
       "      <td>0.099526</td>\n",
       "      <td>0.079630</td>\n",
       "      <td>0.236967</td>\n",
       "      <td>0.148887</td>\n",
       "      <td>...</td>\n",
       "      <td>0.000000</td>\n",
       "      <td>0.000000</td>\n",
       "      <td>0.000000</td>\n",
       "      <td>2.398082</td>\n",
       "      <td>10.125233</td>\n",
       "      <td>110.578204</td>\n",
       "      <td>Historia, Geografía y Economía</td>\n",
       "      <td>atahualpa.txt</td>\n",
       "      <td>1.0</td>\n",
       "      <td>1.0</td>\n",
       "    </tr>\n",
       "    <tr>\n",
       "      <th>1</th>\n",
       "      <td>4.526167</td>\n",
       "      <td>0.848656</td>\n",
       "      <td>56.294201</td>\n",
       "      <td>13.861386</td>\n",
       "      <td>33.663366</td>\n",
       "      <td>3.394625</td>\n",
       "      <td>0.159722</td>\n",
       "      <td>0.119540</td>\n",
       "      <td>0.291667</td>\n",
       "      <td>0.197797</td>\n",
       "      <td>...</td>\n",
       "      <td>0.565771</td>\n",
       "      <td>0.000000</td>\n",
       "      <td>0.848656</td>\n",
       "      <td>2.545969</td>\n",
       "      <td>8.769448</td>\n",
       "      <td>94.766620</td>\n",
       "      <td>Historia, Geografía y Economía</td>\n",
       "      <td>avelino_caceres.txt</td>\n",
       "      <td>1.0</td>\n",
       "      <td>2.0</td>\n",
       "    </tr>\n",
       "    <tr>\n",
       "      <th>2</th>\n",
       "      <td>1.737619</td>\n",
       "      <td>0.000000</td>\n",
       "      <td>59.079062</td>\n",
       "      <td>11.294526</td>\n",
       "      <td>40.834057</td>\n",
       "      <td>5.212858</td>\n",
       "      <td>0.026316</td>\n",
       "      <td>0.019822</td>\n",
       "      <td>0.197368</td>\n",
       "      <td>0.150034</td>\n",
       "      <td>...</td>\n",
       "      <td>0.000000</td>\n",
       "      <td>0.000000</td>\n",
       "      <td>5.212858</td>\n",
       "      <td>1.737619</td>\n",
       "      <td>9.556907</td>\n",
       "      <td>149.435274</td>\n",
       "      <td>Historia, Geografía y Economía</td>\n",
       "      <td>cartilla_fenomeno_nino.txt</td>\n",
       "      <td>1.0</td>\n",
       "      <td>3.0</td>\n",
       "    </tr>\n",
       "    <tr>\n",
       "      <th>3</th>\n",
       "      <td>1.765225</td>\n",
       "      <td>1.765225</td>\n",
       "      <td>64.430715</td>\n",
       "      <td>12.356575</td>\n",
       "      <td>44.130627</td>\n",
       "      <td>4.413063</td>\n",
       "      <td>0.035714</td>\n",
       "      <td>0.039216</td>\n",
       "      <td>0.166667</td>\n",
       "      <td>0.142577</td>\n",
       "      <td>...</td>\n",
       "      <td>0.000000</td>\n",
       "      <td>0.000000</td>\n",
       "      <td>9.708738</td>\n",
       "      <td>0.000000</td>\n",
       "      <td>9.708738</td>\n",
       "      <td>151.809356</td>\n",
       "      <td>Historia, Geografía y Economía</td>\n",
       "      <td>cartilla_inundaciones.txt</td>\n",
       "      <td>1.0</td>\n",
       "      <td>4.0</td>\n",
       "    </tr>\n",
       "    <tr>\n",
       "      <th>4</th>\n",
       "      <td>5.965697</td>\n",
       "      <td>0.248571</td>\n",
       "      <td>52.945563</td>\n",
       "      <td>13.422819</td>\n",
       "      <td>30.325628</td>\n",
       "      <td>2.982849</td>\n",
       "      <td>0.151515</td>\n",
       "      <td>0.171011</td>\n",
       "      <td>0.430303</td>\n",
       "      <td>0.273384</td>\n",
       "      <td>...</td>\n",
       "      <td>0.000000</td>\n",
       "      <td>0.000000</td>\n",
       "      <td>0.000000</td>\n",
       "      <td>1.739995</td>\n",
       "      <td>10.688541</td>\n",
       "      <td>93.711161</td>\n",
       "      <td>Historia, Geografía y Economía</td>\n",
       "      <td>enrique_meiggs.txt</td>\n",
       "      <td>1.0</td>\n",
       "      <td>5.0</td>\n",
       "    </tr>\n",
       "    <tr>\n",
       "      <th>...</th>\n",
       "      <td>...</td>\n",
       "      <td>...</td>\n",
       "      <td>...</td>\n",
       "      <td>...</td>\n",
       "      <td>...</td>\n",
       "      <td>...</td>\n",
       "      <td>...</td>\n",
       "      <td>...</td>\n",
       "      <td>...</td>\n",
       "      <td>...</td>\n",
       "      <td>...</td>\n",
       "      <td>...</td>\n",
       "      <td>...</td>\n",
       "      <td>...</td>\n",
       "      <td>...</td>\n",
       "      <td>...</td>\n",
       "      <td>...</td>\n",
       "      <td>...</td>\n",
       "      <td>...</td>\n",
       "      <td>...</td>\n",
       "      <td>...</td>\n",
       "    </tr>\n",
       "    <tr>\n",
       "      <th>178</th>\n",
       "      <td>10.168675</td>\n",
       "      <td>1.012048</td>\n",
       "      <td>60.096386</td>\n",
       "      <td>15.084337</td>\n",
       "      <td>24.626506</td>\n",
       "      <td>9.204819</td>\n",
       "      <td>0.153777</td>\n",
       "      <td>0.113482</td>\n",
       "      <td>0.229317</td>\n",
       "      <td>0.130330</td>\n",
       "      <td>...</td>\n",
       "      <td>12.144578</td>\n",
       "      <td>2.650602</td>\n",
       "      <td>15.180723</td>\n",
       "      <td>2.409639</td>\n",
       "      <td>20.192771</td>\n",
       "      <td>118.265060</td>\n",
       "      <td>Comunicación</td>\n",
       "      <td>seis_personajes_busca.txt</td>\n",
       "      <td>2.0</td>\n",
       "      <td>179.0</td>\n",
       "    </tr>\n",
       "    <tr>\n",
       "      <th>179</th>\n",
       "      <td>8.489796</td>\n",
       "      <td>0.593692</td>\n",
       "      <td>56.653061</td>\n",
       "      <td>15.762523</td>\n",
       "      <td>25.751391</td>\n",
       "      <td>6.055659</td>\n",
       "      <td>0.072211</td>\n",
       "      <td>0.051115</td>\n",
       "      <td>0.170490</td>\n",
       "      <td>0.105130</td>\n",
       "      <td>...</td>\n",
       "      <td>10.241187</td>\n",
       "      <td>0.044527</td>\n",
       "      <td>2.077922</td>\n",
       "      <td>1.128015</td>\n",
       "      <td>9.261596</td>\n",
       "      <td>108.897959</td>\n",
       "      <td>Comunicación</td>\n",
       "      <td>viaje_centro_tierra.txt</td>\n",
       "      <td>2.0</td>\n",
       "      <td>180.0</td>\n",
       "    </tr>\n",
       "    <tr>\n",
       "      <th>180</th>\n",
       "      <td>8.669041</td>\n",
       "      <td>0.941620</td>\n",
       "      <td>74.623352</td>\n",
       "      <td>19.456726</td>\n",
       "      <td>40.274707</td>\n",
       "      <td>5.281258</td>\n",
       "      <td>0.328918</td>\n",
       "      <td>0.254774</td>\n",
       "      <td>0.546726</td>\n",
       "      <td>0.382347</td>\n",
       "      <td>...</td>\n",
       "      <td>20.848686</td>\n",
       "      <td>0.194465</td>\n",
       "      <td>0.020470</td>\n",
       "      <td>3.531073</td>\n",
       "      <td>13.745599</td>\n",
       "      <td>114.120200</td>\n",
       "      <td>Comunicación</td>\n",
       "      <td>viajes_gulliver.txt</td>\n",
       "      <td>2.0</td>\n",
       "      <td>181.0</td>\n",
       "    </tr>\n",
       "    <tr>\n",
       "      <th>181</th>\n",
       "      <td>4.147928</td>\n",
       "      <td>0.218312</td>\n",
       "      <td>82.958564</td>\n",
       "      <td>22.355150</td>\n",
       "      <td>52.045584</td>\n",
       "      <td>4.191591</td>\n",
       "      <td>0.287313</td>\n",
       "      <td>0.192939</td>\n",
       "      <td>0.375622</td>\n",
       "      <td>0.225790</td>\n",
       "      <td>...</td>\n",
       "      <td>22.879099</td>\n",
       "      <td>0.480286</td>\n",
       "      <td>2.357770</td>\n",
       "      <td>2.969043</td>\n",
       "      <td>22.922761</td>\n",
       "      <td>102.606645</td>\n",
       "      <td>Comunicación</td>\n",
       "      <td>vida_lazarillo_tormes.txt</td>\n",
       "      <td>2.0</td>\n",
       "      <td>182.0</td>\n",
       "    </tr>\n",
       "    <tr>\n",
       "      <th>182</th>\n",
       "      <td>8.836926</td>\n",
       "      <td>0.561329</td>\n",
       "      <td>64.119836</td>\n",
       "      <td>15.604953</td>\n",
       "      <td>30.776880</td>\n",
       "      <td>8.339749</td>\n",
       "      <td>0.094280</td>\n",
       "      <td>0.075108</td>\n",
       "      <td>0.196321</td>\n",
       "      <td>0.116191</td>\n",
       "      <td>...</td>\n",
       "      <td>2.036823</td>\n",
       "      <td>0.785861</td>\n",
       "      <td>0.176418</td>\n",
       "      <td>1.443418</td>\n",
       "      <td>11.499230</td>\n",
       "      <td>111.351681</td>\n",
       "      <td>Comunicación</td>\n",
       "      <td>vuelta_mundo_80.txt</td>\n",
       "      <td>2.0</td>\n",
       "      <td>183.0</td>\n",
       "    </tr>\n",
       "  </tbody>\n",
       "</table>\n",
       "<p>183 rows × 52 columns</p>\n",
       "</div>"
      ],
      "text/plain": [
       "        CNCADC    CNCAdd     CNCAll    CNCCaus   CNCLogic   CNCTemp   CRFANP1  \\\n",
       "0     5.595524  0.532907  56.754596  17.319478  30.109246  3.197442  0.099526   \n",
       "1     4.526167  0.848656  56.294201  13.861386  33.663366  3.394625  0.159722   \n",
       "2     1.737619  0.000000  59.079062  11.294526  40.834057  5.212858  0.026316   \n",
       "3     1.765225  1.765225  64.430715  12.356575  44.130627  4.413063  0.035714   \n",
       "4     5.965697  0.248571  52.945563  13.422819  30.325628  2.982849  0.151515   \n",
       "..         ...       ...        ...        ...        ...       ...       ...   \n",
       "178  10.168675  1.012048  60.096386  15.084337  24.626506  9.204819  0.153777   \n",
       "179   8.489796  0.593692  56.653061  15.762523  25.751391  6.055659  0.072211   \n",
       "180   8.669041  0.941620  74.623352  19.456726  40.274707  5.281258  0.328918   \n",
       "181   4.147928  0.218312  82.958564  22.355150  52.045584  4.191591  0.287313   \n",
       "182   8.836926  0.561329  64.119836  15.604953  30.776880  8.339749  0.094280   \n",
       "\n",
       "      CRFANPa    CRFAO1    CRFAOa  ...   WRDPRP1s  WRDPRP2p   WRDPRP2s  \\\n",
       "0    0.079630  0.236967  0.148887  ...   0.000000  0.000000   0.000000   \n",
       "1    0.119540  0.291667  0.197797  ...   0.565771  0.000000   0.848656   \n",
       "2    0.019822  0.197368  0.150034  ...   0.000000  0.000000   5.212858   \n",
       "3    0.039216  0.166667  0.142577  ...   0.000000  0.000000   9.708738   \n",
       "4    0.171011  0.430303  0.273384  ...   0.000000  0.000000   0.000000   \n",
       "..        ...       ...       ...  ...        ...       ...        ...   \n",
       "178  0.113482  0.229317  0.130330  ...  12.144578  2.650602  15.180723   \n",
       "179  0.051115  0.170490  0.105130  ...  10.241187  0.044527   2.077922   \n",
       "180  0.254774  0.546726  0.382347  ...  20.848686  0.194465   0.020470   \n",
       "181  0.192939  0.375622  0.225790  ...  22.879099  0.480286   2.357770   \n",
       "182  0.075108  0.196321  0.116191  ...   2.036823  0.785861   0.176418   \n",
       "\n",
       "     WRDPRP3p   WRDPRP3s     WRDVERB                        category  \\\n",
       "0    2.398082  10.125233  110.578204  Historia, Geografía y Economía   \n",
       "1    2.545969   8.769448   94.766620  Historia, Geografía y Economía   \n",
       "2    1.737619   9.556907  149.435274  Historia, Geografía y Economía   \n",
       "3    0.000000   9.708738  151.809356  Historia, Geografía y Economía   \n",
       "4    1.739995  10.688541   93.711161  Historia, Geografía y Economía   \n",
       "..        ...        ...         ...                             ...   \n",
       "178  2.409639  20.192771  118.265060                    Comunicación   \n",
       "179  1.128015   9.261596  108.897959                    Comunicación   \n",
       "180  3.531073  13.745599  114.120200                    Comunicación   \n",
       "181  2.969043  22.922761  102.606645                    Comunicación   \n",
       "182  1.443418  11.499230  111.351681                    Comunicación   \n",
       "\n",
       "                       filename  grade     id  \n",
       "0                 atahualpa.txt    1.0    1.0  \n",
       "1           avelino_caceres.txt    1.0    2.0  \n",
       "2    cartilla_fenomeno_nino.txt    1.0    3.0  \n",
       "3     cartilla_inundaciones.txt    1.0    4.0  \n",
       "4            enrique_meiggs.txt    1.0    5.0  \n",
       "..                          ...    ...    ...  \n",
       "178   seis_personajes_busca.txt    2.0  179.0  \n",
       "179     viaje_centro_tierra.txt    2.0  180.0  \n",
       "180         viajes_gulliver.txt    2.0  181.0  \n",
       "181   vida_lazarillo_tormes.txt    2.0  182.0  \n",
       "182         vuelta_mundo_80.txt    2.0  183.0  \n",
       "\n",
       "[183 rows x 52 columns]"
      ]
     },
     "execution_count": 16,
     "metadata": {},
     "output_type": "execute_result"
    }
   ],
   "source": [
    "OT_DA = ObtainedTextDA()\n",
    "TEXTS = OT_DA.select_all_as_dataframe().drop(columns=['cluster_grade'])\n",
    "TEST_SIZE = 0.2\n",
    "DATA_COLUMNS = [c for c in TEXTS.columns if c not in ['category', 'filename', 'grade', 'id']]\n",
    "TEXTS"
   ]
  },
  {
   "cell_type": "markdown",
   "metadata": {},
   "source": [
    "# Experimento de aprendizaje supervisado"
   ]
  },
  {
   "cell_type": "markdown",
   "metadata": {},
   "source": [
    "En esta sección se entrenarán los modelos de aprendizaje supervisado, siendo estos calibrados mediante el método Grid Search sobre la métrica \"Accuracy\"."
   ]
  },
  {
   "cell_type": "markdown",
   "metadata": {},
   "source": [
    "## Preprocesando los datos"
   ]
  },
  {
   "cell_type": "markdown",
   "metadata": {},
   "source": [
    "Se realizará un escalamiento de datos usando la clase MinMaxScaler de scikit learn."
   ]
  },
  {
   "cell_type": "code",
   "execution_count": 17,
   "metadata": {},
   "outputs": [
    {
     "data": {
      "text/plain": [
       "((146, 48), (37, 48), (146,), (37,))"
      ]
     },
     "execution_count": 17,
     "metadata": {},
     "output_type": "execute_result"
    }
   ],
   "source": [
    "X, y = drop_dataset_unnecessary_columns(TEXTS, ['filename', 'category', 'grade', 'id'], 'grade')\n",
    "X[DATA_COLUMNS] = MinMaxScaler().fit_transform(X[DATA_COLUMNS])\n",
    "X_train, X_test, y_train, y_test = train_test_split(X, y, random_state=43, test_size=TEST_SIZE, stratify=y)\n",
    "X_train.shape, X_test.shape, y_train.shape, y_test.shape"
   ]
  },
  {
   "cell_type": "markdown",
   "metadata": {},
   "source": [
    "## Entrenando los modelos"
   ]
  },
  {
   "cell_type": "code",
   "execution_count": 18,
   "metadata": {},
   "outputs": [],
   "source": [
    "results = pd.DataFrame()"
   ]
  },
  {
   "cell_type": "markdown",
   "metadata": {},
   "source": [
    "### Regresión Logística"
   ]
  },
  {
   "cell_type": "code",
   "execution_count": 19,
   "metadata": {},
   "outputs": [
    {
     "name": "stdout",
     "output_type": "stream",
     "text": [
      "Fitting 5 folds for each of 450 candidates, totalling 2250 fits\n"
     ]
    },
    {
     "name": "stderr",
     "output_type": "stream",
     "text": [
      "[Parallel(n_jobs=-1)]: Using backend LokyBackend with 8 concurrent workers.\n",
      "[Parallel(n_jobs=-1)]: Done  34 tasks      | elapsed:    1.4s\n",
      "[Parallel(n_jobs=-1)]: Done 1680 tasks      | elapsed:    5.3s\n",
      "[Parallel(n_jobs=-1)]: Done 2250 out of 2250 | elapsed:    6.9s finished\n",
      "/home/hans/Proyectos/Python/Tesis_Chatbot/env/lib/python3.8/site-packages/sklearn/linear_model/_sag.py:329: ConvergenceWarning: The max_iter was reached which means the coef_ did not converge\n",
      "  warnings.warn(\"The max_iter was reached which means \"\n"
     ]
    },
    {
     "data": {
      "text/plain": [
       "{'C': 10, 'max_iter': 100, 'random_state': 43, 'solver': 'saga', 'tol': 1e-05}"
      ]
     },
     "execution_count": 19,
     "metadata": {},
     "output_type": "execute_result"
    }
   ],
   "source": [
    "lr_gs = GridSearchCV(LogisticRegression(), param_grid = {\n",
    "    'C': [0.001, 0.01, 0.1, 1, 10],\n",
    "    'tol': [0.00001, 0.0001, 0.001, 0.01, 0.1, 1],\n",
    "    'solver': ['newton-cg', 'lbfgs', 'liblinear', 'sag', 'saga'],\n",
    "    'max_iter': [100, 1000, 10000],\n",
    "    'random_state': [43]\n",
    "}, scoring = {\n",
    "    'Recall': make_scorer(recall_score),\n",
    "    'Accuracy': make_scorer(accuracy_score),\n",
    "    'f1': make_scorer(f1_score),\n",
    "    'Precision': make_scorer(precision_score)\n",
    "}, refit='Accuracy', n_jobs=-1, verbose=1)\n",
    "lr_gs.fit(X_train, y_train)\n",
    "lr_gs.best_params_"
   ]
  },
  {
   "cell_type": "code",
   "execution_count": 20,
   "metadata": {
    "scrolled": false
   },
   "outputs": [
    {
     "name": "stdout",
     "output_type": "stream",
     "text": [
      "The accuracy score is: 0.8918918918918919\n",
      "The precision score is: 0.9333333333333333\n",
      "The recall score is: 0.8235294117647058\n",
      "The F1 score is: 0.8749999999999999\n"
     ]
    },
    {
     "name": "stderr",
     "output_type": "stream",
     "text": [
      "/home/hans/Proyectos/Python/Tesis_Chatbot/env/lib/python3.8/site-packages/sklearn/linear_model/_sag.py:329: ConvergenceWarning: The max_iter was reached which means the coef_ did not converge\n",
      "  warnings.warn(\"The max_iter was reached which means \"\n"
     ]
    }
   ],
   "source": [
    "results, y_pred = train_test_model(model=LogisticRegression,\n",
    "                                   model_name='Logistic Regression',\n",
    "                                   params=lr_gs.best_params_,\n",
    "                                   X_train=X_train,\n",
    "                                   y_train=y_train,\n",
    "                                   X_test=X_test,\n",
    "                                   y_test=y_test,\n",
    "                                   results=results)"
   ]
  },
  {
   "cell_type": "markdown",
   "metadata": {},
   "source": [
    "#### Matriz de confusión"
   ]
  },
  {
   "cell_type": "code",
   "execution_count": 21,
   "metadata": {},
   "outputs": [
    {
     "data": {
      "text/plain": [
       "<AxesSubplot:title={'center':'Confusion Matrix'}, xlabel='Predicted label', ylabel='True label'>"
      ]
     },
     "execution_count": 21,
     "metadata": {},
     "output_type": "execute_result"
    },
    {
     "data": {
      "image/png": "[encoded data removed]",
      "text/plain": [
       "<Figure size 432x288 with 2 Axes>"
      ]
     },
     "metadata": {
      "needs_background": "light"
     },
     "output_type": "display_data"
    }
   ],
   "source": [
    "plot_confusion_matrix(y_test, y_pred)"
   ]
  },
  {
   "cell_type": "markdown",
   "metadata": {},
   "source": [
    "### Máquina de soporte de vectores"
   ]
  },
  {
   "cell_type": "code",
   "execution_count": 22,
   "metadata": {},
   "outputs": [
    {
     "name": "stdout",
     "output_type": "stream",
     "text": [
      "Fitting 5 folds for each of 240 candidates, totalling 1200 fits\n"
     ]
    },
    {
     "name": "stderr",
     "output_type": "stream",
     "text": [
      "[Parallel(n_jobs=-1)]: Using backend LokyBackend with 8 concurrent workers.\n",
      "[Parallel(n_jobs=-1)]: Done  56 tasks      | elapsed:    0.4s\n",
      "[Parallel(n_jobs=-1)]: Done 1200 out of 1200 | elapsed:    3.5s finished\n"
     ]
    },
    {
     "data": {
      "text/plain": [
       "{'C': 1,\n",
       " 'gamma': 'scale',\n",
       " 'kernel': 'rbf',\n",
       " 'probability': True,\n",
       " 'random_state': 43,\n",
       " 'tol': 0.1}"
      ]
     },
     "execution_count": 22,
     "metadata": {},
     "output_type": "execute_result"
    }
   ],
   "source": [
    "svm_gs = GridSearchCV(SVC(), param_grid = {\n",
    "    'C': [0.001, 0.01, 0.1, 1, 10],\n",
    "    'tol': [0.00001, 0.0001, 0.001, 0.01, 0.1, 1],\n",
    "    'kernel': ['linear', 'poly', 'rbf', 'sigmoid'],\n",
    "    'gamma': ['scale', 'auto'],\n",
    "    'random_state': [43],\n",
    "    'probability': [True]\n",
    "}, scoring = {\n",
    "    'Recall': make_scorer(recall_score),\n",
    "    'Accuracy': make_scorer(accuracy_score),\n",
    "    'f1': make_scorer(f1_score),\n",
    "    'Precision': make_scorer(precision_score)\n",
    "}, refit='Accuracy', n_jobs=-1, verbose=1)\n",
    "svm_gs.fit(X_train, y_train)\n",
    "svm_gs.best_params_"
   ]
  },
  {
   "cell_type": "code",
   "execution_count": 23,
   "metadata": {},
   "outputs": [
    {
     "name": "stdout",
     "output_type": "stream",
     "text": [
      "The accuracy score is: 0.8918918918918919\n",
      "The precision score is: 0.8823529411764706\n",
      "The recall score is: 0.8823529411764706\n",
      "The F1 score is: 0.8823529411764706\n"
     ]
    }
   ],
   "source": [
    "results, y_pred = train_test_model(model=SVC,\n",
    "                           model_name='Support Vector Machine',\n",
    "                           params=svm_gs.best_params_,\n",
    "                           X_train=X_train,\n",
    "                           y_train=y_train,\n",
    "                           X_test=X_test,\n",
    "                           y_test=y_test,\n",
    "                           results=results)"
   ]
  },
  {
   "cell_type": "markdown",
   "metadata": {},
   "source": [
    "#### Matriz de confusión"
   ]
  },
  {
   "cell_type": "code",
   "execution_count": 24,
   "metadata": {
    "scrolled": false
   },
   "outputs": [
    {
     "data": {
      "text/plain": [
       "<AxesSubplot:title={'center':'Confusion Matrix'}, xlabel='Predicted label', ylabel='True label'>"
      ]
     },
     "execution_count": 24,
     "metadata": {},
     "output_type": "execute_result"
    },
    {
     "data": {
      "image/png": "[encoded data removed]",
      "text/plain": [
       "<Figure size 432x288 with 2 Axes>"
      ]
     },
     "metadata": {
      "needs_background": "light"
     },
     "output_type": "display_data"
    }
   ],
   "source": [
    "plot_confusion_matrix(y_test, y_pred)"
   ]
  },
  {
   "cell_type": "markdown",
   "metadata": {},
   "source": [
    "### Árbol de decisión"
   ]
  },
  {
   "cell_type": "code",
   "execution_count": 25,
   "metadata": {},
   "outputs": [
    {
     "name": "stdout",
     "output_type": "stream",
     "text": [
      "Fitting 5 folds for each of 176 candidates, totalling 880 fits\n"
     ]
    },
    {
     "name": "stderr",
     "output_type": "stream",
     "text": [
      "[Parallel(n_jobs=-1)]: Using backend LokyBackend with 8 concurrent workers.\n",
      "[Parallel(n_jobs=-1)]: Done  56 tasks      | elapsed:    0.3s\n",
      "[Parallel(n_jobs=-1)]: Done 880 out of 880 | elapsed:    1.5s finished\n"
     ]
    },
    {
     "data": {
      "text/plain": [
       "{'criterion': 'gini',\n",
       " 'max_depth': None,\n",
       " 'max_features': 'auto',\n",
       " 'random_state': 43,\n",
       " 'splitter': 'random'}"
      ]
     },
     "execution_count": 25,
     "metadata": {},
     "output_type": "execute_result"
    }
   ],
   "source": [
    "dtc_gs = GridSearchCV(DecisionTreeClassifier(), param_grid = {\n",
    "    'criterion': ['gini', 'entropy'],\n",
    "    'splitter': ['best', 'random'],\n",
    "    'max_depth': [1, 2, 3, 4, 5, 6 ,7 ,8, 9, 10, None],\n",
    "    'max_features': ['auto', 'sqrt', 'log2', None],\n",
    "    'random_state': [43]\n",
    "}, scoring = {\n",
    "    'Recall': make_scorer(recall_score),\n",
    "    'Accuracy': make_scorer(accuracy_score),\n",
    "    'f1': make_scorer(f1_score),\n",
    "    'Precision': make_scorer(precision_score)\n",
    "}, refit='Accuracy', n_jobs=-1, verbose=1)\n",
    "dtc_gs.fit(X_train, y_train)\n",
    "dtc_gs.best_params_"
   ]
  },
  {
   "cell_type": "code",
   "execution_count": 26,
   "metadata": {},
   "outputs": [
    {
     "name": "stdout",
     "output_type": "stream",
     "text": [
      "The accuracy score is: 0.8108108108108109\n",
      "The precision score is: 0.8571428571428571\n",
      "The recall score is: 0.7058823529411765\n",
      "The F1 score is: 0.7741935483870968\n"
     ]
    }
   ],
   "source": [
    "results, y_pred = train_test_model(model=DecisionTreeClassifier,\n",
    "                           model_name='Decision Tree',\n",
    "                           params=dtc_gs.best_params_,\n",
    "                           X_train=X_train,\n",
    "                           y_train=y_train,\n",
    "                           X_test=X_test,\n",
    "                           y_test=y_test,\n",
    "                           results=results)"
   ]
  },
  {
   "cell_type": "markdown",
   "metadata": {},
   "source": [
    "#### Matriz de confusión"
   ]
  },
  {
   "cell_type": "code",
   "execution_count": 27,
   "metadata": {
    "scrolled": false
   },
   "outputs": [
    {
     "data": {
      "text/plain": [
       "<AxesSubplot:title={'center':'Confusion Matrix'}, xlabel='Predicted label', ylabel='True label'>"
      ]
     },
     "execution_count": 27,
     "metadata": {},
     "output_type": "execute_result"
    },
    {
     "data": {
      "image/png": "[encoded data removed]",
      "text/plain": [
       "<Figure size 432x288 with 2 Axes>"
      ]
     },
     "metadata": {
      "needs_background": "light"
     },
     "output_type": "display_data"
    }
   ],
   "source": [
    "plot_confusion_matrix(y_test, y_pred)"
   ]
  },
  {
   "cell_type": "markdown",
   "metadata": {},
   "source": [
    "### Bosque aleatorio"
   ]
  },
  {
   "cell_type": "code",
   "execution_count": 28,
   "metadata": {},
   "outputs": [
    {
     "name": "stdout",
     "output_type": "stream",
     "text": [
      "Fitting 5 folds for each of 352 candidates, totalling 1760 fits\n"
     ]
    },
    {
     "name": "stderr",
     "output_type": "stream",
     "text": [
      "[Parallel(n_jobs=-1)]: Using backend LokyBackend with 8 concurrent workers.\n",
      "[Parallel(n_jobs=-1)]: Done  52 tasks      | elapsed:    2.4s\n",
      "[Parallel(n_jobs=-1)]: Done 352 tasks      | elapsed:   16.9s\n",
      "[Parallel(n_jobs=-1)]: Done 658 tasks      | elapsed:   33.6s\n",
      "[Parallel(n_jobs=-1)]: Done 1008 tasks      | elapsed:   51.8s\n",
      "[Parallel(n_jobs=-1)]: Done 1458 tasks      | elapsed:  1.3min\n",
      "[Parallel(n_jobs=-1)]: Done 1760 out of 1760 | elapsed:  1.6min finished\n"
     ]
    },
    {
     "data": {
      "text/plain": [
       "{'criterion': 'gini',\n",
       " 'max_depth': 6,\n",
       " 'max_features': 'auto',\n",
       " 'n_estimators': 200,\n",
       " 'random_state': 43}"
      ]
     },
     "execution_count": 28,
     "metadata": {},
     "output_type": "execute_result"
    }
   ],
   "source": [
    "rfc_gs = GridSearchCV(RandomForestClassifier(), param_grid = {\n",
    "    'criterion': ['gini', 'entropy'],\n",
    "    'n_estimators': [50, 100, 200, 400],\n",
    "    'max_depth': [1, 2, 3, 4, 5, 6 ,7 ,8, 9, 10, None],\n",
    "    'max_features': ['auto', 'sqrt', 'log2', None],\n",
    "    'random_state': [43]\n",
    "}, scoring = {\n",
    "    'Recall': make_scorer(recall_score),\n",
    "    'Accuracy': make_scorer(accuracy_score),\n",
    "    'f1': make_scorer(f1_score),\n",
    "    'Precision': make_scorer(precision_score)\n",
    "}, refit='Accuracy', n_jobs=-1, verbose=1)\n",
    "rfc_gs.fit(X_train, y_train)\n",
    "rfc_gs.best_params_"
   ]
  },
  {
   "cell_type": "code",
   "execution_count": 29,
   "metadata": {},
   "outputs": [
    {
     "name": "stdout",
     "output_type": "stream",
     "text": [
      "The accuracy score is: 0.8648648648648649\n",
      "The precision score is: 0.875\n",
      "The recall score is: 0.8235294117647058\n",
      "The F1 score is: 0.8484848484848485\n"
     ]
    }
   ],
   "source": [
    "results, y_pred = train_test_model(model=RandomForestClassifier,\n",
    "                           model_name='Random Forest',\n",
    "                           params=rfc_gs.best_params_,\n",
    "                           X_train=X_train,\n",
    "                           y_train=y_train,\n",
    "                           X_test=X_test,\n",
    "                           y_test=y_test,\n",
    "                           results=results)"
   ]
  },
  {
   "cell_type": "markdown",
   "metadata": {},
   "source": [
    "#### Matriz de confusión"
   ]
  },
  {
   "cell_type": "code",
   "execution_count": 30,
   "metadata": {
    "scrolled": true
   },
   "outputs": [
    {
     "data": {
      "text/plain": [
       "<AxesSubplot:title={'center':'Confusion Matrix'}, xlabel='Predicted label', ylabel='True label'>"
      ]
     },
     "execution_count": 30,
     "metadata": {},
     "output_type": "execute_result"
    },
    {
     "data": {
      "image/png": "[encoded data removed]",
      "text/plain": [
       "<Figure size 432x288 with 2 Axes>"
      ]
     },
     "metadata": {
      "needs_background": "light"
     },
     "output_type": "display_data"
    }
   ],
   "source": [
    "plot_confusion_matrix(y_test, y_pred)"
   ]
  },
  {
   "cell_type": "markdown",
   "metadata": {},
   "source": [
    "### K Nearest Neighbors"
   ]
  },
  {
   "cell_type": "code",
   "execution_count": 31,
   "metadata": {},
   "outputs": [
    {
     "name": "stdout",
     "output_type": "stream",
     "text": [
      "Fitting 5 folds for each of 160 candidates, totalling 800 fits\n"
     ]
    },
    {
     "name": "stderr",
     "output_type": "stream",
     "text": [
      "[Parallel(n_jobs=-1)]: Using backend LokyBackend with 8 concurrent workers.\n",
      "[Parallel(n_jobs=-1)]: Done  56 tasks      | elapsed:    0.3s\n",
      "[Parallel(n_jobs=-1)]: Done 800 out of 800 | elapsed:    1.5s finished\n"
     ]
    },
    {
     "data": {
      "text/plain": [
       "{'algorithm': 'auto', 'n_neighbors': 1, 'p': 1, 'weights': 'uniform'}"
      ]
     },
     "execution_count": 31,
     "metadata": {},
     "output_type": "execute_result"
    }
   ],
   "source": [
    "knn_gs = GridSearchCV(KNeighborsClassifier(), param_grid = {\n",
    "    'n_neighbors': range(1, 11),\n",
    "    'weights': ['uniform', 'distance'],\n",
    "    'algorithm': ['auto', 'ball_tree', 'kd_tree', 'brute'],\n",
    "    'p': [1, 2]\n",
    "}, scoring = {\n",
    "    'Recall': make_scorer(recall_score),\n",
    "    'Accuracy': make_scorer(accuracy_score),\n",
    "    'f1': make_scorer(f1_score),\n",
    "    'Precision': make_scorer(precision_score)\n",
    "}, refit='Accuracy', n_jobs=-1, verbose=1)\n",
    "knn_gs.fit(X_train, y_train)\n",
    "knn_gs.best_params_"
   ]
  },
  {
   "cell_type": "code",
   "execution_count": 32,
   "metadata": {},
   "outputs": [
    {
     "name": "stdout",
     "output_type": "stream",
     "text": [
      "The accuracy score is: 0.918918918918919\n",
      "The precision score is: 0.9375\n",
      "The recall score is: 0.8823529411764706\n",
      "The F1 score is: 0.9090909090909091\n"
     ]
    }
   ],
   "source": [
    "results, y_pred = train_test_model(model=KNeighborsClassifier,\n",
    "                           model_name='K Nearest Neighbors',\n",
    "                           params=knn_gs.best_params_,\n",
    "                           X_train=X_train,\n",
    "                           y_train=y_train,\n",
    "                           X_test=X_test,\n",
    "                           y_test=y_test,\n",
    "                           results=results)"
   ]
  },
  {
   "cell_type": "markdown",
   "metadata": {},
   "source": [
    "#### Matriz de confusión"
   ]
  },
  {
   "cell_type": "code",
   "execution_count": 33,
   "metadata": {
    "scrolled": false
   },
   "outputs": [
    {
     "data": {
      "text/plain": [
       "<AxesSubplot:title={'center':'Confusion Matrix'}, xlabel='Predicted label', ylabel='True label'>"
      ]
     },
     "execution_count": 33,
     "metadata": {},
     "output_type": "execute_result"
    },
    {
     "data": {
      "image/png": "[encoded data removed]",
      "text/plain": [
       "<Figure size 432x288 with 2 Axes>"
      ]
     },
     "metadata": {
      "needs_background": "light"
     },
     "output_type": "display_data"
    }
   ],
   "source": [
    "plot_confusion_matrix(y_test, y_pred)"
   ]
  },
  {
   "cell_type": "markdown",
   "metadata": {},
   "source": [
    "### Perceptron"
   ]
  },
  {
   "cell_type": "code",
   "execution_count": 34,
   "metadata": {},
   "outputs": [
    {
     "name": "stdout",
     "output_type": "stream",
     "text": [
      "Fitting 5 folds for each of 450 candidates, totalling 2250 fits\n"
     ]
    },
    {
     "name": "stderr",
     "output_type": "stream",
     "text": [
      "[Parallel(n_jobs=-1)]: Using backend LokyBackend with 8 concurrent workers.\n",
      "[Parallel(n_jobs=-1)]: Done  56 tasks      | elapsed:    0.2s\n",
      "[Parallel(n_jobs=-1)]: Done 2115 tasks      | elapsed:    4.6s\n",
      "[Parallel(n_jobs=-1)]: Done 2250 out of 2250 | elapsed:    4.9s finished\n"
     ]
    },
    {
     "data": {
      "text/plain": [
       "{'alpha': 0.0001,\n",
       " 'early_stopping': True,\n",
       " 'max_iter': 100,\n",
       " 'penalty': 'l1',\n",
       " 'tol': 0.1}"
      ]
     },
     "execution_count": 34,
     "metadata": {},
     "output_type": "execute_result"
    }
   ],
   "source": [
    "p_gs = GridSearchCV(Perceptron(), param_grid = {\n",
    "    'penalty': ['l2', 'l1', 'elasticnet'],\n",
    "    'alpha': [1, 0.1, 0.01, 0.001, 0.0001],\n",
    "    'max_iter': [100, 1000, 10000],\n",
    "    'tol': [1, 0.1, 0.01, 0.001, 0.0001],\n",
    "    'early_stopping': [False, True]\n",
    "}, scoring = {\n",
    "    'Recall': make_scorer(recall_score),\n",
    "    'Accuracy': make_scorer(accuracy_score),\n",
    "    'f1': make_scorer(f1_score),\n",
    "    'Precision': make_scorer(precision_score)\n",
    "}, refit='Accuracy', n_jobs=-1, verbose=1)\n",
    "p_gs.fit(X_train, y_train)\n",
    "p_gs.best_params_"
   ]
  },
  {
   "cell_type": "code",
   "execution_count": 35,
   "metadata": {},
   "outputs": [
    {
     "name": "stdout",
     "output_type": "stream",
     "text": [
      "The accuracy score is: 0.5945945945945946\n",
      "The precision score is: 0.53125\n",
      "The recall score is: 1.0\n",
      "The F1 score is: 0.6938775510204082\n"
     ]
    }
   ],
   "source": [
    "results, y_pred = train_test_model(model=Perceptron,\n",
    "                           model_name='Perceptron',\n",
    "                           params=p_gs.best_params_,\n",
    "                           X_train=X_train,\n",
    "                           y_train=y_train,\n",
    "                           X_test=X_test,\n",
    "                           y_test=y_test,\n",
    "                           results=results)"
   ]
  },
  {
   "cell_type": "markdown",
   "metadata": {},
   "source": [
    "#### Matriz de confusión"
   ]
  },
  {
   "cell_type": "code",
   "execution_count": 36,
   "metadata": {
    "scrolled": true
   },
   "outputs": [
    {
     "data": {
      "text/plain": [
       "<AxesSubplot:title={'center':'Confusion Matrix'}, xlabel='Predicted label', ylabel='True label'>"
      ]
     },
     "execution_count": 36,
     "metadata": {},
     "output_type": "execute_result"
    },
    {
     "data": {
      "image/png": "[encoded data removed]",
      "text/plain": [
       "<Figure size 432x288 with 2 Axes>"
      ]
     },
     "metadata": {
      "needs_background": "light"
     },
     "output_type": "display_data"
    }
   ],
   "source": [
    "plot_confusion_matrix(y_test, y_pred)"
   ]
  },
  {
   "cell_type": "markdown",
   "metadata": {},
   "source": [
    "### Ada Boost"
   ]
  },
  {
   "cell_type": "code",
   "execution_count": 37,
   "metadata": {},
   "outputs": [
    {
     "name": "stdout",
     "output_type": "stream",
     "text": [
      "Fitting 5 folds for each of 40 candidates, totalling 200 fits\n"
     ]
    },
    {
     "name": "stderr",
     "output_type": "stream",
     "text": [
      "[Parallel(n_jobs=-1)]: Using backend LokyBackend with 8 concurrent workers.\n",
      "[Parallel(n_jobs=-1)]: Done  52 tasks      | elapsed:    2.9s\n",
      "[Parallel(n_jobs=-1)]: Done 200 out of 200 | elapsed:   11.4s finished\n"
     ]
    },
    {
     "data": {
      "text/plain": [
       "{'algorithm': 'SAMME.R',\n",
       " 'learning_rate': 1,\n",
       " 'n_estimators': 400,\n",
       " 'random_state': 43}"
      ]
     },
     "execution_count": 37,
     "metadata": {},
     "output_type": "execute_result"
    }
   ],
   "source": [
    "ab_gs = GridSearchCV(AdaBoostClassifier(), param_grid = {\n",
    "    'learning_rate': [1, 0.1, 0.01, 0.001, 0.0001],\n",
    "    'n_estimators': [50, 100, 200, 400],\n",
    "    'algorithm': ['SAMME', 'SAMME.R'],\n",
    "    'random_state': [43]\n",
    "}, scoring = {\n",
    "    'Recall': make_scorer(recall_score),\n",
    "    'Accuracy': make_scorer(accuracy_score),\n",
    "    'f1': make_scorer(f1_score),\n",
    "    'Precision': make_scorer(precision_score)\n",
    "}, refit='Accuracy', n_jobs=-1, verbose=1)\n",
    "ab_gs.fit(X_train, y_train)\n",
    "ab_gs.best_params_"
   ]
  },
  {
   "cell_type": "code",
   "execution_count": 38,
   "metadata": {
    "scrolled": true
   },
   "outputs": [
    {
     "name": "stdout",
     "output_type": "stream",
     "text": [
      "The accuracy score is: 0.8108108108108109\n",
      "The precision score is: 0.8571428571428571\n",
      "The recall score is: 0.7058823529411765\n",
      "The F1 score is: 0.7741935483870968\n"
     ]
    }
   ],
   "source": [
    "results, y_pred = train_test_model(model=AdaBoostClassifier,\n",
    "                           model_name='Ada Boost',\n",
    "                           params=ab_gs.best_params_,\n",
    "                           X_train=X_train,\n",
    "                           y_train=y_train,\n",
    "                           X_test=X_test,\n",
    "                           y_test=y_test,\n",
    "                           results=results)"
   ]
  },
  {
   "cell_type": "markdown",
   "metadata": {},
   "source": [
    "#### Matriz de confusión"
   ]
  },
  {
   "cell_type": "code",
   "execution_count": 39,
   "metadata": {
    "scrolled": false
   },
   "outputs": [
    {
     "data": {
      "text/plain": [
       "<AxesSubplot:title={'center':'Confusion Matrix'}, xlabel='Predicted label', ylabel='True label'>"
      ]
     },
     "execution_count": 39,
     "metadata": {},
     "output_type": "execute_result"
    },
    {
     "data": {
      "image/png": "[encoded data removed]",
      "text/plain": [
       "<Figure size 432x288 with 2 Axes>"
      ]
     },
     "metadata": {
      "needs_background": "light"
     },
     "output_type": "display_data"
    }
   ],
   "source": [
    "plot_confusion_matrix(y_test, y_pred)"
   ]
  },
  {
   "cell_type": "markdown",
   "metadata": {},
   "source": [
    "### Gradient Boosting"
   ]
  },
  {
   "cell_type": "code",
   "execution_count": 40,
   "metadata": {},
   "outputs": [
    {
     "name": "stdout",
     "output_type": "stream",
     "text": [
      "Fitting 5 folds for each of 3600 candidates, totalling 18000 fits\n"
     ]
    },
    {
     "name": "stderr",
     "output_type": "stream",
     "text": [
      "[Parallel(n_jobs=-1)]: Using backend LokyBackend with 8 concurrent workers.\n",
      "[Parallel(n_jobs=-1)]: Done  52 tasks      | elapsed:    1.0s\n",
      "[Parallel(n_jobs=-1)]: Done 352 tasks      | elapsed:   11.4s\n",
      "[Parallel(n_jobs=-1)]: Done 650 tasks      | elapsed:   25.8s\n",
      "[Parallel(n_jobs=-1)]: Done 1000 tasks      | elapsed:   41.2s\n",
      "[Parallel(n_jobs=-1)]: Done 1450 tasks      | elapsed:  1.1min\n",
      "[Parallel(n_jobs=-1)]: Done 2000 tasks      | elapsed:  1.6min\n",
      "[Parallel(n_jobs=-1)]: Done 2650 tasks      | elapsed:  2.1min\n",
      "[Parallel(n_jobs=-1)]: Done 3400 tasks      | elapsed:  2.8min\n",
      "[Parallel(n_jobs=-1)]: Done 4250 tasks      | elapsed:  3.7min\n",
      "[Parallel(n_jobs=-1)]: Done 5200 tasks      | elapsed:  4.5min\n",
      "[Parallel(n_jobs=-1)]: Done 6250 tasks      | elapsed:  5.5min\n",
      "[Parallel(n_jobs=-1)]: Done 7400 tasks      | elapsed:  6.5min\n",
      "[Parallel(n_jobs=-1)]: Done 8650 tasks      | elapsed:  7.6min\n",
      "[Parallel(n_jobs=-1)]: Done 10000 tasks      | elapsed:  8.9min\n",
      "[Parallel(n_jobs=-1)]: Done 11450 tasks      | elapsed: 10.3min\n",
      "[Parallel(n_jobs=-1)]: Done 13000 tasks      | elapsed: 13.7min\n",
      "[Parallel(n_jobs=-1)]: Done 14650 tasks      | elapsed: 18.1min\n",
      "[Parallel(n_jobs=-1)]: Done 16400 tasks      | elapsed: 23.0min\n",
      "[Parallel(n_jobs=-1)]: Done 18000 out of 18000 | elapsed: 27.7min finished\n"
     ]
    },
    {
     "data": {
      "text/plain": [
       "{'criterion': 'friedman_mse',\n",
       " 'learning_rate': 1,\n",
       " 'loss': 'exponential',\n",
       " 'max_depth': 4,\n",
       " 'max_features': 'log2',\n",
       " 'n_estimators': 100,\n",
       " 'random_state': 43}"
      ]
     },
     "execution_count": 40,
     "metadata": {},
     "output_type": "execute_result"
    }
   ],
   "source": [
    "gb_gs = GridSearchCV(GradientBoostingClassifier(), param_grid = {\n",
    "    'learning_rate': [1, 0.1, 0.01, 0.001, 0.0001],\n",
    "    'n_estimators': [50, 100, 200, 400],\n",
    "    'loss': ['deviance', 'exponential'],\n",
    "    'criterion': ['friedman_mse', 'mse', 'mae'],\n",
    "    'max_depth': range(1, 11),\n",
    "    'max_features': ['auto', 'sqrt', 'log2'],\n",
    "    'random_state': [43]\n",
    "}, scoring = {\n",
    "    'Recall': make_scorer(recall_score),\n",
    "    'Accuracy': make_scorer(accuracy_score),\n",
    "    'f1': make_scorer(f1_score),\n",
    "    'Precision': make_scorer(precision_score)\n",
    "}, refit='Accuracy', n_jobs=-1, verbose=1)\n",
    "gb_gs.fit(X_train, y_train)\n",
    "gb_gs.best_params_"
   ]
  },
  {
   "cell_type": "code",
   "execution_count": 41,
   "metadata": {
    "scrolled": true
   },
   "outputs": [
    {
     "name": "stdout",
     "output_type": "stream",
     "text": [
      "The accuracy score is: 0.8918918918918919\n",
      "The precision score is: 0.8823529411764706\n",
      "The recall score is: 0.8823529411764706\n",
      "The F1 score is: 0.8823529411764706\n"
     ]
    }
   ],
   "source": [
    "results, y_pred = train_test_model(model=GradientBoostingClassifier,\n",
    "                                   model_name='Gradient Boosting',\n",
    "                                   params=gb_gs.best_params_,\n",
    "                                   X_train=X_train,\n",
    "                                   y_train=y_train,\n",
    "                                   X_test=X_test,\n",
    "                                   y_test=y_test,\n",
    "                                   results=results)"
   ]
  },
  {
   "cell_type": "markdown",
   "metadata": {},
   "source": [
    "#### Matriz de confusión"
   ]
  },
  {
   "cell_type": "code",
   "execution_count": 42,
   "metadata": {
    "scrolled": true
   },
   "outputs": [
    {
     "data": {
      "text/plain": [
       "<AxesSubplot:title={'center':'Confusion Matrix'}, xlabel='Predicted label', ylabel='True label'>"
      ]
     },
     "execution_count": 42,
     "metadata": {},
     "output_type": "execute_result"
    },
    {
     "data": {
      "image/png": "[encoded data removed]",
      "text/plain": [
       "<Figure size 432x288 with 2 Axes>"
      ]
     },
     "metadata": {
      "needs_background": "light"
     },
     "output_type": "display_data"
    }
   ],
   "source": [
    "plot_confusion_matrix(y_test, y_pred)"
   ]
  },
  {
   "cell_type": "markdown",
   "metadata": {},
   "source": [
    "### Voting"
   ]
  },
  {
   "cell_type": "code",
   "execution_count": 43,
   "metadata": {},
   "outputs": [
    {
     "name": "stdout",
     "output_type": "stream",
     "text": [
      "Fitting 5 folds for each of 4 candidates, totalling 20 fits\n"
     ]
    },
    {
     "name": "stderr",
     "output_type": "stream",
     "text": [
      "[Parallel(n_jobs=-1)]: Using backend LokyBackend with 8 concurrent workers.\n",
      "[Parallel(n_jobs=-1)]: Done  20 out of  20 | elapsed:    4.2s finished\n",
      "/home/hans/Proyectos/Python/Tesis_Chatbot/env/lib/python3.8/site-packages/sklearn/linear_model/_sag.py:329: ConvergenceWarning: The max_iter was reached which means the coef_ did not converge\n",
      "  warnings.warn(\"The max_iter was reached which means \"\n"
     ]
    },
    {
     "data": {
      "text/plain": [
       "{'flatten_transform': True, 'voting': 'soft'}"
      ]
     },
     "execution_count": 43,
     "metadata": {},
     "output_type": "execute_result"
    }
   ],
   "source": [
    "v_gs = GridSearchCV(VotingClassifier(estimators=[\n",
    "    ('lr', LogisticRegression(**lr_gs.best_params_)),\n",
    "    ('svm', SVC(**svm_gs.best_params_)),\n",
    "    ('dt', DecisionTreeClassifier(**dtc_gs.best_params_)),\n",
    "    ('rf', RandomForestClassifier(**rfc_gs.best_params_)),\n",
    "    ('knn', KNeighborsClassifier(**knn_gs.best_params_)),\n",
    "    ('ab', AdaBoostClassifier(**ab_gs.best_params_)),\n",
    "    ('gb', GradientBoostingClassifier(**gb_gs.best_params_))\n",
    "]), param_grid = {\n",
    "    'voting': ['soft', 'hard'],\n",
    "    'flatten_transform': [True, False]\n",
    "}, scoring = {\n",
    "    'Recall': make_scorer(recall_score),\n",
    "    'Accuracy': make_scorer(accuracy_score),\n",
    "    'f1': make_scorer(f1_score),\n",
    "    'Precision': make_scorer(precision_score)\n",
    "}, refit='Accuracy', n_jobs=-1, verbose=1)\n",
    "v_gs.fit(X_train, y_train)\n",
    "v_gs.best_params_"
   ]
  },
  {
   "cell_type": "code",
   "execution_count": 44,
   "metadata": {
    "scrolled": false
   },
   "outputs": [
    {
     "name": "stderr",
     "output_type": "stream",
     "text": [
      "/home/hans/Proyectos/Python/Tesis_Chatbot/env/lib/python3.8/site-packages/sklearn/linear_model/_sag.py:329: ConvergenceWarning: The max_iter was reached which means the coef_ did not converge\n",
      "  warnings.warn(\"The max_iter was reached which means \"\n"
     ]
    },
    {
     "name": "stdout",
     "output_type": "stream",
     "text": [
      "The accuracy score is: 0.8918918918918919\n",
      "The precision score is: 0.8823529411764706\n",
      "The recall score is: 0.8823529411764706\n",
      "The F1 score is: 0.8823529411764706\n"
     ]
    }
   ],
   "source": [
    "results, y_pred = train_test_model(model=VotingClassifier,\n",
    "                                   estimators=[\n",
    "                                                ('lr', LogisticRegression(**lr_gs.best_params_)),\n",
    "                                                ('svm', SVC(**svm_gs.best_params_)),\n",
    "                                                ('dt', DecisionTreeClassifier(**dtc_gs.best_params_)),\n",
    "                                                ('rf', RandomForestClassifier(**rfc_gs.best_params_)),\n",
    "                                                ('knn', KNeighborsClassifier(**knn_gs.best_params_)),\n",
    "                                                ('ab', AdaBoostClassifier(**ab_gs.best_params_)),\n",
    "                                                ('gb', GradientBoostingClassifier(**gb_gs.best_params_))\n",
    "                                            ],\n",
    "                                   model_name='Voting',\n",
    "                                   params=v_gs.best_params_,\n",
    "                                   X_train=X_train,\n",
    "                                   y_train=y_train,\n",
    "                                   X_test=X_test,\n",
    "                                   y_test=y_test,\n",
    "                                   results=results)"
   ]
  },
  {
   "cell_type": "markdown",
   "metadata": {},
   "source": [
    "#### Matriz de confusión"
   ]
  },
  {
   "cell_type": "code",
   "execution_count": 45,
   "metadata": {
    "scrolled": true
   },
   "outputs": [
    {
     "data": {
      "text/plain": [
       "<AxesSubplot:title={'center':'Confusion Matrix'}, xlabel='Predicted label', ylabel='True label'>"
      ]
     },
     "execution_count": 45,
     "metadata": {},
     "output_type": "execute_result"
    },
    {
     "data": {
      "image/png": "[encoded data removed]",
      "text/plain": [
       "<Figure size 432x288 with 2 Axes>"
      ]
     },
     "metadata": {
      "needs_background": "light"
     },
     "output_type": "display_data"
    }
   ],
   "source": [
    "plot_confusion_matrix(y_test, y_pred)"
   ]
  },
  {
   "cell_type": "markdown",
   "metadata": {},
   "source": [
    "### Stacking"
   ]
  },
  {
   "cell_type": "code",
   "execution_count": 46,
   "metadata": {},
   "outputs": [
    {
     "name": "stdout",
     "output_type": "stream",
     "text": [
      "Fitting 5 folds for each of 8 candidates, totalling 40 fits\n"
     ]
    },
    {
     "name": "stderr",
     "output_type": "stream",
     "text": [
      "[Parallel(n_jobs=-1)]: Using backend LokyBackend with 8 concurrent workers.\n",
      "[Parallel(n_jobs=-1)]: Done  40 out of  40 | elapsed:   37.9s finished\n",
      "/home/hans/Proyectos/Python/Tesis_Chatbot/env/lib/python3.8/site-packages/sklearn/linear_model/_sag.py:329: ConvergenceWarning: The max_iter was reached which means the coef_ did not converge\n",
      "  warnings.warn(\"The max_iter was reached which means \"\n",
      "/home/hans/Proyectos/Python/Tesis_Chatbot/env/lib/python3.8/site-packages/sklearn/linear_model/_sag.py:329: ConvergenceWarning: The max_iter was reached which means the coef_ did not converge\n",
      "  warnings.warn(\"The max_iter was reached which means \"\n",
      "/home/hans/Proyectos/Python/Tesis_Chatbot/env/lib/python3.8/site-packages/sklearn/linear_model/_sag.py:329: ConvergenceWarning: The max_iter was reached which means the coef_ did not converge\n",
      "  warnings.warn(\"The max_iter was reached which means \"\n",
      "/home/hans/Proyectos/Python/Tesis_Chatbot/env/lib/python3.8/site-packages/sklearn/linear_model/_sag.py:329: ConvergenceWarning: The max_iter was reached which means the coef_ did not converge\n",
      "  warnings.warn(\"The max_iter was reached which means \"\n",
      "/home/hans/Proyectos/Python/Tesis_Chatbot/env/lib/python3.8/site-packages/sklearn/linear_model/_sag.py:329: ConvergenceWarning: The max_iter was reached which means the coef_ did not converge\n",
      "  warnings.warn(\"The max_iter was reached which means \"\n",
      "/home/hans/Proyectos/Python/Tesis_Chatbot/env/lib/python3.8/site-packages/sklearn/linear_model/_sag.py:329: ConvergenceWarning: The max_iter was reached which means the coef_ did not converge\n",
      "  warnings.warn(\"The max_iter was reached which means \"\n"
     ]
    },
    {
     "data": {
      "text/plain": [
       "{'passthrough': False, 'stack_method': 'auto'}"
      ]
     },
     "execution_count": 46,
     "metadata": {},
     "output_type": "execute_result"
    }
   ],
   "source": [
    "s_gs = GridSearchCV(StackingClassifier(estimators=[\n",
    "    ('lr', LogisticRegression(**lr_gs.best_params_)),\n",
    "    ('svm', SVC(**svm_gs.best_params_)),\n",
    "    ('dt', DecisionTreeClassifier(**dtc_gs.best_params_)),\n",
    "    ('rf', RandomForestClassifier(**rfc_gs.best_params_)),\n",
    "    ('knn', KNeighborsClassifier(**knn_gs.best_params_)),\n",
    "    ('ab', AdaBoostClassifier(**ab_gs.best_params_)),\n",
    "    ('gb', GradientBoostingClassifier(**gb_gs.best_params_))\n",
    "]), param_grid = {\n",
    "    'stack_method': ['auto', 'predict_proba', 'decision_function', 'predict'],\n",
    "    'passthrough': [True, False]\n",
    "}, scoring = {\n",
    "    'Recall': make_scorer(recall_score),\n",
    "    'Accuracy': make_scorer(accuracy_score),\n",
    "    'f1': make_scorer(f1_score),\n",
    "    'Precision': make_scorer(precision_score)\n",
    "}, refit='Accuracy', n_jobs=-1, verbose=1)\n",
    "s_gs.fit(X_train, y_train)\n",
    "s_gs.best_params_"
   ]
  },
  {
   "cell_type": "code",
   "execution_count": 47,
   "metadata": {
    "scrolled": false
   },
   "outputs": [
    {
     "name": "stderr",
     "output_type": "stream",
     "text": [
      "/home/hans/Proyectos/Python/Tesis_Chatbot/env/lib/python3.8/site-packages/sklearn/linear_model/_sag.py:329: ConvergenceWarning: The max_iter was reached which means the coef_ did not converge\n",
      "  warnings.warn(\"The max_iter was reached which means \"\n",
      "/home/hans/Proyectos/Python/Tesis_Chatbot/env/lib/python3.8/site-packages/sklearn/linear_model/_sag.py:329: ConvergenceWarning: The max_iter was reached which means the coef_ did not converge\n",
      "  warnings.warn(\"The max_iter was reached which means \"\n",
      "/home/hans/Proyectos/Python/Tesis_Chatbot/env/lib/python3.8/site-packages/sklearn/linear_model/_sag.py:329: ConvergenceWarning: The max_iter was reached which means the coef_ did not converge\n",
      "  warnings.warn(\"The max_iter was reached which means \"\n",
      "/home/hans/Proyectos/Python/Tesis_Chatbot/env/lib/python3.8/site-packages/sklearn/linear_model/_sag.py:329: ConvergenceWarning: The max_iter was reached which means the coef_ did not converge\n",
      "  warnings.warn(\"The max_iter was reached which means \"\n",
      "/home/hans/Proyectos/Python/Tesis_Chatbot/env/lib/python3.8/site-packages/sklearn/linear_model/_sag.py:329: ConvergenceWarning: The max_iter was reached which means the coef_ did not converge\n",
      "  warnings.warn(\"The max_iter was reached which means \"\n",
      "/home/hans/Proyectos/Python/Tesis_Chatbot/env/lib/python3.8/site-packages/sklearn/linear_model/_sag.py:329: ConvergenceWarning: The max_iter was reached which means the coef_ did not converge\n",
      "  warnings.warn(\"The max_iter was reached which means \"\n"
     ]
    },
    {
     "name": "stdout",
     "output_type": "stream",
     "text": [
      "The accuracy score is: 0.8918918918918919\n",
      "The precision score is: 0.8823529411764706\n",
      "The recall score is: 0.8823529411764706\n",
      "The F1 score is: 0.8823529411764706\n"
     ]
    }
   ],
   "source": [
    "results, y_pred = train_test_model(model=StackingClassifier,\n",
    "                                   estimators=[\n",
    "                                                ('lr', LogisticRegression(**lr_gs.best_params_)),\n",
    "                                                ('svm', SVC(**svm_gs.best_params_)),\n",
    "                                                ('dt', DecisionTreeClassifier(**dtc_gs.best_params_)),\n",
    "                                                ('rf', RandomForestClassifier(**rfc_gs.best_params_)),\n",
    "                                                ('knn', KNeighborsClassifier(**knn_gs.best_params_)),\n",
    "                                                ('ab', AdaBoostClassifier(**ab_gs.best_params_)),\n",
    "                                                ('gb', GradientBoostingClassifier(**gb_gs.best_params_))\n",
    "                                            ],\n",
    "                                   model_name='Stacking',\n",
    "                                   params=s_gs.best_params_,\n",
    "                                   X_train=X_train,\n",
    "                                   y_train=y_train,\n",
    "                                   X_test=X_test,\n",
    "                                   y_test=y_test,\n",
    "                                   results=results)"
   ]
  },
  {
   "cell_type": "markdown",
   "metadata": {},
   "source": [
    "#### Matriz de confusión"
   ]
  },
  {
   "cell_type": "code",
   "execution_count": 48,
   "metadata": {
    "scrolled": false
   },
   "outputs": [
    {
     "data": {
      "text/plain": [
       "<AxesSubplot:title={'center':'Confusion Matrix'}, xlabel='Predicted label', ylabel='True label'>"
      ]
     },
     "execution_count": 48,
     "metadata": {},
     "output_type": "execute_result"
    },
    {
     "data": {
      "image/png": "[encoded data removed]",
      "text/plain": [
       "<Figure size 432x288 with 2 Axes>"
      ]
     },
     "metadata": {
      "needs_background": "light"
     },
     "output_type": "display_data"
    }
   ],
   "source": [
    "plot_confusion_matrix(y_test, y_pred)"
   ]
  },
  {
   "cell_type": "markdown",
   "metadata": {},
   "source": [
    "## Resultados"
   ]
  },
  {
   "cell_type": "code",
   "execution_count": 59,
   "metadata": {},
   "outputs": [
    {
     "data": {
      "text/html": [
       "<div>\n",
       "<style scoped>\n",
       "    .dataframe tbody tr th:only-of-type {\n",
       "        vertical-align: middle;\n",
       "    }\n",
       "\n",
       "    .dataframe tbody tr th {\n",
       "        vertical-align: top;\n",
       "    }\n",
       "\n",
       "    .dataframe thead th {\n",
       "        text-align: right;\n",
       "    }\n",
       "</style>\n",
       "<table border=\"1\" class=\"dataframe\">\n",
       "  <thead>\n",
       "    <tr style=\"text-align: right;\">\n",
       "      <th></th>\n",
       "      <th>accuracy</th>\n",
       "      <th>precision</th>\n",
       "      <th>recall</th>\n",
       "      <th>f1 score</th>\n",
       "      <th>Promedio</th>\n",
       "    </tr>\n",
       "  </thead>\n",
       "  <tbody>\n",
       "    <tr>\n",
       "      <th>Logistic Regression</th>\n",
       "      <td>0.891892</td>\n",
       "      <td>0.933333</td>\n",
       "      <td>0.823529</td>\n",
       "      <td>0.875000</td>\n",
       "      <td>0.880939</td>\n",
       "    </tr>\n",
       "    <tr>\n",
       "      <th>Support Vector Machine</th>\n",
       "      <td>0.891892</td>\n",
       "      <td>0.882353</td>\n",
       "      <td>0.882353</td>\n",
       "      <td>0.882353</td>\n",
       "      <td>0.884738</td>\n",
       "    </tr>\n",
       "    <tr>\n",
       "      <th>Decision Tree</th>\n",
       "      <td>0.810811</td>\n",
       "      <td>0.857143</td>\n",
       "      <td>0.705882</td>\n",
       "      <td>0.774194</td>\n",
       "      <td>0.787007</td>\n",
       "    </tr>\n",
       "    <tr>\n",
       "      <th>Random Forest</th>\n",
       "      <td>0.864865</td>\n",
       "      <td>0.875000</td>\n",
       "      <td>0.823529</td>\n",
       "      <td>0.848485</td>\n",
       "      <td>0.852970</td>\n",
       "    </tr>\n",
       "    <tr>\n",
       "      <th>K Nearest Neighbors</th>\n",
       "      <td>0.918919</td>\n",
       "      <td>0.937500</td>\n",
       "      <td>0.882353</td>\n",
       "      <td>0.909091</td>\n",
       "      <td>0.911966</td>\n",
       "    </tr>\n",
       "    <tr>\n",
       "      <th>Perceptron</th>\n",
       "      <td>0.594595</td>\n",
       "      <td>0.531250</td>\n",
       "      <td>1.000000</td>\n",
       "      <td>0.693878</td>\n",
       "      <td>0.704931</td>\n",
       "    </tr>\n",
       "    <tr>\n",
       "      <th>Ada Boost</th>\n",
       "      <td>0.810811</td>\n",
       "      <td>0.857143</td>\n",
       "      <td>0.705882</td>\n",
       "      <td>0.774194</td>\n",
       "      <td>0.787007</td>\n",
       "    </tr>\n",
       "    <tr>\n",
       "      <th>Gradient Boosting</th>\n",
       "      <td>0.891892</td>\n",
       "      <td>0.882353</td>\n",
       "      <td>0.882353</td>\n",
       "      <td>0.882353</td>\n",
       "      <td>0.884738</td>\n",
       "    </tr>\n",
       "    <tr>\n",
       "      <th>Voting</th>\n",
       "      <td>0.891892</td>\n",
       "      <td>0.882353</td>\n",
       "      <td>0.882353</td>\n",
       "      <td>0.882353</td>\n",
       "      <td>0.884738</td>\n",
       "    </tr>\n",
       "    <tr>\n",
       "      <th>Stacking</th>\n",
       "      <td>0.891892</td>\n",
       "      <td>0.882353</td>\n",
       "      <td>0.882353</td>\n",
       "      <td>0.882353</td>\n",
       "      <td>0.884738</td>\n",
       "    </tr>\n",
       "    <tr>\n",
       "      <th>Promedio</th>\n",
       "      <td>0.845946</td>\n",
       "      <td>0.852078</td>\n",
       "      <td>0.847059</td>\n",
       "      <td>0.840425</td>\n",
       "      <td>0.846377</td>\n",
       "    </tr>\n",
       "  </tbody>\n",
       "</table>\n",
       "</div>"
      ],
      "text/plain": [
       "                        accuracy  precision    recall  f1 score  Promedio\n",
       "Logistic Regression     0.891892   0.933333  0.823529  0.875000  0.880939\n",
       "Support Vector Machine  0.891892   0.882353  0.882353  0.882353  0.884738\n",
       "Decision Tree           0.810811   0.857143  0.705882  0.774194  0.787007\n",
       "Random Forest           0.864865   0.875000  0.823529  0.848485  0.852970\n",
       "K Nearest Neighbors     0.918919   0.937500  0.882353  0.909091  0.911966\n",
       "Perceptron              0.594595   0.531250  1.000000  0.693878  0.704931\n",
       "Ada Boost               0.810811   0.857143  0.705882  0.774194  0.787007\n",
       "Gradient Boosting       0.891892   0.882353  0.882353  0.882353  0.884738\n",
       "Voting                  0.891892   0.882353  0.882353  0.882353  0.884738\n",
       "Stacking                0.891892   0.882353  0.882353  0.882353  0.884738\n",
       "Promedio                0.845946   0.852078  0.847059  0.840425  0.846377"
      ]
     },
     "execution_count": 59,
     "metadata": {},
     "output_type": "execute_result"
    }
   ],
   "source": [
    "results['Promedio'] = results.mean(axis=1)\n",
    "results = results.append(pd.DataFrame(results.mean().to_dict(), index=['Promedio']))\n",
    "results"
   ]
  },
  {
   "cell_type": "markdown",
   "metadata": {},
   "source": [
    "# Entrenando el mejor clasificador"
   ]
  },
  {
   "cell_type": "code",
   "execution_count": 3,
   "metadata": {},
   "outputs": [
    {
     "name": "stdout",
     "output_type": "stream",
     "text": [
      "The accuracy score is: 0.918918918918919\n",
      "The precision score is: 0.9375\n",
      "The recall score is: 0.8823529411764706\n",
      "The F1 score is: 0.9090909090909091\n"
     ]
    },
    {
     "name": "stderr",
     "output_type": "stream",
     "text": [
      "<ipython-input-3-de6757d77290>:11: DataConversionWarning: A column-vector y was passed when a 1d array was expected. Please change the shape of y to (n_samples, ), for example using ravel().\n",
      "  knn.fit(X_train, y_train)\n"
     ]
    }
   ],
   "source": [
    "texts = ObtainedTextDA().select_all_as_dataframe().drop(columns=['id', 'filename', 'category', 'cluster_grade'])\n",
    "data_columns = [c for c in texts.columns if c not in ['category', 'filename', 'grade', 'id']]\n",
    "# SCALER\n",
    "scaler = MinMaxScaler()\n",
    "scaler.fit(texts[data_columns])\n",
    "texts[data_columns] = scaler.transform(texts[data_columns])\n",
    "# TRAIN TEST SPLIT\n",
    "X_train, X_test, y_train, y_test = train_test_split(texts[data_columns], texts[['grade']], random_state=43, test_size=0.2, stratify=texts[['grade']])\n",
    "# MODEL TRAINING\n",
    "knn = KNeighborsClassifier(algorithm='auto', n_neighbors=1, p=1, weights='uniform')\n",
    "knn.fit(X_train, y_train)\n",
    "y_pred = knn.predict(X_test)\n",
    "print_scores(y_test, y_pred)\n",
    "# Storing the model and scaler\n",
    "pickle.dump(knn, open(f'{BASE_DIRECTORY}/model/classifier.pkl', 'ab'))\n",
    "pickle.dump(scaler, open(f'{BASE_DIRECTORY}/model/scaler.pkl', 'ab'))"
   ]
  },
  {
   "cell_type": "code",
   "execution_count": null,
   "metadata": {},
   "outputs": [],
   "source": []
  }
 ],
 "metadata": {
  "kernelspec": {
   "display_name": "myenv",
   "language": "python",
   "name": "myenv"
  },
  "language_info": {
   "codemirror_mode": {
    "name": "ipython",
    "version": 3
   },
   "file_extension": ".py",
   "mimetype": "text/x-python",
   "name": "python",
   "nbconvert_exporter": "python",
   "pygments_lexer": "ipython3",
   "version": "3.8.2"
  }
 },
 "nbformat": 4,
 "nbformat_minor": 4
}
