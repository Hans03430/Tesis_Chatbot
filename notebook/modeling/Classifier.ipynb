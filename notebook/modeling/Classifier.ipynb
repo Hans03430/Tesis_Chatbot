{
 "cells": [
  {
   "cell_type": "markdown",
   "metadata": {},
   "source": [
    "# Importaciones de librerías"
   ]
  },
  {
   "cell_type": "code",
   "execution_count": 1,
   "metadata": {},
   "outputs": [
    {
     "name": "stderr",
     "output_type": "stream",
     "text": [
      "/home/hans/Documentos/Tesis_Chatbot/.env/lib/python3.8/site-packages/sqlalchemy/orm/util.py:104: SAWarning: The 'delete-orphan' cascade option requires 'delete'.\n",
      "  util.warn(\n"
     ]
    }
   ],
   "source": [
    "from scikitplot.metrics import plot_confusion_matrix\n",
    "from sklearn.linear_model import LogisticRegression\n",
    "from sklearn.model_selection import train_test_split\n",
    "from sklearn.preprocessing import MinMaxScaler\n",
    "from src.modeling.utils.utils import print_scores\n",
    "from src.modeling.utils.utils import drop_dataset_unnecessary_columns\n",
    "from src.preparation.data_access.obtained_text_da import ObtainedTextDA"
   ]
  },
  {
   "cell_type": "markdown",
   "metadata": {},
   "source": [
    "# Constantes"
   ]
  },
  {
   "cell_type": "code",
   "execution_count": 2,
   "metadata": {},
   "outputs": [
    {
     "data": {
      "text/html": [
       "<div>\n",
       "<style scoped>\n",
       "    .dataframe tbody tr th:only-of-type {\n",
       "        vertical-align: middle;\n",
       "    }\n",
       "\n",
       "    .dataframe tbody tr th {\n",
       "        vertical-align: top;\n",
       "    }\n",
       "\n",
       "    .dataframe thead th {\n",
       "        text-align: right;\n",
       "    }\n",
       "</style>\n",
       "<table border=\"1\" class=\"dataframe\">\n",
       "  <thead>\n",
       "    <tr style=\"text-align: right;\">\n",
       "      <th></th>\n",
       "      <th>CNCADC</th>\n",
       "      <th>CNCAdd</th>\n",
       "      <th>CNCAll</th>\n",
       "      <th>CNCCaus</th>\n",
       "      <th>CNCLogic</th>\n",
       "      <th>CNCTemp</th>\n",
       "      <th>CRFANP1</th>\n",
       "      <th>CRFANPa</th>\n",
       "      <th>CRFAO1</th>\n",
       "      <th>CRFAOa</th>\n",
       "      <th>...</th>\n",
       "      <th>WRDPRP1s</th>\n",
       "      <th>WRDPRP2p</th>\n",
       "      <th>WRDPRP2s</th>\n",
       "      <th>WRDPRP3p</th>\n",
       "      <th>WRDPRP3s</th>\n",
       "      <th>WRDVERB</th>\n",
       "      <th>category</th>\n",
       "      <th>filename</th>\n",
       "      <th>grade</th>\n",
       "      <th>id</th>\n",
       "    </tr>\n",
       "  </thead>\n",
       "  <tbody>\n",
       "    <tr>\n",
       "      <th>0</th>\n",
       "      <td>5.595524</td>\n",
       "      <td>0.532907</td>\n",
       "      <td>56.754596</td>\n",
       "      <td>17.319478</td>\n",
       "      <td>30.109246</td>\n",
       "      <td>3.197442</td>\n",
       "      <td>0.099526</td>\n",
       "      <td>0.079630</td>\n",
       "      <td>0.236967</td>\n",
       "      <td>0.148887</td>\n",
       "      <td>...</td>\n",
       "      <td>0.000000</td>\n",
       "      <td>0.000000</td>\n",
       "      <td>0.000000</td>\n",
       "      <td>2.398082</td>\n",
       "      <td>10.125233</td>\n",
       "      <td>110.578204</td>\n",
       "      <td>Historia, Geografía y Economía</td>\n",
       "      <td>atahualpa.txt</td>\n",
       "      <td>1.0</td>\n",
       "      <td>1.0</td>\n",
       "    </tr>\n",
       "    <tr>\n",
       "      <th>1</th>\n",
       "      <td>4.526167</td>\n",
       "      <td>0.848656</td>\n",
       "      <td>56.294201</td>\n",
       "      <td>13.861386</td>\n",
       "      <td>33.663366</td>\n",
       "      <td>3.394625</td>\n",
       "      <td>0.159722</td>\n",
       "      <td>0.119540</td>\n",
       "      <td>0.291667</td>\n",
       "      <td>0.197797</td>\n",
       "      <td>...</td>\n",
       "      <td>0.565771</td>\n",
       "      <td>0.000000</td>\n",
       "      <td>0.848656</td>\n",
       "      <td>2.545969</td>\n",
       "      <td>8.769448</td>\n",
       "      <td>94.766620</td>\n",
       "      <td>Historia, Geografía y Economía</td>\n",
       "      <td>avelino_caceres.txt</td>\n",
       "      <td>1.0</td>\n",
       "      <td>2.0</td>\n",
       "    </tr>\n",
       "    <tr>\n",
       "      <th>2</th>\n",
       "      <td>1.737619</td>\n",
       "      <td>0.000000</td>\n",
       "      <td>59.079062</td>\n",
       "      <td>11.294526</td>\n",
       "      <td>40.834057</td>\n",
       "      <td>5.212858</td>\n",
       "      <td>0.026316</td>\n",
       "      <td>0.019822</td>\n",
       "      <td>0.197368</td>\n",
       "      <td>0.150034</td>\n",
       "      <td>...</td>\n",
       "      <td>0.000000</td>\n",
       "      <td>0.000000</td>\n",
       "      <td>5.212858</td>\n",
       "      <td>1.737619</td>\n",
       "      <td>9.556907</td>\n",
       "      <td>149.435274</td>\n",
       "      <td>Historia, Geografía y Economía</td>\n",
       "      <td>cartilla_fenomeno_nino.txt</td>\n",
       "      <td>1.0</td>\n",
       "      <td>3.0</td>\n",
       "    </tr>\n",
       "    <tr>\n",
       "      <th>3</th>\n",
       "      <td>1.765225</td>\n",
       "      <td>1.765225</td>\n",
       "      <td>64.430715</td>\n",
       "      <td>12.356575</td>\n",
       "      <td>44.130627</td>\n",
       "      <td>4.413063</td>\n",
       "      <td>0.035714</td>\n",
       "      <td>0.039216</td>\n",
       "      <td>0.166667</td>\n",
       "      <td>0.142577</td>\n",
       "      <td>...</td>\n",
       "      <td>0.000000</td>\n",
       "      <td>0.000000</td>\n",
       "      <td>9.708738</td>\n",
       "      <td>0.000000</td>\n",
       "      <td>9.708738</td>\n",
       "      <td>151.809356</td>\n",
       "      <td>Historia, Geografía y Economía</td>\n",
       "      <td>cartilla_inundaciones.txt</td>\n",
       "      <td>1.0</td>\n",
       "      <td>4.0</td>\n",
       "    </tr>\n",
       "    <tr>\n",
       "      <th>4</th>\n",
       "      <td>5.965697</td>\n",
       "      <td>0.248571</td>\n",
       "      <td>52.945563</td>\n",
       "      <td>13.422819</td>\n",
       "      <td>30.325628</td>\n",
       "      <td>2.982849</td>\n",
       "      <td>0.151515</td>\n",
       "      <td>0.171011</td>\n",
       "      <td>0.430303</td>\n",
       "      <td>0.273384</td>\n",
       "      <td>...</td>\n",
       "      <td>0.000000</td>\n",
       "      <td>0.000000</td>\n",
       "      <td>0.000000</td>\n",
       "      <td>1.739995</td>\n",
       "      <td>10.688541</td>\n",
       "      <td>93.711161</td>\n",
       "      <td>Historia, Geografía y Economía</td>\n",
       "      <td>enrique_meiggs.txt</td>\n",
       "      <td>1.0</td>\n",
       "      <td>5.0</td>\n",
       "    </tr>\n",
       "    <tr>\n",
       "      <th>...</th>\n",
       "      <td>...</td>\n",
       "      <td>...</td>\n",
       "      <td>...</td>\n",
       "      <td>...</td>\n",
       "      <td>...</td>\n",
       "      <td>...</td>\n",
       "      <td>...</td>\n",
       "      <td>...</td>\n",
       "      <td>...</td>\n",
       "      <td>...</td>\n",
       "      <td>...</td>\n",
       "      <td>...</td>\n",
       "      <td>...</td>\n",
       "      <td>...</td>\n",
       "      <td>...</td>\n",
       "      <td>...</td>\n",
       "      <td>...</td>\n",
       "      <td>...</td>\n",
       "      <td>...</td>\n",
       "      <td>...</td>\n",
       "      <td>...</td>\n",
       "    </tr>\n",
       "    <tr>\n",
       "      <th>178</th>\n",
       "      <td>10.168675</td>\n",
       "      <td>1.012048</td>\n",
       "      <td>60.096386</td>\n",
       "      <td>15.084337</td>\n",
       "      <td>24.626506</td>\n",
       "      <td>9.204819</td>\n",
       "      <td>0.153777</td>\n",
       "      <td>0.113482</td>\n",
       "      <td>0.229317</td>\n",
       "      <td>0.130330</td>\n",
       "      <td>...</td>\n",
       "      <td>12.144578</td>\n",
       "      <td>2.650602</td>\n",
       "      <td>15.180723</td>\n",
       "      <td>2.409639</td>\n",
       "      <td>20.192771</td>\n",
       "      <td>118.265060</td>\n",
       "      <td>Comunicación</td>\n",
       "      <td>seis_personajes_busca.txt</td>\n",
       "      <td>2.0</td>\n",
       "      <td>181.0</td>\n",
       "    </tr>\n",
       "    <tr>\n",
       "      <th>179</th>\n",
       "      <td>8.489796</td>\n",
       "      <td>0.593692</td>\n",
       "      <td>56.653061</td>\n",
       "      <td>15.762523</td>\n",
       "      <td>25.751391</td>\n",
       "      <td>6.055659</td>\n",
       "      <td>0.072211</td>\n",
       "      <td>0.051115</td>\n",
       "      <td>0.170490</td>\n",
       "      <td>0.105130</td>\n",
       "      <td>...</td>\n",
       "      <td>10.241187</td>\n",
       "      <td>0.044527</td>\n",
       "      <td>2.077922</td>\n",
       "      <td>1.128015</td>\n",
       "      <td>9.261596</td>\n",
       "      <td>108.897959</td>\n",
       "      <td>Comunicación</td>\n",
       "      <td>viaje_centro_tierra.txt</td>\n",
       "      <td>2.0</td>\n",
       "      <td>182.0</td>\n",
       "    </tr>\n",
       "    <tr>\n",
       "      <th>180</th>\n",
       "      <td>8.669041</td>\n",
       "      <td>0.941620</td>\n",
       "      <td>74.623352</td>\n",
       "      <td>19.456726</td>\n",
       "      <td>40.274707</td>\n",
       "      <td>5.281258</td>\n",
       "      <td>0.328918</td>\n",
       "      <td>0.254774</td>\n",
       "      <td>0.546726</td>\n",
       "      <td>0.382347</td>\n",
       "      <td>...</td>\n",
       "      <td>20.848686</td>\n",
       "      <td>0.194465</td>\n",
       "      <td>0.020470</td>\n",
       "      <td>3.531073</td>\n",
       "      <td>13.745599</td>\n",
       "      <td>114.120200</td>\n",
       "      <td>Comunicación</td>\n",
       "      <td>viajes_gulliver.txt</td>\n",
       "      <td>2.0</td>\n",
       "      <td>183.0</td>\n",
       "    </tr>\n",
       "    <tr>\n",
       "      <th>181</th>\n",
       "      <td>4.147928</td>\n",
       "      <td>0.218312</td>\n",
       "      <td>82.958564</td>\n",
       "      <td>22.355150</td>\n",
       "      <td>52.045584</td>\n",
       "      <td>4.191591</td>\n",
       "      <td>0.287313</td>\n",
       "      <td>0.192939</td>\n",
       "      <td>0.375622</td>\n",
       "      <td>0.225790</td>\n",
       "      <td>...</td>\n",
       "      <td>22.879099</td>\n",
       "      <td>0.480286</td>\n",
       "      <td>2.357770</td>\n",
       "      <td>2.969043</td>\n",
       "      <td>22.922761</td>\n",
       "      <td>102.606645</td>\n",
       "      <td>Comunicación</td>\n",
       "      <td>vida_lazarillo_tormes.txt</td>\n",
       "      <td>2.0</td>\n",
       "      <td>184.0</td>\n",
       "    </tr>\n",
       "    <tr>\n",
       "      <th>182</th>\n",
       "      <td>8.836926</td>\n",
       "      <td>0.561329</td>\n",
       "      <td>64.119836</td>\n",
       "      <td>15.604953</td>\n",
       "      <td>30.776880</td>\n",
       "      <td>8.339749</td>\n",
       "      <td>0.094280</td>\n",
       "      <td>0.075108</td>\n",
       "      <td>0.196321</td>\n",
       "      <td>0.116191</td>\n",
       "      <td>...</td>\n",
       "      <td>2.036823</td>\n",
       "      <td>0.785861</td>\n",
       "      <td>0.176418</td>\n",
       "      <td>1.443418</td>\n",
       "      <td>11.499230</td>\n",
       "      <td>111.351681</td>\n",
       "      <td>Comunicación</td>\n",
       "      <td>vuelta_mundo_80.txt</td>\n",
       "      <td>2.0</td>\n",
       "      <td>185.0</td>\n",
       "    </tr>\n",
       "  </tbody>\n",
       "</table>\n",
       "<p>183 rows × 52 columns</p>\n",
       "</div>"
      ],
      "text/plain": [
       "        CNCADC    CNCAdd     CNCAll    CNCCaus   CNCLogic   CNCTemp   CRFANP1  \\\n",
       "0     5.595524  0.532907  56.754596  17.319478  30.109246  3.197442  0.099526   \n",
       "1     4.526167  0.848656  56.294201  13.861386  33.663366  3.394625  0.159722   \n",
       "2     1.737619  0.000000  59.079062  11.294526  40.834057  5.212858  0.026316   \n",
       "3     1.765225  1.765225  64.430715  12.356575  44.130627  4.413063  0.035714   \n",
       "4     5.965697  0.248571  52.945563  13.422819  30.325628  2.982849  0.151515   \n",
       "..         ...       ...        ...        ...        ...       ...       ...   \n",
       "178  10.168675  1.012048  60.096386  15.084337  24.626506  9.204819  0.153777   \n",
       "179   8.489796  0.593692  56.653061  15.762523  25.751391  6.055659  0.072211   \n",
       "180   8.669041  0.941620  74.623352  19.456726  40.274707  5.281258  0.328918   \n",
       "181   4.147928  0.218312  82.958564  22.355150  52.045584  4.191591  0.287313   \n",
       "182   8.836926  0.561329  64.119836  15.604953  30.776880  8.339749  0.094280   \n",
       "\n",
       "      CRFANPa    CRFAO1    CRFAOa  ...   WRDPRP1s  WRDPRP2p   WRDPRP2s  \\\n",
       "0    0.079630  0.236967  0.148887  ...   0.000000  0.000000   0.000000   \n",
       "1    0.119540  0.291667  0.197797  ...   0.565771  0.000000   0.848656   \n",
       "2    0.019822  0.197368  0.150034  ...   0.000000  0.000000   5.212858   \n",
       "3    0.039216  0.166667  0.142577  ...   0.000000  0.000000   9.708738   \n",
       "4    0.171011  0.430303  0.273384  ...   0.000000  0.000000   0.000000   \n",
       "..        ...       ...       ...  ...        ...       ...        ...   \n",
       "178  0.113482  0.229317  0.130330  ...  12.144578  2.650602  15.180723   \n",
       "179  0.051115  0.170490  0.105130  ...  10.241187  0.044527   2.077922   \n",
       "180  0.254774  0.546726  0.382347  ...  20.848686  0.194465   0.020470   \n",
       "181  0.192939  0.375622  0.225790  ...  22.879099  0.480286   2.357770   \n",
       "182  0.075108  0.196321  0.116191  ...   2.036823  0.785861   0.176418   \n",
       "\n",
       "     WRDPRP3p   WRDPRP3s     WRDVERB                        category  \\\n",
       "0    2.398082  10.125233  110.578204  Historia, Geografía y Economía   \n",
       "1    2.545969   8.769448   94.766620  Historia, Geografía y Economía   \n",
       "2    1.737619   9.556907  149.435274  Historia, Geografía y Economía   \n",
       "3    0.000000   9.708738  151.809356  Historia, Geografía y Economía   \n",
       "4    1.739995  10.688541   93.711161  Historia, Geografía y Economía   \n",
       "..        ...        ...         ...                             ...   \n",
       "178  2.409639  20.192771  118.265060                    Comunicación   \n",
       "179  1.128015   9.261596  108.897959                    Comunicación   \n",
       "180  3.531073  13.745599  114.120200                    Comunicación   \n",
       "181  2.969043  22.922761  102.606645                    Comunicación   \n",
       "182  1.443418  11.499230  111.351681                    Comunicación   \n",
       "\n",
       "                       filename  grade     id  \n",
       "0                 atahualpa.txt    1.0    1.0  \n",
       "1           avelino_caceres.txt    1.0    2.0  \n",
       "2    cartilla_fenomeno_nino.txt    1.0    3.0  \n",
       "3     cartilla_inundaciones.txt    1.0    4.0  \n",
       "4            enrique_meiggs.txt    1.0    5.0  \n",
       "..                          ...    ...    ...  \n",
       "178   seis_personajes_busca.txt    2.0  181.0  \n",
       "179     viaje_centro_tierra.txt    2.0  182.0  \n",
       "180         viajes_gulliver.txt    2.0  183.0  \n",
       "181   vida_lazarillo_tormes.txt    2.0  184.0  \n",
       "182         vuelta_mundo_80.txt    2.0  185.0  \n",
       "\n",
       "[183 rows x 52 columns]"
      ]
     },
     "execution_count": 2,
     "metadata": {},
     "output_type": "execute_result"
    }
   ],
   "source": [
    "OT_DA = ObtainedTextDA()\n",
    "TEXTS = OT_DA.select_all_as_dataframe().drop(columns=['cluster_grade'])\n",
    "TEST_SIZE = 0.2\n",
    "DATA_COLUMNS = [c for c in TEXTS.columns if c not in ['category', 'filename', 'grade', 'id']]\n",
    "TEXTS"
   ]
  },
  {
   "cell_type": "markdown",
   "metadata": {},
   "source": [
    "# Todas las categorias"
   ]
  },
  {
   "cell_type": "markdown",
   "metadata": {},
   "source": [
    "## Preprocesando los datos"
   ]
  },
  {
   "cell_type": "code",
   "execution_count": 3,
   "metadata": {},
   "outputs": [
    {
     "data": {
      "text/plain": [
       "((146, 48), (37, 48), (146,), (37,))"
      ]
     },
     "execution_count": 3,
     "metadata": {},
     "output_type": "execute_result"
    }
   ],
   "source": [
    "X, y = drop_dataset_unnecessary_columns(TEXTS, ['filename', 'category', 'grade', 'id'], 'grade')\n",
    "X[DATA_COLUMNS] = MinMaxScaler().fit_transform(X[DATA_COLUMNS])\n",
    "X_train, X_test, y_train, y_test = train_test_split(X, y, random_state=43, test_size=TEST_SIZE, stratify=y)\n",
    "X_train.shape, X_test.shape, y_train.shape, y_test.shape"
   ]
  },
  {
   "cell_type": "markdown",
   "metadata": {},
   "source": [
    "## Entrenando los modelos"
   ]
  },
  {
   "cell_type": "code",
   "execution_count": 4,
   "metadata": {},
   "outputs": [
    {
     "name": "stdout",
     "output_type": "stream",
     "text": [
      "The accuracy score is: 0.8918918918918919\n",
      "The precision score is: 0.9333333333333333\n",
      "The recall score is: 0.8235294117647058\n",
      "The F1 score is: 0.8749999999999999\n"
     ]
    }
   ],
   "source": [
    "clf = LogisticRegression(max_iter=6000)\n",
    "clf.fit(X_train, y_train)\n",
    "y_pred = clf.predict(X_test)\n",
    "print_scores(y_test, y_pred)"
   ]
  },
  {
   "cell_type": "markdown",
   "metadata": {},
   "source": [
    "### Matriz de confusión"
   ]
  },
  {
   "cell_type": "code",
   "execution_count": 5,
   "metadata": {},
   "outputs": [
    {
     "data": {
      "text/plain": [
       "<AxesSubplot:title={'center':'Confusion Matrix'}, xlabel='Predicted label', ylabel='True label'>"
      ]
     },
     "execution_count": 5,
     "metadata": {},
     "output_type": "execute_result"
    },
    {
     "data": {
      "image/png": "[encoded data removed]",
      "text/plain": [
       "<Figure size 432x288 with 2 Axes>"
      ]
     },
     "metadata": {
      "needs_background": "light"
     },
     "output_type": "display_data"
    }
   ],
   "source": [
    "plot_confusion_matrix(y_test, y_pred)"
   ]
  },
  {
   "cell_type": "code",
   "execution_count": 10,
   "metadata": {},
   "outputs": [
    {
     "name": "stderr",
     "output_type": "stream",
     "text": [
      "/home/hans/Documentos/Tesis_Chatbot/.env/lib/python3.8/site-packages/sklearn/linear_model/_sag.py:329: ConvergenceWarning: The max_iter was reached which means the coef_ did not converge\n",
      "  warnings.warn(\"The max_iter was reached which means \"\n"
     ]
    },
    {
     "data": {
      "text/plain": [
       "{'C': 10, 'max_iter': 100, 'solver': 'saga', 'tol': 1e-05}"
      ]
     },
     "execution_count": 10,
     "metadata": {},
     "output_type": "execute_result"
    }
   ],
   "source": [
    "from sklearn.model_selection import GridSearchCV\n",
    "from sklearn.metrics import make_scorer\n",
    "from sklearn.metrics import accuracy_score, f1_score, recall_score, precision_score\n",
    "\n",
    "clf = GridSearchCV(LogisticRegression(), param_grid = {\n",
    "    'C': [0.001, 0.01, 0.1, 1, 10],\n",
    "    'tol': [0.00001, 0.0001, 0.001, 0.01, 0.1, 1],\n",
    "    'solver': ['newton-cg', 'lbfgs', 'liblinear', 'sag', 'saga'],\n",
    "    'max_iter': [100, 1000, 10000]\n",
    "}, scoring = {\n",
    "    'Recall': make_scorer(recall_score),\n",
    "    'Accuracy': make_scorer(accuracy_score),\n",
    "    'f1': make_scorer(f1_score),\n",
    "    'Precision': make_scorer(precision_score)\n",
    "}, refit='f1', n_jobs=-1)\n",
    "clf.fit(X_train, y_train)\n",
    "clf.best_params_"
   ]
  },
  {
   "cell_type": "code",
   "execution_count": 11,
   "metadata": {},
   "outputs": [
    {
     "name": "stdout",
     "output_type": "stream",
     "text": [
      "The accuracy score is: 0.8918918918918919\n",
      "The precision score is: 0.9333333333333333\n",
      "The recall score is: 0.8235294117647058\n",
      "The F1 score is: 0.8749999999999999\n"
     ]
    },
    {
     "name": "stderr",
     "output_type": "stream",
     "text": [
      "/home/hans/Documentos/Tesis_Chatbot/.env/lib/python3.8/site-packages/sklearn/linear_model/_sag.py:329: ConvergenceWarning: The max_iter was reached which means the coef_ did not converge\n",
      "  warnings.warn(\"The max_iter was reached which means \"\n"
     ]
    }
   ],
   "source": [
    "clf = LogisticRegression(max_iter=100, C=10, solver='saga', tol=0.00001)\n",
    "clf.fit(X_train, y_train)\n",
    "y_pred = clf.predict(X_test)\n",
    "print_scores(y_test, y_pred)"
   ]
  },
  {
   "cell_type": "code",
   "execution_count": 8,
   "metadata": {},
   "outputs": [
    {
     "data": {
      "text/plain": [
       "<AxesSubplot:title={'center':'Confusion Matrix'}, xlabel='Predicted label', ylabel='True label'>"
      ]
     },
     "execution_count": 8,
     "metadata": {},
     "output_type": "execute_result"
    },
    {
     "data": {
      "image/png": "[encoded data removed]",
      "text/plain": [
       "<Figure size 432x288 with 2 Axes>"
      ]
     },
     "metadata": {
      "needs_background": "light"
     },
     "output_type": "display_data"
    }
   ],
   "source": [
    "plot_confusion_matrix(y_test, y_pred)"
   ]
  },
  {
   "cell_type": "code",
   "execution_count": null,
   "metadata": {},
   "outputs": [],
   "source": []
  }
 ],
 "metadata": {
  "kernelspec": {
   "display_name": "tesis",
   "language": "python",
   "name": "tesis"
  },
  "language_info": {
   "codemirror_mode": {
    "name": "ipython",
    "version": 3
   },
   "file_extension": ".py",
   "mimetype": "text/x-python",
   "name": "python",
   "nbconvert_exporter": "python",
   "pygments_lexer": "ipython3",
   "version": "3.8.2"
  }
 },
 "nbformat": 4,
 "nbformat_minor": 4
}
