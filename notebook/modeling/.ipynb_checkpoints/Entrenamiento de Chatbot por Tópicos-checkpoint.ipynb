{
 "cells": [
  {
   "cell_type": "markdown",
   "metadata": {},
   "source": [
    "# Importación de Librerías"
   ]
  },
  {
   "cell_type": "code",
   "execution_count": 1,
   "metadata": {},
   "outputs": [],
   "source": [
    "import matplotlib.pyplot as plt\n",
    "import pandas as pd\n",
    "import seaborn as sns\n",
    "\n",
    "from src.processing.constants import BASE_DIRECTORY\n",
    "from typing import List\n",
    "\n",
    "%matplotlib inline"
   ]
  },
  {
   "cell_type": "markdown",
   "metadata": {},
   "source": [
    "# Funciones de ayuda"
   ]
  },
  {
   "cell_type": "code",
   "execution_count": 2,
   "metadata": {},
   "outputs": [],
   "source": [
    "def get_epoch_from_line(line: str) -> int:\n",
    "    '''\n",
    "    This function gets an epoch from a line of the text.\n",
    "    \n",
    "    Parameters:\n",
    "    line(str): The line of the text.\n",
    "    \n",
    "    Returns:\n",
    "    int: The epoch.\n",
    "    '''\n",
    "    return int(line.split()[1].split('/')[0])"
   ]
  },
  {
   "cell_type": "code",
   "execution_count": 10,
   "metadata": {},
   "outputs": [],
   "source": [
    "def get_training_loss_from_line(line: str) -> float:\n",
    "    '''\n",
    "    This function gets the training loss from a line.\n",
    "    \n",
    "    Parameters:\n",
    "    line(str): The line of the text.\n",
    "    \n",
    "    Returns:\n",
    "    float: The training loss.\n",
    "    '''\n",
    "    words = line.split()\n",
    "    training_loss_str = words[11]\n",
    "    return float(training_loss_str[:-1])"
   ]
  },
  {
   "cell_type": "code",
   "execution_count": 4,
   "metadata": {},
   "outputs": [],
   "source": [
    "def get_validation_loss_from_line(line: str) -> float:\n",
    "    '''\n",
    "    This function gets the validation loss from a line.\n",
    "    \n",
    "    Parameters:\n",
    "    line(str): The line of the text.\n",
    "    \n",
    "    Returns:\n",
    "    float: The validation loss.\n",
    "    '''\n",
    "    words = line.split()\n",
    "    validation_loss_str = words[4]\n",
    "    return float(validation_loss_str[:-1])"
   ]
  },
  {
   "cell_type": "code",
   "execution_count": 5,
   "metadata": {},
   "outputs": [],
   "source": [
    "def get_training_validation_loss(filename: str, epochs: int) -> (List, List):\n",
    "    '''\n",
    "    This function obtains, from a text file, the validation and training lost.\n",
    "    \n",
    "    Parameters:\n",
    "    filename(str): The file where the training log of the chatbot is found.\n",
    "    epochs(str): The amount of epochs that were used to train the chatbot.\n",
    "    \n",
    "    Returns:\n",
    "    List, List:\n",
    "    '''\n",
    "    training_loss = [0] * epochs\n",
    "    validation_loss = [0] * epochs\n",
    "    with open(filename, 'r') as f: # Open the file with the training data\n",
    "        # Iterate every line\n",
    "        for line in f:\n",
    "            if 'Training Loss:' in line: # Get training loss\n",
    "                epoch = get_epoch_from_line(line) # Get epoch\n",
    "                training_loss[epoch - 1] = get_training_loss_from_line(line) # Store loss in list\n",
    "            elif 'Validation loss:' in line: # Get validation loss\n",
    "                epoch = get_epoch_from_line(line) # Get epoch)\n",
    "                validation_loss[epoch - 1] = get_validation_loss_from_line(line) # Store loss in list\n",
    "            \n",
    "    return training_loss, validation_loss    "
   ]
  },
  {
   "cell_type": "markdown",
   "metadata": {},
   "source": [
    "# Experimento usando los documentos de Comunicación"
   ]
  },
  {
   "cell_type": "markdown",
   "metadata": {},
   "source": [
    "## En nivel de complejidad 1"
   ]
  },
  {
   "cell_type": "markdown",
   "metadata": {},
   "source": [
    "### Resultados del entrenamiento"
   ]
  },
  {
   "cell_type": "markdown",
   "metadata": {},
   "source": [
    "#### Obteniendo los datos"
   ]
  },
  {
   "cell_type": "code",
   "execution_count": 11,
   "metadata": {},
   "outputs": [],
   "source": [
    "training_loss, validation_loss = get_training_validation_loss(f'{BASE_DIRECTORY}/data/raw/log_grade_1_comunicacion.txt', 100)\n",
    "losses = pd.DataFrame(data={\n",
    "    'training': training_loss,\n",
    "    'validation': validation_loss\n",
    "})"
   ]
  },
  {
   "cell_type": "markdown",
   "metadata": {},
   "source": [
    "#### Curva de error: Capacidad de comprensión"
   ]
  },
  {
   "cell_type": "code",
   "execution_count": 12,
   "metadata": {},
   "outputs": [
    {
     "data": {
      "image/png": "[encoded data removed]",
      "text/plain": [
       "<Figure size 432x288 with 1 Axes>"
      ]
     },
     "metadata": {
      "needs_background": "light"
     },
     "output_type": "display_data"
    }
   ],
   "source": [
    "sns.lineplot(data=losses)\n",
    "plt.show()"
   ]
  },
  {
   "cell_type": "code",
   "execution_count": null,
   "metadata": {},
   "outputs": [],
   "source": []
  }
 ],
 "metadata": {
  "kernelspec": {
   "display_name": "tesis",
   "language": "python",
   "name": "tesis"
  },
  "language_info": {
   "codemirror_mode": {
    "name": "ipython",
    "version": 3
   },
   "file_extension": ".py",
   "mimetype": "text/x-python",
   "name": "python",
   "nbconvert_exporter": "python",
   "pygments_lexer": "ipython3",
   "version": "3.8.5"
  }
 },
 "nbformat": 4,
 "nbformat_minor": 4
}
