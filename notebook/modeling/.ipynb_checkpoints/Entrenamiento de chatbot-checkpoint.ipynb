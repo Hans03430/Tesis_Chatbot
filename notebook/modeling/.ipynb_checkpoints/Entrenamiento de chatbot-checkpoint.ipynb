{
 "cells": [
  {
   "cell_type": "markdown",
   "metadata": {},
   "source": [
    "# Importaciones de Librerías"
   ]
  },
  {
   "cell_type": "code",
   "execution_count": 26,
   "metadata": {},
   "outputs": [],
   "source": [
    "from src.processing.constants import BASE_DIRECTORY\n",
    "from typing import List"
   ]
  },
  {
   "cell_type": "code",
   "execution_count": 27,
   "metadata": {},
   "outputs": [],
   "source": [
    "def get_epoch_from_line(line: str) -> int:\n",
    "    '''\n",
    "    This function gets an epoch from a line of the text.\n",
    "    \n",
    "    Parameters:\n",
    "    line(str): The line of the text.\n",
    "    \n",
    "    Returns:\n",
    "    int: The epoch.\n",
    "    '''\n",
    "    return int(line.split()[1].split('/')[0])"
   ]
  },
  {
   "cell_type": "code",
   "execution_count": 28,
   "metadata": {},
   "outputs": [],
   "source": [
    "def get_training_loss_from_line(line: str) -> float:\n",
    "    '''\n",
    "    This function gets the training loss from a line.\n",
    "    \n",
    "    Parameters:\n",
    "    line(str): The line of the text.\n",
    "    \n",
    "    Returns:\n",
    "    float: The training loss.\n",
    "    '''\n",
    "    words = line.split()\n",
    "    training_loss_str = words[11]\n",
    "    return float(training_loss_str[:-1])"
   ]
  },
  {
   "cell_type": "code",
   "execution_count": 29,
   "metadata": {},
   "outputs": [],
   "source": [
    "def get_validation_loss_from_line(line: str) -> float:\n",
    "    '''\n",
    "    This function gets the validation loss from a line.\n",
    "    \n",
    "    Parameters:\n",
    "    line(str): The line of the text.\n",
    "    \n",
    "    Returns:\n",
    "    float: The validation loss.\n",
    "    '''\n",
    "    words = line.split()\n",
    "    validation_loss_str = words[4]\n",
    "    return float(validation_loss_str[:-1])"
   ]
  },
  {
   "cell_type": "code",
   "execution_count": 36,
   "metadata": {},
   "outputs": [],
   "source": [
    "def get_training_validation_loss(epochs: int) -> (List, List):\n",
    "    '''\n",
    "    This\n",
    "    '''\n",
    "    training_loss = [0] * epochs\n",
    "    validation_loss = [0] * epochs\n",
    "    with open(f'{BASE_DIRECTORY}/data/raw/log.txt', 'r') as f: # Open the file with the training data\n",
    "        # Iterate every line\n",
    "        for line in f:\n",
    "            if 'Training Loss:' in line: # Get training loss\n",
    "                epoch = get_epoch_from_line(line) # Get epoch\n",
    "                training_loss[epoch - 1] = get_training_loss_from_line(line) # Store loss in list\n",
    "            elif 'Validation loss:' in line: # Get validation loss\n",
    "                epoch = get_epoch_from_line(line) # Get epoch)\n",
    "                validation_loss[epoch - 1] = get_validation_loss_from_line(line) # Store loss in list\n",
    "            \n",
    "    return training_loss, validation_loss    "
   ]
  },
  {
   "cell_type": "code",
   "execution_count": 37,
   "metadata": {},
   "outputs": [
    {
     "name": "stdout",
     "output_type": "stream",
     "text": [
      "[14045.269, 21145.589, 12830.266, 11630.896, 11764.041, 23446.972, 21303.978, 18676.892, 24669.725, 26723.416, 28048.173, 32715.878, 25722.657, 27892.539, 21567.032, 20472.606, 24531.538, 29322.117, 30116.567, 25399.927, 27937.413, 33660.436, 28071.689, 24377.796, 27609.503, 28198.05, 32870.654, 29520.225, 34624.548, 40506.34, 41445.292, 39728.778, 36558.73, 43473.815, 36251.34, 42514.096, 47930.332, 49136.915, 50975.053, 46949.248, 51930.676, 48192.507, 48777.458, 52081.797, 51471.598, 50809.741, 48960.385, 42885.803, 41389.445, 40879.086, 44079.753, 39269.122, 38381.601, 44297.74, 43356.955, 43589.24, 44315.89, 42096.576, 0, 0, 0, 0, 0, 0, 0, 0, 0, 0, 0, 0, 0, 0, 0, 0, 0, 0, 0, 0, 0, 0, 0, 0, 0, 0, 0, 0, 0, 0, 0, 0, 0, 0, 0, 0, 0, 0, 0, 0, 0, 0]\n",
      "[16791.032, 20952.67, 14344.808, 14206.173, 15037.355, 25515.514, 24856.096, 23945.675, 28592.64, 32498.41, 35795.851, 39201.471, 37861.786, 39312.085, 36488.619, 34026.14, 38072.906, 42332.708, 41739.167, 39484.52, 42898.802, 45622.209, 43324.583, 42742.486, 43435.411, 42808.357, 46312.837, 43965.293, 46059.533, 52141.559, 53396.316, 50949.191, 49629.698, 54067.83, 48675.117, 54036.726, 59362.266, 60452.062, 61974.337, 58921.211, 62525.245, 59255.578, 60151.834, 62031.466, 61057.154, 60911.179, 59898.832, 55653.103, 54553.933, 53727.391, 56595.594, 52428.566, 53874.143, 56749.985, 56340.691, 56254.618, 56236.891, 0, 0, 0, 0, 0, 0, 0, 0, 0, 0, 0, 0, 0, 0, 0, 0, 0, 0, 0, 0, 0, 0, 0, 0, 0, 0, 0, 0, 0, 0, 0, 0, 0, 0, 0, 0, 0, 0, 0, 0, 0, 0, 0]\n"
     ]
    }
   ],
   "source": [
    "training_loss, validation_loss = get_training_validation_loss(100)\n",
    "print(training_loss)\n",
    "print(validation_loss)"
   ]
  },
  {
   "cell_type": "code",
   "execution_count": null,
   "metadata": {},
   "outputs": [],
   "source": []
  }
 ],
 "metadata": {
  "kernelspec": {
   "display_name": "tesis",
   "language": "python",
   "name": "tesis"
  },
  "language_info": {
   "codemirror_mode": {
    "name": "ipython",
    "version": 3
   },
   "file_extension": ".py",
   "mimetype": "text/x-python",
   "name": "python",
   "nbconvert_exporter": "python",
   "pygments_lexer": "ipython3",
   "version": "3.8.5"
  }
 },
 "nbformat": 4,
 "nbformat_minor": 4
}
