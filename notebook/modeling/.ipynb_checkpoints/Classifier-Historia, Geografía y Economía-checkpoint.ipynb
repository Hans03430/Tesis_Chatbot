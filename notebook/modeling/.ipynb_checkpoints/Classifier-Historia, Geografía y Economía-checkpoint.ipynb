{
 "cells": [
  {
   "cell_type": "markdown",
   "metadata": {},
   "source": [
    "# Importaciones de librerías"
   ]
  },
  {
   "cell_type": "code",
   "execution_count": 1,
   "metadata": {},
   "outputs": [
    {
     "name": "stderr",
     "output_type": "stream",
     "text": [
      "/home/hans/Proyectos/Python/Tesis_Chatbot/env/lib/python3.8/site-packages/sqlalchemy/orm/util.py:104: SAWarning: The 'delete-orphan' cascade option requires 'delete'.\n",
      "  util.warn(\n"
     ]
    }
   ],
   "source": [
    "import pandas as pd\n",
    "\n",
    "from scikitplot.metrics import plot_confusion_matrix\n",
    "from sklearn.linear_model import LogisticRegression\n",
    "from sklearn.linear_model import Perceptron\n",
    "from sklearn.model_selection import GridSearchCV\n",
    "from sklearn.model_selection import train_test_split\n",
    "from sklearn.metrics import make_scorer\n",
    "from sklearn.metrics import accuracy_score\n",
    "from sklearn.metrics import f1_score\n",
    "from sklearn.metrics import recall_score\n",
    "from sklearn.metrics import precision_score\n",
    "from sklearn.ensemble import AdaBoostClassifier\n",
    "from sklearn.ensemble import GradientBoostingClassifier\n",
    "from sklearn.ensemble import RandomForestClassifier\n",
    "from sklearn.ensemble import StackingClassifier\n",
    "from sklearn.ensemble import VotingClassifier\n",
    "from sklearn.neighbors import KNeighborsClassifier\n",
    "from sklearn.preprocessing import MinMaxScaler\n",
    "from sklearn.svm import SVC\n",
    "from sklearn.tree import DecisionTreeClassifier\n",
    "from src.modeling.utils.utils import print_scores\n",
    "from src.modeling.utils.utils import drop_dataset_unnecessary_columns\n",
    "from src.modeling.utils.utils import train_test_model\n",
    "from src.preparation.data_access.obtained_text_da import ObtainedTextDA"
   ]
  },
  {
   "cell_type": "markdown",
   "metadata": {},
   "source": [
    "# Constantes"
   ]
  },
  {
   "cell_type": "code",
   "execution_count": 2,
   "metadata": {},
   "outputs": [
    {
     "data": {
      "text/html": [
       "<div>\n",
       "<style scoped>\n",
       "    .dataframe tbody tr th:only-of-type {\n",
       "        vertical-align: middle;\n",
       "    }\n",
       "\n",
       "    .dataframe tbody tr th {\n",
       "        vertical-align: top;\n",
       "    }\n",
       "\n",
       "    .dataframe thead th {\n",
       "        text-align: right;\n",
       "    }\n",
       "</style>\n",
       "<table border=\"1\" class=\"dataframe\">\n",
       "  <thead>\n",
       "    <tr style=\"text-align: right;\">\n",
       "      <th></th>\n",
       "      <th>CNCADC</th>\n",
       "      <th>CNCAdd</th>\n",
       "      <th>CNCAll</th>\n",
       "      <th>CNCCaus</th>\n",
       "      <th>CNCLogic</th>\n",
       "      <th>CNCTemp</th>\n",
       "      <th>CRFANP1</th>\n",
       "      <th>CRFANPa</th>\n",
       "      <th>CRFAO1</th>\n",
       "      <th>CRFAOa</th>\n",
       "      <th>...</th>\n",
       "      <th>WRDPRP1s</th>\n",
       "      <th>WRDPRP2p</th>\n",
       "      <th>WRDPRP2s</th>\n",
       "      <th>WRDPRP3p</th>\n",
       "      <th>WRDPRP3s</th>\n",
       "      <th>WRDVERB</th>\n",
       "      <th>category</th>\n",
       "      <th>filename</th>\n",
       "      <th>grade</th>\n",
       "      <th>id</th>\n",
       "    </tr>\n",
       "  </thead>\n",
       "  <tbody>\n",
       "    <tr>\n",
       "      <th>0</th>\n",
       "      <td>5.595524</td>\n",
       "      <td>0.532907</td>\n",
       "      <td>56.754596</td>\n",
       "      <td>17.319478</td>\n",
       "      <td>30.109246</td>\n",
       "      <td>3.197442</td>\n",
       "      <td>0.099526</td>\n",
       "      <td>0.079630</td>\n",
       "      <td>0.236967</td>\n",
       "      <td>0.148887</td>\n",
       "      <td>...</td>\n",
       "      <td>0.000000</td>\n",
       "      <td>0.000000</td>\n",
       "      <td>0.000000</td>\n",
       "      <td>2.398082</td>\n",
       "      <td>10.125233</td>\n",
       "      <td>110.578204</td>\n",
       "      <td>Historia, Geografía y Economía</td>\n",
       "      <td>atahualpa.txt</td>\n",
       "      <td>1.0</td>\n",
       "      <td>1.0</td>\n",
       "    </tr>\n",
       "    <tr>\n",
       "      <th>1</th>\n",
       "      <td>4.526167</td>\n",
       "      <td>0.848656</td>\n",
       "      <td>56.294201</td>\n",
       "      <td>13.861386</td>\n",
       "      <td>33.663366</td>\n",
       "      <td>3.394625</td>\n",
       "      <td>0.159722</td>\n",
       "      <td>0.119540</td>\n",
       "      <td>0.291667</td>\n",
       "      <td>0.197797</td>\n",
       "      <td>...</td>\n",
       "      <td>0.565771</td>\n",
       "      <td>0.000000</td>\n",
       "      <td>0.848656</td>\n",
       "      <td>2.545969</td>\n",
       "      <td>8.769448</td>\n",
       "      <td>94.766620</td>\n",
       "      <td>Historia, Geografía y Economía</td>\n",
       "      <td>avelino_caceres.txt</td>\n",
       "      <td>1.0</td>\n",
       "      <td>2.0</td>\n",
       "    </tr>\n",
       "    <tr>\n",
       "      <th>2</th>\n",
       "      <td>1.737619</td>\n",
       "      <td>0.000000</td>\n",
       "      <td>59.079062</td>\n",
       "      <td>11.294526</td>\n",
       "      <td>40.834057</td>\n",
       "      <td>5.212858</td>\n",
       "      <td>0.026316</td>\n",
       "      <td>0.019822</td>\n",
       "      <td>0.197368</td>\n",
       "      <td>0.150034</td>\n",
       "      <td>...</td>\n",
       "      <td>0.000000</td>\n",
       "      <td>0.000000</td>\n",
       "      <td>5.212858</td>\n",
       "      <td>1.737619</td>\n",
       "      <td>9.556907</td>\n",
       "      <td>149.435274</td>\n",
       "      <td>Historia, Geografía y Economía</td>\n",
       "      <td>cartilla_fenomeno_nino.txt</td>\n",
       "      <td>1.0</td>\n",
       "      <td>3.0</td>\n",
       "    </tr>\n",
       "    <tr>\n",
       "      <th>3</th>\n",
       "      <td>1.765225</td>\n",
       "      <td>1.765225</td>\n",
       "      <td>64.430715</td>\n",
       "      <td>12.356575</td>\n",
       "      <td>44.130627</td>\n",
       "      <td>4.413063</td>\n",
       "      <td>0.035714</td>\n",
       "      <td>0.039216</td>\n",
       "      <td>0.166667</td>\n",
       "      <td>0.142577</td>\n",
       "      <td>...</td>\n",
       "      <td>0.000000</td>\n",
       "      <td>0.000000</td>\n",
       "      <td>9.708738</td>\n",
       "      <td>0.000000</td>\n",
       "      <td>9.708738</td>\n",
       "      <td>151.809356</td>\n",
       "      <td>Historia, Geografía y Economía</td>\n",
       "      <td>cartilla_inundaciones.txt</td>\n",
       "      <td>1.0</td>\n",
       "      <td>4.0</td>\n",
       "    </tr>\n",
       "    <tr>\n",
       "      <th>4</th>\n",
       "      <td>5.965697</td>\n",
       "      <td>0.248571</td>\n",
       "      <td>52.945563</td>\n",
       "      <td>13.422819</td>\n",
       "      <td>30.325628</td>\n",
       "      <td>2.982849</td>\n",
       "      <td>0.151515</td>\n",
       "      <td>0.171011</td>\n",
       "      <td>0.430303</td>\n",
       "      <td>0.273384</td>\n",
       "      <td>...</td>\n",
       "      <td>0.000000</td>\n",
       "      <td>0.000000</td>\n",
       "      <td>0.000000</td>\n",
       "      <td>1.739995</td>\n",
       "      <td>10.688541</td>\n",
       "      <td>93.711161</td>\n",
       "      <td>Historia, Geografía y Economía</td>\n",
       "      <td>enrique_meiggs.txt</td>\n",
       "      <td>1.0</td>\n",
       "      <td>5.0</td>\n",
       "    </tr>\n",
       "    <tr>\n",
       "      <th>5</th>\n",
       "      <td>10.632642</td>\n",
       "      <td>0.000000</td>\n",
       "      <td>59.808612</td>\n",
       "      <td>13.556619</td>\n",
       "      <td>30.834662</td>\n",
       "      <td>4.784689</td>\n",
       "      <td>0.092784</td>\n",
       "      <td>0.065186</td>\n",
       "      <td>0.216495</td>\n",
       "      <td>0.134021</td>\n",
       "      <td>...</td>\n",
       "      <td>1.594896</td>\n",
       "      <td>0.531632</td>\n",
       "      <td>1.329080</td>\n",
       "      <td>3.721425</td>\n",
       "      <td>10.101010</td>\n",
       "      <td>116.161616</td>\n",
       "      <td>Historia, Geografía y Economía</td>\n",
       "      <td>epopeya_arica.txt</td>\n",
       "      <td>1.0</td>\n",
       "      <td>6.0</td>\n",
       "    </tr>\n",
       "    <tr>\n",
       "      <th>6</th>\n",
       "      <td>5.033557</td>\n",
       "      <td>0.838926</td>\n",
       "      <td>59.563758</td>\n",
       "      <td>13.143177</td>\n",
       "      <td>37.192394</td>\n",
       "      <td>3.355705</td>\n",
       "      <td>0.098592</td>\n",
       "      <td>0.107259</td>\n",
       "      <td>0.274648</td>\n",
       "      <td>0.219344</td>\n",
       "      <td>...</td>\n",
       "      <td>0.279642</td>\n",
       "      <td>0.000000</td>\n",
       "      <td>0.000000</td>\n",
       "      <td>1.677852</td>\n",
       "      <td>7.829978</td>\n",
       "      <td>92.002237</td>\n",
       "      <td>Historia, Geografía y Economía</td>\n",
       "      <td>francisco_bolognesi.txt</td>\n",
       "      <td>1.0</td>\n",
       "      <td>7.0</td>\n",
       "    </tr>\n",
       "    <tr>\n",
       "      <th>7</th>\n",
       "      <td>3.084833</td>\n",
       "      <td>1.542416</td>\n",
       "      <td>53.470437</td>\n",
       "      <td>13.624679</td>\n",
       "      <td>30.848329</td>\n",
       "      <td>4.370180</td>\n",
       "      <td>0.075581</td>\n",
       "      <td>0.121186</td>\n",
       "      <td>0.308140</td>\n",
       "      <td>0.210848</td>\n",
       "      <td>...</td>\n",
       "      <td>0.000000</td>\n",
       "      <td>0.000000</td>\n",
       "      <td>0.000000</td>\n",
       "      <td>3.084833</td>\n",
       "      <td>7.712082</td>\n",
       "      <td>94.601542</td>\n",
       "      <td>Historia, Geografía y Economía</td>\n",
       "      <td>francisco_orellana.txt</td>\n",
       "      <td>1.0</td>\n",
       "      <td>8.0</td>\n",
       "    </tr>\n",
       "    <tr>\n",
       "      <th>8</th>\n",
       "      <td>1.895285</td>\n",
       "      <td>0.473821</td>\n",
       "      <td>48.329780</td>\n",
       "      <td>12.319356</td>\n",
       "      <td>31.272210</td>\n",
       "      <td>2.369107</td>\n",
       "      <td>0.090909</td>\n",
       "      <td>0.106170</td>\n",
       "      <td>0.296970</td>\n",
       "      <td>0.183936</td>\n",
       "      <td>...</td>\n",
       "      <td>0.000000</td>\n",
       "      <td>0.000000</td>\n",
       "      <td>0.000000</td>\n",
       "      <td>2.132196</td>\n",
       "      <td>10.660981</td>\n",
       "      <td>79.838901</td>\n",
       "      <td>Historia, Geografía y Economía</td>\n",
       "      <td>francisco_toledo.txt</td>\n",
       "      <td>1.0</td>\n",
       "      <td>9.0</td>\n",
       "    </tr>\n",
       "    <tr>\n",
       "      <th>9</th>\n",
       "      <td>7.656316</td>\n",
       "      <td>0.425351</td>\n",
       "      <td>72.309655</td>\n",
       "      <td>16.588686</td>\n",
       "      <td>44.661846</td>\n",
       "      <td>2.977456</td>\n",
       "      <td>0.075269</td>\n",
       "      <td>0.039350</td>\n",
       "      <td>0.301075</td>\n",
       "      <td>0.200412</td>\n",
       "      <td>...</td>\n",
       "      <td>3.828158</td>\n",
       "      <td>0.000000</td>\n",
       "      <td>0.000000</td>\n",
       "      <td>4.678860</td>\n",
       "      <td>6.805615</td>\n",
       "      <td>86.346236</td>\n",
       "      <td>Historia, Geografía y Economía</td>\n",
       "      <td>guaman_poma.txt</td>\n",
       "      <td>1.0</td>\n",
       "      <td>10.0</td>\n",
       "    </tr>\n",
       "    <tr>\n",
       "      <th>10</th>\n",
       "      <td>5.248425</td>\n",
       "      <td>0.000000</td>\n",
       "      <td>62.631211</td>\n",
       "      <td>12.596221</td>\n",
       "      <td>42.687194</td>\n",
       "      <td>2.099370</td>\n",
       "      <td>0.069565</td>\n",
       "      <td>0.058021</td>\n",
       "      <td>0.243478</td>\n",
       "      <td>0.131784</td>\n",
       "      <td>...</td>\n",
       "      <td>0.349895</td>\n",
       "      <td>0.000000</td>\n",
       "      <td>0.000000</td>\n",
       "      <td>1.399580</td>\n",
       "      <td>7.697691</td>\n",
       "      <td>77.676697</td>\n",
       "      <td>Historia, Geografía y Economía</td>\n",
       "      <td>hipolito_unanue.txt</td>\n",
       "      <td>1.0</td>\n",
       "      <td>11.0</td>\n",
       "    </tr>\n",
       "    <tr>\n",
       "      <th>11</th>\n",
       "      <td>2.169197</td>\n",
       "      <td>2.169197</td>\n",
       "      <td>54.229935</td>\n",
       "      <td>16.268980</td>\n",
       "      <td>30.368764</td>\n",
       "      <td>3.253796</td>\n",
       "      <td>0.065217</td>\n",
       "      <td>0.053654</td>\n",
       "      <td>0.282609</td>\n",
       "      <td>0.189639</td>\n",
       "      <td>...</td>\n",
       "      <td>0.000000</td>\n",
       "      <td>0.000000</td>\n",
       "      <td>0.000000</td>\n",
       "      <td>2.169197</td>\n",
       "      <td>6.507592</td>\n",
       "      <td>77.006508</td>\n",
       "      <td>Historia, Geografía y Economía</td>\n",
       "      <td>ines_huaylas.txt</td>\n",
       "      <td>1.0</td>\n",
       "      <td>12.0</td>\n",
       "    </tr>\n",
       "    <tr>\n",
       "      <th>12</th>\n",
       "      <td>2.472625</td>\n",
       "      <td>0.706464</td>\n",
       "      <td>49.805722</td>\n",
       "      <td>11.303426</td>\n",
       "      <td>31.790887</td>\n",
       "      <td>3.532321</td>\n",
       "      <td>0.085714</td>\n",
       "      <td>0.070111</td>\n",
       "      <td>0.321429</td>\n",
       "      <td>0.215704</td>\n",
       "      <td>...</td>\n",
       "      <td>0.353232</td>\n",
       "      <td>0.000000</td>\n",
       "      <td>0.000000</td>\n",
       "      <td>2.119392</td>\n",
       "      <td>6.711409</td>\n",
       "      <td>76.298128</td>\n",
       "      <td>Historia, Geografía y Economía</td>\n",
       "      <td>jorge_basadre.txt</td>\n",
       "      <td>1.0</td>\n",
       "      <td>13.0</td>\n",
       "    </tr>\n",
       "    <tr>\n",
       "      <th>13</th>\n",
       "      <td>6.650831</td>\n",
       "      <td>0.950119</td>\n",
       "      <td>55.581948</td>\n",
       "      <td>12.826603</td>\n",
       "      <td>31.353919</td>\n",
       "      <td>3.800475</td>\n",
       "      <td>0.088235</td>\n",
       "      <td>0.076528</td>\n",
       "      <td>0.303922</td>\n",
       "      <td>0.207881</td>\n",
       "      <td>...</td>\n",
       "      <td>0.000000</td>\n",
       "      <td>0.000000</td>\n",
       "      <td>0.000000</td>\n",
       "      <td>0.950119</td>\n",
       "      <td>4.275534</td>\n",
       "      <td>102.612827</td>\n",
       "      <td>Historia, Geografía y Economía</td>\n",
       "      <td>jorge_chavez.txt</td>\n",
       "      <td>1.0</td>\n",
       "      <td>14.0</td>\n",
       "    </tr>\n",
       "    <tr>\n",
       "      <th>14</th>\n",
       "      <td>3.706449</td>\n",
       "      <td>0.370645</td>\n",
       "      <td>58.191253</td>\n",
       "      <td>17.420311</td>\n",
       "      <td>33.728688</td>\n",
       "      <td>2.965159</td>\n",
       "      <td>0.151786</td>\n",
       "      <td>0.103034</td>\n",
       "      <td>0.285714</td>\n",
       "      <td>0.187105</td>\n",
       "      <td>...</td>\n",
       "      <td>0.000000</td>\n",
       "      <td>0.000000</td>\n",
       "      <td>0.000000</td>\n",
       "      <td>2.965159</td>\n",
       "      <td>14.084507</td>\n",
       "      <td>84.507042</td>\n",
       "      <td>Historia, Geografía y Economía</td>\n",
       "      <td>jose_olaya.txt</td>\n",
       "      <td>1.0</td>\n",
       "      <td>15.0</td>\n",
       "    </tr>\n",
       "    <tr>\n",
       "      <th>15</th>\n",
       "      <td>3.463953</td>\n",
       "      <td>0.432994</td>\n",
       "      <td>54.773761</td>\n",
       "      <td>12.773328</td>\n",
       "      <td>35.505521</td>\n",
       "      <td>2.597965</td>\n",
       "      <td>0.159341</td>\n",
       "      <td>0.170360</td>\n",
       "      <td>0.379121</td>\n",
       "      <td>0.257491</td>\n",
       "      <td>...</td>\n",
       "      <td>0.649491</td>\n",
       "      <td>0.000000</td>\n",
       "      <td>0.000000</td>\n",
       "      <td>0.432994</td>\n",
       "      <td>10.824854</td>\n",
       "      <td>85.299848</td>\n",
       "      <td>Historia, Geografía y Economía</td>\n",
       "      <td>jsanchez_carrion.txt</td>\n",
       "      <td>1.0</td>\n",
       "      <td>16.0</td>\n",
       "    </tr>\n",
       "    <tr>\n",
       "      <th>16</th>\n",
       "      <td>1.128244</td>\n",
       "      <td>2.256487</td>\n",
       "      <td>50.018804</td>\n",
       "      <td>13.538924</td>\n",
       "      <td>30.838661</td>\n",
       "      <td>2.256487</td>\n",
       "      <td>0.067308</td>\n",
       "      <td>0.065751</td>\n",
       "      <td>0.269231</td>\n",
       "      <td>0.170879</td>\n",
       "      <td>...</td>\n",
       "      <td>0.000000</td>\n",
       "      <td>0.000000</td>\n",
       "      <td>0.000000</td>\n",
       "      <td>1.880406</td>\n",
       "      <td>4.889056</td>\n",
       "      <td>75.216247</td>\n",
       "      <td>Historia, Geografía y Economía</td>\n",
       "      <td>juanita.txt</td>\n",
       "      <td>1.0</td>\n",
       "      <td>17.0</td>\n",
       "    </tr>\n",
       "    <tr>\n",
       "      <th>17</th>\n",
       "      <td>2.534854</td>\n",
       "      <td>0.211238</td>\n",
       "      <td>59.991550</td>\n",
       "      <td>15.631601</td>\n",
       "      <td>37.811576</td>\n",
       "      <td>3.802281</td>\n",
       "      <td>0.150685</td>\n",
       "      <td>0.125239</td>\n",
       "      <td>0.287671</td>\n",
       "      <td>0.206849</td>\n",
       "      <td>...</td>\n",
       "      <td>0.844951</td>\n",
       "      <td>0.000000</td>\n",
       "      <td>0.422476</td>\n",
       "      <td>2.323616</td>\n",
       "      <td>9.294466</td>\n",
       "      <td>98.225602</td>\n",
       "      <td>Historia, Geografía y Economía</td>\n",
       "      <td>leoncio_prado.txt</td>\n",
       "      <td>1.0</td>\n",
       "      <td>18.0</td>\n",
       "    </tr>\n",
       "    <tr>\n",
       "      <th>18</th>\n",
       "      <td>4.953220</td>\n",
       "      <td>0.825537</td>\n",
       "      <td>59.713814</td>\n",
       "      <td>14.309301</td>\n",
       "      <td>37.149147</td>\n",
       "      <td>2.476610</td>\n",
       "      <td>0.102151</td>\n",
       "      <td>0.081134</td>\n",
       "      <td>0.241935</td>\n",
       "      <td>0.163303</td>\n",
       "      <td>...</td>\n",
       "      <td>1.375894</td>\n",
       "      <td>0.000000</td>\n",
       "      <td>0.275179</td>\n",
       "      <td>4.953220</td>\n",
       "      <td>10.456797</td>\n",
       "      <td>114.474408</td>\n",
       "      <td>Historia, Geografía y Economía</td>\n",
       "      <td>manco_inca.txt</td>\n",
       "      <td>1.0</td>\n",
       "      <td>19.0</td>\n",
       "    </tr>\n",
       "    <tr>\n",
       "      <th>19</th>\n",
       "      <td>3.149606</td>\n",
       "      <td>0.393701</td>\n",
       "      <td>57.874016</td>\n",
       "      <td>14.566929</td>\n",
       "      <td>34.251969</td>\n",
       "      <td>5.511811</td>\n",
       "      <td>0.113043</td>\n",
       "      <td>0.101349</td>\n",
       "      <td>0.226087</td>\n",
       "      <td>0.195202</td>\n",
       "      <td>...</td>\n",
       "      <td>2.755906</td>\n",
       "      <td>0.000000</td>\n",
       "      <td>1.181102</td>\n",
       "      <td>4.330709</td>\n",
       "      <td>7.480315</td>\n",
       "      <td>101.968504</td>\n",
       "      <td>Historia, Geografía y Economía</td>\n",
       "      <td>mateo_pumacahua.txt</td>\n",
       "      <td>1.0</td>\n",
       "      <td>20.0</td>\n",
       "    </tr>\n",
       "    <tr>\n",
       "      <th>20</th>\n",
       "      <td>1.187850</td>\n",
       "      <td>0.169693</td>\n",
       "      <td>68.046835</td>\n",
       "      <td>7.975564</td>\n",
       "      <td>52.604785</td>\n",
       "      <td>6.108943</td>\n",
       "      <td>0.078392</td>\n",
       "      <td>0.058554</td>\n",
       "      <td>0.276382</td>\n",
       "      <td>0.087845</td>\n",
       "      <td>...</td>\n",
       "      <td>5.599864</td>\n",
       "      <td>0.169693</td>\n",
       "      <td>1.018157</td>\n",
       "      <td>3.139318</td>\n",
       "      <td>16.460207</td>\n",
       "      <td>134.396742</td>\n",
       "      <td>Historia, Geografía y Economía</td>\n",
       "      <td>mi-cuaderno-autoaprendizaje-ps-1.txt</td>\n",
       "      <td>1.0</td>\n",
       "      <td>21.0</td>\n",
       "    </tr>\n",
       "    <tr>\n",
       "      <th>21</th>\n",
       "      <td>0.670860</td>\n",
       "      <td>0.419287</td>\n",
       "      <td>64.318658</td>\n",
       "      <td>8.972746</td>\n",
       "      <td>50.482180</td>\n",
       "      <td>3.773585</td>\n",
       "      <td>0.066949</td>\n",
       "      <td>0.054137</td>\n",
       "      <td>0.196610</td>\n",
       "      <td>0.062034</td>\n",
       "      <td>...</td>\n",
       "      <td>7.966457</td>\n",
       "      <td>0.251572</td>\n",
       "      <td>0.754717</td>\n",
       "      <td>2.851153</td>\n",
       "      <td>17.023061</td>\n",
       "      <td>142.306080</td>\n",
       "      <td>Historia, Geografía y Economía</td>\n",
       "      <td>mi-cuaderno-autoaprendizaje-ps-2.txt</td>\n",
       "      <td>1.0</td>\n",
       "      <td>22.0</td>\n",
       "    </tr>\n",
       "    <tr>\n",
       "      <th>22</th>\n",
       "      <td>0.701052</td>\n",
       "      <td>0.450676</td>\n",
       "      <td>66.299449</td>\n",
       "      <td>10.565849</td>\n",
       "      <td>51.176765</td>\n",
       "      <td>3.405108</td>\n",
       "      <td>0.060663</td>\n",
       "      <td>0.037980</td>\n",
       "      <td>0.286429</td>\n",
       "      <td>0.082030</td>\n",
       "      <td>...</td>\n",
       "      <td>3.955934</td>\n",
       "      <td>0.200300</td>\n",
       "      <td>0.901352</td>\n",
       "      <td>4.006009</td>\n",
       "      <td>14.071107</td>\n",
       "      <td>131.196795</td>\n",
       "      <td>Historia, Geografía y Economía</td>\n",
       "      <td>mi-cuaderno-autoaprendizaje-ps-3.txt</td>\n",
       "      <td>1.0</td>\n",
       "      <td>23.0</td>\n",
       "    </tr>\n",
       "    <tr>\n",
       "      <th>23</th>\n",
       "      <td>1.710731</td>\n",
       "      <td>0.777605</td>\n",
       "      <td>62.778642</td>\n",
       "      <td>11.819596</td>\n",
       "      <td>45.256610</td>\n",
       "      <td>3.214101</td>\n",
       "      <td>0.092615</td>\n",
       "      <td>0.062510</td>\n",
       "      <td>0.230630</td>\n",
       "      <td>0.074064</td>\n",
       "      <td>...</td>\n",
       "      <td>5.339554</td>\n",
       "      <td>0.259202</td>\n",
       "      <td>2.280975</td>\n",
       "      <td>3.214101</td>\n",
       "      <td>16.588906</td>\n",
       "      <td>137.221358</td>\n",
       "      <td>Historia, Geografía y Economía</td>\n",
       "      <td>mi-cuaderno-autoaprendizaje-ps-5.txt</td>\n",
       "      <td>1.0</td>\n",
       "      <td>24.0</td>\n",
       "    </tr>\n",
       "    <tr>\n",
       "      <th>24</th>\n",
       "      <td>16.245487</td>\n",
       "      <td>1.805054</td>\n",
       "      <td>66.787004</td>\n",
       "      <td>14.440433</td>\n",
       "      <td>32.490975</td>\n",
       "      <td>1.805054</td>\n",
       "      <td>0.045455</td>\n",
       "      <td>0.043478</td>\n",
       "      <td>0.318182</td>\n",
       "      <td>0.272727</td>\n",
       "      <td>...</td>\n",
       "      <td>0.000000</td>\n",
       "      <td>0.000000</td>\n",
       "      <td>0.000000</td>\n",
       "      <td>0.000000</td>\n",
       "      <td>16.245487</td>\n",
       "      <td>90.252708</td>\n",
       "      <td>Historia, Geografía y Economía</td>\n",
       "      <td>micaela_bastidas.txt</td>\n",
       "      <td>1.0</td>\n",
       "      <td>25.0</td>\n",
       "    </tr>\n",
       "    <tr>\n",
       "      <th>25</th>\n",
       "      <td>5.723205</td>\n",
       "      <td>0.780437</td>\n",
       "      <td>57.232050</td>\n",
       "      <td>14.568158</td>\n",
       "      <td>33.298647</td>\n",
       "      <td>2.861602</td>\n",
       "      <td>0.059880</td>\n",
       "      <td>0.065084</td>\n",
       "      <td>0.269461</td>\n",
       "      <td>0.150485</td>\n",
       "      <td>...</td>\n",
       "      <td>0.260146</td>\n",
       "      <td>0.000000</td>\n",
       "      <td>0.000000</td>\n",
       "      <td>0.520291</td>\n",
       "      <td>7.284079</td>\n",
       "      <td>85.587929</td>\n",
       "      <td>Historia, Geografía y Economía</td>\n",
       "      <td>miguel_grau.txt</td>\n",
       "      <td>1.0</td>\n",
       "      <td>26.0</td>\n",
       "    </tr>\n",
       "    <tr>\n",
       "      <th>26</th>\n",
       "      <td>4.417261</td>\n",
       "      <td>0.000000</td>\n",
       "      <td>55.385661</td>\n",
       "      <td>11.892627</td>\n",
       "      <td>33.978933</td>\n",
       "      <td>5.096840</td>\n",
       "      <td>0.158879</td>\n",
       "      <td>0.107130</td>\n",
       "      <td>0.280374</td>\n",
       "      <td>0.185185</td>\n",
       "      <td>...</td>\n",
       "      <td>0.000000</td>\n",
       "      <td>0.000000</td>\n",
       "      <td>0.000000</td>\n",
       "      <td>0.000000</td>\n",
       "      <td>6.116208</td>\n",
       "      <td>88.005437</td>\n",
       "      <td>Historia, Geografía y Economía</td>\n",
       "      <td>nicolas_pierola.txt</td>\n",
       "      <td>1.0</td>\n",
       "      <td>27.0</td>\n",
       "    </tr>\n",
       "    <tr>\n",
       "      <th>27</th>\n",
       "      <td>4.188774</td>\n",
       "      <td>0.558503</td>\n",
       "      <td>68.695895</td>\n",
       "      <td>13.124825</td>\n",
       "      <td>44.959509</td>\n",
       "      <td>5.864284</td>\n",
       "      <td>0.125000</td>\n",
       "      <td>0.103831</td>\n",
       "      <td>0.423611</td>\n",
       "      <td>0.261015</td>\n",
       "      <td>...</td>\n",
       "      <td>0.837755</td>\n",
       "      <td>0.000000</td>\n",
       "      <td>1.396258</td>\n",
       "      <td>3.909522</td>\n",
       "      <td>9.773806</td>\n",
       "      <td>107.511868</td>\n",
       "      <td>Historia, Geografía y Economía</td>\n",
       "      <td>pachacutec.txt</td>\n",
       "      <td>1.0</td>\n",
       "      <td>28.0</td>\n",
       "    </tr>\n",
       "    <tr>\n",
       "      <th>28</th>\n",
       "      <td>9.629630</td>\n",
       "      <td>0.370370</td>\n",
       "      <td>65.185185</td>\n",
       "      <td>12.592593</td>\n",
       "      <td>39.259259</td>\n",
       "      <td>3.333333</td>\n",
       "      <td>0.065217</td>\n",
       "      <td>0.077606</td>\n",
       "      <td>0.282609</td>\n",
       "      <td>0.215989</td>\n",
       "      <td>...</td>\n",
       "      <td>0.370370</td>\n",
       "      <td>0.000000</td>\n",
       "      <td>0.000000</td>\n",
       "      <td>1.111111</td>\n",
       "      <td>10.370370</td>\n",
       "      <td>69.629630</td>\n",
       "      <td>Historia, Geografía y Economía</td>\n",
       "      <td>pedro_peralta.txt</td>\n",
       "      <td>1.0</td>\n",
       "      <td>29.0</td>\n",
       "    </tr>\n",
       "    <tr>\n",
       "      <th>29</th>\n",
       "      <td>4.968258</td>\n",
       "      <td>0.000000</td>\n",
       "      <td>61.551201</td>\n",
       "      <td>19.044990</td>\n",
       "      <td>32.845708</td>\n",
       "      <td>4.692244</td>\n",
       "      <td>0.173333</td>\n",
       "      <td>0.128035</td>\n",
       "      <td>0.413333</td>\n",
       "      <td>0.200353</td>\n",
       "      <td>...</td>\n",
       "      <td>0.000000</td>\n",
       "      <td>0.000000</td>\n",
       "      <td>0.000000</td>\n",
       "      <td>0.000000</td>\n",
       "      <td>4.968258</td>\n",
       "      <td>86.944521</td>\n",
       "      <td>Historia, Geografía y Economía</td>\n",
       "      <td>ramon_castilla.txt</td>\n",
       "      <td>1.0</td>\n",
       "      <td>30.0</td>\n",
       "    </tr>\n",
       "    <tr>\n",
       "      <th>30</th>\n",
       "      <td>5.083367</td>\n",
       "      <td>0.610004</td>\n",
       "      <td>48.393656</td>\n",
       "      <td>9.963400</td>\n",
       "      <td>30.093534</td>\n",
       "      <td>2.643351</td>\n",
       "      <td>0.133028</td>\n",
       "      <td>0.131875</td>\n",
       "      <td>0.311927</td>\n",
       "      <td>0.200243</td>\n",
       "      <td>...</td>\n",
       "      <td>0.203335</td>\n",
       "      <td>0.000000</td>\n",
       "      <td>0.000000</td>\n",
       "      <td>0.610004</td>\n",
       "      <td>10.980073</td>\n",
       "      <td>94.143961</td>\n",
       "      <td>Historia, Geografía y Economía</td>\n",
       "      <td>santa_cruz.txt</td>\n",
       "      <td>1.0</td>\n",
       "      <td>31.0</td>\n",
       "    </tr>\n",
       "    <tr>\n",
       "      <th>31</th>\n",
       "      <td>3.292181</td>\n",
       "      <td>0.411523</td>\n",
       "      <td>45.267490</td>\n",
       "      <td>10.288066</td>\n",
       "      <td>27.572016</td>\n",
       "      <td>3.703704</td>\n",
       "      <td>0.067797</td>\n",
       "      <td>0.082040</td>\n",
       "      <td>0.398305</td>\n",
       "      <td>0.242700</td>\n",
       "      <td>...</td>\n",
       "      <td>0.411523</td>\n",
       "      <td>0.000000</td>\n",
       "      <td>0.000000</td>\n",
       "      <td>1.646091</td>\n",
       "      <td>4.115226</td>\n",
       "      <td>69.958848</td>\n",
       "      <td>Historia, Geografía y Economía</td>\n",
       "      <td>sipan.txt</td>\n",
       "      <td>1.0</td>\n",
       "      <td>32.0</td>\n",
       "    </tr>\n",
       "    <tr>\n",
       "      <th>32</th>\n",
       "      <td>2.652520</td>\n",
       "      <td>0.589449</td>\n",
       "      <td>59.239611</td>\n",
       "      <td>14.736222</td>\n",
       "      <td>37.135279</td>\n",
       "      <td>4.126142</td>\n",
       "      <td>0.067568</td>\n",
       "      <td>0.064847</td>\n",
       "      <td>0.256757</td>\n",
       "      <td>0.175766</td>\n",
       "      <td>...</td>\n",
       "      <td>0.000000</td>\n",
       "      <td>0.000000</td>\n",
       "      <td>0.000000</td>\n",
       "      <td>2.063071</td>\n",
       "      <td>6.778662</td>\n",
       "      <td>91.364574</td>\n",
       "      <td>Historia, Geografía y Economía</td>\n",
       "      <td>tupac_amaru.txt</td>\n",
       "      <td>1.0</td>\n",
       "      <td>33.0</td>\n",
       "    </tr>\n",
       "    <tr>\n",
       "      <th>33</th>\n",
       "      <td>4.781829</td>\n",
       "      <td>0.896593</td>\n",
       "      <td>63.956964</td>\n",
       "      <td>14.943216</td>\n",
       "      <td>40.346683</td>\n",
       "      <td>2.988643</td>\n",
       "      <td>0.156863</td>\n",
       "      <td>0.122061</td>\n",
       "      <td>0.300654</td>\n",
       "      <td>0.196163</td>\n",
       "      <td>...</td>\n",
       "      <td>0.000000</td>\n",
       "      <td>0.000000</td>\n",
       "      <td>0.000000</td>\n",
       "      <td>5.977286</td>\n",
       "      <td>14.046623</td>\n",
       "      <td>95.636581</td>\n",
       "      <td>Historia, Geografía y Economía</td>\n",
       "      <td>tupac_amaru2.txt</td>\n",
       "      <td>1.0</td>\n",
       "      <td>34.0</td>\n",
       "    </tr>\n",
       "    <tr>\n",
       "      <th>85</th>\n",
       "      <td>4.496403</td>\n",
       "      <td>1.798561</td>\n",
       "      <td>52.158273</td>\n",
       "      <td>13.489209</td>\n",
       "      <td>27.877698</td>\n",
       "      <td>4.496403</td>\n",
       "      <td>0.015385</td>\n",
       "      <td>0.030303</td>\n",
       "      <td>0.153846</td>\n",
       "      <td>0.117016</td>\n",
       "      <td>...</td>\n",
       "      <td>0.000000</td>\n",
       "      <td>0.000000</td>\n",
       "      <td>0.000000</td>\n",
       "      <td>2.697842</td>\n",
       "      <td>1.798561</td>\n",
       "      <td>103.417266</td>\n",
       "      <td>Historia, Geografía y Economía</td>\n",
       "      <td>Sin título 1.txt</td>\n",
       "      <td>2.0</td>\n",
       "      <td>86.0</td>\n",
       "    </tr>\n",
       "    <tr>\n",
       "      <th>86</th>\n",
       "      <td>6.303300</td>\n",
       "      <td>0.741565</td>\n",
       "      <td>53.763441</td>\n",
       "      <td>11.494253</td>\n",
       "      <td>29.291806</td>\n",
       "      <td>5.932518</td>\n",
       "      <td>0.093750</td>\n",
       "      <td>0.094931</td>\n",
       "      <td>0.218750</td>\n",
       "      <td>0.180198</td>\n",
       "      <td>...</td>\n",
       "      <td>0.000000</td>\n",
       "      <td>0.000000</td>\n",
       "      <td>0.000000</td>\n",
       "      <td>0.741565</td>\n",
       "      <td>7.044865</td>\n",
       "      <td>100.111235</td>\n",
       "      <td>Historia, Geografía y Economía</td>\n",
       "      <td>augusto_leguia.txt</td>\n",
       "      <td>2.0</td>\n",
       "      <td>87.0</td>\n",
       "    </tr>\n",
       "    <tr>\n",
       "      <th>87</th>\n",
       "      <td>5.208333</td>\n",
       "      <td>0.000000</td>\n",
       "      <td>52.083333</td>\n",
       "      <td>7.812500</td>\n",
       "      <td>31.250000</td>\n",
       "      <td>7.812500</td>\n",
       "      <td>0.000000</td>\n",
       "      <td>0.079710</td>\n",
       "      <td>0.391304</td>\n",
       "      <td>0.260870</td>\n",
       "      <td>...</td>\n",
       "      <td>0.000000</td>\n",
       "      <td>0.000000</td>\n",
       "      <td>0.000000</td>\n",
       "      <td>2.604167</td>\n",
       "      <td>2.604167</td>\n",
       "      <td>83.333333</td>\n",
       "      <td>Historia, Geografía y Economía</td>\n",
       "      <td>canal_panama.txt</td>\n",
       "      <td>2.0</td>\n",
       "      <td>88.0</td>\n",
       "    </tr>\n",
       "    <tr>\n",
       "      <th>88</th>\n",
       "      <td>6.779243</td>\n",
       "      <td>0.862813</td>\n",
       "      <td>71.120424</td>\n",
       "      <td>21.693578</td>\n",
       "      <td>37.963762</td>\n",
       "      <td>3.821028</td>\n",
       "      <td>0.186916</td>\n",
       "      <td>0.143621</td>\n",
       "      <td>0.359813</td>\n",
       "      <td>0.301500</td>\n",
       "      <td>...</td>\n",
       "      <td>3.697769</td>\n",
       "      <td>0.000000</td>\n",
       "      <td>0.000000</td>\n",
       "      <td>2.341920</td>\n",
       "      <td>7.765315</td>\n",
       "      <td>103.291014</td>\n",
       "      <td>Historia, Geografía y Economía</td>\n",
       "      <td>carta_jamaica.txt</td>\n",
       "      <td>2.0</td>\n",
       "      <td>89.0</td>\n",
       "    </tr>\n",
       "    <tr>\n",
       "      <th>89</th>\n",
       "      <td>0.000000</td>\n",
       "      <td>0.000000</td>\n",
       "      <td>44.520548</td>\n",
       "      <td>20.547945</td>\n",
       "      <td>20.547945</td>\n",
       "      <td>3.424658</td>\n",
       "      <td>0.086957</td>\n",
       "      <td>0.054348</td>\n",
       "      <td>0.173913</td>\n",
       "      <td>0.101449</td>\n",
       "      <td>...</td>\n",
       "      <td>0.000000</td>\n",
       "      <td>0.000000</td>\n",
       "      <td>0.000000</td>\n",
       "      <td>0.000000</td>\n",
       "      <td>0.000000</td>\n",
       "      <td>68.493151</td>\n",
       "      <td>Historia, Geografía y Economía</td>\n",
       "      <td>expansion_roma.txt</td>\n",
       "      <td>2.0</td>\n",
       "      <td>90.0</td>\n",
       "    </tr>\n",
       "    <tr>\n",
       "      <th>90</th>\n",
       "      <td>3.530599</td>\n",
       "      <td>1.849361</td>\n",
       "      <td>54.640215</td>\n",
       "      <td>14.963013</td>\n",
       "      <td>30.598521</td>\n",
       "      <td>3.698722</td>\n",
       "      <td>0.116379</td>\n",
       "      <td>0.109886</td>\n",
       "      <td>0.331897</td>\n",
       "      <td>0.190691</td>\n",
       "      <td>...</td>\n",
       "      <td>0.336247</td>\n",
       "      <td>0.000000</td>\n",
       "      <td>0.000000</td>\n",
       "      <td>1.849361</td>\n",
       "      <td>7.061197</td>\n",
       "      <td>90.786819</td>\n",
       "      <td>Historia, Geografía y Economía</td>\n",
       "      <td>fernando_belaunde.txt</td>\n",
       "      <td>2.0</td>\n",
       "      <td>91.0</td>\n",
       "    </tr>\n",
       "    <tr>\n",
       "      <th>91</th>\n",
       "      <td>4.437401</td>\n",
       "      <td>0.633914</td>\n",
       "      <td>54.833597</td>\n",
       "      <td>12.678288</td>\n",
       "      <td>34.865293</td>\n",
       "      <td>2.218700</td>\n",
       "      <td>0.108108</td>\n",
       "      <td>0.121622</td>\n",
       "      <td>0.324324</td>\n",
       "      <td>0.246300</td>\n",
       "      <td>...</td>\n",
       "      <td>0.000000</td>\n",
       "      <td>0.000000</td>\n",
       "      <td>0.316957</td>\n",
       "      <td>1.584786</td>\n",
       "      <td>3.169572</td>\n",
       "      <td>92.234548</td>\n",
       "      <td>Historia, Geografía y Economía</td>\n",
       "      <td>haya_torre.txt</td>\n",
       "      <td>2.0</td>\n",
       "      <td>92.0</td>\n",
       "    </tr>\n",
       "    <tr>\n",
       "      <th>92</th>\n",
       "      <td>6.058191</td>\n",
       "      <td>0.836987</td>\n",
       "      <td>58.150658</td>\n",
       "      <td>11.638103</td>\n",
       "      <td>34.117178</td>\n",
       "      <td>5.500199</td>\n",
       "      <td>0.108597</td>\n",
       "      <td>0.057068</td>\n",
       "      <td>0.300452</td>\n",
       "      <td>0.103531</td>\n",
       "      <td>...</td>\n",
       "      <td>3.507373</td>\n",
       "      <td>0.717417</td>\n",
       "      <td>2.710243</td>\n",
       "      <td>1.952969</td>\n",
       "      <td>9.685134</td>\n",
       "      <td>94.021523</td>\n",
       "      <td>Historia, Geografía y Economía</td>\n",
       "      <td>historia_geografia.txt</td>\n",
       "      <td>2.0</td>\n",
       "      <td>93.0</td>\n",
       "    </tr>\n",
       "    <tr>\n",
       "      <th>93</th>\n",
       "      <td>2.915452</td>\n",
       "      <td>0.000000</td>\n",
       "      <td>67.055394</td>\n",
       "      <td>17.492711</td>\n",
       "      <td>43.731778</td>\n",
       "      <td>2.915452</td>\n",
       "      <td>0.125000</td>\n",
       "      <td>0.093333</td>\n",
       "      <td>0.250000</td>\n",
       "      <td>0.180000</td>\n",
       "      <td>...</td>\n",
       "      <td>0.000000</td>\n",
       "      <td>0.000000</td>\n",
       "      <td>0.000000</td>\n",
       "      <td>0.000000</td>\n",
       "      <td>5.830904</td>\n",
       "      <td>52.478134</td>\n",
       "      <td>Historia, Geografía y Economía</td>\n",
       "      <td>la_cuenca_del_amazonas.txt</td>\n",
       "      <td>2.0</td>\n",
       "      <td>94.0</td>\n",
       "    </tr>\n",
       "    <tr>\n",
       "      <th>94</th>\n",
       "      <td>0.000000</td>\n",
       "      <td>0.000000</td>\n",
       "      <td>20.501139</td>\n",
       "      <td>4.555809</td>\n",
       "      <td>15.945330</td>\n",
       "      <td>0.000000</td>\n",
       "      <td>0.093750</td>\n",
       "      <td>0.039773</td>\n",
       "      <td>0.437500</td>\n",
       "      <td>0.299242</td>\n",
       "      <td>...</td>\n",
       "      <td>0.000000</td>\n",
       "      <td>0.000000</td>\n",
       "      <td>0.000000</td>\n",
       "      <td>0.000000</td>\n",
       "      <td>2.277904</td>\n",
       "      <td>47.835991</td>\n",
       "      <td>Historia, Geografía y Economía</td>\n",
       "      <td>la_estructura_demografica_de_la_poblacion.txt</td>\n",
       "      <td>2.0</td>\n",
       "      <td>95.0</td>\n",
       "    </tr>\n",
       "    <tr>\n",
       "      <th>95</th>\n",
       "      <td>0.000000</td>\n",
       "      <td>3.021148</td>\n",
       "      <td>66.465257</td>\n",
       "      <td>3.021148</td>\n",
       "      <td>60.422961</td>\n",
       "      <td>0.000000</td>\n",
       "      <td>0.025641</td>\n",
       "      <td>0.019231</td>\n",
       "      <td>0.153846</td>\n",
       "      <td>0.051282</td>\n",
       "      <td>...</td>\n",
       "      <td>0.000000</td>\n",
       "      <td>0.000000</td>\n",
       "      <td>0.000000</td>\n",
       "      <td>3.021148</td>\n",
       "      <td>3.021148</td>\n",
       "      <td>54.380665</td>\n",
       "      <td>Historia, Geografía y Economía</td>\n",
       "      <td>la_organizacion_de_la_economia_en_el_imperio_i...</td>\n",
       "      <td>2.0</td>\n",
       "      <td>96.0</td>\n",
       "    </tr>\n",
       "    <tr>\n",
       "      <th>96</th>\n",
       "      <td>1.675042</td>\n",
       "      <td>0.000000</td>\n",
       "      <td>53.601340</td>\n",
       "      <td>16.750419</td>\n",
       "      <td>33.500838</td>\n",
       "      <td>1.675042</td>\n",
       "      <td>0.121212</td>\n",
       "      <td>0.140820</td>\n",
       "      <td>0.696970</td>\n",
       "      <td>0.581105</td>\n",
       "      <td>...</td>\n",
       "      <td>0.000000</td>\n",
       "      <td>0.000000</td>\n",
       "      <td>0.000000</td>\n",
       "      <td>1.675042</td>\n",
       "      <td>3.350084</td>\n",
       "      <td>38.525963</td>\n",
       "      <td>Historia, Geografía y Economía</td>\n",
       "      <td>las_corrientes_marinas.txt</td>\n",
       "      <td>2.0</td>\n",
       "      <td>97.0</td>\n",
       "    </tr>\n",
       "    <tr>\n",
       "      <th>97</th>\n",
       "      <td>6.493506</td>\n",
       "      <td>0.000000</td>\n",
       "      <td>48.701299</td>\n",
       "      <td>14.069264</td>\n",
       "      <td>27.056277</td>\n",
       "      <td>1.082251</td>\n",
       "      <td>0.029851</td>\n",
       "      <td>0.033363</td>\n",
       "      <td>0.462687</td>\n",
       "      <td>0.353819</td>\n",
       "      <td>...</td>\n",
       "      <td>0.000000</td>\n",
       "      <td>0.000000</td>\n",
       "      <td>0.000000</td>\n",
       "      <td>1.082251</td>\n",
       "      <td>5.411255</td>\n",
       "      <td>77.922078</td>\n",
       "      <td>Historia, Geografía y Economía</td>\n",
       "      <td>las_proyecciones_cartograficas.txt</td>\n",
       "      <td>2.0</td>\n",
       "      <td>98.0</td>\n",
       "    </tr>\n",
       "    <tr>\n",
       "      <th>98</th>\n",
       "      <td>4.189944</td>\n",
       "      <td>1.047486</td>\n",
       "      <td>65.991620</td>\n",
       "      <td>17.108939</td>\n",
       "      <td>41.899441</td>\n",
       "      <td>1.745810</td>\n",
       "      <td>0.060000</td>\n",
       "      <td>0.063223</td>\n",
       "      <td>0.153333</td>\n",
       "      <td>0.124238</td>\n",
       "      <td>...</td>\n",
       "      <td>0.000000</td>\n",
       "      <td>0.000000</td>\n",
       "      <td>0.000000</td>\n",
       "      <td>3.840782</td>\n",
       "      <td>5.935754</td>\n",
       "      <td>81.354749</td>\n",
       "      <td>Historia, Geografía y Economía</td>\n",
       "      <td>manuel_valdes.txt</td>\n",
       "      <td>2.0</td>\n",
       "      <td>99.0</td>\n",
       "    </tr>\n",
       "    <tr>\n",
       "      <th>99</th>\n",
       "      <td>6.954436</td>\n",
       "      <td>0.479616</td>\n",
       "      <td>57.314149</td>\n",
       "      <td>13.669065</td>\n",
       "      <td>33.093525</td>\n",
       "      <td>3.117506</td>\n",
       "      <td>0.110429</td>\n",
       "      <td>0.105117</td>\n",
       "      <td>0.331288</td>\n",
       "      <td>0.208140</td>\n",
       "      <td>...</td>\n",
       "      <td>5.755396</td>\n",
       "      <td>0.000000</td>\n",
       "      <td>6.954436</td>\n",
       "      <td>0.959233</td>\n",
       "      <td>11.270983</td>\n",
       "      <td>92.565947</td>\n",
       "      <td>Historia, Geografía y Economía</td>\n",
       "      <td>manuela_saenz.txt</td>\n",
       "      <td>2.0</td>\n",
       "      <td>100.0</td>\n",
       "    </tr>\n",
       "    <tr>\n",
       "      <th>100</th>\n",
       "      <td>3.431373</td>\n",
       "      <td>0.000000</td>\n",
       "      <td>56.372549</td>\n",
       "      <td>10.784314</td>\n",
       "      <td>36.274510</td>\n",
       "      <td>5.882353</td>\n",
       "      <td>0.076271</td>\n",
       "      <td>0.046717</td>\n",
       "      <td>0.211864</td>\n",
       "      <td>0.106822</td>\n",
       "      <td>...</td>\n",
       "      <td>9.313725</td>\n",
       "      <td>0.000000</td>\n",
       "      <td>6.372549</td>\n",
       "      <td>2.450980</td>\n",
       "      <td>17.647059</td>\n",
       "      <td>107.843137</td>\n",
       "      <td>Historia, Geografía y Economía</td>\n",
       "      <td>maria_granda.txt</td>\n",
       "      <td>2.0</td>\n",
       "      <td>101.0</td>\n",
       "    </tr>\n",
       "    <tr>\n",
       "      <th>101</th>\n",
       "      <td>3.021148</td>\n",
       "      <td>0.000000</td>\n",
       "      <td>51.359517</td>\n",
       "      <td>6.042296</td>\n",
       "      <td>39.274924</td>\n",
       "      <td>3.021148</td>\n",
       "      <td>0.047619</td>\n",
       "      <td>0.064935</td>\n",
       "      <td>0.238095</td>\n",
       "      <td>0.203463</td>\n",
       "      <td>...</td>\n",
       "      <td>0.000000</td>\n",
       "      <td>0.000000</td>\n",
       "      <td>0.000000</td>\n",
       "      <td>0.000000</td>\n",
       "      <td>0.000000</td>\n",
       "      <td>75.528701</td>\n",
       "      <td>Historia, Geografía y Economía</td>\n",
       "      <td>mesoamericanos_mayas_aztecas.txt</td>\n",
       "      <td>2.0</td>\n",
       "      <td>102.0</td>\n",
       "    </tr>\n",
       "    <tr>\n",
       "      <th>102</th>\n",
       "      <td>0.000000</td>\n",
       "      <td>0.000000</td>\n",
       "      <td>48.859935</td>\n",
       "      <td>13.029316</td>\n",
       "      <td>32.573290</td>\n",
       "      <td>3.257329</td>\n",
       "      <td>0.095238</td>\n",
       "      <td>0.125541</td>\n",
       "      <td>0.285714</td>\n",
       "      <td>0.225108</td>\n",
       "      <td>...</td>\n",
       "      <td>0.000000</td>\n",
       "      <td>0.000000</td>\n",
       "      <td>0.000000</td>\n",
       "      <td>6.514658</td>\n",
       "      <td>0.000000</td>\n",
       "      <td>48.859935</td>\n",
       "      <td>Historia, Geografía y Economía</td>\n",
       "      <td>polis_griega.txt</td>\n",
       "      <td>2.0</td>\n",
       "      <td>103.0</td>\n",
       "    </tr>\n",
       "    <tr>\n",
       "      <th>103</th>\n",
       "      <td>3.246753</td>\n",
       "      <td>0.000000</td>\n",
       "      <td>64.935065</td>\n",
       "      <td>3.246753</td>\n",
       "      <td>45.454545</td>\n",
       "      <td>12.987013</td>\n",
       "      <td>0.000000</td>\n",
       "      <td>0.018462</td>\n",
       "      <td>0.240000</td>\n",
       "      <td>0.156923</td>\n",
       "      <td>...</td>\n",
       "      <td>0.000000</td>\n",
       "      <td>0.000000</td>\n",
       "      <td>0.000000</td>\n",
       "      <td>0.000000</td>\n",
       "      <td>3.246753</td>\n",
       "      <td>81.168831</td>\n",
       "      <td>Historia, Geografía y Economía</td>\n",
       "      <td>pueblos_mediterraneo_griegos.txt</td>\n",
       "      <td>2.0</td>\n",
       "      <td>104.0</td>\n",
       "    </tr>\n",
       "  </tbody>\n",
       "</table>\n",
       "<p>53 rows × 52 columns</p>\n",
       "</div>"
      ],
      "text/plain": [
       "        CNCADC    CNCAdd     CNCAll    CNCCaus   CNCLogic    CNCTemp  \\\n",
       "0     5.595524  0.532907  56.754596  17.319478  30.109246   3.197442   \n",
       "1     4.526167  0.848656  56.294201  13.861386  33.663366   3.394625   \n",
       "2     1.737619  0.000000  59.079062  11.294526  40.834057   5.212858   \n",
       "3     1.765225  1.765225  64.430715  12.356575  44.130627   4.413063   \n",
       "4     5.965697  0.248571  52.945563  13.422819  30.325628   2.982849   \n",
       "5    10.632642  0.000000  59.808612  13.556619  30.834662   4.784689   \n",
       "6     5.033557  0.838926  59.563758  13.143177  37.192394   3.355705   \n",
       "7     3.084833  1.542416  53.470437  13.624679  30.848329   4.370180   \n",
       "8     1.895285  0.473821  48.329780  12.319356  31.272210   2.369107   \n",
       "9     7.656316  0.425351  72.309655  16.588686  44.661846   2.977456   \n",
       "10    5.248425  0.000000  62.631211  12.596221  42.687194   2.099370   \n",
       "11    2.169197  2.169197  54.229935  16.268980  30.368764   3.253796   \n",
       "12    2.472625  0.706464  49.805722  11.303426  31.790887   3.532321   \n",
       "13    6.650831  0.950119  55.581948  12.826603  31.353919   3.800475   \n",
       "14    3.706449  0.370645  58.191253  17.420311  33.728688   2.965159   \n",
       "15    3.463953  0.432994  54.773761  12.773328  35.505521   2.597965   \n",
       "16    1.128244  2.256487  50.018804  13.538924  30.838661   2.256487   \n",
       "17    2.534854  0.211238  59.991550  15.631601  37.811576   3.802281   \n",
       "18    4.953220  0.825537  59.713814  14.309301  37.149147   2.476610   \n",
       "19    3.149606  0.393701  57.874016  14.566929  34.251969   5.511811   \n",
       "20    1.187850  0.169693  68.046835   7.975564  52.604785   6.108943   \n",
       "21    0.670860  0.419287  64.318658   8.972746  50.482180   3.773585   \n",
       "22    0.701052  0.450676  66.299449  10.565849  51.176765   3.405108   \n",
       "23    1.710731  0.777605  62.778642  11.819596  45.256610   3.214101   \n",
       "24   16.245487  1.805054  66.787004  14.440433  32.490975   1.805054   \n",
       "25    5.723205  0.780437  57.232050  14.568158  33.298647   2.861602   \n",
       "26    4.417261  0.000000  55.385661  11.892627  33.978933   5.096840   \n",
       "27    4.188774  0.558503  68.695895  13.124825  44.959509   5.864284   \n",
       "28    9.629630  0.370370  65.185185  12.592593  39.259259   3.333333   \n",
       "29    4.968258  0.000000  61.551201  19.044990  32.845708   4.692244   \n",
       "30    5.083367  0.610004  48.393656   9.963400  30.093534   2.643351   \n",
       "31    3.292181  0.411523  45.267490  10.288066  27.572016   3.703704   \n",
       "32    2.652520  0.589449  59.239611  14.736222  37.135279   4.126142   \n",
       "33    4.781829  0.896593  63.956964  14.943216  40.346683   2.988643   \n",
       "85    4.496403  1.798561  52.158273  13.489209  27.877698   4.496403   \n",
       "86    6.303300  0.741565  53.763441  11.494253  29.291806   5.932518   \n",
       "87    5.208333  0.000000  52.083333   7.812500  31.250000   7.812500   \n",
       "88    6.779243  0.862813  71.120424  21.693578  37.963762   3.821028   \n",
       "89    0.000000  0.000000  44.520548  20.547945  20.547945   3.424658   \n",
       "90    3.530599  1.849361  54.640215  14.963013  30.598521   3.698722   \n",
       "91    4.437401  0.633914  54.833597  12.678288  34.865293   2.218700   \n",
       "92    6.058191  0.836987  58.150658  11.638103  34.117178   5.500199   \n",
       "93    2.915452  0.000000  67.055394  17.492711  43.731778   2.915452   \n",
       "94    0.000000  0.000000  20.501139   4.555809  15.945330   0.000000   \n",
       "95    0.000000  3.021148  66.465257   3.021148  60.422961   0.000000   \n",
       "96    1.675042  0.000000  53.601340  16.750419  33.500838   1.675042   \n",
       "97    6.493506  0.000000  48.701299  14.069264  27.056277   1.082251   \n",
       "98    4.189944  1.047486  65.991620  17.108939  41.899441   1.745810   \n",
       "99    6.954436  0.479616  57.314149  13.669065  33.093525   3.117506   \n",
       "100   3.431373  0.000000  56.372549  10.784314  36.274510   5.882353   \n",
       "101   3.021148  0.000000  51.359517   6.042296  39.274924   3.021148   \n",
       "102   0.000000  0.000000  48.859935  13.029316  32.573290   3.257329   \n",
       "103   3.246753  0.000000  64.935065   3.246753  45.454545  12.987013   \n",
       "\n",
       "      CRFANP1   CRFANPa    CRFAO1    CRFAOa  ...  WRDPRP1s  WRDPRP2p  \\\n",
       "0    0.099526  0.079630  0.236967  0.148887  ...  0.000000  0.000000   \n",
       "1    0.159722  0.119540  0.291667  0.197797  ...  0.565771  0.000000   \n",
       "2    0.026316  0.019822  0.197368  0.150034  ...  0.000000  0.000000   \n",
       "3    0.035714  0.039216  0.166667  0.142577  ...  0.000000  0.000000   \n",
       "4    0.151515  0.171011  0.430303  0.273384  ...  0.000000  0.000000   \n",
       "5    0.092784  0.065186  0.216495  0.134021  ...  1.594896  0.531632   \n",
       "6    0.098592  0.107259  0.274648  0.219344  ...  0.279642  0.000000   \n",
       "7    0.075581  0.121186  0.308140  0.210848  ...  0.000000  0.000000   \n",
       "8    0.090909  0.106170  0.296970  0.183936  ...  0.000000  0.000000   \n",
       "9    0.075269  0.039350  0.301075  0.200412  ...  3.828158  0.000000   \n",
       "10   0.069565  0.058021  0.243478  0.131784  ...  0.349895  0.000000   \n",
       "11   0.065217  0.053654  0.282609  0.189639  ...  0.000000  0.000000   \n",
       "12   0.085714  0.070111  0.321429  0.215704  ...  0.353232  0.000000   \n",
       "13   0.088235  0.076528  0.303922  0.207881  ...  0.000000  0.000000   \n",
       "14   0.151786  0.103034  0.285714  0.187105  ...  0.000000  0.000000   \n",
       "15   0.159341  0.170360  0.379121  0.257491  ...  0.649491  0.000000   \n",
       "16   0.067308  0.065751  0.269231  0.170879  ...  0.000000  0.000000   \n",
       "17   0.150685  0.125239  0.287671  0.206849  ...  0.844951  0.000000   \n",
       "18   0.102151  0.081134  0.241935  0.163303  ...  1.375894  0.000000   \n",
       "19   0.113043  0.101349  0.226087  0.195202  ...  2.755906  0.000000   \n",
       "20   0.078392  0.058554  0.276382  0.087845  ...  5.599864  0.169693   \n",
       "21   0.066949  0.054137  0.196610  0.062034  ...  7.966457  0.251572   \n",
       "22   0.060663  0.037980  0.286429  0.082030  ...  3.955934  0.200300   \n",
       "23   0.092615  0.062510  0.230630  0.074064  ...  5.339554  0.259202   \n",
       "24   0.045455  0.043478  0.318182  0.272727  ...  0.000000  0.000000   \n",
       "25   0.059880  0.065084  0.269461  0.150485  ...  0.260146  0.000000   \n",
       "26   0.158879  0.107130  0.280374  0.185185  ...  0.000000  0.000000   \n",
       "27   0.125000  0.103831  0.423611  0.261015  ...  0.837755  0.000000   \n",
       "28   0.065217  0.077606  0.282609  0.215989  ...  0.370370  0.000000   \n",
       "29   0.173333  0.128035  0.413333  0.200353  ...  0.000000  0.000000   \n",
       "30   0.133028  0.131875  0.311927  0.200243  ...  0.203335  0.000000   \n",
       "31   0.067797  0.082040  0.398305  0.242700  ...  0.411523  0.000000   \n",
       "32   0.067568  0.064847  0.256757  0.175766  ...  0.000000  0.000000   \n",
       "33   0.156863  0.122061  0.300654  0.196163  ...  0.000000  0.000000   \n",
       "85   0.015385  0.030303  0.153846  0.117016  ...  0.000000  0.000000   \n",
       "86   0.093750  0.094931  0.218750  0.180198  ...  0.000000  0.000000   \n",
       "87   0.000000  0.079710  0.391304  0.260870  ...  0.000000  0.000000   \n",
       "88   0.186916  0.143621  0.359813  0.301500  ...  3.697769  0.000000   \n",
       "89   0.086957  0.054348  0.173913  0.101449  ...  0.000000  0.000000   \n",
       "90   0.116379  0.109886  0.331897  0.190691  ...  0.336247  0.000000   \n",
       "91   0.108108  0.121622  0.324324  0.246300  ...  0.000000  0.000000   \n",
       "92   0.108597  0.057068  0.300452  0.103531  ...  3.507373  0.717417   \n",
       "93   0.125000  0.093333  0.250000  0.180000  ...  0.000000  0.000000   \n",
       "94   0.093750  0.039773  0.437500  0.299242  ...  0.000000  0.000000   \n",
       "95   0.025641  0.019231  0.153846  0.051282  ...  0.000000  0.000000   \n",
       "96   0.121212  0.140820  0.696970  0.581105  ...  0.000000  0.000000   \n",
       "97   0.029851  0.033363  0.462687  0.353819  ...  0.000000  0.000000   \n",
       "98   0.060000  0.063223  0.153333  0.124238  ...  0.000000  0.000000   \n",
       "99   0.110429  0.105117  0.331288  0.208140  ...  5.755396  0.000000   \n",
       "100  0.076271  0.046717  0.211864  0.106822  ...  9.313725  0.000000   \n",
       "101  0.047619  0.064935  0.238095  0.203463  ...  0.000000  0.000000   \n",
       "102  0.095238  0.125541  0.285714  0.225108  ...  0.000000  0.000000   \n",
       "103  0.000000  0.018462  0.240000  0.156923  ...  0.000000  0.000000   \n",
       "\n",
       "     WRDPRP2s  WRDPRP3p   WRDPRP3s     WRDVERB  \\\n",
       "0    0.000000  2.398082  10.125233  110.578204   \n",
       "1    0.848656  2.545969   8.769448   94.766620   \n",
       "2    5.212858  1.737619   9.556907  149.435274   \n",
       "3    9.708738  0.000000   9.708738  151.809356   \n",
       "4    0.000000  1.739995  10.688541   93.711161   \n",
       "5    1.329080  3.721425  10.101010  116.161616   \n",
       "6    0.000000  1.677852   7.829978   92.002237   \n",
       "7    0.000000  3.084833   7.712082   94.601542   \n",
       "8    0.000000  2.132196  10.660981   79.838901   \n",
       "9    0.000000  4.678860   6.805615   86.346236   \n",
       "10   0.000000  1.399580   7.697691   77.676697   \n",
       "11   0.000000  2.169197   6.507592   77.006508   \n",
       "12   0.000000  2.119392   6.711409   76.298128   \n",
       "13   0.000000  0.950119   4.275534  102.612827   \n",
       "14   0.000000  2.965159  14.084507   84.507042   \n",
       "15   0.000000  0.432994  10.824854   85.299848   \n",
       "16   0.000000  1.880406   4.889056   75.216247   \n",
       "17   0.422476  2.323616   9.294466   98.225602   \n",
       "18   0.275179  4.953220  10.456797  114.474408   \n",
       "19   1.181102  4.330709   7.480315  101.968504   \n",
       "20   1.018157  3.139318  16.460207  134.396742   \n",
       "21   0.754717  2.851153  17.023061  142.306080   \n",
       "22   0.901352  4.006009  14.071107  131.196795   \n",
       "23   2.280975  3.214101  16.588906  137.221358   \n",
       "24   0.000000  0.000000  16.245487   90.252708   \n",
       "25   0.000000  0.520291   7.284079   85.587929   \n",
       "26   0.000000  0.000000   6.116208   88.005437   \n",
       "27   1.396258  3.909522   9.773806  107.511868   \n",
       "28   0.000000  1.111111  10.370370   69.629630   \n",
       "29   0.000000  0.000000   4.968258   86.944521   \n",
       "30   0.000000  0.610004  10.980073   94.143961   \n",
       "31   0.000000  1.646091   4.115226   69.958848   \n",
       "32   0.000000  2.063071   6.778662   91.364574   \n",
       "33   0.000000  5.977286  14.046623   95.636581   \n",
       "85   0.000000  2.697842   1.798561  103.417266   \n",
       "86   0.000000  0.741565   7.044865  100.111235   \n",
       "87   0.000000  2.604167   2.604167   83.333333   \n",
       "88   0.000000  2.341920   7.765315  103.291014   \n",
       "89   0.000000  0.000000   0.000000   68.493151   \n",
       "90   0.000000  1.849361   7.061197   90.786819   \n",
       "91   0.316957  1.584786   3.169572   92.234548   \n",
       "92   2.710243  1.952969   9.685134   94.021523   \n",
       "93   0.000000  0.000000   5.830904   52.478134   \n",
       "94   0.000000  0.000000   2.277904   47.835991   \n",
       "95   0.000000  3.021148   3.021148   54.380665   \n",
       "96   0.000000  1.675042   3.350084   38.525963   \n",
       "97   0.000000  1.082251   5.411255   77.922078   \n",
       "98   0.000000  3.840782   5.935754   81.354749   \n",
       "99   6.954436  0.959233  11.270983   92.565947   \n",
       "100  6.372549  2.450980  17.647059  107.843137   \n",
       "101  0.000000  0.000000   0.000000   75.528701   \n",
       "102  0.000000  6.514658   0.000000   48.859935   \n",
       "103  0.000000  0.000000   3.246753   81.168831   \n",
       "\n",
       "                           category  \\\n",
       "0    Historia, Geografía y Economía   \n",
       "1    Historia, Geografía y Economía   \n",
       "2    Historia, Geografía y Economía   \n",
       "3    Historia, Geografía y Economía   \n",
       "4    Historia, Geografía y Economía   \n",
       "5    Historia, Geografía y Economía   \n",
       "6    Historia, Geografía y Economía   \n",
       "7    Historia, Geografía y Economía   \n",
       "8    Historia, Geografía y Economía   \n",
       "9    Historia, Geografía y Economía   \n",
       "10   Historia, Geografía y Economía   \n",
       "11   Historia, Geografía y Economía   \n",
       "12   Historia, Geografía y Economía   \n",
       "13   Historia, Geografía y Economía   \n",
       "14   Historia, Geografía y Economía   \n",
       "15   Historia, Geografía y Economía   \n",
       "16   Historia, Geografía y Economía   \n",
       "17   Historia, Geografía y Economía   \n",
       "18   Historia, Geografía y Economía   \n",
       "19   Historia, Geografía y Economía   \n",
       "20   Historia, Geografía y Economía   \n",
       "21   Historia, Geografía y Economía   \n",
       "22   Historia, Geografía y Economía   \n",
       "23   Historia, Geografía y Economía   \n",
       "24   Historia, Geografía y Economía   \n",
       "25   Historia, Geografía y Economía   \n",
       "26   Historia, Geografía y Economía   \n",
       "27   Historia, Geografía y Economía   \n",
       "28   Historia, Geografía y Economía   \n",
       "29   Historia, Geografía y Economía   \n",
       "30   Historia, Geografía y Economía   \n",
       "31   Historia, Geografía y Economía   \n",
       "32   Historia, Geografía y Economía   \n",
       "33   Historia, Geografía y Economía   \n",
       "85   Historia, Geografía y Economía   \n",
       "86   Historia, Geografía y Economía   \n",
       "87   Historia, Geografía y Economía   \n",
       "88   Historia, Geografía y Economía   \n",
       "89   Historia, Geografía y Economía   \n",
       "90   Historia, Geografía y Economía   \n",
       "91   Historia, Geografía y Economía   \n",
       "92   Historia, Geografía y Economía   \n",
       "93   Historia, Geografía y Economía   \n",
       "94   Historia, Geografía y Economía   \n",
       "95   Historia, Geografía y Economía   \n",
       "96   Historia, Geografía y Economía   \n",
       "97   Historia, Geografía y Economía   \n",
       "98   Historia, Geografía y Economía   \n",
       "99   Historia, Geografía y Economía   \n",
       "100  Historia, Geografía y Economía   \n",
       "101  Historia, Geografía y Economía   \n",
       "102  Historia, Geografía y Economía   \n",
       "103  Historia, Geografía y Economía   \n",
       "\n",
       "                                              filename  grade     id  \n",
       "0                                        atahualpa.txt    1.0    1.0  \n",
       "1                                  avelino_caceres.txt    1.0    2.0  \n",
       "2                           cartilla_fenomeno_nino.txt    1.0    3.0  \n",
       "3                            cartilla_inundaciones.txt    1.0    4.0  \n",
       "4                                   enrique_meiggs.txt    1.0    5.0  \n",
       "5                                    epopeya_arica.txt    1.0    6.0  \n",
       "6                              francisco_bolognesi.txt    1.0    7.0  \n",
       "7                               francisco_orellana.txt    1.0    8.0  \n",
       "8                                 francisco_toledo.txt    1.0    9.0  \n",
       "9                                      guaman_poma.txt    1.0   10.0  \n",
       "10                                 hipolito_unanue.txt    1.0   11.0  \n",
       "11                                    ines_huaylas.txt    1.0   12.0  \n",
       "12                                   jorge_basadre.txt    1.0   13.0  \n",
       "13                                    jorge_chavez.txt    1.0   14.0  \n",
       "14                                      jose_olaya.txt    1.0   15.0  \n",
       "15                                jsanchez_carrion.txt    1.0   16.0  \n",
       "16                                         juanita.txt    1.0   17.0  \n",
       "17                                   leoncio_prado.txt    1.0   18.0  \n",
       "18                                      manco_inca.txt    1.0   19.0  \n",
       "19                                 mateo_pumacahua.txt    1.0   20.0  \n",
       "20                mi-cuaderno-autoaprendizaje-ps-1.txt    1.0   21.0  \n",
       "21                mi-cuaderno-autoaprendizaje-ps-2.txt    1.0   22.0  \n",
       "22                mi-cuaderno-autoaprendizaje-ps-3.txt    1.0   23.0  \n",
       "23                mi-cuaderno-autoaprendizaje-ps-5.txt    1.0   24.0  \n",
       "24                                micaela_bastidas.txt    1.0   25.0  \n",
       "25                                     miguel_grau.txt    1.0   26.0  \n",
       "26                                 nicolas_pierola.txt    1.0   27.0  \n",
       "27                                      pachacutec.txt    1.0   28.0  \n",
       "28                                   pedro_peralta.txt    1.0   29.0  \n",
       "29                                  ramon_castilla.txt    1.0   30.0  \n",
       "30                                      santa_cruz.txt    1.0   31.0  \n",
       "31                                           sipan.txt    1.0   32.0  \n",
       "32                                     tupac_amaru.txt    1.0   33.0  \n",
       "33                                    tupac_amaru2.txt    1.0   34.0  \n",
       "85                                    Sin título 1.txt    2.0   86.0  \n",
       "86                                  augusto_leguia.txt    2.0   87.0  \n",
       "87                                    canal_panama.txt    2.0   88.0  \n",
       "88                                   carta_jamaica.txt    2.0   89.0  \n",
       "89                                  expansion_roma.txt    2.0   90.0  \n",
       "90                               fernando_belaunde.txt    2.0   91.0  \n",
       "91                                      haya_torre.txt    2.0   92.0  \n",
       "92                              historia_geografia.txt    2.0   93.0  \n",
       "93                          la_cuenca_del_amazonas.txt    2.0   94.0  \n",
       "94       la_estructura_demografica_de_la_poblacion.txt    2.0   95.0  \n",
       "95   la_organizacion_de_la_economia_en_el_imperio_i...    2.0   96.0  \n",
       "96                          las_corrientes_marinas.txt    2.0   97.0  \n",
       "97                  las_proyecciones_cartograficas.txt    2.0   98.0  \n",
       "98                                   manuel_valdes.txt    2.0   99.0  \n",
       "99                                   manuela_saenz.txt    2.0  100.0  \n",
       "100                                   maria_granda.txt    2.0  101.0  \n",
       "101                   mesoamericanos_mayas_aztecas.txt    2.0  102.0  \n",
       "102                                   polis_griega.txt    2.0  103.0  \n",
       "103                   pueblos_mediterraneo_griegos.txt    2.0  104.0  \n",
       "\n",
       "[53 rows x 52 columns]"
      ]
     },
     "execution_count": 2,
     "metadata": {},
     "output_type": "execute_result"
    }
   ],
   "source": [
    "OT_DA = ObtainedTextDA()\n",
    "TEXTS = OT_DA.select_all_as_dataframe()\n",
    "TEXTS = TEXTS[TEXTS['category'] == 'Historia, Geografía y Economía'].drop(columns=['cluster_grade'])\n",
    "TEST_SIZE = 0.2\n",
    "DATA_COLUMNS = [c for c in TEXTS.columns if c not in ['category', 'filename', 'grade', 'id']]\n",
    "TEXTS"
   ]
  },
  {
   "cell_type": "markdown",
   "metadata": {},
   "source": [
    "# Todas las categorias"
   ]
  },
  {
   "cell_type": "markdown",
   "metadata": {},
   "source": [
    "## Preprocesando los datos"
   ]
  },
  {
   "cell_type": "code",
   "execution_count": 3,
   "metadata": {},
   "outputs": [
    {
     "data": {
      "text/plain": [
       "((42, 48), (11, 48), (42,), (11,))"
      ]
     },
     "execution_count": 3,
     "metadata": {},
     "output_type": "execute_result"
    }
   ],
   "source": [
    "X, y = drop_dataset_unnecessary_columns(TEXTS, ['filename', 'category', 'grade', 'id'], 'grade')\n",
    "X[DATA_COLUMNS] = MinMaxScaler().fit_transform(X[DATA_COLUMNS])\n",
    "X_train, X_test, y_train, y_test = train_test_split(X, y, random_state=43, test_size=TEST_SIZE, stratify=y)\n",
    "X_train.shape, X_test.shape, y_train.shape, y_test.shape"
   ]
  },
  {
   "cell_type": "markdown",
   "metadata": {},
   "source": [
    "## Entrenando los modelos"
   ]
  },
  {
   "cell_type": "code",
   "execution_count": 4,
   "metadata": {},
   "outputs": [],
   "source": [
    "results = pd.DataFrame()"
   ]
  },
  {
   "cell_type": "markdown",
   "metadata": {},
   "source": [
    "### Regresión Logística"
   ]
  },
  {
   "cell_type": "code",
   "execution_count": 5,
   "metadata": {},
   "outputs": [
    {
     "name": "stdout",
     "output_type": "stream",
     "text": [
      "Fitting 5 folds for each of 450 candidates, totalling 2250 fits\n"
     ]
    },
    {
     "name": "stderr",
     "output_type": "stream",
     "text": [
      "[Parallel(n_jobs=-1)]: Using backend LokyBackend with 8 concurrent workers.\n",
      "[Parallel(n_jobs=-1)]: Done  34 tasks      | elapsed:    1.2s\n",
      "[Parallel(n_jobs=-1)]: Done 1680 tasks      | elapsed:    4.7s\n"
     ]
    },
    {
     "name": "stdout",
     "output_type": "stream",
     "text": [
      "convergence after 11 epochs took 0 seconds\n"
     ]
    },
    {
     "name": "stderr",
     "output_type": "stream",
     "text": [
      "[Parallel(n_jobs=-1)]: Done 2250 out of 2250 | elapsed:    6.3s finished\n",
      "[Parallel(n_jobs=1)]: Using backend SequentialBackend with 1 concurrent workers.\n",
      "[Parallel(n_jobs=1)]: Done   1 out of   1 | elapsed:    0.0s finished\n"
     ]
    },
    {
     "data": {
      "text/plain": [
       "{'C': 10, 'max_iter': 100, 'random_state': 43, 'solver': 'sag', 'tol': 0.1}"
      ]
     },
     "execution_count": 5,
     "metadata": {},
     "output_type": "execute_result"
    }
   ],
   "source": [
    "lr_gs = GridSearchCV(LogisticRegression(verbose=1), param_grid = {\n",
    "    'C': [0.001, 0.01, 0.1, 1, 10],\n",
    "    'tol': [0.00001, 0.0001, 0.001, 0.01, 0.1, 1],\n",
    "    'solver': ['newton-cg', 'lbfgs', 'liblinear', 'sag', 'saga'],\n",
    "    'max_iter': [100, 1000, 10000],\n",
    "    'random_state': [43]\n",
    "}, scoring = {\n",
    "    'Recall': make_scorer(recall_score),\n",
    "    'Accuracy': make_scorer(accuracy_score),\n",
    "    'f1': make_scorer(f1_score),\n",
    "    'Precision': make_scorer(precision_score)\n",
    "}, refit='f1', n_jobs=-1, verbose=1)\n",
    "lr_gs.fit(X_train, y_train)\n",
    "lr_gs.best_params_"
   ]
  },
  {
   "cell_type": "code",
   "execution_count": 6,
   "metadata": {
    "scrolled": false
   },
   "outputs": [
    {
     "name": "stdout",
     "output_type": "stream",
     "text": [
      "The accuracy score is: 0.7272727272727273\n",
      "The precision score is: 0.8333333333333334\n",
      "The recall score is: 0.7142857142857143\n",
      "The F1 score is: 0.7692307692307692\n"
     ]
    }
   ],
   "source": [
    "results, y_pred = train_test_model(model=LogisticRegression,\n",
    "                                   model_name='Logistic Regression',\n",
    "                                   params=lr_gs.best_params_,\n",
    "                                   X_train=X_train,\n",
    "                                   y_train=y_train,\n",
    "                                   X_test=X_test,\n",
    "                                   y_test=y_test,\n",
    "                                   results=results)"
   ]
  },
  {
   "cell_type": "markdown",
   "metadata": {},
   "source": [
    "#### Matriz de confusión"
   ]
  },
  {
   "cell_type": "code",
   "execution_count": 7,
   "metadata": {},
   "outputs": [
    {
     "data": {
      "text/plain": [
       "<AxesSubplot:title={'center':'Confusion Matrix'}, xlabel='Predicted label', ylabel='True label'>"
      ]
     },
     "execution_count": 7,
     "metadata": {},
     "output_type": "execute_result"
    },
    {
     "data": {
      "image/png": "[encoded data removed]",
      "text/plain": [
       "<Figure size 432x288 with 2 Axes>"
      ]
     },
     "metadata": {
      "needs_background": "light"
     },
     "output_type": "display_data"
    }
   ],
   "source": [
    "plot_confusion_matrix(y_test, y_pred)"
   ]
  },
  {
   "cell_type": "markdown",
   "metadata": {},
   "source": [
    "### Máquina de soporte de vectores"
   ]
  },
  {
   "cell_type": "code",
   "execution_count": 8,
   "metadata": {},
   "outputs": [
    {
     "name": "stdout",
     "output_type": "stream",
     "text": [
      "Fitting 5 folds for each of 240 candidates, totalling 1200 fits\n"
     ]
    },
    {
     "name": "stderr",
     "output_type": "stream",
     "text": [
      "[Parallel(n_jobs=-1)]: Using backend LokyBackend with 8 concurrent workers.\n",
      "[Parallel(n_jobs=-1)]: Done  56 tasks      | elapsed:    0.2s\n"
     ]
    },
    {
     "name": "stdout",
     "output_type": "stream",
     "text": [
      "[LibSVM]"
     ]
    },
    {
     "name": "stderr",
     "output_type": "stream",
     "text": [
      "[Parallel(n_jobs=-1)]: Done 1200 out of 1200 | elapsed:    2.1s finished\n"
     ]
    },
    {
     "data": {
      "text/plain": [
       "{'C': 10,\n",
       " 'gamma': 'auto',\n",
       " 'kernel': 'sigmoid',\n",
       " 'probability': True,\n",
       " 'random_state': 43,\n",
       " 'tol': 1}"
      ]
     },
     "execution_count": 8,
     "metadata": {},
     "output_type": "execute_result"
    }
   ],
   "source": [
    "svm_gs = GridSearchCV(SVC(verbose=1), param_grid = {\n",
    "    'C': [0.001, 0.01, 0.1, 1, 10],\n",
    "    'tol': [0.00001, 0.0001, 0.001, 0.01, 0.1, 1],\n",
    "    'kernel': ['linear', 'poly', 'rbf', 'sigmoid'],\n",
    "    'gamma': ['scale', 'auto'],\n",
    "    'random_state': [43],\n",
    "    'probability': [True]\n",
    "}, scoring = {\n",
    "    'Recall': make_scorer(recall_score),\n",
    "    'Accuracy': make_scorer(accuracy_score),\n",
    "    'f1': make_scorer(f1_score),\n",
    "    'Precision': make_scorer(precision_score)\n",
    "}, refit='f1', n_jobs=-1, verbose=1)\n",
    "svm_gs.fit(X_train, y_train)\n",
    "svm_gs.best_params_"
   ]
  },
  {
   "cell_type": "code",
   "execution_count": 9,
   "metadata": {},
   "outputs": [
    {
     "name": "stdout",
     "output_type": "stream",
     "text": [
      "The accuracy score is: 0.9090909090909091\n",
      "The precision score is: 0.875\n",
      "The recall score is: 1.0\n",
      "The F1 score is: 0.9333333333333333\n"
     ]
    }
   ],
   "source": [
    "results, y_pred = train_test_model(model=SVC,\n",
    "                           model_name='Support Vector Machine',\n",
    "                           params=svm_gs.best_params_,\n",
    "                           X_train=X_train,\n",
    "                           y_train=y_train,\n",
    "                           X_test=X_test,\n",
    "                           y_test=y_test,\n",
    "                           results=results)"
   ]
  },
  {
   "cell_type": "markdown",
   "metadata": {},
   "source": [
    "#### Matriz de confusión"
   ]
  },
  {
   "cell_type": "code",
   "execution_count": 10,
   "metadata": {
    "scrolled": false
   },
   "outputs": [
    {
     "data": {
      "text/plain": [
       "<AxesSubplot:title={'center':'Confusion Matrix'}, xlabel='Predicted label', ylabel='True label'>"
      ]
     },
     "execution_count": 10,
     "metadata": {},
     "output_type": "execute_result"
    },
    {
     "data": {
      "image/png": "[encoded data removed]",
      "text/plain": [
       "<Figure size 432x288 with 2 Axes>"
      ]
     },
     "metadata": {
      "needs_background": "light"
     },
     "output_type": "display_data"
    }
   ],
   "source": [
    "plot_confusion_matrix(y_test, y_pred)"
   ]
  },
  {
   "cell_type": "markdown",
   "metadata": {},
   "source": [
    "### Árbol de decisión"
   ]
  },
  {
   "cell_type": "code",
   "execution_count": 11,
   "metadata": {},
   "outputs": [
    {
     "name": "stdout",
     "output_type": "stream",
     "text": [
      "Fitting 5 folds for each of 176 candidates, totalling 880 fits\n"
     ]
    },
    {
     "name": "stderr",
     "output_type": "stream",
     "text": [
      "[Parallel(n_jobs=-1)]: Using backend LokyBackend with 8 concurrent workers.\n",
      "[Parallel(n_jobs=-1)]: Done  56 tasks      | elapsed:    0.2s\n",
      "[Parallel(n_jobs=-1)]: Done 880 out of 880 | elapsed:    1.4s finished\n"
     ]
    },
    {
     "data": {
      "text/plain": [
       "{'criterion': 'gini',\n",
       " 'max_depth': 2,\n",
       " 'max_features': 'auto',\n",
       " 'random_state': 43,\n",
       " 'splitter': 'best'}"
      ]
     },
     "execution_count": 11,
     "metadata": {},
     "output_type": "execute_result"
    }
   ],
   "source": [
    "dtc_gs = GridSearchCV(DecisionTreeClassifier(), param_grid = {\n",
    "    'criterion': ['gini', 'entropy'],\n",
    "    'splitter': ['best', 'random'],\n",
    "    'max_depth': [1, 2, 3, 4, 5, 6 ,7 ,8, 9, 10, None],\n",
    "    'max_features': ['auto', 'sqrt', 'log2', None],\n",
    "    'random_state': [43]\n",
    "}, scoring = {\n",
    "    'Recall': make_scorer(recall_score),\n",
    "    'Accuracy': make_scorer(accuracy_score),\n",
    "    'f1': make_scorer(f1_score),\n",
    "    'Precision': make_scorer(precision_score)\n",
    "}, refit='f1', n_jobs=-1, verbose=1)\n",
    "dtc_gs.fit(X_train, y_train)\n",
    "dtc_gs.best_params_"
   ]
  },
  {
   "cell_type": "code",
   "execution_count": 12,
   "metadata": {},
   "outputs": [
    {
     "name": "stdout",
     "output_type": "stream",
     "text": [
      "The accuracy score is: 0.6363636363636364\n",
      "The precision score is: 0.8\n",
      "The recall score is: 0.5714285714285714\n",
      "The F1 score is: 0.6666666666666666\n"
     ]
    }
   ],
   "source": [
    "results, y_pred = train_test_model(model=DecisionTreeClassifier,\n",
    "                           model_name='Decision Tree',\n",
    "                           params=dtc_gs.best_params_,\n",
    "                           X_train=X_train,\n",
    "                           y_train=y_train,\n",
    "                           X_test=X_test,\n",
    "                           y_test=y_test,\n",
    "                           results=results)"
   ]
  },
  {
   "cell_type": "markdown",
   "metadata": {},
   "source": [
    "#### Matriz de confusión"
   ]
  },
  {
   "cell_type": "code",
   "execution_count": 13,
   "metadata": {
    "scrolled": false
   },
   "outputs": [
    {
     "data": {
      "text/plain": [
       "<AxesSubplot:title={'center':'Confusion Matrix'}, xlabel='Predicted label', ylabel='True label'>"
      ]
     },
     "execution_count": 13,
     "metadata": {},
     "output_type": "execute_result"
    },
    {
     "data": {
      "image/png": "[encoded data removed]",
      "text/plain": [
       "<Figure size 432x288 with 2 Axes>"
      ]
     },
     "metadata": {
      "needs_background": "light"
     },
     "output_type": "display_data"
    }
   ],
   "source": [
    "plot_confusion_matrix(y_test, y_pred)"
   ]
  },
  {
   "cell_type": "markdown",
   "metadata": {},
   "source": [
    "### Bosque aleatorio"
   ]
  },
  {
   "cell_type": "code",
   "execution_count": 14,
   "metadata": {},
   "outputs": [
    {
     "name": "stdout",
     "output_type": "stream",
     "text": [
      "Fitting 5 folds for each of 352 candidates, totalling 1760 fits\n"
     ]
    },
    {
     "name": "stderr",
     "output_type": "stream",
     "text": [
      "[Parallel(n_jobs=-1)]: Using backend LokyBackend with 8 concurrent workers.\n",
      "[Parallel(n_jobs=-1)]: Done  52 tasks      | elapsed:    2.6s\n",
      "[Parallel(n_jobs=-1)]: Done 248 tasks      | elapsed:   16.3s\n",
      "[Parallel(n_jobs=-1)]: Done 498 tasks      | elapsed:   36.6s\n",
      "[Parallel(n_jobs=-1)]: Done 848 tasks      | elapsed:  1.0min\n",
      "[Parallel(n_jobs=-1)]: Done 1298 tasks      | elapsed:  1.6min\n",
      "[Parallel(n_jobs=-1)]: Done 1760 out of 1760 | elapsed:  2.2min finished\n"
     ]
    },
    {
     "data": {
      "text/plain": [
       "{'criterion': 'entropy',\n",
       " 'max_depth': 5,\n",
       " 'max_features': 'log2',\n",
       " 'n_estimators': 200,\n",
       " 'random_state': 43}"
      ]
     },
     "execution_count": 14,
     "metadata": {},
     "output_type": "execute_result"
    }
   ],
   "source": [
    "rfc_gs = GridSearchCV(RandomForestClassifier(), param_grid = {\n",
    "    'criterion': ['gini', 'entropy'],\n",
    "    'n_estimators': [50, 100, 200, 400],\n",
    "    'max_depth': [1, 2, 3, 4, 5, 6 ,7 ,8, 9, 10, None],\n",
    "    'max_features': ['auto', 'sqrt', 'log2', None],\n",
    "    'random_state': [43]\n",
    "}, scoring = {\n",
    "    'Recall': make_scorer(recall_score),\n",
    "    'Accuracy': make_scorer(accuracy_score),\n",
    "    'f1': make_scorer(f1_score),\n",
    "    'Precision': make_scorer(precision_score)\n",
    "}, refit='f1', n_jobs=-1, verbose=1)\n",
    "rfc_gs.fit(X_train, y_train)\n",
    "rfc_gs.best_params_"
   ]
  },
  {
   "cell_type": "code",
   "execution_count": 15,
   "metadata": {},
   "outputs": [
    {
     "name": "stdout",
     "output_type": "stream",
     "text": [
      "The accuracy score is: 0.9090909090909091\n",
      "The precision score is: 0.875\n",
      "The recall score is: 1.0\n",
      "The F1 score is: 0.9333333333333333\n"
     ]
    }
   ],
   "source": [
    "results, y_pred = train_test_model(model=RandomForestClassifier,\n",
    "                           model_name='Random Forest',\n",
    "                           params=rfc_gs.best_params_,\n",
    "                           X_train=X_train,\n",
    "                           y_train=y_train,\n",
    "                           X_test=X_test,\n",
    "                           y_test=y_test,\n",
    "                           results=results)"
   ]
  },
  {
   "cell_type": "markdown",
   "metadata": {},
   "source": [
    "#### Matriz de confusión"
   ]
  },
  {
   "cell_type": "code",
   "execution_count": 16,
   "metadata": {
    "scrolled": true
   },
   "outputs": [
    {
     "data": {
      "text/plain": [
       "<AxesSubplot:title={'center':'Confusion Matrix'}, xlabel='Predicted label', ylabel='True label'>"
      ]
     },
     "execution_count": 16,
     "metadata": {},
     "output_type": "execute_result"
    },
    {
     "data": {
      "image/png": "[encoded data removed]",
      "text/plain": [
       "<Figure size 432x288 with 2 Axes>"
      ]
     },
     "metadata": {
      "needs_background": "light"
     },
     "output_type": "display_data"
    }
   ],
   "source": [
    "plot_confusion_matrix(y_test, y_pred)"
   ]
  },
  {
   "cell_type": "markdown",
   "metadata": {},
   "source": [
    "### K Nearest Neighbors"
   ]
  },
  {
   "cell_type": "code",
   "execution_count": 17,
   "metadata": {},
   "outputs": [
    {
     "name": "stdout",
     "output_type": "stream",
     "text": [
      "Fitting 5 folds for each of 160 candidates, totalling 800 fits\n"
     ]
    },
    {
     "name": "stderr",
     "output_type": "stream",
     "text": [
      "[Parallel(n_jobs=-1)]: Using backend LokyBackend with 8 concurrent workers.\n",
      "[Parallel(n_jobs=-1)]: Done  56 tasks      | elapsed:    0.3s\n",
      "[Parallel(n_jobs=-1)]: Done 800 out of 800 | elapsed:    2.0s finished\n"
     ]
    },
    {
     "data": {
      "text/plain": [
       "{'algorithm': 'auto', 'n_neighbors': 1, 'p': 1, 'weights': 'uniform'}"
      ]
     },
     "execution_count": 17,
     "metadata": {},
     "output_type": "execute_result"
    }
   ],
   "source": [
    "knn_gs = GridSearchCV(KNeighborsClassifier(), param_grid = {\n",
    "    'n_neighbors': range(1, 11),\n",
    "    'weights': ['uniform', 'distance'],\n",
    "    'algorithm': ['auto', 'ball_tree', 'kd_tree', 'brute'],\n",
    "    'p': [1, 2]\n",
    "}, scoring = {\n",
    "    'Recall': make_scorer(recall_score),\n",
    "    'Accuracy': make_scorer(accuracy_score),\n",
    "    'f1': make_scorer(f1_score),\n",
    "    'Precision': make_scorer(precision_score)\n",
    "}, refit='f1', n_jobs=-1, verbose=1)\n",
    "knn_gs.fit(X_train, y_train)\n",
    "knn_gs.best_params_"
   ]
  },
  {
   "cell_type": "code",
   "execution_count": 18,
   "metadata": {},
   "outputs": [
    {
     "name": "stdout",
     "output_type": "stream",
     "text": [
      "The accuracy score is: 0.9090909090909091\n",
      "The precision score is: 0.875\n",
      "The recall score is: 1.0\n",
      "The F1 score is: 0.9333333333333333\n"
     ]
    }
   ],
   "source": [
    "results, y_pred = train_test_model(model=KNeighborsClassifier,\n",
    "                           model_name='K Nearest Neighbors',\n",
    "                           params=knn_gs.best_params_,\n",
    "                           X_train=X_train,\n",
    "                           y_train=y_train,\n",
    "                           X_test=X_test,\n",
    "                           y_test=y_test,\n",
    "                           results=results)"
   ]
  },
  {
   "cell_type": "markdown",
   "metadata": {},
   "source": [
    "#### Matriz de confusión"
   ]
  },
  {
   "cell_type": "code",
   "execution_count": 19,
   "metadata": {
    "scrolled": false
   },
   "outputs": [
    {
     "data": {
      "text/plain": [
       "<AxesSubplot:title={'center':'Confusion Matrix'}, xlabel='Predicted label', ylabel='True label'>"
      ]
     },
     "execution_count": 19,
     "metadata": {},
     "output_type": "execute_result"
    },
    {
     "data": {
      "image/png": "[encoded data removed]",
      "text/plain": [
       "<Figure size 432x288 with 2 Axes>"
      ]
     },
     "metadata": {
      "needs_background": "light"
     },
     "output_type": "display_data"
    }
   ],
   "source": [
    "plot_confusion_matrix(y_test, y_pred)"
   ]
  },
  {
   "cell_type": "markdown",
   "metadata": {},
   "source": [
    "### Perceptron"
   ]
  },
  {
   "cell_type": "code",
   "execution_count": 20,
   "metadata": {},
   "outputs": [
    {
     "name": "stdout",
     "output_type": "stream",
     "text": [
      "Fitting 5 folds for each of 450 candidates, totalling 2250 fits\n"
     ]
    },
    {
     "name": "stderr",
     "output_type": "stream",
     "text": [
      "[Parallel(n_jobs=-1)]: Using backend LokyBackend with 8 concurrent workers.\n",
      "[Parallel(n_jobs=-1)]: Done  56 tasks      | elapsed:    0.3s\n",
      "[Parallel(n_jobs=-1)]: Done 2115 tasks      | elapsed:    6.2s\n",
      "[Parallel(n_jobs=-1)]: Done 2250 out of 2250 | elapsed:    6.6s finished\n"
     ]
    },
    {
     "data": {
      "text/plain": [
       "{'alpha': 0.0001,\n",
       " 'early_stopping': False,\n",
       " 'max_iter': 100,\n",
       " 'penalty': 'l1',\n",
       " 'tol': 0.1}"
      ]
     },
     "execution_count": 20,
     "metadata": {},
     "output_type": "execute_result"
    }
   ],
   "source": [
    "p_gs = GridSearchCV(Perceptron(), param_grid = {\n",
    "    'penalty': ['l2', 'l1', 'elasticnet'],\n",
    "    'alpha': [1, 0.1, 0.01, 0.001, 0.0001],\n",
    "    'max_iter': [100, 1000, 10000],\n",
    "    'tol': [1, 0.1, 0.01, 0.001, 0.0001],\n",
    "    'early_stopping': [False, True]\n",
    "}, scoring = {\n",
    "    'Recall': make_scorer(recall_score),\n",
    "    'Accuracy': make_scorer(accuracy_score),\n",
    "    'f1': make_scorer(f1_score),\n",
    "    'Precision': make_scorer(precision_score)\n",
    "}, refit='f1', n_jobs=-1, verbose=1)\n",
    "p_gs.fit(X_train, y_train)\n",
    "p_gs.best_params_"
   ]
  },
  {
   "cell_type": "code",
   "execution_count": 21,
   "metadata": {},
   "outputs": [
    {
     "name": "stdout",
     "output_type": "stream",
     "text": [
      "The accuracy score is: 0.7272727272727273\n",
      "The precision score is: 0.8333333333333334\n",
      "The recall score is: 0.7142857142857143\n",
      "The F1 score is: 0.7692307692307692\n"
     ]
    }
   ],
   "source": [
    "results, y_pred = train_test_model(model=Perceptron,\n",
    "                           model_name='Perceptron',\n",
    "                           params=p_gs.best_params_,\n",
    "                           X_train=X_train,\n",
    "                           y_train=y_train,\n",
    "                           X_test=X_test,\n",
    "                           y_test=y_test,\n",
    "                           results=results)"
   ]
  },
  {
   "cell_type": "markdown",
   "metadata": {},
   "source": [
    "#### Matriz de confusión"
   ]
  },
  {
   "cell_type": "code",
   "execution_count": 22,
   "metadata": {
    "scrolled": true
   },
   "outputs": [
    {
     "data": {
      "text/plain": [
       "<AxesSubplot:title={'center':'Confusion Matrix'}, xlabel='Predicted label', ylabel='True label'>"
      ]
     },
     "execution_count": 22,
     "metadata": {},
     "output_type": "execute_result"
    },
    {
     "data": {
      "image/png": "[encoded data removed]",
      "text/plain": [
       "<Figure size 432x288 with 2 Axes>"
      ]
     },
     "metadata": {
      "needs_background": "light"
     },
     "output_type": "display_data"
    }
   ],
   "source": [
    "plot_confusion_matrix(y_test, y_pred)"
   ]
  },
  {
   "cell_type": "markdown",
   "metadata": {},
   "source": [
    "### Ada Boost"
   ]
  },
  {
   "cell_type": "code",
   "execution_count": 23,
   "metadata": {},
   "outputs": [
    {
     "name": "stdout",
     "output_type": "stream",
     "text": [
      "Fitting 5 folds for each of 40 candidates, totalling 200 fits\n"
     ]
    },
    {
     "name": "stderr",
     "output_type": "stream",
     "text": [
      "[Parallel(n_jobs=-1)]: Using backend LokyBackend with 8 concurrent workers.\n",
      "[Parallel(n_jobs=-1)]: Done  52 tasks      | elapsed:    4.1s\n",
      "[Parallel(n_jobs=-1)]: Done 200 out of 200 | elapsed:   16.1s finished\n"
     ]
    },
    {
     "data": {
      "text/plain": [
       "{'algorithm': 'SAMME.R',\n",
       " 'learning_rate': 1,\n",
       " 'n_estimators': 100,\n",
       " 'random_state': 43}"
      ]
     },
     "execution_count": 23,
     "metadata": {},
     "output_type": "execute_result"
    }
   ],
   "source": [
    "ab_gs = GridSearchCV(AdaBoostClassifier(), param_grid = {\n",
    "    'learning_rate': [1, 0.1, 0.01, 0.001, 0.0001],\n",
    "    'n_estimators': [50, 100, 200, 400],\n",
    "    'algorithm': ['SAMME', 'SAMME.R'],\n",
    "    'random_state': [43]\n",
    "}, scoring = {\n",
    "    'Recall': make_scorer(recall_score),\n",
    "    'Accuracy': make_scorer(accuracy_score),\n",
    "    'f1': make_scorer(f1_score),\n",
    "    'Precision': make_scorer(precision_score)\n",
    "}, refit='f1', n_jobs=-1, verbose=1)\n",
    "ab_gs.fit(X_train, y_train)\n",
    "ab_gs.best_params_"
   ]
  },
  {
   "cell_type": "code",
   "execution_count": 24,
   "metadata": {
    "scrolled": true
   },
   "outputs": [
    {
     "name": "stdout",
     "output_type": "stream",
     "text": [
      "The accuracy score is: 0.7272727272727273\n",
      "The precision score is: 0.8333333333333334\n",
      "The recall score is: 0.7142857142857143\n",
      "The F1 score is: 0.7692307692307692\n"
     ]
    }
   ],
   "source": [
    "results, y_pred = train_test_model(model=AdaBoostClassifier,\n",
    "                           model_name='Ada Boost',\n",
    "                           params=ab_gs.best_params_,\n",
    "                           X_train=X_train,\n",
    "                           y_train=y_train,\n",
    "                           X_test=X_test,\n",
    "                           y_test=y_test,\n",
    "                           results=results)"
   ]
  },
  {
   "cell_type": "markdown",
   "metadata": {},
   "source": [
    "#### Matriz de confusión"
   ]
  },
  {
   "cell_type": "code",
   "execution_count": 25,
   "metadata": {
    "scrolled": false
   },
   "outputs": [
    {
     "data": {
      "text/plain": [
       "<AxesSubplot:title={'center':'Confusion Matrix'}, xlabel='Predicted label', ylabel='True label'>"
      ]
     },
     "execution_count": 25,
     "metadata": {},
     "output_type": "execute_result"
    },
    {
     "data": {
      "image/png": "[encoded data removed]",
      "text/plain": [
       "<Figure size 432x288 with 2 Axes>"
      ]
     },
     "metadata": {
      "needs_background": "light"
     },
     "output_type": "display_data"
    }
   ],
   "source": [
    "plot_confusion_matrix(y_test, y_pred)"
   ]
  },
  {
   "cell_type": "markdown",
   "metadata": {},
   "source": [
    "### Gradient Boosting"
   ]
  },
  {
   "cell_type": "code",
   "execution_count": 26,
   "metadata": {},
   "outputs": [
    {
     "name": "stdout",
     "output_type": "stream",
     "text": [
      "Fitting 5 folds for each of 3600 candidates, totalling 18000 fits\n"
     ]
    },
    {
     "name": "stderr",
     "output_type": "stream",
     "text": [
      "[Parallel(n_jobs=-1)]: Using backend LokyBackend with 8 concurrent workers.\n",
      "[Parallel(n_jobs=-1)]: Done  52 tasks      | elapsed:    1.1s\n",
      "[Parallel(n_jobs=-1)]: Done 352 tasks      | elapsed:   10.7s\n",
      "[Parallel(n_jobs=-1)]: Done 852 tasks      | elapsed:   28.1s\n",
      "[Parallel(n_jobs=-1)]: Done 1552 tasks      | elapsed:   56.1s\n",
      "[Parallel(n_jobs=-1)]: Done 2452 tasks      | elapsed:  1.5min\n",
      "[Parallel(n_jobs=-1)]: Done 3552 tasks      | elapsed:  2.2min\n",
      "[Parallel(n_jobs=-1)]: Done 4852 tasks      | elapsed:  3.0min\n",
      "[Parallel(n_jobs=-1)]: Done 6352 tasks      | elapsed:  3.9min\n",
      "[Parallel(n_jobs=-1)]: Done 8052 tasks      | elapsed:  4.9min\n",
      "[Parallel(n_jobs=-1)]: Done 9952 tasks      | elapsed:  6.1min\n",
      "[Parallel(n_jobs=-1)]: Done 12052 tasks      | elapsed:  7.4min\n",
      "[Parallel(n_jobs=-1)]: Done 13280 tasks      | elapsed:  8.7min\n",
      "[Parallel(n_jobs=-1)]: Done 14530 tasks      | elapsed: 10.1min\n",
      "[Parallel(n_jobs=-1)]: Done 15880 tasks      | elapsed: 11.5min\n",
      "[Parallel(n_jobs=-1)]: Done 17330 tasks      | elapsed: 13.0min\n",
      "[Parallel(n_jobs=-1)]: Done 18000 out of 18000 | elapsed: 13.7min finished\n"
     ]
    },
    {
     "data": {
      "text/plain": [
       "{'criterion': 'mae',\n",
       " 'learning_rate': 1,\n",
       " 'loss': 'exponential',\n",
       " 'max_depth': 6,\n",
       " 'max_features': 'sqrt',\n",
       " 'n_estimators': 50,\n",
       " 'random_state': 43}"
      ]
     },
     "execution_count": 26,
     "metadata": {},
     "output_type": "execute_result"
    }
   ],
   "source": [
    "gb_gs = GridSearchCV(GradientBoostingClassifier(), param_grid = {\n",
    "    'learning_rate': [1, 0.1, 0.01, 0.001, 0.0001],\n",
    "    'n_estimators': [50, 100, 200, 400],\n",
    "    'loss': ['deviance', 'exponential'],\n",
    "    'criterion': ['friedman_mse', 'mse', 'mae'],\n",
    "    'max_depth': range(1, 11),\n",
    "    'max_features': ['auto', 'sqrt', 'log2'],\n",
    "    'random_state': [43]\n",
    "}, scoring = {\n",
    "    'Recall': make_scorer(recall_score),\n",
    "    'Accuracy': make_scorer(accuracy_score),\n",
    "    'f1': make_scorer(f1_score),\n",
    "    'Precision': make_scorer(precision_score)\n",
    "}, refit='f1', n_jobs=-1, verbose=1)\n",
    "gb_gs.fit(X_train, y_train)\n",
    "gb_gs.best_params_"
   ]
  },
  {
   "cell_type": "code",
   "execution_count": 27,
   "metadata": {
    "scrolled": true
   },
   "outputs": [
    {
     "name": "stdout",
     "output_type": "stream",
     "text": [
      "The accuracy score is: 0.8181818181818182\n",
      "The precision score is: 0.8571428571428571\n",
      "The recall score is: 0.8571428571428571\n",
      "The F1 score is: 0.8571428571428571\n"
     ]
    }
   ],
   "source": [
    "results, y_pred = train_test_model(model=GradientBoostingClassifier,\n",
    "                                   model_name='Gradient Boosting',\n",
    "                                   params=gb_gs.best_params_,\n",
    "                                   X_train=X_train,\n",
    "                                   y_train=y_train,\n",
    "                                   X_test=X_test,\n",
    "                                   y_test=y_test,\n",
    "                                   results=results)"
   ]
  },
  {
   "cell_type": "markdown",
   "metadata": {},
   "source": [
    "#### Matriz de confusión"
   ]
  },
  {
   "cell_type": "code",
   "execution_count": 28,
   "metadata": {
    "scrolled": true
   },
   "outputs": [
    {
     "data": {
      "text/plain": [
       "<AxesSubplot:title={'center':'Confusion Matrix'}, xlabel='Predicted label', ylabel='True label'>"
      ]
     },
     "execution_count": 28,
     "metadata": {},
     "output_type": "execute_result"
    },
    {
     "data": {
      "image/png": "[encoded data removed]",
      "text/plain": [
       "<Figure size 432x288 with 2 Axes>"
      ]
     },
     "metadata": {
      "needs_background": "light"
     },
     "output_type": "display_data"
    }
   ],
   "source": [
    "plot_confusion_matrix(y_test, y_pred)"
   ]
  },
  {
   "cell_type": "markdown",
   "metadata": {},
   "source": [
    "### Voting"
   ]
  },
  {
   "cell_type": "code",
   "execution_count": 29,
   "metadata": {},
   "outputs": [
    {
     "name": "stdout",
     "output_type": "stream",
     "text": [
      "Fitting 5 folds for each of 4 candidates, totalling 20 fits\n"
     ]
    },
    {
     "name": "stderr",
     "output_type": "stream",
     "text": [
      "[Parallel(n_jobs=-1)]: Using backend LokyBackend with 8 concurrent workers.\n",
      "[Parallel(n_jobs=-1)]: Done  20 out of  20 | elapsed:    2.7s finished\n"
     ]
    },
    {
     "data": {
      "text/plain": [
       "{'flatten_transform': True, 'voting': 'soft'}"
      ]
     },
     "execution_count": 29,
     "metadata": {},
     "output_type": "execute_result"
    }
   ],
   "source": [
    "v_gs = GridSearchCV(VotingClassifier(estimators=[\n",
    "    ('lr', LogisticRegression(**lr_gs.best_params_)),\n",
    "    ('svm', SVC(**svm_gs.best_params_)),\n",
    "    ('dt', DecisionTreeClassifier(**dtc_gs.best_params_)),\n",
    "    ('rf', RandomForestClassifier(**rfc_gs.best_params_)),\n",
    "    ('knn', KNeighborsClassifier(**knn_gs.best_params_)),\n",
    "    ('ab', AdaBoostClassifier(**ab_gs.best_params_)),\n",
    "    ('gb', GradientBoostingClassifier(**gb_gs.best_params_))\n",
    "]), param_grid = {\n",
    "    'voting': ['soft', 'hard'],\n",
    "    'flatten_transform': [True, False]\n",
    "}, scoring = {\n",
    "    'Recall': make_scorer(recall_score),\n",
    "    'Accuracy': make_scorer(accuracy_score),\n",
    "    'f1': make_scorer(f1_score),\n",
    "    'Precision': make_scorer(precision_score)\n",
    "}, refit='f1', n_jobs=-1, verbose=1)\n",
    "v_gs.fit(X_train, y_train)\n",
    "v_gs.best_params_"
   ]
  },
  {
   "cell_type": "code",
   "execution_count": 30,
   "metadata": {
    "scrolled": false
   },
   "outputs": [
    {
     "name": "stdout",
     "output_type": "stream",
     "text": [
      "The accuracy score is: 0.9090909090909091\n",
      "The precision score is: 0.875\n",
      "The recall score is: 1.0\n",
      "The F1 score is: 0.9333333333333333\n"
     ]
    }
   ],
   "source": [
    "results, y_pred = train_test_model(model=VotingClassifier,\n",
    "                                   estimators=[\n",
    "                                                ('lr', LogisticRegression(**lr_gs.best_params_)),\n",
    "                                                ('svm', SVC(**svm_gs.best_params_)),\n",
    "                                                ('dt', DecisionTreeClassifier(**dtc_gs.best_params_)),\n",
    "                                                ('rf', RandomForestClassifier(**rfc_gs.best_params_)),\n",
    "                                                ('knn', KNeighborsClassifier(**knn_gs.best_params_)),\n",
    "                                                ('ab', AdaBoostClassifier(**ab_gs.best_params_)),\n",
    "                                                ('gb', GradientBoostingClassifier(**gb_gs.best_params_))\n",
    "                                            ],\n",
    "                                   model_name='Voting',\n",
    "                                   params=v_gs.best_params_,\n",
    "                                   X_train=X_train,\n",
    "                                   y_train=y_train,\n",
    "                                   X_test=X_test,\n",
    "                                   y_test=y_test,\n",
    "                                   results=results)"
   ]
  },
  {
   "cell_type": "markdown",
   "metadata": {},
   "source": [
    "#### Matriz de confusión"
   ]
  },
  {
   "cell_type": "code",
   "execution_count": 31,
   "metadata": {
    "scrolled": true
   },
   "outputs": [
    {
     "data": {
      "text/plain": [
       "<AxesSubplot:title={'center':'Confusion Matrix'}, xlabel='Predicted label', ylabel='True label'>"
      ]
     },
     "execution_count": 31,
     "metadata": {},
     "output_type": "execute_result"
    },
    {
     "data": {
      "image/png": "[encoded data removed]",
      "text/plain": [
       "<Figure size 432x288 with 2 Axes>"
      ]
     },
     "metadata": {
      "needs_background": "light"
     },
     "output_type": "display_data"
    }
   ],
   "source": [
    "plot_confusion_matrix(y_test, y_pred)"
   ]
  },
  {
   "cell_type": "markdown",
   "metadata": {},
   "source": [
    "### Stacking"
   ]
  },
  {
   "cell_type": "code",
   "execution_count": 32,
   "metadata": {},
   "outputs": [
    {
     "name": "stdout",
     "output_type": "stream",
     "text": [
      "Fitting 5 folds for each of 8 candidates, totalling 40 fits\n"
     ]
    },
    {
     "name": "stderr",
     "output_type": "stream",
     "text": [
      "[Parallel(n_jobs=-1)]: Using backend LokyBackend with 8 concurrent workers.\n",
      "[Parallel(n_jobs=-1)]: Done  40 out of  40 | elapsed:   24.5s finished\n"
     ]
    },
    {
     "data": {
      "text/plain": [
       "{'passthrough': False, 'stack_method': 'auto'}"
      ]
     },
     "execution_count": 32,
     "metadata": {},
     "output_type": "execute_result"
    }
   ],
   "source": [
    "s_gs = GridSearchCV(StackingClassifier(estimators=[\n",
    "    ('lr', LogisticRegression(**lr_gs.best_params_)),\n",
    "    ('svm', SVC(**svm_gs.best_params_)),\n",
    "    ('dt', DecisionTreeClassifier(**dtc_gs.best_params_)),\n",
    "    ('rf', RandomForestClassifier(**rfc_gs.best_params_)),\n",
    "    ('knn', KNeighborsClassifier(**knn_gs.best_params_)),\n",
    "    ('ab', AdaBoostClassifier(**ab_gs.best_params_)),\n",
    "    ('gb', GradientBoostingClassifier(**gb_gs.best_params_))\n",
    "]), param_grid = {\n",
    "    'stack_method': ['auto', 'predict_proba', 'decision_function', 'predict'],\n",
    "    'passthrough': [True, False]\n",
    "}, scoring = {\n",
    "    'Recall': make_scorer(recall_score),\n",
    "    'Accuracy': make_scorer(accuracy_score),\n",
    "    'f1': make_scorer(f1_score),\n",
    "    'Precision': make_scorer(precision_score)\n",
    "}, refit='f1', n_jobs=-1, verbose=1)\n",
    "s_gs.fit(X_train, y_train)\n",
    "s_gs.best_params_"
   ]
  },
  {
   "cell_type": "code",
   "execution_count": 33,
   "metadata": {
    "scrolled": false
   },
   "outputs": [
    {
     "name": "stdout",
     "output_type": "stream",
     "text": [
      "The accuracy score is: 0.8181818181818182\n",
      "The precision score is: 0.8571428571428571\n",
      "The recall score is: 0.8571428571428571\n",
      "The F1 score is: 0.8571428571428571\n"
     ]
    }
   ],
   "source": [
    "results, y_pred = train_test_model(model=StackingClassifier,\n",
    "                                   estimators=[\n",
    "                                                ('lr', LogisticRegression(**lr_gs.best_params_)),\n",
    "                                                ('svm', SVC(**svm_gs.best_params_)),\n",
    "                                                ('dt', DecisionTreeClassifier(**dtc_gs.best_params_)),\n",
    "                                                ('rf', RandomForestClassifier(**rfc_gs.best_params_)),\n",
    "                                                ('knn', KNeighborsClassifier(**knn_gs.best_params_)),\n",
    "                                                ('ab', AdaBoostClassifier(**ab_gs.best_params_)),\n",
    "                                                ('gb', GradientBoostingClassifier(**gb_gs.best_params_))\n",
    "                                            ],\n",
    "                                   model_name='Stacking',\n",
    "                                   params=s_gs.best_params_,\n",
    "                                   X_train=X_train,\n",
    "                                   y_train=y_train,\n",
    "                                   X_test=X_test,\n",
    "                                   y_test=y_test,\n",
    "                                   results=results)"
   ]
  },
  {
   "cell_type": "markdown",
   "metadata": {},
   "source": [
    "#### Matriz de confusión"
   ]
  },
  {
   "cell_type": "code",
   "execution_count": 34,
   "metadata": {
    "scrolled": false
   },
   "outputs": [
    {
     "data": {
      "text/plain": [
       "<AxesSubplot:title={'center':'Confusion Matrix'}, xlabel='Predicted label', ylabel='True label'>"
      ]
     },
     "execution_count": 34,
     "metadata": {},
     "output_type": "execute_result"
    },
    {
     "data": {
      "image/png": "[encoded data removed]",
      "text/plain": [
       "<Figure size 432x288 with 2 Axes>"
      ]
     },
     "metadata": {
      "needs_background": "light"
     },
     "output_type": "display_data"
    }
   ],
   "source": [
    "plot_confusion_matrix(y_test, y_pred)"
   ]
  },
  {
   "cell_type": "markdown",
   "metadata": {},
   "source": [
    "## Resultados"
   ]
  },
  {
   "cell_type": "code",
   "execution_count": 35,
   "metadata": {},
   "outputs": [
    {
     "data": {
      "text/html": [
       "<div>\n",
       "<style scoped>\n",
       "    .dataframe tbody tr th:only-of-type {\n",
       "        vertical-align: middle;\n",
       "    }\n",
       "\n",
       "    .dataframe tbody tr th {\n",
       "        vertical-align: top;\n",
       "    }\n",
       "\n",
       "    .dataframe thead th {\n",
       "        text-align: right;\n",
       "    }\n",
       "</style>\n",
       "<table border=\"1\" class=\"dataframe\">\n",
       "  <thead>\n",
       "    <tr style=\"text-align: right;\">\n",
       "      <th></th>\n",
       "      <th>accuracy</th>\n",
       "      <th>precision</th>\n",
       "      <th>recall</th>\n",
       "      <th>f1 score</th>\n",
       "      <th>Promedio</th>\n",
       "    </tr>\n",
       "  </thead>\n",
       "  <tbody>\n",
       "    <tr>\n",
       "      <th>Logistic Regression</th>\n",
       "      <td>0.727273</td>\n",
       "      <td>0.833333</td>\n",
       "      <td>0.714286</td>\n",
       "      <td>0.769231</td>\n",
       "      <td>0.761031</td>\n",
       "    </tr>\n",
       "    <tr>\n",
       "      <th>Support Vector Machine</th>\n",
       "      <td>0.909091</td>\n",
       "      <td>0.875000</td>\n",
       "      <td>1.000000</td>\n",
       "      <td>0.933333</td>\n",
       "      <td>0.929356</td>\n",
       "    </tr>\n",
       "    <tr>\n",
       "      <th>Decision Tree</th>\n",
       "      <td>0.636364</td>\n",
       "      <td>0.800000</td>\n",
       "      <td>0.571429</td>\n",
       "      <td>0.666667</td>\n",
       "      <td>0.668615</td>\n",
       "    </tr>\n",
       "    <tr>\n",
       "      <th>Random Forest</th>\n",
       "      <td>0.909091</td>\n",
       "      <td>0.875000</td>\n",
       "      <td>1.000000</td>\n",
       "      <td>0.933333</td>\n",
       "      <td>0.929356</td>\n",
       "    </tr>\n",
       "    <tr>\n",
       "      <th>K Nearest Neighbors</th>\n",
       "      <td>0.909091</td>\n",
       "      <td>0.875000</td>\n",
       "      <td>1.000000</td>\n",
       "      <td>0.933333</td>\n",
       "      <td>0.929356</td>\n",
       "    </tr>\n",
       "    <tr>\n",
       "      <th>Perceptron</th>\n",
       "      <td>0.727273</td>\n",
       "      <td>0.833333</td>\n",
       "      <td>0.714286</td>\n",
       "      <td>0.769231</td>\n",
       "      <td>0.761031</td>\n",
       "    </tr>\n",
       "    <tr>\n",
       "      <th>Ada Boost</th>\n",
       "      <td>0.727273</td>\n",
       "      <td>0.833333</td>\n",
       "      <td>0.714286</td>\n",
       "      <td>0.769231</td>\n",
       "      <td>0.761031</td>\n",
       "    </tr>\n",
       "    <tr>\n",
       "      <th>Gradient Boosting</th>\n",
       "      <td>0.818182</td>\n",
       "      <td>0.857143</td>\n",
       "      <td>0.857143</td>\n",
       "      <td>0.857143</td>\n",
       "      <td>0.847403</td>\n",
       "    </tr>\n",
       "    <tr>\n",
       "      <th>Voting</th>\n",
       "      <td>0.909091</td>\n",
       "      <td>0.875000</td>\n",
       "      <td>1.000000</td>\n",
       "      <td>0.933333</td>\n",
       "      <td>0.929356</td>\n",
       "    </tr>\n",
       "    <tr>\n",
       "      <th>Stacking</th>\n",
       "      <td>0.818182</td>\n",
       "      <td>0.857143</td>\n",
       "      <td>0.857143</td>\n",
       "      <td>0.857143</td>\n",
       "      <td>0.847403</td>\n",
       "    </tr>\n",
       "  </tbody>\n",
       "</table>\n",
       "</div>"
      ],
      "text/plain": [
       "                        accuracy  precision    recall  f1 score  Promedio\n",
       "Logistic Regression     0.727273   0.833333  0.714286  0.769231  0.761031\n",
       "Support Vector Machine  0.909091   0.875000  1.000000  0.933333  0.929356\n",
       "Decision Tree           0.636364   0.800000  0.571429  0.666667  0.668615\n",
       "Random Forest           0.909091   0.875000  1.000000  0.933333  0.929356\n",
       "K Nearest Neighbors     0.909091   0.875000  1.000000  0.933333  0.929356\n",
       "Perceptron              0.727273   0.833333  0.714286  0.769231  0.761031\n",
       "Ada Boost               0.727273   0.833333  0.714286  0.769231  0.761031\n",
       "Gradient Boosting       0.818182   0.857143  0.857143  0.857143  0.847403\n",
       "Voting                  0.909091   0.875000  1.000000  0.933333  0.929356\n",
       "Stacking                0.818182   0.857143  0.857143  0.857143  0.847403"
      ]
     },
     "execution_count": 35,
     "metadata": {},
     "output_type": "execute_result"
    }
   ],
   "source": [
    "results['Promedio'] = results.mean(axis=1)\n",
    "results = results.append(pd.DataFrame(results.mean().to_dict(), index=['Promedio']))\n",
    "results"
   ]
  },
  {
   "cell_type": "code",
   "execution_count": null,
   "metadata": {},
   "outputs": [],
   "source": []
  }
 ],
 "metadata": {
  "kernelspec": {
   "display_name": "tesis",
   "language": "python",
   "name": "tesis"
  },
  "language_info": {
   "codemirror_mode": {
    "name": "ipython",
    "version": 3
   },
   "file_extension": ".py",
   "mimetype": "text/x-python",
   "name": "python",
   "nbconvert_exporter": "python",
   "pygments_lexer": "ipython3",
   "version": "3.8.2"
  }
 },
 "nbformat": 4,
 "nbformat_minor": 4
}
