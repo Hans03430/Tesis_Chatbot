{
 "cells": [
  {
   "cell_type": "markdown",
   "metadata": {},
   "source": [
    "# Imports and configuration"
   ]
  },
  {
   "cell_type": "code",
   "execution_count": 3,
   "metadata": {},
   "outputs": [],
   "source": [
    "import asyncio\n",
    "import os\n",
    "import pandas as pd\n",
    "from typing import Dict\n",
    "import sys\n",
    "\n",
    "from aiofile import AIOFile\n",
    "from aiohttp import ClientSession\n",
    "from bs4 import Comment\n",
    "from src.processing.coh_metrix_indices.descriptive_indices import get_paragraph_count_from_text\n",
    "from src.processing.coh_metrix_indices.descriptive_indices import get_sentence_count_from_text\n",
    "from src.processing.coh_metrix_indices.descriptive_indices import get_word_count_from_text\n",
    "from src.processing.coh_metrix_indices.descriptive_indices import get_mean_of_length_of_paragraphs\n",
    "from src.processing.coh_metrix_indices.descriptive_indices import get_std_of_length_of_paragraphs\n",
    "from src.processing.coh_metrix_indices.descriptive_indices import get_mean_of_length_of_sentences\n",
    "from src.processing.coh_metrix_indices.descriptive_indices import get_std_of_length_of_sentences\n",
    "from src.processing.coh_metrix_indices.descriptive_indices import get_mean_of_length_of_words\n",
    "from src.processing.coh_metrix_indices.descriptive_indices import get_std_of_length_of_words"
   ]
  },
  {
   "cell_type": "markdown",
   "metadata": {},
   "source": [
    "# Constantes"
   ]
  },
  {
   "cell_type": "code",
   "execution_count": 4,
   "metadata": {},
   "outputs": [],
   "source": [
    "PROJECT_PATH = '/home/hans/Documentos/Tesis_Chatbot'"
   ]
  },
  {
   "cell_type": "markdown",
   "metadata": {},
   "source": [
    "# Helper functions"
   ]
  },
  {
   "cell_type": "code",
   "execution_count": 5,
   "metadata": {},
   "outputs": [],
   "source": [
    "async def txt_file_to_pandas_dataframe_row_only_difficulty(txt_path: str, difficulty: int) -> Dict:\n",
    "    \"\"\"\n",
    "    This function finds all the coh-metrix indices we are going to use\n",
    "\n",
    "    Parameters:\n",
    "    txt_path(str): The path of the file to obtain the indices from\n",
    "    difficulty(int): The difficulty of the text\n",
    "    \"\"\"\n",
    "    async with AIOFile(txt_path, 'r') as text_file:\n",
    "        text = await text_file.read()\n",
    "        return {\n",
    "            'DESPC': get_paragraph_count_from_text(text), \n",
    "            'DESSC': get_sentence_count_from_text(text), \n",
    "            'DESWC': get_word_count_from_text(text), \n",
    "            'DESPL': get_mean_of_length_of_paragraphs(text), \n",
    "            'DESPLd': get_std_of_length_of_paragraphs(text),\n",
    "            'DESSL': get_mean_of_length_of_sentences(text), \n",
    "            'DESSLd': get_std_of_length_of_sentences(text),\n",
    "            'DESWLlt': get_mean_of_length_of_words(text), \n",
    "            'DESWLltd': get_std_of_length_of_words(text), \n",
    "            'Difficulty': difficulty\n",
    "        }"
   ]
  },
  {
   "cell_type": "code",
   "execution_count": 6,
   "metadata": {},
   "outputs": [],
   "source": [
    "async def convert_txt_files_to_dataframes() -> pd.DataFrame:\n",
    "    \"\"\"\n",
    "    This function scans all the files we just downloaded and converts them to a .txt format for easier processing\n",
    "    \"\"\"\n",
    "    levels = ['1', '2', '3']\n",
    "    categories = ['Historia, Geografía y Economía',\n",
    "                    'CTA',\n",
    "                    'Arte',\n",
    "                    'Comunicación',\n",
    "                    'Personal social',\n",
    "                    'Formación Ciudadana y Cívica',\n",
    "                    'Educación Fisica',\n",
    "                    'Educación Religiosa']\n",
    "    dataframe_columns = ['DESPC', 'DESSC', 'DESWC', 'DESPL', 'DESPLd', 'DESSL', 'DESSLd' 'DESWLlt', 'DESWLltd', 'Difficulty']\n",
    "    dataframe_only_difficulty = pd.DataFrame(columns=dataframe_columns)\n",
    "    for level in levels:\n",
    "        for category in categories:\n",
    "            documents = [file_name for file_name in os.listdir(PROJECT_PATH + f'/data/raw/txt/{level}/{category}') if '.txt' in file_name]\n",
    "            documents.sort()\n",
    "            for document in documents:\n",
    "                try:\n",
    "                    txt_path = f'{PROJECT_PATH}/data/raw/txt/{level}/{category}/{document}'\n",
    "                    row = await txt_file_to_pandas_dataframe_row_only_difficulty(txt_path, level)\n",
    "                    dataframe_only_difficulty.append(row, ignore_index=True)\n",
    "                    print(f'Text {document} converted  txt to dataframe row')\n",
    "                except Exception as e:\n",
    "                    print(str(e))\n",
    "                    continue\n",
    "    dataframe_only_difficulty.to_csv(f'{PROJECT_PATH}/data/processed/data_with_difficulty.csv')"
   ]
  },
  {
   "cell_type": "code",
   "execution_count": 7,
   "metadata": {},
   "outputs": [],
   "source": [
    "async def main():\n",
    "    df = await convert_txt_files_to_dataframes()\n",
    "    print(df)"
   ]
  },
  {
   "cell_type": "code",
   "execution_count": null,
   "metadata": {},
   "outputs": [
    {
     "name": "stdout",
     "output_type": "stream",
     "text": [
      "Text abecedario.txt converted  txt to dataframe row\n",
      "Text antologia-de-poesia-para-ninos-y-ninas.txt converted  txt to dataframe row\n",
      "Text aprendemos-jugando-2018-4.txt converted  txt to dataframe row\n",
      "Text aprendemos-jugando-2018-5.txt converted  txt to dataframe row\n",
      "Text capacidades_comunica_ama.txt converted  txt to dataframe row\n",
      "Text con-los-ojos-abierto-yo-escucho.txt converted  txt to dataframe row\n",
      "Text con-los-ojos-abiertos-yo-veo.txt converted  txt to dataframe row\n",
      "Text cuidados-con-amor.txt converted  txt to dataframe row\n",
      "Text el-muneco-de-brea.txt converted  txt to dataframe row\n",
      "Text el-valor-educativo-de-la-observacion-del-desarrollo-del-nino.txt converted  txt to dataframe row\n",
      "Text el-viaje-al-cielo.txt converted  txt to dataframe row\n",
      "Text el-zorro-que-devoro-la-nube.txt converted  txt to dataframe row\n",
      "Text entorno-educativo-calidad-educacion-inicial-guia-docentes.txt converted  txt to dataframe row\n",
      "Text espacios-educativos-para-ninos-ninas-0-3.txt converted  txt to dataframe row\n",
      "Text f_rutas_ini_bil_02.txt converted  txt to dataframe row\n",
      "Text favoreciendo-la-autonomia-y-el-juego.txt converted  txt to dataframe row\n",
      "Text guia-de-encuentros-con-padres-madres-y-cuidadores.txt converted  txt to dataframe row\n",
      "Text guia-materiales-educativos-ninos-ninas-0-3.txt converted  txt to dataframe row\n",
      "Text guia-para-docente-kits-estudiantes-dotacion.txt converted  txt to dataframe row\n",
      "Text informe-indicadores-clave-evaluacion-nacional.txt converted  txt to dataframe row\n",
      "Text juegos_para_ensenar_a_pensar_1.txt converted  txt to dataframe row\n",
      "Text juegos_para_ensenar_a_pensar_2.txt converted  txt to dataframe row\n",
      "Text jugando-con-las-palabras.txt converted  txt to dataframe row\n",
      "Text kantilarya-q-uchuna.txt converted  txt to dataframe row\n",
      "Text la-fiesta-de-la-candelaria.txt converted  txt to dataframe row\n",
      "Text laminas-para-padres-de-actividades-cotidianas.txt converted  txt to dataframe row\n",
      "Text maniji-satiposati.txt converted  txt to dataframe row\n",
      "Text mi-mantita-linda.txt converted  txt to dataframe row\n",
      "Text programa-curricular-educacion-inicial.txt converted  txt to dataframe row\n",
      "Text qamaqimpi-wallatampi.txt converted  txt to dataframe row\n",
      "Text que-bonito.txt converted  txt to dataframe row\n",
      "Text rotafolio-sierra-selva.txt converted  txt to dataframe row\n",
      "Text siku-phusa.txt converted  txt to dataframe row\n",
      "Text somos-herederos-y-guardianes-de-la-tierra.txt converted  txt to dataframe row\n",
      "Text taller-de-psicomotricidad-02.txt converted  txt to dataframe row\n",
      "Text taller-de-psicomotricidad-03.txt converted  txt to dataframe row\n",
      "Text taller-de-psicomotricidad-04.txt converted  txt to dataframe row\n",
      "Text taller-de-psicomotricidad-07.txt converted  txt to dataframe row\n",
      "Text taller-de-psicomotricidad-08.txt converted  txt to dataframe row\n",
      "Text taller-de-psicomotricidad-inicio.txt converted  txt to dataframe row\n",
      "Text uno-dos-tres-escalones-de-taquile.txt converted  txt to dataframe row\n",
      "Text vicunita-princesita-del-altiplano.txt converted  txt to dataframe row\n",
      "Text yana-t-urumanta-t-iqirunacha.txt converted  txt to dataframe row\n",
      "Text zampona-siku.txt converted  txt to dataframe row\n",
      "Text orientaciones-ensenanza-arte-cultura.txt converted  txt to dataframe row\n",
      "Text como-realizamos-caracterizacion-sociolinguistica.txt converted  txt to dataframe row\n",
      "Text comunicacion1-cuaderno-trabajo.txt converted  txt to dataframe row\n",
      "Text comunicacion5-cuaderno-trabajo.txt converted  txt to dataframe row\n",
      "Text cuadernillo-alfabetizacion-inicial-comunicacion1.txt converted  txt to dataframe row\n",
      "Text cuadernillo-alfabetizacion-inicial-comunicacion2.txt converted  txt to dataframe row\n",
      "Text cuadernillo-alfabetizacion-inicial-comunicacion3.txt converted  txt to dataframe row\n",
      "Text curriculo-nacional-educacion-basica.txt converted  txt to dataframe row\n",
      "Text f_rutas_ini_bil_01.txt converted  txt to dataframe row\n",
      "Text guia-cuadernillos-alfabetizacion.txt converted  txt to dataframe row\n",
      "Text kit-evaluacion-demostrando-aprendimos-2do-primaria-comunicacion-1trimestre-entrada1.txt converted  txt to dataframe row\n",
      "Text kit-evaluacion-demostrando-aprendimos-2do-primaria-comunicacion-1trimestre-entrada2.txt converted  txt to dataframe row\n",
      "Text kit-evaluacion-demostrando-aprendimos-2do-primaria-comunicacion-2trimestre-proceso1.txt converted  txt to dataframe row\n",
      "Text kit-evaluacion-demostrando-aprendimos-2do-primaria-comunicacion-2trimestre-proceso2.txt converted  txt to dataframe row\n",
      "Text kit-evaluacion-demostrando-aprendimos-2do-primaria-comunicacion-3trimestre-salida2.txt converted  txt to dataframe row\n",
      "Text kit-evaluacion-demostrando-aprendimos-4to-primaria-comunicacion-1trimestre-entrada1.txt converted  txt to dataframe row\n",
      "Text kit-evaluacion-demostrando-aprendimos-4to-primaria-comunicacion-2trimestre-proceso2.txt converted  txt to dataframe row\n",
      "Text kit-evaluacion-demostrando-aprendimos-4to-primaria-comunicacion-3trimestre-salida.txt converted  txt to dataframe row\n",
      "Text kit-evaluacion-manual-uso-docente-4to-primaria-comunicacion.txt converted  txt to dataframe row\n",
      "Text kit-evaluacion-manual-uso-docente-4to-primaria-matematica.txt converted  txt to dataframe row\n",
      "Text kit-evaluacion-registro-logros-2do-primaria-comunicacion-1trimestre-entrada.txt converted  txt to dataframe row\n",
      "Text kit-evaluacion-registro-logros-2do-primaria-comunicacion-2trimestre-proceso.txt converted  txt to dataframe row\n",
      "Text kit-evaluacion-registro-logros-2do-primaria-comunicacion-3trimestre-salida.txt converted  txt to dataframe row\n",
      "Text kit-evaluacion-registro-logros-4to-primaria-comunicacion-1trimestre-entrada.txt converted  txt to dataframe row\n",
      "Text libros-biblioteca-aula-primaria-3er-grado-catalogo.txt converted  txt to dataframe row\n",
      "Text maestros-padres-mejores-aliados-aprendizaje-ciclo3.txt converted  txt to dataframe row\n",
      "Text maestros-padres-mejores-aliados-aprendizaje-ciclo4.txt converted  txt to dataframe row\n",
      "Text maestros-padres-mejores-aliados-aprendizaje-ciclo5.txt converted  txt to dataframe row\n",
      "Text mama_ven.txt converted  txt to dataframe row\n",
      "Text mi-cuaderno-autoaprendizaje-com-1.txt converted  txt to dataframe row\n",
      "Text mi-cuaderno-autoaprendizaje-com-2.txt converted  txt to dataframe row\n",
      "Text pegantatsiri-ogotaige-omagaro-2.txt converted  txt to dataframe row\n",
      "Text programa-curricular-educacion-primaria.txt converted  txt to dataframe row\n",
      "Text proyectos-aprendizaje-rutas-aprendizaje.txt converted  txt to dataframe row\n",
      "Text situaciones-comunicativas-comunicacion-texto-1-inicial.txt converted  txt to dataframe row\n",
      "Text situaciones-para-aprender-construir-portafolio-2-intermedio.txt converted  txt to dataframe row\n",
      "Text situaciones-para-aprender-construir-texto-2-intermedio.txt converted  txt to dataframe row\n",
      "Text situaciones-para-aprender-construir-texto-3-intermedio.txt converted  txt to dataframe row\n",
      "Text san_martin_porres.txt converted  txt to dataframe row\n",
      "Text santa_rosa.txt converted  txt to dataframe row\n",
      "Text toribio_mogrovejo.txt converted  txt to dataframe row\n",
      "Text augusto_leguia.txt converted  txt to dataframe row\n",
      "Text carta_jamaica.txt converted  txt to dataframe row\n",
      "Text fernando_belaunde.txt converted  txt to dataframe row\n",
      "Text haya_torre.txt converted  txt to dataframe row\n",
      "Text historia_geografia.txt converted  txt to dataframe row\n",
      "Text manuel_valdes.txt converted  txt to dataframe row\n",
      "Text manuela_saenz.txt converted  txt to dataframe row\n",
      "Text agua_suelo.txt converted  txt to dataframe row\n",
      "Text biodiversidad_docente.txt converted  txt to dataframe row\n",
      "Text biologia.txt converted  txt to dataframe row\n",
      "Text extranos_mundos.txt converted  txt to dataframe row\n",
      "Text fisica.txt converted  txt to dataframe row\n",
      "Text fragmentos_nuevo_mundo.txt converted  txt to dataframe row\n",
      "Text guiso_fantasmagorico.txt converted  txt to dataframe row\n",
      "Text inventores_viajeros_docentes.txt converted  txt to dataframe row\n",
      "Text arte.txt converted  txt to dataframe row\n",
      "Text arte_digital_interactividad.txt converted  txt to dataframe row\n",
      "Text maria_granda.txt converted  txt to dataframe row\n",
      "Text 20_leguas_viaje_submarino.txt converted  txt to dataframe row\n",
      "Text abel_sanchez.txt converted  txt to dataframe row\n",
      "Text amistad_funesta.txt converted  txt to dataframe row\n",
      "Text antologia_leer_escribir.txt converted  txt to dataframe row\n"
     ]
    },
    {
     "name": "stdout",
     "output_type": "stream",
     "text": [
      "Text arguedas.txt converted  txt to dataframe row\n",
      "Text aventuras_robinson_crusoe.txt converted  txt to dataframe row\n",
      "Text aventuras_tom_sawyer.txt converted  txt to dataframe row\n",
      "Text bella_bestia.txt converted  txt to dataframe row\n",
      "Text bibliotecas_escolares.txt converted  txt to dataframe row\n",
      "Text cartas_sor_juana.txt converted  txt to dataframe row\n",
      "Text castillo.txt converted  txt to dataframe row\n",
      "Text cesar_vallejo.txt converted  txt to dataframe row\n",
      "Text charles_dickens.txt converted  txt to dataframe row\n"
     ]
    },
    {
     "name": "stderr",
     "output_type": "stream",
     "text": [
      "/home/hans/Documentos/Tesis_Chatbot/.env/lib/python3.7/site-packages/numpy/core/fromnumeric.py:3335: RuntimeWarning: Mean of empty slice.\n",
      "  out=out, **kwargs)\n",
      "/home/hans/Documentos/Tesis_Chatbot/.env/lib/python3.7/site-packages/numpy/core/_methods.py:161: RuntimeWarning: invalid value encountered in double_scalars\n",
      "  ret = ret.dtype.type(ret / rcount)\n",
      "/home/hans/Documentos/Tesis_Chatbot/.env/lib/python3.7/site-packages/numpy/core/_methods.py:217: RuntimeWarning: Degrees of freedom <= 0 for slice\n",
      "  keepdims=keepdims)\n",
      "/home/hans/Documentos/Tesis_Chatbot/.env/lib/python3.7/site-packages/numpy/core/_methods.py:186: RuntimeWarning: invalid value encountered in true_divide\n",
      "  arrmean, rcount, out=arrmean, casting='unsafe', subok=False)\n",
      "/home/hans/Documentos/Tesis_Chatbot/.env/lib/python3.7/site-packages/numpy/core/_methods.py:209: RuntimeWarning: invalid value encountered in double_scalars\n",
      "  ret = ret.dtype.type(ret / rcount)\n"
     ]
    },
    {
     "name": "stdout",
     "output_type": "stream",
     "text": [
      "Text clorinda_matto.txt converted  txt to dataframe row\n",
      "[E088] Text of length 2521557 exceeds maximum of 1000000. The v2.x parser and NER models require roughly 1GB of temporary memory per 100,000 characters in the input. This means long texts may cause memory allocation errors. If you're not using the parser or NER, it's probably safe to increase the `nlp.max_length` limit. The limit is in number of characters, so you can check whether your inputs are too long by checking `len(text)`.\n",
      "Text corsario_negro.txt converted  txt to dataframe row\n",
      "Text cuadernillo_salida4_escritura_5to_grado.txt converted  txt to dataframe row\n",
      "Text cuaderno-nivelacion-competencias-com-vi.txt converted  txt to dataframe row\n",
      "Text cumbres_borrascosas.txt converted  txt to dataframe row\n",
      "Text extrano_caso_doctor_hyde.txt converted  txt to dataframe row\n",
      "Text frankenstein.txt converted  txt to dataframe row\n",
      "Text guia_produccion_audiolibros.txt converted  txt to dataframe row\n",
      "[E088] Text of length 1729789 exceeds maximum of 1000000. The v2.x parser and NER models require roughly 1GB of temporary memory per 100,000 characters in the input. This means long texts may cause memory allocation errors. If you're not using the parser or NER, it's probably safe to increase the `nlp.max_length` limit. The limit is in number of characters, so you can check whether your inputs are too long by checking `len(text)`.\n",
      "Text hora-literaria-1-m1.txt converted  txt to dataframe row\n",
      "Text hora-literaria-1-m3.txt converted  txt to dataframe row\n",
      "Text hora-literaria-orientaciones-docente.txt converted  txt to dataframe row\n",
      "Text imagenes_frases_atrapan.txt converted  txt to dataframe row\n",
      "Text isla_tesoro.txt converted  txt to dataframe row\n"
     ]
    }
   ],
   "source": [
    "await main()"
   ]
  },
  {
   "cell_type": "code",
   "execution_count": null,
   "metadata": {},
   "outputs": [],
   "source": []
  }
 ],
 "metadata": {
  "kernelspec": {
   "display_name": ".env",
   "language": "python",
   "name": ".env"
  },
  "language_info": {
   "codemirror_mode": {
    "name": "ipython",
    "version": 3
   },
   "file_extension": ".py",
   "mimetype": "text/x-python",
   "name": "python",
   "nbconvert_exporter": "python",
   "pygments_lexer": "ipython3",
   "version": "3.7.5"
  }
 },
 "nbformat": 4,
 "nbformat_minor": 2
}
