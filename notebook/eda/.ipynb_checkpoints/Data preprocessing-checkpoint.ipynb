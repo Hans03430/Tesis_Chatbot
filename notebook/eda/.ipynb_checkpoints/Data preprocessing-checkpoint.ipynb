{
 "cells": [
  {
   "cell_type": "markdown",
   "metadata": {},
   "source": [
    "# Imports and configuration"
   ]
  },
  {
   "cell_type": "code",
   "execution_count": 3,
   "metadata": {},
   "outputs": [],
   "source": [
    "import asyncio\n",
    "import os\n",
    "import pandas as pd\n",
    "from typing import Dict\n",
    "import sys\n",
    "\n",
    "from aiofile import AIOFile\n",
    "from aiohttp import ClientSession\n",
    "from bs4 import Comment\n",
    "from src.processing.coh_metrix_indices.descriptive_indices import get_paragraph_count_from_text\n",
    "from src.processing.coh_metrix_indices.descriptive_indices import get_sentence_count_from_text\n",
    "from src.processing.coh_metrix_indices.descriptive_indices import get_word_count_from_text\n",
    "from src.processing.coh_metrix_indices.descriptive_indices import get_mean_of_length_of_paragraphs\n",
    "from src.processing.coh_metrix_indices.descriptive_indices import get_std_of_length_of_paragraphs\n",
    "from src.processing.coh_metrix_indices.descriptive_indices import get_mean_of_length_of_sentences\n",
    "from src.processing.coh_metrix_indices.descriptive_indices import get_std_of_length_of_sentences\n",
    "from src.processing.coh_metrix_indices.descriptive_indices import get_mean_of_length_of_words\n",
    "from src.processing.coh_metrix_indices.descriptive_indices import get_std_of_length_of_words"
   ]
  },
  {
   "cell_type": "markdown",
   "metadata": {},
   "source": [
    "# Constantes"
   ]
  },
  {
   "cell_type": "code",
   "execution_count": 4,
   "metadata": {},
   "outputs": [],
   "source": [
    "PROJECT_PATH = '/home/hans/Documentos/Tesis_Chatbot'"
   ]
  },
  {
   "cell_type": "markdown",
   "metadata": {},
   "source": [
    "# Helper functions"
   ]
  },
  {
   "cell_type": "code",
   "execution_count": 5,
   "metadata": {},
   "outputs": [],
   "source": [
    "async def txt_file_to_pandas_dataframe_row_only_difficulty(txt_path: str, difficulty: int) -> Dict:\n",
    "    \"\"\"\n",
    "    This function finds all the coh-metrix indices we are going to use\n",
    "\n",
    "    Parameters:\n",
    "    txt_path(str): The path of the file to obtain the indices from\n",
    "    difficulty(int): The difficulty of the text\n",
    "    \"\"\"\n",
    "    async with AIOFile(txt_path, 'r') as text_file:\n",
    "        text = await text_file.read()\n",
    "        return {\n",
    "            'DESPC': get_paragraph_count_from_text(text), \n",
    "            'DESSC': get_sentence_count_from_text(text), \n",
    "            'DESWC': get_word_count_from_text(text), \n",
    "            'DESPL': get_mean_of_length_of_paragraphs(text), \n",
    "            'DESPLd': get_std_of_length_of_paragraphs(text),\n",
    "            'DESSL': get_mean_of_length_of_sentences(text), \n",
    "            'DESSLd': get_std_of_length_of_sentences(text),\n",
    "            'DESWLlt': get_mean_of_length_of_words(text), \n",
    "            'DESWLltd': get_std_of_length_of_words(text), \n",
    "            'Difficulty': difficulty\n",
    "        }"
   ]
  },
  {
   "cell_type": "code",
   "execution_count": 6,
   "metadata": {},
   "outputs": [],
   "source": [
    "async def convert_txt_files_to_dataframes() -> pd.DataFrame:\n",
    "    \"\"\"\n",
    "    This function scans all the files we just downloaded and converts them to a .txt format for easier processing\n",
    "    \"\"\"\n",
    "    levels = ['1', '2', '3']\n",
    "    categories = ['Historia, Geografía y Economía',\n",
    "                    'CTA',\n",
    "                    'Arte',\n",
    "                    'Comunicación',\n",
    "                    'Personal social',\n",
    "                    'Formación Ciudadana y Cívica',\n",
    "                    'Educación Fisica',\n",
    "                    'Educación Religiosa']\n",
    "    dataframe_columns = ['DESPC', 'DESSC', 'DESWC', 'DESPL', 'DESPLd', 'DESSL', 'DESSLd' 'DESWLlt', 'DESWLltd', 'Difficulty']\n",
    "    dataframe_only_difficulty = pd.DataFrame(columns=dataframe_columns)\n",
    "    for level in levels:\n",
    "        for category in categories:\n",
    "            documents = [file_name for file_name in os.listdir(PROJECT_PATH + f'/data/raw/txt/{level}/{category}') if '.txt' in file_name]\n",
    "            documents.sort()\n",
    "            for document in documents:\n",
    "                try:\n",
    "                    txt_path = f'{PROJECT_PATH}/data/raw/txt/{level}/{category}/{document}'\n",
    "                    row = await txt_file_to_pandas_dataframe_row_only_difficulty(txt_path, level)\n",
    "                    dataframe_only_difficulty.append(row, ignore_index=True)\n",
    "                    print(f'Text {document} converted  txt to dataframe row')\n",
    "                except Exception as e:\n",
    "                    print(str(e))\n",
    "                    continue\n",
    "    dataframe_only_difficulty.to_csv(f'{PROJECT_PATH}/data/processed/data_with_difficulty.csv')"
   ]
  },
  {
   "cell_type": "code",
   "execution_count": 7,
   "metadata": {},
   "outputs": [],
   "source": [
    "async def main():\n",
    "    df = await convert_txt_files_to_dataframes()\n",
    "    print(df)"
   ]
  },
  {
   "cell_type": "code",
   "execution_count": null,
   "metadata": {},
   "outputs": [
    {
     "name": "stdout",
     "output_type": "stream",
     "text": [
      "Text abecedario.txt converted  txt to dataframe row\n",
      "Text antologia-de-poesia-para-ninos-y-ninas.txt converted  txt to dataframe row\n",
      "Text aprendemos-jugando-2018-4.txt converted  txt to dataframe row\n",
      "Text aprendemos-jugando-2018-5.txt converted  txt to dataframe row\n",
      "Text capacidades_comunica_ama.txt converted  txt to dataframe row\n",
      "Text con-los-ojos-abierto-yo-escucho.txt converted  txt to dataframe row\n",
      "Text con-los-ojos-abiertos-yo-veo.txt converted  txt to dataframe row\n",
      "Text cuidados-con-amor.txt converted  txt to dataframe row\n",
      "Text el-muneco-de-brea.txt converted  txt to dataframe row\n",
      "Text el-valor-educativo-de-la-observacion-del-desarrollo-del-nino.txt converted  txt to dataframe row\n",
      "Text el-viaje-al-cielo.txt converted  txt to dataframe row\n",
      "Text el-zorro-que-devoro-la-nube.txt converted  txt to dataframe row\n",
      "Text entorno-educativo-calidad-educacion-inicial-guia-docentes.txt converted  txt to dataframe row\n",
      "Text espacios-educativos-para-ninos-ninas-0-3.txt converted  txt to dataframe row\n",
      "Text f_rutas_ini_bil_02.txt converted  txt to dataframe row\n",
      "Text favoreciendo-la-autonomia-y-el-juego.txt converted  txt to dataframe row\n",
      "Text guia-de-encuentros-con-padres-madres-y-cuidadores.txt converted  txt to dataframe row\n",
      "Text guia-materiales-educativos-ninos-ninas-0-3.txt converted  txt to dataframe row\n",
      "Text guia-para-docente-kits-estudiantes-dotacion.txt converted  txt to dataframe row\n",
      "Text informe-indicadores-clave-evaluacion-nacional.txt converted  txt to dataframe row\n",
      "Text juegos_para_ensenar_a_pensar_1.txt converted  txt to dataframe row\n",
      "Text juegos_para_ensenar_a_pensar_2.txt converted  txt to dataframe row\n",
      "Text jugando-con-las-palabras.txt converted  txt to dataframe row\n",
      "Text kantilarya-q-uchuna.txt converted  txt to dataframe row\n",
      "Text la-fiesta-de-la-candelaria.txt converted  txt to dataframe row\n",
      "Text laminas-para-padres-de-actividades-cotidianas.txt converted  txt to dataframe row\n",
      "Text maniji-satiposati.txt converted  txt to dataframe row\n",
      "Text mi-mantita-linda.txt converted  txt to dataframe row\n",
      "Text programa-curricular-educacion-inicial.txt converted  txt to dataframe row\n",
      "Text qamaqimpi-wallatampi.txt converted  txt to dataframe row\n",
      "Text que-bonito.txt converted  txt to dataframe row\n",
      "Text rotafolio-sierra-selva.txt converted  txt to dataframe row\n",
      "Text siku-phusa.txt converted  txt to dataframe row\n",
      "Text somos-herederos-y-guardianes-de-la-tierra.txt converted  txt to dataframe row\n",
      "Text taller-de-psicomotricidad-02.txt converted  txt to dataframe row\n",
      "Text taller-de-psicomotricidad-03.txt converted  txt to dataframe row\n",
      "Text taller-de-psicomotricidad-04.txt converted  txt to dataframe row\n",
      "Text taller-de-psicomotricidad-07.txt converted  txt to dataframe row\n",
      "Text taller-de-psicomotricidad-08.txt converted  txt to dataframe row\n",
      "Text taller-de-psicomotricidad-inicio.txt converted  txt to dataframe row\n",
      "Text uno-dos-tres-escalones-de-taquile.txt converted  txt to dataframe row\n",
      "Text vicunita-princesita-del-altiplano.txt converted  txt to dataframe row\n",
      "Text yana-t-urumanta-t-iqirunacha.txt converted  txt to dataframe row\n",
      "Text zampona-siku.txt converted  txt to dataframe row\n",
      "Text orientaciones-ensenanza-arte-cultura.txt converted  txt to dataframe row\n",
      "Text como-realizamos-caracterizacion-sociolinguistica.txt converted  txt to dataframe row\n",
      "Text comunicacion1-cuaderno-trabajo.txt converted  txt to dataframe row\n",
      "Text comunicacion5-cuaderno-trabajo.txt converted  txt to dataframe row\n",
      "Text cuadernillo-alfabetizacion-inicial-comunicacion1.txt converted  txt to dataframe row\n",
      "Text cuadernillo-alfabetizacion-inicial-comunicacion2.txt converted  txt to dataframe row\n",
      "Text cuadernillo-alfabetizacion-inicial-comunicacion3.txt converted  txt to dataframe row\n",
      "Text curriculo-nacional-educacion-basica.txt converted  txt to dataframe row\n",
      "Text f_rutas_ini_bil_01.txt converted  txt to dataframe row\n",
      "Text guia-cuadernillos-alfabetizacion.txt converted  txt to dataframe row\n",
      "Text kit-evaluacion-demostrando-aprendimos-2do-primaria-comunicacion-1trimestre-entrada1.txt converted  txt to dataframe row\n",
      "Text kit-evaluacion-demostrando-aprendimos-2do-primaria-comunicacion-1trimestre-entrada2.txt converted  txt to dataframe row\n",
      "Text kit-evaluacion-demostrando-aprendimos-2do-primaria-comunicacion-2trimestre-proceso1.txt converted  txt to dataframe row\n",
      "Text kit-evaluacion-demostrando-aprendimos-2do-primaria-comunicacion-2trimestre-proceso2.txt converted  txt to dataframe row\n",
      "Text kit-evaluacion-demostrando-aprendimos-2do-primaria-comunicacion-3trimestre-salida2.txt converted  txt to dataframe row\n",
      "Text kit-evaluacion-demostrando-aprendimos-4to-primaria-comunicacion-1trimestre-entrada1.txt converted  txt to dataframe row\n",
      "Text kit-evaluacion-demostrando-aprendimos-4to-primaria-comunicacion-2trimestre-proceso2.txt converted  txt to dataframe row\n",
      "Text kit-evaluacion-demostrando-aprendimos-4to-primaria-comunicacion-3trimestre-salida.txt converted  txt to dataframe row\n",
      "Text kit-evaluacion-manual-uso-docente-4to-primaria-comunicacion.txt converted  txt to dataframe row\n",
      "Text kit-evaluacion-manual-uso-docente-4to-primaria-matematica.txt converted  txt to dataframe row\n",
      "Text kit-evaluacion-registro-logros-2do-primaria-comunicacion-1trimestre-entrada.txt converted  txt to dataframe row\n",
      "Text kit-evaluacion-registro-logros-2do-primaria-comunicacion-2trimestre-proceso.txt converted  txt to dataframe row\n"
     ]
    }
   ],
   "source": [
    "await main()"
   ]
  },
  {
   "cell_type": "code",
   "execution_count": null,
   "metadata": {},
   "outputs": [],
   "source": []
  }
 ],
 "metadata": {
  "kernelspec": {
   "display_name": ".env",
   "language": "python",
   "name": ".env"
  },
  "language_info": {
   "codemirror_mode": {
    "name": "ipython",
    "version": 3
   },
   "file_extension": ".py",
   "mimetype": "text/x-python",
   "name": "python",
   "nbconvert_exporter": "python",
   "pygments_lexer": "ipython3",
   "version": "3.7.5"
  }
 },
 "nbformat": 4,
 "nbformat_minor": 2
}
